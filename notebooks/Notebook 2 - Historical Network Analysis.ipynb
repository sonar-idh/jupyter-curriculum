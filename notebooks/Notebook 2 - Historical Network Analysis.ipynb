{
 "cells": [
  {
   "cell_type": "markdown",
   "id": "monthly-bowling",
   "metadata": {},
   "source": [
    "<font size = \"20\"> SoNAR (IDH) - HNA Curriculum </font>"
   ]
  },
  {
   "cell_type": "markdown",
   "id": "spatial-violence",
   "metadata": {},
   "source": [
    "<font size = \"5\">Notebook 2:  Graph Theory and HNA</font>"
   ]
  },
  {
   "cell_type": "markdown",
   "id": "silent-chemistry",
   "metadata": {},
   "source": [
    "This curriculum is created for the SoNAR (IDH) project. SoNAR (IDH) is in it's core a graph based approach to structure and link big amounts of historical data (more on the SoNAR (IDH) project and database can be found in Notebook 3). Therefor the whole curriculum is mainly about graph theory and network analysis. \n",
    "\n",
    "This notebook provides an introduction to graph theory as well as a quick dive into historical network analysis (HNA)."
   ]
  },
  {
   "cell_type": "markdown",
   "id": "fixed-cliff",
   "metadata": {},
   "source": [
    "# Graph Theory"
   ]
  },
  {
   "cell_type": "markdown",
   "id": "productive-snake",
   "metadata": {},
   "source": [
    "## Origin\n",
    "\n",
    "The Swiss mathematician Leonhard Euler is considered to be the origin of graph studies. In 1735, he published a paper proposing a solution for the \"Königsberg problem\". The Königsberg problem was a mathematical problem, unsolved at this point of time.\n",
    "Euler developed a new analysis technique to tackle this problem and thus was able to prove that there is no solution for the Königsberg problem. This new technique was the origin of the graph theory we know today. \n",
    "\n",
    "\n",
    "Let's take a look at the Königsberg problem: \n",
    "\n",
    "**Königsberg Problem** \n",
    "\n",
    ">Given the city whose geography is depicted in the following image, is there a way to walk across each of the seven bridges of the city once and only once, and return to our starting point? (Scifo and Safari, 2020)\n",
    "\n",
    "<center>\n",
    "    <img src=\"../images/notebook2/01-1_kb_base.png\", width=\"238\">\n",
    "    <a href=\"https://commons.wikimedia.org/wiki/File:Konigsberg_bridges.png\">Image Source</a>\n",
    "</center>\n",
    "\n",
    "The city is crossed by a river that splits the city into multiple parts. There are two banks (above and below the river) and additionally the river creates two islands (the rectangle in the middle and the one at the very right-hand side). Those two banks and two islands are connected by a total of seven bridges (highlighted in green). \n",
    "\n",
    "Euler's approach was reducing this problem to the most simple drawing (see picture below). The idea was that each of the four city parts (two banks & two islands) is considered a single point (*node*). And each of the points is connected to another by one or more links, also called *edges* (ibid.).\n",
    "\n",
    "<p>\n",
    "<center>\n",
    "    <img src=\"../images/notebook2/01-2_kb_nodes.png\", width=\"238\">\n",
    "    <a href=\"https://commons.wikimedia.org/wiki/File:K%C3%B6nigsberg_graph.svg\">Image Source</a> (Labels added by the author)\n",
    "</center>\n",
    "\n",
    "\n",
    "Based on this simplified picture of the problem Euler noted that, if you arrive at one point via one link, you need to leave it using another link (except for the starting and ending point). \n",
    "This means that all points but two need to be connected to an even number of links. The Königsberg problem has the following connections:\n",
    "\n",
    "| City Part | Connection |\n",
    "|--- |----------|\n",
    "| A | twice to C; once to D |\n",
    "| B | twice to C; once to D       |\n",
    "| C | twice to A; twice to B, once to D|\n",
    "| D | once to A; once to C; once to D|\n",
    "\n",
    "\n",
    "As can be seen in the figure above, the condition (*all points but two need to be connected to an even number of links*) is not true in the Königsberg problem, and hence there is no solution for it.\n",
    "\n",
    "This schematic approach to solve the problem was since further developed and applied to other problems and resulted in the **Graph Theory** we know today.\n"
   ]
  },
  {
   "cell_type": "markdown",
   "id": "institutional-mixer",
   "metadata": {},
   "source": [
    "## Definitions & Terminology"
   ]
  },
  {
   "cell_type": "markdown",
   "id": "chief-activity",
   "metadata": {},
   "source": [
    "Graph theory comes with a specific set of definitions and terminology. This section will provide an overview of the most important concepts."
   ]
  },
  {
   "cell_type": "markdown",
   "id": "based-angle",
   "metadata": {},
   "source": [
    "### Mathematical Definition"
   ]
  },
  {
   "cell_type": "markdown",
   "id": "advanced-crash",
   "metadata": {},
   "source": [
    "A graph is defined as: $G = (V, E) $. Where the symbols have the following meanings:\n",
    "\n",
    "| Symbol | Description |\n",
    "|--- |----------|\n",
    "| $G$ | The Graph |\n",
    "| $V$ | A set of **nodes** (the city parts in the example above)|\n",
    "| $E$ | A set of **edges** (relationships) connecting nodes <br>(the bridges in the example above)|\n",
    "\n",
    "\n",
    "Following this definition, the Königsberg problem from above can be defined as:\n",
    "\n",
    "$ V = [A, B, C, D] $\n",
    "\n",
    "$E = [\\\\\n",
    "        \\quad (A, C), \\\\\n",
    "        \\quad (A, C), \\\\\n",
    "        \\quad (C, B), \\\\\n",
    "        \\quad (C, B), \\\\\n",
    "        \\quad (A, D), \\\\\n",
    "        \\quad (C, D), \\\\\n",
    "        \\quad (B, D) \\\\\n",
    "]$"
   ]
  },
  {
   "cell_type": "markdown",
   "id": "opponent-voltage",
   "metadata": {},
   "source": [
    "### Terminology"
   ]
  },
  {
   "cell_type": "markdown",
   "id": "pacific-organizer",
   "metadata": {},
   "source": [
    "Graph theory has a very distinctive terminology to refer to different concepts. However, some concepts have several terms they are described by. See the table below for an overview of these terms.\n",
    "\n",
    "<div class=\"alert alert-block alert-info\">\n",
    "<b>Hint:</b> This curriculum uses the terms *network* and *graph* interchangeably following the common practice in the scientific literature. However, sometimes it is pointed out that there are subtle differences between the two terms. For a more in depth discussion on this topic, check out chapter two of <a href=\"http://networksciencebook.com/\">Network Science</a> by Albert-László Barabási (2016).</div>\n",
    "\n",
    "\n",
    "\n",
    "| Term | Synonyms | Description |\n",
    "|--- |----------| ------- |\n",
    "|**Graph** | Network | Abstract representation of objects (**nodes**) and the <br> relationships (**edges**) between these objects.|\n",
    "| **Node** | Vertex  | Fundamental unit of a **graph**. Nodes can be connected <br> with each other by **edges**. Nodes can have **labels** categorizing the nodes.<br> Nodes can have **properties** providing information about their characteristics.|\n",
    "| **Edge** | Relationship, Link, Tie | Describes the connection between **nodes**. Edges are of a specific **type**. <br> Edges can have **properties** providing information <br> about their characteristics.\n",
    "| **Label** | type | A label is used to categorize different kind of **nodes**. <br >A label marks a **node** as part of a group. |\n",
    "| **Property** | Attribute | **Nodes** and **edges** can have properties. <br> Properties are like meta-information about a node or a relationship <br> and can contain a variety of different data types, like numbers, <br> strings, spatial data or temporal data.|\n",
    "| **Path** | - | Describes a group of **nodes** and their connecting relationships.<br> A path is usually a discription on how to get from one **node** to another. |\n",
    "\n",
    "(Needham and Hodler, 2019)"
   ]
  },
  {
   "cell_type": "markdown",
   "id": "specified-financing",
   "metadata": {},
   "source": [
    "## Graph Types & Structures"
   ]
  },
  {
   "cell_type": "markdown",
   "id": "stopped-inspection",
   "metadata": {},
   "source": [
    "When analyzing real world data and phenomena, the resulting graphs can take many different forms and structures. There can be many relationships between nodes or even self-referencing relationships. \n",
    "\n",
    "Most commonly there is a distinction between three different **graph types**:\n",
    "\n",
    "<p>\n",
    "<center>\n",
    "    <img src=\"../images/notebook2/graph_types.png\", width=\"600\">\n",
    "</center>\n",
    "\n",
    "*Simple graphs* only have one relationship between each node. *Multigraphs* on the other hand can have multiple relationships between the nodes and *(Pseudo-)Graphs* also permit nodes that loop back to themselves. \n",
    "   \n",
    "However, graphs can not only be categorized by their general type but also by the shape they take. This shape is usually refereed to as **structure**. There are three different **structures of networks**:\n",
    "\n",
    "<p>\n",
    "<center>\n",
    "    <img src=\"../images/notebook2/graph_structures.png\", width=\"600\">\n",
    "</center>\n",
    "    \n",
    "\n",
    "The two most common **network structures** in real world data are *small-world networks* and *scale-free networks*. <br>\n",
    "*Small-world networks* are very common when analyzing any kind of social networks. Networks of friends, networks of \"social-media-bubbles\" or cultural networks often are *small-world networks*. The main characteristics of *small-world networks* are:\n",
    "\n",
    "* The path between two random nodes tends to be rather short\n",
    "* Presence of \"cliques\" is highly likely; sub-networks in which nearly every node has a direct connection to every other node\n",
    "\n",
    "*Scale-free networks* on the other hand differ from *small-world networks* foremost by the characteristic that they follow a *power-law distribution*. Hence *scale-free networks* have a small number of highly connected nodes (*hubs*) and a big number of nodes with just a few edges. Further more *scale-free networks* occur especially in contexts where a hub-and-spoke architecture is present. Some common examples for this network structure are the World Wide Web or graphs of software dependencies."
   ]
  },
  {
   "cell_type": "markdown",
   "id": "parental-choice",
   "metadata": {},
   "source": [
    "## Flavors of Graphs"
   ]
  },
  {
   "cell_type": "markdown",
   "id": "seventh-receptor",
   "metadata": {},
   "source": [
    "Graphs can not only be distinguished by their overall structure and type, but also by *characteristic attributes* they have. This section covers three very important attributes of networks, that play a big roll in historical network analyses.\n",
    "\n",
    "These *network attributes* or *flavors* are highly important for the choice of network algorithm you want to apply. The overview table below depicts the most noteworthy factors and considerations for the three *flavors* covered in this curriculum.\n",
    "\n",
    "|Graph attribute| Key factor | Algorithm consideration |\n",
    "|---------------|------------|-------------------------|\n",
    "|Connected vs. unconnected | Whether there is a path between any two nodes in the graph, irrespective of distance| Islands of nodes can cause unexpected behaviour, such as getting stuck in or failing to process disconnected components |\n",
    "|Weighted vs. unweighted | Whether there are (domain-specific) values on relationships or nodes | Many algorithms expect weights, and we will see significant differences in performance and results when they are ignored. |\n",
    "|Directed vs. undirected | Whether or not relationships explicitly define a start and end node | This adds rich context to infer additional meaning. In some algorithms you can explicitly set the use of one, both, or no direction.|\n",
    "\n",
    "(Needham and Hodler, 2019)\n"
   ]
  },
  {
   "cell_type": "markdown",
   "id": "younger-spokesman",
   "metadata": {},
   "source": [
    "### Connected vs. Disconnected Graphs"
   ]
  },
  {
   "cell_type": "markdown",
   "id": "damaged-moldova",
   "metadata": {},
   "source": [
    "A graph is called *connected* when there is a path connecting every node in the network. When there is a node or a group of nodes completely detached - a so called *island*, the graph is *disconnected*. Also, when the *disconnected* nodes are connected with each other, they are called *components* or *clusters*.\n",
    "\n",
    "Some graph algorithms assume the graph to be connected and hence lead to misleading results, when it isn't. Hence it's a good idea to check, whether you are dealing with a connected or a disconnected graph. \n",
    "\n",
    "<p>\n",
    "<center>\n",
    "    <img src=\"../images/notebook2/connected.png\", width=\"600\">\n",
    "</center>\n",
    "    "
   ]
  },
  {
   "cell_type": "markdown",
   "id": "swiss-topic",
   "metadata": {},
   "source": [
    "### Weighted vs. Unweighted Graphs"
   ]
  },
  {
   "cell_type": "markdown",
   "id": "radio-washer",
   "metadata": {},
   "source": [
    "A graph is *weighted* when there are numeric values attached to the nodes or edges. These numeric values represent a prioritization that can be specific to a domain (e.g. cost, distance, capacity).\n",
    "A graph is *unweighted* on the other hand, when there is no numeric value attached to nodes or edges, representing a specific weight. \n",
    "\n",
    "Weight values can represent the strength or intensity of a relationship. Also, they can be used for path finding algorithms, that try to find the shortest or most efficient path between two distant nodes. \n",
    "\n",
    "<p>\n",
    "<center>\n",
    "    <img src=\"../images/notebook2/weighted.png\", width=\"600\">\n",
    "</center>\n",
    "    \n"
   ]
  },
  {
   "cell_type": "markdown",
   "id": "documented-service",
   "metadata": {},
   "source": [
    "### Directed vs. Undirected Graphs"
   ]
  },
  {
   "cell_type": "markdown",
   "id": "subject-haiti",
   "metadata": {},
   "source": [
    "The last attribute of graphs we want to take a look at is whether it is directed or not. *Direction* in this context provides an additional dimension to the *relationship* between nodes. When a relationship between two nodes has a direction, this direction is an indicator for a dependency or a flow. \n",
    "\n",
    "Let's say person A sends a letter to person B; this action is directed and bears the information that the letter was send from A to B and not from B to A. On the other hand, a relationship is undirected, when there is no information about dependency or flow. Let's say person A is the sibling of person B. In this case there is no information about direction since A is the sibling of B and hence B is also the sibling of A.\n",
    "\n",
    "When a directed relationship points to a node, the relationship is referred to as *in-link*. When a relationship originates from a node it is referred to as *out-link* instead. \n",
    "\n",
    "Whether a graph is directed or undirected can have a big influence on the result of many algorithms. For example for path finding algorithms it is a crucial difference whether a relationship is a \"one-way road\" (*directed*) or if the relationship does not point in a specific direction (*undirected*).\n",
    "\n",
    "<p>\n",
    "<center>\n",
    "    <img src=\"../images/notebook2/directed.png\", width=\"600\">\n",
    "</center>"
   ]
  },
  {
   "cell_type": "markdown",
   "id": "noticed-supervisor",
   "metadata": {},
   "source": [
    "# Introduction to Historical Network Analysis (HNA)"
   ]
  },
  {
   "cell_type": "markdown",
   "id": "dangerous-humor",
   "metadata": {},
   "source": [
    "After taking a look at the main concepts of *network analysis*, we want to dive a little deeper into *historical network analysis* in this section.\n",
    "\n",
    "The SoNAR (IDH) project provides a modern interface to a variety of heterogeneous data sources of cultural heritage institutions. The goal is to enable researchers and data analysts to investigate historical social networks effectively. More details on the SoNAR (IDH) projects, the data sources and data access can be found in *Notebook 3* of this curriculum. \n",
    "\n",
    "The study of historical events and phenomena is an important element of many disciplines inside the Digital Humanities. The scientific method of historical network analysis is derived from social network analysis and hence follows the same methodological principles. It is crucial to investigate agents and their relationships when analysing historical events and therefor network analysis is a key method to conduct these kind of analyses. \n",
    "\n",
    "Potential tasks and use cases you can do with HNA are manifold. You can use historical networks for exploring relationships and developing hypothesis. You can evaluate the weight and impact of different relationships, and compare them. You can analyse relationships in the context of time and location. Or you can identify new patterns between agents and relationships. (Menzel, Bludau et al., 2021)\n",
    "\n",
    "The application of HNA in the Digital Humanities grows and numerous projects have been conducted in the last few years. The table below provides a few examples of HNA related projects:\n",
    "\n",
    "\n",
    "|Project Name & URL|Short Description|\n",
    "| ------------ | ----------- |\n",
    "|[Circulation of Knowledge and Learned Practices in the 17th-century Dutch Republic (CKCC)](http://ckcc.huygens.knaw.nl/) | CKCC transfered information on knowledge and learned practices drawn from letters from the 17th-century Dutch Republic into a graph database.|\n",
    "|[Open Research Knowledge Graph (ORKG)](https://projects.tib.eu/orkg/) | ORKG transfers ideas, approaches, methods, materials, results and more details of scientific publications into a graph database |\n",
    "|[HistoGraph](http://histograph.eu/) | HistoGraph joins multimedia collections to a graph database and indexes and validates the entries with a crowd-sourced approach.|\n",
    "\n",
    "\n",
    "An illustrative example case based on data retrieved from the SoNAR (IDH) database is shown below."
   ]
  },
  {
   "cell_type": "markdown",
   "id": "included-meter",
   "metadata": {},
   "source": [
    "## Example Case: Nobel Laureates"
   ]
  },
  {
   "cell_type": "markdown",
   "id": "lovely-dominant",
   "metadata": {},
   "source": [
    "Let's take a look at how historical network analyses could look like. In this section we exemplarily describe the use of an existing dataset in form of a json-file for visualisation\n",
    "\n",
    "This exemplary case focuses on the output and the visualization of results. The data retrieval and preparation throughout the rest of this curriculum will follow slightly different principles. Therefor the following code cells ar meant as a first impression of what is possible. There will be a more detailed break down of how to produce these kind of analyses and visualisations in the following notebooks. "
   ]
  },
  {
   "cell_type": "markdown",
   "id": "charged-florida",
   "metadata": {},
   "source": [
    "### Setup Graph Object"
   ]
  },
  {
   "cell_type": "markdown",
   "id": "boolean-admission",
   "metadata": {},
   "source": [
    "In order to visualize the data we need to read the data and prepare a graph object at first."
   ]
  },
  {
   "cell_type": "code",
   "execution_count": 1,
   "id": "effective-symposium",
   "metadata": {},
   "outputs": [],
   "source": [
    "import json\n",
    "import networkx as nx\n",
    "\n",
    "# we start off by reading in the json file\n",
    "with open(\"./data/nobelpreistraeger.json\") as f:\n",
    "    json_data = json.loads(f.read())\n",
    "\n",
    "\n",
    "# the line below uses build-in functions from the networkx library to convert the json file to a graph object (\"G\")\n",
    "# We need to define the \"attrs\" argument, so the function knows the correct mapping of the attribute names.\n",
    "G = nx.readwrite.json_graph.node_link_graph(json_data, attrs = dict(source='source', target='target', name='index',\n",
    "     key='key', link='links'), multigraph=False)"
   ]
  },
  {
   "cell_type": "markdown",
   "id": "coastal-insight",
   "metadata": {},
   "source": [
    "### Descriptive Statistics"
   ]
  },
  {
   "cell_type": "markdown",
   "id": "liquid-treat",
   "metadata": {},
   "source": [
    "**Number of Nodes and Edges**\n",
    "\n",
    "Let's start by calculating some descriptive statistics. How many nodes and edges does the Nobel laureates network have?"
   ]
  },
  {
   "cell_type": "code",
   "execution_count": 2,
   "id": "hybrid-parish",
   "metadata": {},
   "outputs": [
    {
     "name": "stdout",
     "output_type": "stream",
     "text": [
      "Total number of Nodes: 939\n",
      "Total number of Edges: 1729\n"
     ]
    }
   ],
   "source": [
    "print(\"Total number of Nodes:\", G.number_of_nodes())\n",
    "print(\"Total number of Edges:\", G.number_of_edges())"
   ]
  },
  {
   "cell_type": "markdown",
   "id": "equal-locator",
   "metadata": {},
   "source": [
    "**Degree Centrality**\n",
    "\n",
    "Which nodes in the network are the most relevant ones? Let's calculate the **degree centrality** as percentage. This way we can check which nodes in the network have the most edges. "
   ]
  },
  {
   "cell_type": "code",
   "execution_count": 14,
   "id": "sharing-review",
   "metadata": {},
   "outputs": [
    {
     "name": "stdout",
     "output_type": "stream",
     "text": [
      "Place  1\n",
      "Name: Heisenberg, Werner\n",
      "Centrality Value: 0.08315565031982942\n",
      "___\n",
      "Place  2\n",
      "Name: American Academy of Arts and Sciences\n",
      "Centrality Value: 0.05543710021321961\n",
      "___\n",
      "Place  3\n",
      "Name: Einstein, Albert\n",
      "Centrality Value: 0.045842217484008525\n",
      "___\n",
      "Place  4\n",
      "Name: National Academy of Sciences\n",
      "Centrality Value: 0.03411513859275053\n",
      "___\n",
      "Place  5\n",
      "Name: Planck, Max\n",
      "Centrality Value: 0.031982942430703626\n",
      "___\n"
     ]
    }
   ],
   "source": [
    "degree_centrality = nx.degree_centrality(G)\n",
    "\n",
    "top_5 = sorted(degree_centrality, key=degree_centrality.get, reverse=True)[:5]\n",
    "\n",
    "for elem in range(len(top_5)):\n",
    "    name = G.nodes(data=True)[top_5[elem]][\"Name\"]\n",
    "    centrality = degree_centrality[top_5[elem]]\n",
    "    print(\"Place \", elem + 1)\n",
    "    print(\"Name:\", name)\n",
    "    print(\"Centrality Value:\", centrality)\n",
    "    print(\"___\")"
   ]
  },
  {
   "cell_type": "markdown",
   "id": "disturbed-sculpture",
   "metadata": {},
   "source": [
    "### Full Network Visualization"
   ]
  },
  {
   "cell_type": "markdown",
   "id": "level-circle",
   "metadata": {},
   "source": [
    "Let's check an interactive visualization of the full network now. The network has both persons and corporations in it. So we visualize all Persons as blue nodes, and all corporations are displayed as red nodes."
   ]
  },
  {
   "cell_type": "markdown",
   "id": "sharp-haiti",
   "metadata": {},
   "source": [
    "The plotting library `pyvis` requires some specific attributes in our graph object `G` to correctly visualize elements like names, titles and so on. \n",
    "\n",
    "So let's manipulate the graph object a little. At first we need to add an attribute called `label` (written in lower case letters), so the network will display the proper names of the nodes. Also, we add a `colors` attribute. We want the nodes to be `red` when the node is a corporation and when the node is a person, we want it to be `blue`."
   ]
  },
  {
   "cell_type": "code",
   "execution_count": 4,
   "id": "acceptable-training",
   "metadata": {},
   "outputs": [],
   "source": [
    "# We start by adding the node names to an attribute called \"labels\"\n",
    "# at first we generate a list of all the names in our network. The names are stored in \n",
    "# an attribute called \"Name\"\n",
    "name_list = []\n",
    "for node in list(G.nodes):\n",
    "    name_list.append(G.nodes[node][\"Name\"])\n",
    "    \n",
    "# In the next step we create a dictionary that maps the node ids with the respective \"name\" attribute\n",
    "name_dict = dict(zip(list(G.nodes), name_list))\n",
    "\n",
    "# and finally we add the new name attribute to the graph and call the attribute \"label\"\n",
    "nx.set_node_attributes(G, name_dict, \"label\")"
   ]
  },
  {
   "cell_type": "code",
   "execution_count": 5,
   "id": "moderate-taylor",
   "metadata": {},
   "outputs": [],
   "source": [
    "# Now, we apply a similar logic to add colors according to the node type (\"Label\"). \n",
    "# We start off by creating a list containing the type information of each node\n",
    "type_list = []\n",
    "for node in list(G.nodes):\n",
    "    type_list.append(G.nodes[node][\"Label\"])\n",
    "    \n",
    "# In the next step we create a mapping logic. Persons are blue, corporations are red\n",
    "color_map = {\"PerName\": \"blue\", \"CorpName\": \"red\"}\n",
    "\n",
    "# We generate a dictionary again to map the respective type to the correct color\n",
    "color_dict = dict(zip(list(G.nodes), [color_map.get(item, item) for item in type_list]))\n",
    "\n",
    "# And finally we add the color information as a new attribute to the graph object\n",
    "nx.set_node_attributes(G, color_dict, \"color\")"
   ]
  },
  {
   "cell_type": "markdown",
   "id": "sharing-marble",
   "metadata": {},
   "source": [
    "Alright, let's visualize the network finally! It is interactive! You can zoom in and click and drag nodes.\n",
    "\n",
    "The default solver (layout defining algorithm) for the network is *BarnesHut*. You can find more details on the algorithm [here](https://en.wikipedia.org/wiki/Barnes%E2%80%93Hut_simulation). *BarnesHut* is used as the default solver since it is the fastest way to calculate the layout. In general, these kind of algorithms are called \"force-directed graph drawing algorithms\"."
   ]
  },
  {
   "cell_type": "code",
   "execution_count": 6,
   "id": "anonymous-kingdom",
   "metadata": {},
   "outputs": [
    {
     "data": {
      "text/html": [
       "\n",
       "        <iframe\n",
       "            width=\"100%\"\n",
       "            height=\"500px\"\n",
       "            src=\"./html_networks/full_graph.html\"\n",
       "            frameborder=\"0\"\n",
       "            allowfullscreen\n",
       "        ></iframe>\n",
       "        "
      ],
      "text/plain": [
       "<IPython.lib.display.IFrame at 0x7fe8dbdfdcd0>"
      ]
     },
     "execution_count": 6,
     "metadata": {},
     "output_type": "execute_result"
    }
   ],
   "source": [
    "from pyvis.network import Network\n",
    "\n",
    "nt = Network('500px', '100%', notebook=True)\n",
    "nt.from_nx(G)\n",
    "nt.show('./html_networks/full_graph.html')"
   ]
  },
  {
   "cell_type": "markdown",
   "id": "reserved-international",
   "metadata": {},
   "source": [
    "That looks pretty good already. We also can alter the size of the nodes. This can be useful to visualize the importance of a node.\n",
    "\n",
    "We calculated the degree centrality for each node earlier. Let's use this information to adjust the node sizes accordingly. "
   ]
  },
  {
   "cell_type": "code",
   "execution_count": 24,
   "id": "casual-juvenile",
   "metadata": {},
   "outputs": [],
   "source": [
    "# We are goint to create a copy of the degree_centrality dict, so we do not change the acctual degree values.\n",
    "size_dict = degree_centrality.copy()\n",
    "\n",
    "# The line below multiplies the copied degree centrality values by 1000. Otherwise the values would be very small\n",
    "# and hence the nodes would also have a very small size.\n",
    "size_dict.update((index, value*1000) for index, value in size_dict.items())\n",
    "\n",
    "nx.set_node_attributes(G, size_dict, \"size\")"
   ]
  },
  {
   "cell_type": "code",
   "execution_count": 25,
   "id": "tested-anxiety",
   "metadata": {},
   "outputs": [
    {
     "data": {
      "text/html": [
       "\n",
       "        <iframe\n",
       "            width=\"100%\"\n",
       "            height=\"500px\"\n",
       "            src=\"./html_networks/full_graph_node_sizes.html\"\n",
       "            frameborder=\"0\"\n",
       "            allowfullscreen\n",
       "        ></iframe>\n",
       "        "
      ],
      "text/plain": [
       "<IPython.lib.display.IFrame at 0x7fe8d8a2cbb0>"
      ]
     },
     "execution_count": 25,
     "metadata": {},
     "output_type": "execute_result"
    }
   ],
   "source": [
    "from pyvis.network import Network\n",
    "\n",
    "nt = Network('500px', '100%', notebook=True)\n",
    "nt.from_nx(G)\n",
    "nt.show('./html_networks/full_graph_node_sizes.html')"
   ]
  },
  {
   "cell_type": "markdown",
   "id": "respiratory-korea",
   "metadata": {},
   "source": [
    "When the network is not loading, you can try to open an interactive version of the graph [here](https://htmlpreview.github.io/?https://github.com/sonar-idh/jupyter-curriculum/blob/master/notebooks/html_networks/full_graph.html). "
   ]
  },
  {
   "cell_type": "markdown",
   "id": "passing-retro",
   "metadata": {},
   "source": [
    "### Shortest Path"
   ]
  },
  {
   "cell_type": "markdown",
   "id": "alpine-venice",
   "metadata": {},
   "source": [
    "Oftentimes it is interesting to find the shortest possible path between two nodes. Let's check for example whether there is a way to travel from John Hume to Marie Curie. How many steps do we need to take in the network to travel this path? Is there a connecting path at all?"
   ]
  },
  {
   "cell_type": "code",
   "execution_count": 26,
   "id": "final-pitch",
   "metadata": {},
   "outputs": [],
   "source": [
    "# At first we reset the size attribute to the default value 10. This way the following visualizatons are \n",
    "# easier to understand\n",
    "nx.set_node_attributes(G, 10, \"size\")\n",
    "\n",
    "start_person = \"Hume, John\"\n",
    "end_person = \"Skłodowska-Curie, Marie\"\n",
    "\n",
    "\n",
    "start = [x for x, y in G.nodes(data=True) if start_person in y[\"label\"]]\n",
    "end = [x for x, y in G.nodes(data=True) if end_person in y[\"label\"]]\n",
    "\n",
    "shortest_path = nx.shortest_path(G, start[0], end[0])\n",
    "SubGraph = G.subgraph(shortest_path)"
   ]
  },
  {
   "cell_type": "code",
   "execution_count": 170,
   "id": "plain-disney",
   "metadata": {},
   "outputs": [
    {
     "data": {
      "text/html": [
       "\n",
       "        <iframe\n",
       "            width=\"100%\"\n",
       "            height=\"500px\"\n",
       "            src=\"./html_networks/shortest_path.html\"\n",
       "            frameborder=\"0\"\n",
       "            allowfullscreen\n",
       "        ></iframe>\n",
       "        "
      ],
      "text/plain": [
       "<IPython.lib.display.IFrame at 0x7f8ccb53e220>"
      ]
     },
     "execution_count": 170,
     "metadata": {},
     "output_type": "execute_result"
    }
   ],
   "source": [
    "from pyvis.network import Network\n",
    "\n",
    "nt = Network('500px', '100%', notebook=True)\n",
    "nt.from_nx(SubGraph)\n",
    "nt.show('./html_networks/shortest_path.html')"
   ]
  },
  {
   "cell_type": "markdown",
   "id": "responsible-snapshot",
   "metadata": {},
   "source": [
    "### Subgraph based on Job"
   ]
  },
  {
   "cell_type": "markdown",
   "id": "independent-simpson",
   "metadata": {},
   "source": [
    "We also can take a look at subgraphs. Let's see how the network looks when we only keep the nodes of physicists."
   ]
  },
  {
   "cell_type": "code",
   "execution_count": 171,
   "id": "suffering-hobby",
   "metadata": {},
   "outputs": [],
   "source": [
    "job = \"Physiker\"\n",
    "\n",
    "results = []\n",
    "for key, value in G.nodes(data=True):\n",
    "    if job in value.get(\"TopicTerm\", \"none\"): # we add \"none\" as default string, if value is not \"TopicTerm\"\n",
    "        results.append(key)\n",
    "\n",
    "job_graph = nx.subgraph(G, results)"
   ]
  },
  {
   "cell_type": "code",
   "execution_count": 172,
   "id": "alternative-prague",
   "metadata": {},
   "outputs": [
    {
     "data": {
      "text/html": [
       "\n",
       "        <iframe\n",
       "            width=\"100%\"\n",
       "            height=\"500px\"\n",
       "            src=\"./html_networks/job_graph.html\"\n",
       "            frameborder=\"0\"\n",
       "            allowfullscreen\n",
       "        ></iframe>\n",
       "        "
      ],
      "text/plain": [
       "<IPython.lib.display.IFrame at 0x7f8ccbc05070>"
      ]
     },
     "execution_count": 172,
     "metadata": {},
     "output_type": "execute_result"
    }
   ],
   "source": [
    "nt = Network('500px', '100%', notebook=True)\n",
    "nt.from_nx(job_graph)\n",
    "nt.show('./html_networks/job_graph.html')"
   ]
  },
  {
   "cell_type": "markdown",
   "id": "technological-stake",
   "metadata": {},
   "source": [
    "### Community Detection"
   ]
  },
  {
   "cell_type": "markdown",
   "id": "coordinated-custody",
   "metadata": {},
   "source": [
    "The last thing we want to check out is, whether there are communities inside the network. Therefor we run a community detection algorithm over the data and highlight every detected community in a different color. \n",
    "\n",
    "It is a common phenomenon of networks that communities occur. These communities have the characteristic that the nodes in them share more edges amongst each other than to nodes of other communities. Identifying clusters of nodes is crucial for evaluating group behavior, detecting isolated groups, find preferences of peer groups and more. \n",
    "\n",
    "The community detection algorithm applied below is the *Louvain method for community detection* and was introduced by Blondel et al. (2008). "
   ]
  },
  {
   "cell_type": "code",
   "execution_count": 173,
   "id": "devoted-smile",
   "metadata": {},
   "outputs": [],
   "source": [
    "import community as community_louvain\n",
    "import random\n",
    "\n",
    "\n",
    "partition = community_louvain.best_partition(G)\n",
    "partition_set = set(partition.values())\n",
    "\n",
    "# create color map for pyvis\n",
    "random.seed(0)  # set seed for reproducibility\n",
    "\n",
    "color_map = {}\n",
    "for i in range(len(partition_set)):\n",
    "    def r(): return random.randint(0, 255)\n",
    "    color_map[i] = '#%02X%02X%02X' % (r(), r(), r())\n",
    "\n",
    "partition_colors = {}\n",
    "for key, value in partition.items():\n",
    "    partition_colors[key] = color_map[partition[key]]\n",
    "\n",
    "# add community and color info to graph\n",
    "nx.set_node_attributes(G, partition, \"community\")\n",
    "nx.set_node_attributes(G, partition_colors, \"color\")"
   ]
  },
  {
   "cell_type": "code",
   "execution_count": 174,
   "id": "physical-insured",
   "metadata": {},
   "outputs": [
    {
     "data": {
      "text/html": [
       "\n",
       "        <iframe\n",
       "            width=\"100%\"\n",
       "            height=\"500px\"\n",
       "            src=\"./html_networks/community_graph.html\"\n",
       "            frameborder=\"0\"\n",
       "            allowfullscreen\n",
       "        ></iframe>\n",
       "        "
      ],
      "text/plain": [
       "<IPython.lib.display.IFrame at 0x7f8ccbb71f70>"
      ]
     },
     "execution_count": 174,
     "metadata": {},
     "output_type": "execute_result"
    }
   ],
   "source": [
    "from pyvis.network import Network\n",
    "\n",
    "nt = Network('500px', '100%', notebook=True)\n",
    "nt.from_nx(G)\n",
    "nt.show('./html_networks/community_graph.html')"
   ]
  },
  {
   "cell_type": "markdown",
   "id": "western-japanese",
   "metadata": {
    "scrolled": true
   },
   "source": [
    "# Bibliography"
   ]
  },
  {
   "cell_type": "markdown",
   "id": "million-cologne",
   "metadata": {},
   "source": [
    "Barabási, A.-L., & Pósfai, M. (2016). *Network science*. Cambridge University Press. http://networksciencebook.com\n",
    "\n",
    "Blondel, V. D., Guillaume, J.-L., Lambiotte, R., & Lefebvre, E. (2008). Fast unfolding of communities in large networks. Journal of Statistical Mechanics: Theory and Experiment, 2008(10), P10008. https://doi.org/10.1088/1742-5468/2008/10/p10008\n",
    "\n",
    "Menzel, S., & Bludau, M-J., & Leitner, E., & Dörk, M. & Moreno-Schneider, J. & Petras, V., & Rehm, G. (2021). *Graph Technologies for the Analysis of Historical Social Networks Using Heterogeneous Data Sources*. Berlin & Potsdam.\n",
    "\n",
    "Needham, M., & Hodler, A. E. (2019). *Graph algorithms: Practical examples in Apache Spark and Neo4j (First edition)*. O’Reilly Media.\n",
    "\n",
    "\n",
    "Scifo, E., & Safari,  an O. M. C. (2020). *Hands-On Graph Analytics with Neo4j*. O’Reilly Media.\n"
   ]
  }
 ],
 "metadata": {
  "cite2c": {
   "citations": {
    "7184373/9A4UBKNN": {
     "ISBN": "978-1-4920-4768-1",
     "abstract": "Learn how graph algorithms can help you leverage relationships within your data to develop intelligent solutions and enhance your machine learning models. With this practical guide, developers and data scientists will discover how graph analytics deliver value, whether they're used for building dynamic network models or forecasting real-world behavior. Mark Needham and Amy Hodler from Neo4j explain how graph algorithms describe complex structures and reveal difficult-to-find patterns, from finding vulnerabilities and bottlenecks to detecting communities and improving machine learning predictions. You'll walk through hands-on examples that show you how to use graph algorithms in Apache Spark and Neo4j, two of the most common choices for graph analytics",
     "author": [
      {
       "family": "Needham",
       "given": "Mark"
      },
      {
       "family": "Hodler",
       "given": "Amy E."
      }
     ],
     "call-number": "QA166.245 .N44 2019",
     "edition": "First edition",
     "event-place": "Sebastopol, California",
     "id": "7184373/9A4UBKNN",
     "issued": {
      "year": 2019
     },
     "note": "OCLC: on1066191517",
     "number-of-pages": "235",
     "publisher": "O'Reilly Media",
     "publisher-place": "Sebastopol, California",
     "shortTitle": "Graph algorithms",
     "title": "Graph algorithms: practical examples in Apache Spark and Neo4j",
     "title-short": "Graph algorithms",
     "type": "book"
    },
    "7184373/UCHCU3AD": {
     "ISBN": "978-1-83921-261-1",
     "URL": "https://learning.oreilly.com/library/view/-/9781839212611/?ar",
     "abstract": "Discover how to use Neo4j to identify relationships within complex and large graph datasets using graph modeling, graph algorithms, and machine learning Key Features Get up and running with graph analytics with the help of real-world examples Explore various use cases such as fraud detection, graph-based search, and recommendation systems Get to grips with the Graph Data Science library with the help of examples, and use Neo4j in the cloud for effective application scaling Book Description Neo4j is a graph database that includes plugins to run complex graph algorithms. The book starts with an introduction to the basics of graph analytics, the Cypher query language, and graph architecture components, and helps you to understand why enterprises have started to adopt graph analytics within their organizations. You'll find out how to implement Neo4j algorithms and techniques and explore various graph analytics methods to reveal complex relationships in your data. You'll be able to implement graph analytics catering to different domains such as fraud detection, graph-based search, recommendation systems, social networking, and data management. You'll also learn how to store data in graph databases and extract valuable insights from it. As you become well-versed with the techniques, you'll discover graph machine learning in order to address simple to complex challenges using Neo4j. You will also understand how to use graph data in a machine learning model in order to make predictions based on your data. Finally, you'll get to grips with structuring a web application for production using Neo4j. By the end of this book, you'll not only be able to harness the power of graphs to handle a broad range of problem areas, but you'll also have learned how to use Neo4j efficiently to identify complex relationships in your data. What you will learn Become well-versed with Neo4j graph database building blocks, nodes, and relationships Discover how to create, update, and delete nodes and relationships using Cypher querying Use graphs to improve web search and recommendations Understand graph algorithms such as pathfinding, spatial search, centrality, and community detection Find out different steps to integrate graphs in a normal machine learning pipeline Formulate a link prediction problem in the context of machine learning Implement graph embedding algorithms such as DeepWalk, and use them in Neo4j graphs Who this book is for This book is for data analysts, bus...",
     "accessed": {
      "day": 26,
      "month": 3,
      "year": 2021
     },
     "author": [
      {
       "family": "Scifo",
       "given": "Estelle"
      },
      {
       "family": "Safari",
       "given": "an O'Reilly Media Company"
      }
     ],
     "id": "7184373/UCHCU3AD",
     "issued": {
      "year": 2020
     },
     "language": "English",
     "note": "OCLC: 1196890922",
     "title": "Hands-On Graph Analytics with Neo4j",
     "type": "book"
    },
    "7184373/W9KC4XSJ": {
     "ISBN": "978-1-107-07626-6",
     "abstract": "\"Networks are everywhere, from the Internet, to social networks, and the genetic networks that determine our biological existence. Illustrated throughout in full colour, this pioneering textbook, spanning a wide range of topics from physics to computer science, engineering, economics and the social sciences, introduces network science to an interdisciplinary audience. From the origins of the six degrees of separation to explaining why networks are robust to random failures, the author explores how viruses like Ebola and H1N1 spread, and why it is that our friends have more friends than we do. Using numerous real-world examples, this innovatively designed text includes clear delineation between undergraduate and graduate level material\"--Page [4] of cover",
     "author": [
      {
       "family": "Barabási",
       "given": "Albert-László"
      },
      {
       "family": "Pósfai",
       "given": "Márton"
      }
     ],
     "call-number": "TK5105.5 .B37 2016",
     "event-place": "Cambridge, United Kingdom",
     "id": "7184373/W9KC4XSJ",
     "issued": {
      "year": 2016
     },
     "note": "OCLC: ocn910772793",
     "number-of-pages": "456",
     "publisher": "Cambridge University Press",
     "publisher-place": "Cambridge, United Kingdom",
     "title": "Network science",
     "type": "book"
    }
   }
  },
  "kernelspec": {
   "display_name": "Python 3",
   "language": "python",
   "name": "python3"
  },
  "language_info": {
   "codemirror_mode": {
    "name": "ipython",
    "version": 3
   },
   "file_extension": ".py",
   "mimetype": "text/x-python",
   "name": "python",
   "nbconvert_exporter": "python",
   "pygments_lexer": "ipython3",
   "version": "3.8.9"
  },
  "toc": {
   "base_numbering": 1,
   "nav_menu": {},
   "number_sections": true,
   "sideBar": true,
   "skip_h1_title": false,
   "title_cell": "Table of Contents",
   "title_sidebar": "Contents",
   "toc_cell": false,
   "toc_position": {
    "height": "789px",
    "left": "182px",
    "top": "180px",
    "width": "384px"
   },
   "toc_section_display": true,
   "toc_window_display": true
  }
 },
 "nbformat": 4,
 "nbformat_minor": 5
}
