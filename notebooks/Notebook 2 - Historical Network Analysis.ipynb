{
 "cells": [
  {
   "cell_type": "markdown",
   "id": "altered-stage",
   "metadata": {},
   "source": [
    "<font size = \"20\"> SoNAR (IDH) </font>\n",
    "\n",
    "<font size = \"12\"> Interfaces to Data for Historical Social Network Analysis and Research </font>"
   ]
  },
  {
   "cell_type": "markdown",
   "id": "coupled-concrete",
   "metadata": {},
   "source": [
    "<font size = \"12\">Notebook 1:  Graph Theory and HNA</font>"
   ]
  },
  {
   "cell_type": "markdown",
   "id": "infinite-endorsement",
   "metadata": {},
   "source": [
    "This curriculum is build for the SoNAR (IDH) project. SoNAR (IDH) is in it's core a graph based approach to structure and link big amounts of historical data (more on the SoNAR (IDH) project and database can be found in Notebook 3). Therefor the whole curriculum is mainly about graph theory and network analysis. \n",
    "\n",
    "This notebook provides an introduction into graph theory in general and also a quick dive into historical network analysis (HNA)."
   ]
  },
  {
   "cell_type": "markdown",
   "id": "contrary-synthetic",
   "metadata": {},
   "source": [
    "# Graph Theory"
   ]
  },
  {
   "cell_type": "markdown",
   "id": "arbitrary-delight",
   "metadata": {},
   "source": [
    "## Origin\n",
    "\n",
    "The Swiss mathematician Leonhard Euler is considered to be the origin of graph studies. In 1735, he published a paper proposing a solution for the \"Königsberg problem\". The Königsberg problem was unsolved at this point of time.\n",
    "Euler developed a new analysis technique to tackle this problem and thus was able to prove that there is no solution for the Königsberg problem. This new technique was the origin of the graph theory we know today. \n",
    "\n",
    "\n",
    "Let's take a look at the Königsberg problem: \n",
    "\n",
    "**Königsberg Problem** \n",
    "\n",
    ">Given the city whose geography is depicted in the following image, is there a way to walk across each of the seven bridges of the city once and only once, and return to our starting point? [@todo: Citation- Graph Analytics with Neo4j]\n",
    "\n",
    "<center>\n",
    "    <img src=https://upload.wikimedia.org/wikipedia/commons/5/5d/Konigsberg_bridges.png>\n",
    "</center>"
   ]
  },
  {
   "cell_type": "markdown",
   "id": "higher-works",
   "metadata": {},
   "source": [
    "## Definitions & Terminology"
   ]
  },
  {
   "cell_type": "markdown",
   "id": "biological-titanium",
   "metadata": {},
   "source": [
    "## Graph Types & Structures"
   ]
  },
  {
   "cell_type": "markdown",
   "id": "common-horizontal",
   "metadata": {},
   "source": [
    "## Flavors of Graphs"
   ]
  },
  {
   "cell_type": "markdown",
   "id": "fewer-blair",
   "metadata": {},
   "source": [
    "### Connected vs. Disconnected Graphs"
   ]
  },
  {
   "cell_type": "markdown",
   "id": "southwest-probability",
   "metadata": {},
   "source": [
    "### Weighted vs. Unweighted Graphs"
   ]
  },
  {
   "cell_type": "markdown",
   "id": "annual-teaching",
   "metadata": {},
   "source": [
    "### Directed vs. Undirected Graphs"
   ]
  },
  {
   "cell_type": "markdown",
   "id": "powerful-oracle",
   "metadata": {},
   "source": [
    "# Introduction to Historical Network Analysis (HNA)"
   ]
  },
  {
   "cell_type": "markdown",
   "id": "drawn-frame",
   "metadata": {},
   "source": [
    "## Glimps at the Current State of HNA"
   ]
  },
  {
   "cell_type": "markdown",
   "id": "acting-spouse",
   "metadata": {},
   "source": [
    "## Case Study: Nobel Laureates"
   ]
  },
  {
   "cell_type": "code",
   "execution_count": 1,
   "id": "occasional-constitution",
   "metadata": {
    "scrolled": true
   },
   "outputs": [
    {
     "name": "stdout",
     "output_type": "stream",
     "text": [
      "hi\n"
     ]
    }
   ],
   "source": [
    "print(\"hi\")"
   ]
  },
  {
   "cell_type": "code",
   "execution_count": null,
   "id": "inside-scott",
   "metadata": {},
   "outputs": [],
   "source": []
  }
 ],
 "metadata": {
  "kernelspec": {
   "display_name": "Python 3",
   "language": "python",
   "name": "python3"
  },
  "language_info": {
   "codemirror_mode": {
    "name": "ipython",
    "version": 3
   },
   "file_extension": ".py",
   "mimetype": "text/x-python",
   "name": "python",
   "nbconvert_exporter": "python",
   "pygments_lexer": "ipython3",
   "version": "3.8.8"
  },
  "toc": {
   "base_numbering": 1,
   "nav_menu": {},
   "number_sections": true,
   "sideBar": true,
   "skip_h1_title": false,
   "title_cell": "Table of Contents",
   "title_sidebar": "Contents",
   "toc_cell": false,
   "toc_position": {
    "height": "789px",
    "left": "182px",
    "top": "180px",
    "width": "384px"
   },
   "toc_section_display": true,
   "toc_window_display": true
  }
 },
 "nbformat": 4,
 "nbformat_minor": 5
}
