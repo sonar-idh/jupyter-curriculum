{
 "cells": [
  {
   "cell_type": "markdown",
   "id": "searching-mozambique",
   "metadata": {},
   "source": [
    "<font size = \"20\"> SoNAR (IDH) - HNA Curriculum </font>"
   ]
  },
  {
   "cell_type": "markdown",
   "id": "athletic-spread",
   "metadata": {},
   "source": [
    "<font size = \"5\">Notebook 2:  Graph Theory and HNA</font>"
   ]
  },
  {
   "cell_type": "markdown",
   "id": "particular-duplicate",
   "metadata": {},
   "source": [
    "This curriculum is created for the SoNAR (IDH) project. SoNAR (IDH) is in it's core a graph based approach to structure and link big amounts of historical data (more on the SoNAR (IDH) project and database can be found in Notebook 3). Therefor the whole curriculum is mainly about graph theory and network analysis. \n",
    "\n",
    "This notebook provides an introduction into graph theory in general and also a quick dive into historical network analysis (HNA)."
   ]
  },
  {
   "cell_type": "markdown",
   "id": "treated-operation",
   "metadata": {},
   "source": [
    "# Graph Theory"
   ]
  },
  {
   "cell_type": "markdown",
   "id": "dynamic-edward",
   "metadata": {},
   "source": [
    "## Origin\n",
    "\n",
    "The Swiss mathematician Leonhard Euler is considered to be the origin of graph studies. In 1735, he published a paper proposing a solution for the \"Königsberg problem\". The Königsberg problem was a mathematical problem, unsolved at this point of time.\n",
    "Euler developed a new analysis technique to tackle this problem and thus was able to prove that there is no solution for the Königsberg problem. This new technique was the origin of the graph theory we know today. \n",
    "\n",
    "\n",
    "Let's take a look at the Königsberg problem: \n",
    "\n",
    "**Königsberg Problem** \n",
    "\n",
    ">Given the city whose geography is depicted in the following image, is there a way to walk across each of the seven bridges of the city once and only once, and return to our starting point? <cite data-cite=\"7184373/UCHCU3AD\"></cite>\n",
    "\n",
    "<center>\n",
    "    <img src=\"../images/notebook2/01-1_kb_base.png\", width=\"238\">\n",
    "    <a href=\"https://commons.wikimedia.org/wiki/File:Konigsberg_bridges.png\">Image Source</a>\n",
    "</center>\n",
    "\n",
    "The city is crossed by a river that splits the city into multiple parts. There are two banks (above and below the river) and additionally the river creates two islands (the rectangle in the middle and the one at the very right-hand side). Those two banks and two islands are connected by a total of seven bridges (highlighted in green). \n",
    "\n",
    "Euler's approach was reducing this problem to the most simple drawing (see picture below). The idea was that each of the four city parts (two banks & two islands) is considered a single point (*node*). And each of the points is connected to another by one or more links (*edges*).\n",
    "\n",
    "<p>\n",
    "<center>\n",
    "    <img src=\"../images/notebook2/01-2_kb_nodes.png\", width=\"238\">\n",
    "    <a href=\"https://commons.wikimedia.org/wiki/File:K%C3%B6nigsberg_graph.svg\">Image Source</a> (Labels added by the author)\n",
    "</center>\n",
    "\n",
    "\n",
    "Based on this simplified picture of the problem Euler noted that, if you arrive at one point via one link, you need to leave it using another link (except for the starting and ending point). \n",
    "This means that all points but two need to be connected to an even number of links. The Königsberg problem has the following connections:\n",
    "\n",
    "| City Part | Connection |\n",
    "|--- |----------|\n",
    "| A | twice to C; once to D |\n",
    "| B | twice to C; once to D       |\n",
    "| C | twice to A; twice to B, once to D|\n",
    "| D | once to A; once to C; once to D|\n",
    "\n",
    "\n",
    "As can be seen in the figure above, the condition (*all points but two need to be connected to an even number of links*) is not true in the Königsberg problem, and hence there is no solution for it.\n",
    "\n",
    "This schematic approach to solve the problem was since further developed and applied to other problems and resulted in the **Graph Theory** we know today.\n"
   ]
  },
  {
   "cell_type": "markdown",
   "id": "relative-ethics",
   "metadata": {},
   "source": [
    "## Definitions & Terminology"
   ]
  },
  {
   "cell_type": "markdown",
   "id": "accepted-rachel",
   "metadata": {},
   "source": [
    "Graph theory comes with a specific set of definitions and terminology used for talking about the subject. This section will provide an overview of the most important concepts."
   ]
  },
  {
   "cell_type": "markdown",
   "id": "loaded-billion",
   "metadata": {},
   "source": [
    "### Mathematical Definition"
   ]
  },
  {
   "cell_type": "markdown",
   "id": "catholic-disposition",
   "metadata": {},
   "source": [
    "A graph is defined as: $G = (V, E) $. Where the symbols have the following meanings:\n",
    "\n",
    "| Symbol | Description |\n",
    "|--- |----------|\n",
    "| $G$ | The Graph |\n",
    "| $V$ | A set of **nodes** (the city parts in the example above)|\n",
    "| $E$ | A set of **edges** (relationships) connecting nodes <br>(the bridges in the example above)|\n",
    "\n",
    "\n",
    "Following this definition, the Königsberg problem from above can be defined as:\n",
    "\n",
    "$ V = [A, B, C, D] $\n",
    "\n",
    "$E = [\\\\\n",
    "        \\quad (A, C), \\\\\n",
    "        \\quad (A, C), \\\\\n",
    "        \\quad (C, B), \\\\\n",
    "        \\quad (C, B), \\\\\n",
    "        \\quad (A, D), \\\\\n",
    "        \\quad (C, D), \\\\\n",
    "        \\quad (B, D) \\\\\n",
    "]$"
   ]
  },
  {
   "cell_type": "markdown",
   "id": "quiet-freedom",
   "metadata": {},
   "source": [
    "### Terminology"
   ]
  },
  {
   "cell_type": "markdown",
   "id": "related-motorcycle",
   "metadata": {},
   "source": [
    "Graph theory has a very distinctive terminology to refer to different concepts. However, some concepts have several terms they are described by. See the table below for an overview of these terms.\n",
    "\n",
    "\n",
    "<div class=\"alert alert-block alert-info\">\n",
    "<b>Hint:</b> This curriculum uses the terms *network* and *graph* interchangeably following the common practice in the scientific literature. However, sometimes it is pointed out that there are subtle differences between the two terms. For a more in depth discussion on this topic, check out chapter two of <a href=\"http://networksciencebook.com/\">Network Science by Albert-László Barabási</a> <cite data-cite=\"7184373/W9KC4XSJ\"></cite> </div>\n",
    "\n",
    "\n",
    "\n",
    "| Term | Synonyms | Description |\n",
    "|--- |----------| ------- |\n",
    "|**Graph** | Network | Abstract representation of objects (**nodes**) and the <br> relationships (**edges**) between these objects.\n",
    "| **Node** | Vertex  | Fundamental unit of a **graph**. Nodes can be connected <br> with each other by **edges**. Nodes can have **labels** categorizing the nodes.<br> Nodes can have **properties** providing information about their characteristics.\n",
    "| **Edge** | Relationship | Describes the connection between **nodes**. Edges are of a specific **type**. <br> Edges can have **properties** providing information <br> about their characteristics.\n",
    "| **Label** | type | A label is used to categorize different kind of **nodes**. <br >A label marks a **node** as part of a group. \n",
    "| **Property** | Attribute | **Nodes** and **edges** can have properties. <br> Properties are like meta-information about a node or a relationship <br> and can contain a variety of different data types, like numbers, <br> strings, spatial data or temporal data.\n",
    "| **Path** | - | Describes a group of **nodes** and their connecting relationships.<br> A path is usually a discription on how to get from one **node** to another. \n",
    "\n",
    "<cite data-cite=\"7184373/9A4UBKNN\"></cite>"
   ]
  },
  {
   "cell_type": "markdown",
   "id": "inner-livestock",
   "metadata": {},
   "source": [
    "## Graph Types & Structures"
   ]
  },
  {
   "cell_type": "markdown",
   "id": "according-current",
   "metadata": {},
   "source": [
    "When analyzing real world data and phenomena, the resulting graphs can take many different forms and structures. There can be many relationships between nodes or even self-referencing relationships. \n",
    "\n",
    "Most commonly there is a distinction between three different **graph types**:\n",
    "<p>\n",
    "<center>\n",
    "    <img src=\"../images/notebook2/02-1_graph_types.png\", width=\"600\">\n",
    "    <cite data-cite=\"7184373/9A4UBKNN\"></cite>\n",
    "</center>\n",
    "    \n",
    "    \n",
    "However, graphs can not only be categorized by their general type but also by the shape they take. This shape is usually refereed to as **structure**. There are three different **structures of networks**:\n",
    "\n",
    "<p>\n",
    "<center>\n",
    "    <img src=\"../images/notebook2/02-2_graph_structures.png\", width=\"600\">\n",
    "    <cite data-cite=\"7184373/9A4UBKNN\"></cite>\n",
    "</center>\n",
    "    \n",
    "\n",
    "The two most common **network structures** in real world data are *small-world networks* and *scale-free networks*. <br>\n",
    "*Small-world networks* are very common when analyzing any kind of social networks. Networks of friends, networks of \"social-media-bubbles\" or cultural networks often are *small-world networks*. The main characteristics of *small-world networks* are:\n",
    "\n",
    "* The path between two random nodes tends to be rather short\n",
    "* Presence of \"cliques\" is highly likely; sub-networks in which nearly every node has a direct connection to every other node\n",
    "\n",
    "*Scale-free networks* on the other hand differ from *small-world networks* foremost by the characteristic that they follow a *power-law distribution*. Hence *scale-free networks* have a small number of highly connected nodes (*hubs*) and a big number of nodes with just a few edges. Further more *scale-free networks* occur especially in contexts where a hub-and-spoke architecture is present. Some common examples for this network structure are the World Wide Web or graphs of software dependencies."
   ]
  },
  {
   "cell_type": "markdown",
   "id": "crazy-designation",
   "metadata": {},
   "source": [
    "## Flavors of Graphs"
   ]
  },
  {
   "cell_type": "markdown",
   "id": "finished-cyprus",
   "metadata": {},
   "source": [
    "Graphs can not only be distinguished by their overall structure and type, but also by *characteristic attributes* they have. This section covers three very important attributes of networks, that play a big roll in historical network analyses.\n",
    "\n",
    "These *network attributes* or *flavors* are highly important for the choice of network algorithm you want to apply. The overview table below depicts the most noteworthy factors and considerations for the three *flavors* covered in this curriculum.\n",
    "\n",
    "|Graph attribute| Key factor | Algorithm consideration |\n",
    "|---------------|------------|-------------------------|\n",
    "Connected vs. <br> unconnected | Whether there is a path between any two nodes in the graph, irrespective of distance| Islands of nodes can cause unexpected behaviour, such as getting stuck in or failing to process disconnected components |\n",
    "Weighted vs. <br> unweighted | Whether there are (domain-specific) values on relationships or nodes | Many algorithms expect weights, and we’ll see significant differences in performance and results when they’re ignored. |\n",
    "Directed vs. <br> undirected | Whether or not relationships explicitly define a start and end node | This adds rich context to infer additional meaning. In some algorithms you can explicitly set the use of one, both, or no direction. |\n",
    "\n",
    "<cite data-cite=\"7184373/9A4UBKNN\"></cite>\n",
    "\n"
   ]
  },
  {
   "cell_type": "markdown",
   "id": "numerical-accreditation",
   "metadata": {},
   "source": [
    "### Connected vs. Disconnected Graphs"
   ]
  },
  {
   "cell_type": "markdown",
   "id": "variable-typing",
   "metadata": {},
   "source": [
    "A graph is called *connected* when there is a path connecting every node in the network. When there is a node or a group of nodes completely detached - a so called *island*, the graph is *disconnected*. Also, when the *disconnected* nodes are connected with each other, they are called *components* or *clusters*.\n",
    "\n",
    "Some graph algorithms assume the graph to be connected and hence lead to misleading results, when it isn't. Hence it's a good idea to check, whether you are dealing with a connected or a disconnected graph. \n",
    "\n",
    "<p>\n",
    "<center>\n",
    "    <img src=\"../images/notebook2/03-1_connected.png\", width=\"600\">\n",
    "    <cite data-cite=\"7184373/9A4UBKNN\"></cite>\n",
    "</center>\n",
    "    "
   ]
  },
  {
   "cell_type": "markdown",
   "id": "north-wonder",
   "metadata": {},
   "source": [
    "### Weighted vs. Unweighted Graphs"
   ]
  },
  {
   "cell_type": "markdown",
   "id": "suspended-parameter",
   "metadata": {},
   "source": [
    "A graph is *weighted* when there are numeric values attached to the nodes or edges. These numeric values represent a prioritization that can be specific to a domain (e.g. cost, distance, capacity).\n",
    "A graph is *unweighted* on the other hand, when there is no numeric value attached to nodes or edges, representing a specific weight. \n",
    "\n",
    "Weight values can representt the strength or intensity of a relationship. Also, they can be used for path finding algorithms, that try to find the shortest or most efficient path between two distant nodes. \n",
    "\n",
    "<p>\n",
    "<center>\n",
    "    <img src=\"../images/notebook2/03-2_weighted.png\", width=\"600\">\n",
    "    <cite data-cite=\"7184373/9A4UBKNN\"></cite>\n",
    "</center>\n",
    "    \n"
   ]
  },
  {
   "cell_type": "markdown",
   "id": "tribal-germany",
   "metadata": {},
   "source": [
    "### Directed vs. Undirected Graphs"
   ]
  },
  {
   "cell_type": "markdown",
   "id": "flush-sewing",
   "metadata": {},
   "source": [
    "The last attribute of graphs we want to take a look at is whether it is directed or not. *Direction* in this context provides an additional dimension to the *relationship* between nodes. When a relationship between two nodes has a direction, this direction is an indicator for a dependency or a flow. \n",
    "\n",
    "Let's say person A sends a letter to person B; this action is directed and bears the information that the letter was send from A to B and not from B to A. On the other hand, a relationship is undirected, when there is no information about dependency or flow. Let's say person A is the sibling of person B. In this case there is no information about direction since A is the sibling of B and hence B is also the sibling of A.\n",
    "\n",
    "When a directed relationship points to a node, the relationship is referred to as *in-link*. When a relationship originates from a node it is referred to as *out-link* instead. \n",
    "\n",
    "Whether a graph is directed or undirected can have a big influence on the result of many algorithms. For example for path finding algorithms it is a crucial difference whether a relationship is a \"one-way road\" (*directed*) or if the relationship does not point in a specific direction (*undirected*).\n",
    "\n",
    "<p>\n",
    "<center>\n",
    "    <img src=\"../images/notebook2/03-3_directed.png\", width=\"600\">\n",
    "    <cite data-cite=\"7184373/9A4UBKNN\"></cite>\n",
    "</center>"
   ]
  },
  {
   "cell_type": "markdown",
   "id": "capable-circle",
   "metadata": {},
   "source": [
    "# Introduction to Historical Network Analysis (HNA)"
   ]
  },
  {
   "cell_type": "markdown",
   "id": "remarkable-outline",
   "metadata": {},
   "source": [
    "Historical Network Analysis is a scientific method that is derived from Social Network Analysis. \n",
    "When analyzing historical events or phenomena it is often crucial to join different historical data sources in meaningful ways. Using the principles of Graph Theory helps to reconstruct historical networks and detect relevant information in big historical data sources. \n",
    "\n",
    "\n",
    "\n",
    "\n",
    "\n",
    "[CKCC (Circulation of Knowledge and Learned Practices in the 17th-century Dutch Republic)](http://ckcc.huygens.knaw.nl/) \n",
    "\n",
    "[ORKG (Open Research Knowledge Graph)](https://projects.tib.eu/orkg/)\n",
    "\n",
    "[HistoGraph](http://histograph.eu/)"
   ]
  },
  {
   "cell_type": "markdown",
   "id": "developing-freight",
   "metadata": {},
   "source": [
    "## Case Study: Nobel Laureates"
   ]
  },
  {
   "cell_type": "markdown",
   "id": "vocal-margin",
   "metadata": {
    "scrolled": true
   },
   "source": [
    "# Bibliography"
   ]
  },
  {
   "cell_type": "markdown",
   "id": "russian-terror",
   "metadata": {},
   "source": [
    "<div class=\"cite2c-biblio\"></div>"
   ]
  },
  {
   "cell_type": "code",
   "execution_count": null,
   "id": "psychological-daisy",
   "metadata": {},
   "outputs": [],
   "source": []
  }
 ],
 "metadata": {
  "cite2c": {
   "citations": {
    "7184373/9A4UBKNN": {
     "ISBN": "978-1-4920-4768-1",
     "abstract": "Learn how graph algorithms can help you leverage relationships within your data to develop intelligent solutions and enhance your machine learning models. With this practical guide, developers and data scientists will discover how graph analytics deliver value, whether they're used for building dynamic network models or forecasting real-world behavior. Mark Needham and Amy Hodler from Neo4j explain how graph algorithms describe complex structures and reveal difficult-to-find patterns, from finding vulnerabilities and bottlenecks to detecting communities and improving machine learning predictions. You'll walk through hands-on examples that show you how to use graph algorithms in Apache Spark and Neo4j, two of the most common choices for graph analytics",
     "author": [
      {
       "family": "Needham",
       "given": "Mark"
      },
      {
       "family": "Hodler",
       "given": "Amy E."
      }
     ],
     "call-number": "QA166.245 .N44 2019",
     "edition": "First edition",
     "event-place": "Sebastopol, California",
     "id": "7184373/9A4UBKNN",
     "issued": {
      "year": 2019
     },
     "note": "OCLC: on1066191517",
     "number-of-pages": "235",
     "publisher": "O'Reilly Media",
     "publisher-place": "Sebastopol, California",
     "shortTitle": "Graph algorithms",
     "title": "Graph algorithms: practical examples in Apache Spark and Neo4j",
     "title-short": "Graph algorithms",
     "type": "book"
    },
    "7184373/UCHCU3AD": {
     "ISBN": "978-1-83921-261-1",
     "URL": "https://learning.oreilly.com/library/view/-/9781839212611/?ar",
     "abstract": "Discover how to use Neo4j to identify relationships within complex and large graph datasets using graph modeling, graph algorithms, and machine learning Key Features Get up and running with graph analytics with the help of real-world examples Explore various use cases such as fraud detection, graph-based search, and recommendation systems Get to grips with the Graph Data Science library with the help of examples, and use Neo4j in the cloud for effective application scaling Book Description Neo4j is a graph database that includes plugins to run complex graph algorithms. The book starts with an introduction to the basics of graph analytics, the Cypher query language, and graph architecture components, and helps you to understand why enterprises have started to adopt graph analytics within their organizations. You'll find out how to implement Neo4j algorithms and techniques and explore various graph analytics methods to reveal complex relationships in your data. You'll be able to implement graph analytics catering to different domains such as fraud detection, graph-based search, recommendation systems, social networking, and data management. You'll also learn how to store data in graph databases and extract valuable insights from it. As you become well-versed with the techniques, you'll discover graph machine learning in order to address simple to complex challenges using Neo4j. You will also understand how to use graph data in a machine learning model in order to make predictions based on your data. Finally, you'll get to grips with structuring a web application for production using Neo4j. By the end of this book, you'll not only be able to harness the power of graphs to handle a broad range of problem areas, but you'll also have learned how to use Neo4j efficiently to identify complex relationships in your data. What you will learn Become well-versed with Neo4j graph database building blocks, nodes, and relationships Discover how to create, update, and delete nodes and relationships using Cypher querying Use graphs to improve web search and recommendations Understand graph algorithms such as pathfinding, spatial search, centrality, and community detection Find out different steps to integrate graphs in a normal machine learning pipeline Formulate a link prediction problem in the context of machine learning Implement graph embedding algorithms such as DeepWalk, and use them in Neo4j graphs Who this book is for This book is for data analysts, bus...",
     "accessed": {
      "day": 26,
      "month": 3,
      "year": 2021
     },
     "author": [
      {
       "family": "Scifo",
       "given": "Estelle"
      },
      {
       "family": "Safari",
       "given": "an O'Reilly Media Company"
      }
     ],
     "id": "7184373/UCHCU3AD",
     "issued": {
      "year": 2020
     },
     "language": "English",
     "note": "OCLC: 1196890922",
     "title": "Hands-On Graph Analytics with Neo4j",
     "type": "book"
    },
    "7184373/W9KC4XSJ": {
     "ISBN": "978-1-107-07626-6",
     "abstract": "\"Networks are everywhere, from the Internet, to social networks, and the genetic networks that determine our biological existence. Illustrated throughout in full colour, this pioneering textbook, spanning a wide range of topics from physics to computer science, engineering, economics and the social sciences, introduces network science to an interdisciplinary audience. From the origins of the six degrees of separation to explaining why networks are robust to random failures, the author explores how viruses like Ebola and H1N1 spread, and why it is that our friends have more friends than we do. Using numerous real-world examples, this innovatively designed text includes clear delineation between undergraduate and graduate level material\"--Page [4] of cover",
     "author": [
      {
       "family": "Barabási",
       "given": "Albert-László"
      },
      {
       "family": "Pósfai",
       "given": "Márton"
      }
     ],
     "call-number": "TK5105.5 .B37 2016",
     "event-place": "Cambridge, United Kingdom",
     "id": "7184373/W9KC4XSJ",
     "issued": {
      "year": 2016
     },
     "note": "OCLC: ocn910772793",
     "number-of-pages": "456",
     "publisher": "Cambridge University Press",
     "publisher-place": "Cambridge, United Kingdom",
     "title": "Network science",
     "type": "book"
    }
   }
  },
  "kernelspec": {
   "display_name": "Python 3",
   "language": "python",
   "name": "python3"
  },
  "language_info": {
   "codemirror_mode": {
    "name": "ipython",
    "version": 3
   },
   "file_extension": ".py",
   "mimetype": "text/x-python",
   "name": "python",
   "nbconvert_exporter": "python",
   "pygments_lexer": "ipython3",
   "version": "3.8.9"
  },
  "toc": {
   "base_numbering": 1,
   "nav_menu": {},
   "number_sections": true,
   "sideBar": true,
   "skip_h1_title": false,
   "title_cell": "Table of Contents",
   "title_sidebar": "Contents",
   "toc_cell": false,
   "toc_position": {
    "height": "789px",
    "left": "182px",
    "top": "180px",
    "width": "384px"
   },
   "toc_section_display": true,
   "toc_window_display": false
  }
 },
 "nbformat": 4,
 "nbformat_minor": 5
}
