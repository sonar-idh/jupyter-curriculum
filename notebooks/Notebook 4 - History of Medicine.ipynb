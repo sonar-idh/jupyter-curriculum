{
 "cells": [
  {
   "cell_type": "code",
   "execution_count": 14,
   "id": "dimensional-performer",
   "metadata": {},
   "outputs": [],
   "source": [
    "### Loading Credentials from local file; \n",
    "### this cell is meant to be deleted before publishing\n",
    "import yaml\n",
    "\n",
    "with open(\"../creds.yml\", 'r') as ymlfile:\n",
    "    cfg = yaml.safe_load(ymlfile)\n",
    "\n",
    "uri = cfg[\"sonar_creds\"][\"uri\"]\n",
    "user = cfg[\"sonar_creds\"][\"user\"]\n",
    "password = cfg[\"sonar_creds\"][\"pass\"]"
   ]
  },
  {
   "cell_type": "markdown",
   "id": "french-falls",
   "metadata": {},
   "source": [
    "<font size = \"20\"> SoNAR (IDH) - HNA Curriculum </font>\n",
    "\n",
    "<font size = \"5\">Notebook 4:  Example Case - History of Physiology</font>"
   ]
  },
  {
   "cell_type": "markdown",
   "id": "electoral-coverage",
   "metadata": {},
   "source": [
    "# Defining the Physiology Graph"
   ]
  },
  {
   "cell_type": "markdown",
   "id": "continuing-status",
   "metadata": {},
   "source": [
    "Search for \"hysiolog\" as substring for Physiology to retrieve every possible string containing.\n"
   ]
  },
  {
   "cell_type": "code",
   "execution_count": 15,
   "id": "representative-assurance",
   "metadata": {},
   "outputs": [
    {
     "data": {
      "text/plain": [
       "[{'(t.Name)': 'Arbeitsphysiologie'},\n",
       " {'(t.Name)': 'Neurophysiologie'},\n",
       " {'(t.Name)': 'Pathophysiologie'},\n",
       " {'(t.Name)': 'Pflanzenphysiologie'},\n",
       " {'(t.Name)': 'Physiologie'},\n",
       " {'(t.Name)': 'Sinnesphysiologie'},\n",
       " {'(t.Name)': 'Tierphysiologie'},\n",
       " {'(t.Name)': 'Physiologische Chemie'},\n",
       " {'(t.Name)': 'Physiologische Psychologie'},\n",
       " {'(t.Name)': 'Sprachphysiologie'},\n",
       " {'(t.Name)': 'Sportphysiologie'},\n",
       " {'(t.Name)': 'Leistungsphysiologie'},\n",
       " {'(t.Name)': 'Physiologische Psychiatrie'},\n",
       " {'(t.Name)': 'Elektrophysiologie'},\n",
       " {'(t.Name)': 'Altersphysiologie'},\n",
       " {'(t.Name)': 'Bewegungsphysiologie'},\n",
       " {'(t.Name)': 'Entwicklungsphysiologie'},\n",
       " {'(t.Name)': 'Ernährungsphysiologie'},\n",
       " {'(t.Name)': 'Ertragsphysiologie'},\n",
       " {'(t.Name)': 'Histophysiologie'},\n",
       " {'(t.Name)': 'Höhenphysiologie'},\n",
       " {'(t.Name)': 'Nacherntephysiologie'},\n",
       " {'(t.Name)': 'Physiologische Optik'},\n",
       " {'(t.Name)': 'Physiologische Uhr'},\n",
       " {'(t.Name)': 'Psychophysiologische Diagnostik'},\n",
       " {'(t.Name)': 'Stoffwechselphysiologie'},\n",
       " {'(t.Name)': 'Vegetative Physiologie'},\n",
       " {'(t.Name)': 'Vergleichende Neurophysiologie'},\n",
       " {'(t.Name)': 'Vergleichende Physiologie'},\n",
       " {'(t.Name)': 'Verhaltensphysiologie'},\n",
       " {'(t.Name)': 'Physiologe'},\n",
       " {'(t.Name)': 'Reizphysiologie'},\n",
       " {'(t.Name)': 'Experimentelle Physiologie'},\n",
       " {'(t.Name)': 'Zellphysiologie'},\n",
       " {'(t.Name)': 'Muskelphysiologie'},\n",
       " {'(t.Name)': 'Physiologin'},\n",
       " {'(t.Name)': 'Physiologische Akustik'},\n",
       " {'(t.Name)': 'Tauchphysiologie'},\n",
       " {'(t.Name)': 'Umweltphysiologie'},\n",
       " {'(t.Name)': 'Ignaz-L.-Lieben-Preis für Physik, Chemie und Physiologie'},\n",
       " {'(t.Name)': 'Elektrophysiologische Untersuchung'},\n",
       " {'(t.Name)': 'Pflanzenphysiologe'},\n",
       " {'(t.Name)': 'Pflanzenphysiologin'}]"
      ]
     },
     "execution_count": 15,
     "metadata": {},
     "output_type": "execute_result"
    }
   ],
   "source": [
    "from neo4j import GraphDatabase\n",
    "\n",
    "driver = GraphDatabase.driver(uri, auth=(user, password))\n",
    "\n",
    "query = \"\"\"\n",
    "MATCH (t:TopicTerm)\n",
    "WHERE t.Name CONTAINS \"hysiolog\"\n",
    "RETURN DISTINCT(t.Name)\n",
    "\"\"\"\n",
    "\n",
    "with driver.session() as session:\n",
    "    all_physiology_terms = session.run(query).data()\n",
    "    \n",
    "all_physiology_terms"
   ]
  },
  {
   "cell_type": "markdown",
   "id": "proud-prison",
   "metadata": {},
   "source": [
    "With this in mind we can create a full network that contains every person connected to any kind of Physiological topic term. Also, we use the function `apoc.algo.cover(n)` to retrieve any kind of relationship between the persons connected to Physiological topic terms."
   ]
  },
  {
   "cell_type": "code",
   "execution_count": 16,
   "id": "swedish-retreat",
   "metadata": {},
   "outputs": [],
   "source": [
    "from helper_functions.helper_fun import to_nx_graph\n",
    "\n",
    "query = \"\"\"\n",
    "MATCH (t:TopicTerm)-[r]-(n:PerName)\n",
    "WHERE t.Name CONTAINS \"hysiolog\"\n",
    "RETURN *\n",
    "\"\"\"\n",
    "\n",
    "driver = GraphDatabase.driver(uri, auth=(user, password))\n",
    "\n",
    "G = to_nx_graph(neo4j_driver = driver, \n",
    "                query = query)"
   ]
  },
  {
   "cell_type": "markdown",
   "id": "furnished-behalf",
   "metadata": {},
   "source": [
    "Check which topic terms aren't present in query result:"
   ]
  },
  {
   "cell_type": "code",
   "execution_count": 17,
   "id": "grave-sandwich",
   "metadata": {},
   "outputs": [
    {
     "data": {
      "text/plain": [
       "array(['Altersphysiologie', 'Bewegungsphysiologie',\n",
       "       'Elektrophysiologische Untersuchung', 'Ertragsphysiologie',\n",
       "       'Experimentelle Physiologie', 'Histophysiologie',\n",
       "       'Ignaz-L.-Lieben-Preis für Physik, Chemie und Physiologie',\n",
       "       'Muskelphysiologie', 'Physiologische Optik', 'Physiologische Uhr',\n",
       "       'Psychophysiologische Diagnostik', 'Reizphysiologie',\n",
       "       'Sprachphysiologie', 'Tauchphysiologie', 'Umweltphysiologie',\n",
       "       'Vergleichende Neurophysiologie', 'Vergleichende Physiologie',\n",
       "       'Zellphysiologie'], dtype='<U57')"
      ]
     },
     "execution_count": 17,
     "metadata": {},
     "output_type": "execute_result"
    }
   ],
   "source": [
    "import numpy as np\n",
    "\n",
    "relevant_topics = []\n",
    "for node in list(G.nodes):\n",
    "    if G.nodes[node][\"type\"] == \"TopicTerm\":\n",
    "        relevant_topics.append((G.nodes[node][\"label\"]))\n",
    "\n",
    "np.setdiff1d([d[\"(t.Name)\"] for d in all_physiology_terms], relevant_topics)"
   ]
  },
  {
   "cell_type": "markdown",
   "id": "danish-analysis",
   "metadata": {},
   "source": [
    "@todo add colors to network below by node type"
   ]
  },
  {
   "cell_type": "code",
   "execution_count": 6,
   "id": "quality-rolling",
   "metadata": {},
   "outputs": [],
   "source": [
    "from helper_functions.helper_fun import to_nx_graph\n",
    "from pyvis.network import Network\n",
    "\n",
    "nt = Network('750px', '100%', notebook=True, directed = True)\n",
    "nt.from_nx(G)\n",
    "nt.set_edge_smooth(\"dynamic\")\n",
    "#nt.show('./html_networks/physiological_net.html')"
   ]
  },
  {
   "cell_type": "markdown",
   "id": "acknowledged-colonial",
   "metadata": {},
   "source": [
    "## Retrieving the Network"
   ]
  },
  {
   "cell_type": "code",
   "execution_count": 18,
   "id": "extreme-checklist",
   "metadata": {},
   "outputs": [
    {
     "name": "stdout",
     "output_type": "stream",
     "text": [
      "CPU times: user 14.5 s, sys: 526 ms, total: 15 s\n",
      "Wall time: 15.4 s\n"
     ]
    }
   ],
   "source": [
    "%%time\n",
    "\n",
    "from helper_functions.helper_fun import to_nx_graph\n",
    "\n",
    "query = \"\"\"\n",
    "MATCH (t:TopicTerm)--(n:PerName)\n",
    "WHERE t.Name CONTAINS \"hysiolog\"\n",
    "WITH DISTINCT [x in collect(t)+collect(n)|id(x)] as collectedIds \n",
    "MATCH (n)-[rel1:RelationToPerName*0..1]-(n2)\n",
    "WHERE id(n) in collectedIds\n",
    "RETURN n, n2, rel1\n",
    "\"\"\"\n",
    "\n",
    "\n",
    "driver = GraphDatabase.driver(uri, auth=(user, password))\n",
    "\n",
    "G = to_nx_graph(neo4j_driver = driver, \n",
    "                query = query)"
   ]
  },
  {
   "cell_type": "markdown",
   "id": "enhanced-coordinate",
   "metadata": {},
   "source": [
    "## Descriptive Metrics"
   ]
  },
  {
   "cell_type": "code",
   "execution_count": 19,
   "id": "adult-thriller",
   "metadata": {},
   "outputs": [],
   "source": [
    "person_nodes = [x for x,y in G.nodes(data=True) if y['type']==\"PerName\"]\n",
    "resources_nodes = [x for x,y in G.nodes(data=True) if y['type']==\"Resource\"]\n",
    "topicterm_nodes = [x for x,y in G.nodes(data=True) if y['type']==\"TopicTerm\"]"
   ]
  },
  {
   "cell_type": "code",
   "execution_count": 7,
   "id": "supreme-montana",
   "metadata": {},
   "outputs": [
    {
     "data": {
      "text/plain": [
       "36187"
      ]
     },
     "execution_count": 7,
     "metadata": {},
     "output_type": "execute_result"
    }
   ],
   "source": [
    "G.number_of_nodes()"
   ]
  },
  {
   "cell_type": "code",
   "execution_count": 20,
   "id": "scheduled-sunset",
   "metadata": {},
   "outputs": [
    {
     "name": "stdout",
     "output_type": "stream",
     "text": [
      "1856\n",
      "34261\n",
      "27\n"
     ]
    }
   ],
   "source": [
    "print(len(person_nodes))\n",
    "print(len(resources_nodes))\n",
    "print(len(topicterm_nodes))"
   ]
  },
  {
   "cell_type": "markdown",
   "id": "aquatic-egyptian",
   "metadata": {},
   "source": [
    "# Investigating the Persons"
   ]
  },
  {
   "cell_type": "markdown",
   "id": "moral-genome",
   "metadata": {},
   "source": [
    "## Centrality Investigation"
   ]
  },
  {
   "cell_type": "markdown",
   "id": "returning-fellowship",
   "metadata": {},
   "source": [
    "At first we are going to investigate the centrality of the physiology network. By assessing the centrality we actually calculate the importance of the nodes. \n",
    "\n",
    " "
   ]
  },
  {
   "cell_type": "markdown",
   "id": "acquired-abuse",
   "metadata": {},
   "source": [
    "### Betweenness Centrality"
   ]
  },
  {
   "cell_type": "markdown",
   "id": "three-house",
   "metadata": {},
   "source": [
    "Betweenness is one of many ways to measure the centrality of nodes. Betweenness counts the number of shortest paths traversing a given node:\n",
    "\n",
    "\\begin{align}\n",
    "x & = \\frac{\\Sigma \\sigma(u, v | n)}{\\Sigma \\sigma(u, v)} \\\\\n",
    "\\end{align}\n",
    "\n",
    "\n",
    "$ \\sigma(u, v | n) $  describes the number of shortest paths between the nodes $u$ and $v$ and $\\sigma(u, v | n)$ is the number of such paths passing through $n$ (Scifo, 2020). \n",
    "\n",
    "This measure is especially useful for identifying critical or highly important nodes in a network. High betweenness can be interpreted as power in a social network or as the amount of social capital a node owns. \n",
    "\n",
    "The calculation of betweenness centrality is costly though. When calculating the betweenness of the full physiology network, the calculation will take multiple hours to days depending on the machine you are calculating on. \n",
    "\n",
    "More details on the usage of the algorithm with the `networkx` library can be found [here](https://networkx.org/documentation/networkx-1.10/reference/generated/networkx.algorithms.centrality.betweenness_centrality.html#:~:text=Betweenness%20centrality%20of%20a%20node,through%20some%20node%20other%20than%20.).\n",
    "\n",
    "Due to the high computational costs of the betweenness calculations, we use the `betweenness_centrality_subset()` function of the `networkx` library. This function allows us to calculate the betweenness in respect to a specific subset of nodes. In the example below we calculate the betweenness for all persons in the network only. "
   ]
  },
  {
   "cell_type": "code",
   "execution_count": 33,
   "id": "inner-pantyhose",
   "metadata": {},
   "outputs": [
    {
     "name": "stdout",
     "output_type": "stream",
     "text": [
      "CPU times: user 3min 45s, sys: 44.7 ms, total: 3min 45s\n",
      "Wall time: 3min 45s\n"
     ]
    }
   ],
   "source": [
    "import networkx as nx\n",
    "import random\n",
    "\n",
    "betweenness = nx.betweenness_centrality_subset(G, sources=person_nodes, targets=person_nodes)"
   ]
  },
  {
   "cell_type": "code",
   "execution_count": 34,
   "id": "incoming-boring",
   "metadata": {},
   "outputs": [],
   "source": [
    "from operator import itemgetter\n",
    "\n",
    "betweenness_sorted = sorted(betweenness.items(), key = itemgetter(1), reverse = True)\n",
    "betweenness_filtered = [item for item in betweenness_sorted if item[0] in person_nodes]\n",
    "top_betweenness = betweenness_filtered[:10]"
   ]
  },
  {
   "cell_type": "code",
   "execution_count": 35,
   "id": "recent-colorado",
   "metadata": {},
   "outputs": [
    {
     "name": "stdout",
     "output_type": "stream",
     "text": [
      "Name: Wundt, Wilhelm | Betweenness Centrality: 98834.3937482409\n",
      "Name: Eccles, John C. | Betweenness Centrality: 34730.79224155618\n",
      "Name: Sherrington, Charles Scott | Betweenness Centrality: 28845.307688601402\n",
      "Name: Pirson, André | Betweenness Centrality: 24827.09301547723\n",
      "Name: Asher, Leon | Betweenness Centrality: 21577.10243170289\n",
      "Name: Oken, Lorenz | Betweenness Centrality: 20279.19793097923\n",
      "Name: Mothes, Kurt | Betweenness Centrality: 14311.347611623598\n",
      "Name: Baer, Karl Ernst von | Betweenness Centrality: 13285.350541327418\n",
      "Name: Helmholtz, Hermann von | Betweenness Centrality: 12032.185088709262\n",
      "Name: Engelmann, Wilhelm | Betweenness Centrality: 11876.72544075516\n"
     ]
    }
   ],
   "source": [
    "for i in top_betweenness: \n",
    "    degree = betweenness[i[0]] \n",
    "    print(\"Name:\", G.nodes(data = True)[i[0]][\"label\"], \"| Betweenness Centrality:\", i[1])"
   ]
  },
  {
   "cell_type": "markdown",
   "id": "indie-mason",
   "metadata": {},
   "source": [
    "### Eigenvector Centrality"
   ]
  },
  {
   "cell_type": "code",
   "execution_count": 70,
   "id": "raising-gibraltar",
   "metadata": {},
   "outputs": [],
   "source": [
    "eigenvectors = nx.eigenvector_centrality_numpy(G)"
   ]
  },
  {
   "cell_type": "code",
   "execution_count": 72,
   "id": "radical-mainstream",
   "metadata": {},
   "outputs": [],
   "source": [
    "from operator import itemgetter\n",
    "\n",
    "eigenvectors_sorted = sorted(eigenvectors.items(), key = itemgetter(1), reverse = True)\n",
    "eigenvectors_filtered = [item for item in eigenvectors_sorted if item[0] in person_nodes]\n",
    "top_eigenvectors = eigenvectors_filtered[:10]"
   ]
  },
  {
   "cell_type": "code",
   "execution_count": 73,
   "id": "every-commander",
   "metadata": {},
   "outputs": [
    {
     "name": "stdout",
     "output_type": "stream",
     "text": [
      "Name: Wundt, Wilhelm | Name: PerName | Eigenvector Centrality: 0.7070494505966637\n",
      "Name: Wundt, Marie Friederike | Name: PerName | Eigenvector Centrality: 0.009074726145276534\n",
      "Name: Arnold, Ida Eberhardina | Name: PerName | Eigenvector Centrality: 0.009074726145276532\n",
      "Name: Wundt, Wilhelm | Name: PerName | Eigenvector Centrality: 0.009062579963126092\n",
      "Name: Wundt, Ludwig | Name: PerName | Eigenvector Centrality: 0.009062579963126087\n",
      "Name: Wundt, Eleonore | Name: PerName | Eigenvector Centrality: 0.009062579963126087\n",
      "Name: Wundt, Max | Name: PerName | Eigenvector Centrality: 0.009062579963126087\n",
      "Name: Wundt, Maximilian | Name: PerName | Eigenvector Centrality: 0.009062579963126087\n",
      "Name: Wundt, Sophie | Name: PerName | Eigenvector Centrality: 0.009062579963126084\n",
      "Name: Wundt, Magdalena | Name: PerName | Eigenvector Centrality: 0.009062579963126082\n"
     ]
    }
   ],
   "source": [
    "for i in top_eigenvectors: \n",
    "    degree = eigenvectors[i[0]] \n",
    "    print(\"Name:\", G.nodes(data = True)[i[0]][\"label\"], \"| Eigenvector Centrality:\", i[1])"
   ]
  },
  {
   "cell_type": "markdown",
   "id": "naval-distinction",
   "metadata": {},
   "source": [
    "### PageRank"
   ]
  },
  {
   "cell_type": "code",
   "execution_count": 74,
   "id": "constant-engagement",
   "metadata": {},
   "outputs": [],
   "source": [
    "pageranks = nx.pagerank(G)"
   ]
  },
  {
   "cell_type": "code",
   "execution_count": 75,
   "id": "faced-content",
   "metadata": {},
   "outputs": [],
   "source": [
    "from operator import itemgetter\n",
    "\n",
    "pageranks_sorted = sorted(pageranks.items(), key = itemgetter(1), reverse = True)\n",
    "pageranks_filtered = [item for item in pageranks_sorted if item[0] in person_nodes]\n",
    "top_pageranks = pageranks_filtered[:10]"
   ]
  },
  {
   "cell_type": "code",
   "execution_count": 76,
   "id": "continued-ethnic",
   "metadata": {},
   "outputs": [
    {
     "name": "stdout",
     "output_type": "stream",
     "text": [
      "Name: Wundt, Wilhelm | Name: PerName | PageRank Centrality: 0.07749802724851465\n",
      "Name: Oken, Lorenz | Name: PerName | PageRank Centrality: 0.028146978668306927\n",
      "Name: Baer, Karl Ernst von | Name: PerName | PageRank Centrality: 0.019040751791885017\n",
      "Name: Cohn, Jonas | Name: PerName | PageRank Centrality: 0.01496615179743833\n",
      "Name: Pirson, André | Name: PerName | PageRank Centrality: 0.014152577093836416\n",
      "Name: Eccles, John C. | Name: PerName | PageRank Centrality: 0.013947577661537536\n",
      "Name: Haller, Albrecht von | Name: PerName | PageRank Centrality: 0.013138540797033306\n",
      "Name: Du Bois- Reymond, Emil Heinrich | Name: PerName | PageRank Centrality: 0.010103140633417208\n",
      "Name: Sömmerring, Samuel Thomas von | Name: PerName | PageRank Centrality: 0.009926079219744307\n",
      "Name: Euler, Leonhard | Name: PerName | PageRank Centrality: 0.008790405208168936\n"
     ]
    }
   ],
   "source": [
    "for i in top_pageranks: \n",
    "    degree = pageranks[i[0]] \n",
    "    print(\"Name:\", G.nodes(data = True)[i[0]][\"label\"], \"| PageRank Centrality:\", i[1])"
   ]
  },
  {
   "cell_type": "markdown",
   "id": "manual-first",
   "metadata": {},
   "source": [
    "## Centrality of Women"
   ]
  },
  {
   "cell_type": "markdown",
   "id": "peripheral-qatar",
   "metadata": {},
   "source": [
    "We can apply another filter to our "
   ]
  },
  {
   "cell_type": "markdown",
   "id": "productive-alexander",
   "metadata": {},
   "source": [
    "# Investigating predefined set of Physiologists"
   ]
  },
  {
   "cell_type": "markdown",
   "id": "elder-league",
   "metadata": {},
   "source": [
    "* Gustav Fritsch (DE-588)115568808\n",
    "* Eduard Hitzig (DE-588)116917423\n",
    "* Hermann Munk (DE-588)117185930\n",
    "* Nathan Zuntz (DE-588)118896202\n",
    "* Friedrich Goltz (DE-588)116764694\n",
    "* Adolf Fick (DE-588)118800000\n",
    "* Jacques Loeb (DE-588)119133628"
   ]
  },
  {
   "cell_type": "code",
   "execution_count": null,
   "id": "diverse-gilbert",
   "metadata": {},
   "outputs": [],
   "source": [
    "physiologists = [\"(DE-588)115568808\", \"(DE-588)116917423\", \"(DE-588)117185930\", \"(DE-588)118896202\", \n",
    "                 \"(DE-588)116764694\", \"(DE-588)118800000\", \"(DE-588)119133628\"]"
   ]
  },
  {
   "cell_type": "markdown",
   "id": "vocational-filling",
   "metadata": {},
   "source": [
    "# Bibliography"
   ]
  },
  {
   "cell_type": "markdown",
   "id": "vanilla-carter",
   "metadata": {},
   "source": [
    "Scifo, E. (2020). Hands-On Graph Analytics with Neo4j: Perform graph processing and visualization techniques using connected data across your enterprise. Birmingham, England: Packt Publishing."
   ]
  }
 ],
 "metadata": {
  "kernelspec": {
   "display_name": "Python 3",
   "language": "python",
   "name": "python3"
  },
  "language_info": {
   "codemirror_mode": {
    "name": "ipython",
    "version": 3
   },
   "file_extension": ".py",
   "mimetype": "text/x-python",
   "name": "python",
   "nbconvert_exporter": "python",
   "pygments_lexer": "ipython3",
   "version": "3.8.10"
  },
  "toc": {
   "base_numbering": 1,
   "nav_menu": {},
   "number_sections": true,
   "sideBar": true,
   "skip_h1_title": false,
   "title_cell": "Table of Contents",
   "title_sidebar": "Contents",
   "toc_cell": false,
   "toc_position": {
    "height": "calc(100% - 180px)",
    "left": "10px",
    "top": "150px",
    "width": "384px"
   },
   "toc_section_display": true,
   "toc_window_display": true
  }
 },
 "nbformat": 4,
 "nbformat_minor": 5
}
