{
 "cells": [
  {
   "cell_type": "code",
   "execution_count": 1,
   "id": "short-chemistry",
   "metadata": {},
   "outputs": [],
   "source": [
    "### Loading Credentials from local file; \n",
    "### this cell is meant to be deleted before publishing\n",
    "import yaml\n",
    "\n",
    "with open(\"../creds.yml\", 'r') as ymlfile:\n",
    "    cfg = yaml.safe_load(ymlfile)\n",
    "\n",
    "uri = cfg[\"sonar_creds\"][\"uri\"]\n",
    "user = cfg[\"sonar_creds\"][\"user\"]\n",
    "password = cfg[\"sonar_creds\"][\"pass\"]"
   ]
  },
  {
   "cell_type": "markdown",
   "id": "placed-capacity",
   "metadata": {},
   "source": [
    "<font size = \"20\"> SoNAR (IDH) - HNA Curriculum </font>\n",
    "\n",
    "<font size = \"5\">Notebook 4:  Example Case - History of Physiology</font>"
   ]
  },
  {
   "cell_type": "markdown",
   "id": "confirmed-domestic",
   "metadata": {},
   "source": [
    "# Defining the Physiology Graph"
   ]
  },
  {
   "cell_type": "markdown",
   "id": "decimal-crown",
   "metadata": {},
   "source": [
    "Search for \"hysiolog\" as substring for Physiology to retrieve every possible string containing.\n"
   ]
  },
  {
   "cell_type": "code",
   "execution_count": 2,
   "id": "curious-ridge",
   "metadata": {},
   "outputs": [
    {
     "data": {
      "text/plain": [
       "[{'term': 'Arbeitsphysiologie'},\n",
       " {'term': 'Neurophysiologie'},\n",
       " {'term': 'Pathophysiologie'},\n",
       " {'term': 'Pflanzenphysiologie'},\n",
       " {'term': 'Physiologie'},\n",
       " {'term': 'Sinnesphysiologie'},\n",
       " {'term': 'Tierphysiologie'},\n",
       " {'term': 'Physiologische Chemie'},\n",
       " {'term': 'Physiologische Psychologie'},\n",
       " {'term': 'Sprachphysiologie'},\n",
       " {'term': 'Sportphysiologie'},\n",
       " {'term': 'Leistungsphysiologie'},\n",
       " {'term': 'Physiologische Psychiatrie'},\n",
       " {'term': 'Elektrophysiologie'},\n",
       " {'term': 'Altersphysiologie'},\n",
       " {'term': 'Bewegungsphysiologie'},\n",
       " {'term': 'Entwicklungsphysiologie'},\n",
       " {'term': 'Ernährungsphysiologie'},\n",
       " {'term': 'Ertragsphysiologie'},\n",
       " {'term': 'Histophysiologie'},\n",
       " {'term': 'Höhenphysiologie'},\n",
       " {'term': 'Nacherntephysiologie'},\n",
       " {'term': 'Physiologische Optik'},\n",
       " {'term': 'Physiologische Uhr'},\n",
       " {'term': 'Psychophysiologische Diagnostik'},\n",
       " {'term': 'Stoffwechselphysiologie'},\n",
       " {'term': 'Vegetative Physiologie'},\n",
       " {'term': 'Vergleichende Neurophysiologie'},\n",
       " {'term': 'Vergleichende Physiologie'},\n",
       " {'term': 'Verhaltensphysiologie'},\n",
       " {'term': 'Physiologe'},\n",
       " {'term': 'Reizphysiologie'},\n",
       " {'term': 'Experimentelle Physiologie'},\n",
       " {'term': 'Zellphysiologie'},\n",
       " {'term': 'Muskelphysiologie'},\n",
       " {'term': 'Physiologin'},\n",
       " {'term': 'Physiologische Akustik'},\n",
       " {'term': 'Tauchphysiologie'},\n",
       " {'term': 'Umweltphysiologie'},\n",
       " {'term': 'Ignaz-L.-Lieben-Preis für Physik, Chemie und Physiologie'},\n",
       " {'term': 'Elektrophysiologische Untersuchung'},\n",
       " {'term': 'Pflanzenphysiologe'},\n",
       " {'term': 'Pflanzenphysiologin'}]"
      ]
     },
     "execution_count": 2,
     "metadata": {},
     "output_type": "execute_result"
    }
   ],
   "source": [
    "from neo4j import GraphDatabase\n",
    "\n",
    "driver = GraphDatabase.driver(uri, auth=(user, password))\n",
    "\n",
    "query = \"\"\"\n",
    "MATCH (t:TopicTerm)\n",
    "WHERE t.Name CONTAINS \"hysiolog\"\n",
    "RETURN DISTINCT(t.Name) as term\n",
    "\"\"\"\n",
    "\n",
    "with driver.session() as session:\n",
    "    all_physiology_terms = session.run(query).data()\n",
    "    \n",
    "all_physiology_terms"
   ]
  },
  {
   "cell_type": "markdown",
   "id": "ready-marine",
   "metadata": {},
   "source": [
    "Let's see whether every topic term also has people connected to them. "
   ]
  },
  {
   "cell_type": "code",
   "execution_count": 3,
   "id": "polar-merit",
   "metadata": {},
   "outputs": [],
   "source": [
    "from helper_functions.helper_fun import to_nx_graph\n",
    "\n",
    "query = \"\"\"\n",
    "MATCH (t:TopicTerm)-[r]-(n:PerName)\n",
    "WHERE t.Name CONTAINS \"hysiolog\"\n",
    "RETURN *\n",
    "\"\"\"\n",
    "\n",
    "driver = GraphDatabase.driver(uri, auth=(user, password))\n",
    "\n",
    "G = to_nx_graph(neo4j_driver = driver, \n",
    "                query = query)"
   ]
  },
  {
   "cell_type": "markdown",
   "id": "international-samoa",
   "metadata": {},
   "source": [
    "Check which topic terms aren't present in query result:"
   ]
  },
  {
   "cell_type": "code",
   "execution_count": 4,
   "id": "whole-haiti",
   "metadata": {},
   "outputs": [
    {
     "data": {
      "text/plain": [
       "array(['Altersphysiologie', 'Bewegungsphysiologie',\n",
       "       'Elektrophysiologische Untersuchung', 'Ertragsphysiologie',\n",
       "       'Experimentelle Physiologie', 'Histophysiologie',\n",
       "       'Ignaz-L.-Lieben-Preis für Physik, Chemie und Physiologie',\n",
       "       'Muskelphysiologie', 'Physiologische Optik', 'Physiologische Uhr',\n",
       "       'Psychophysiologische Diagnostik', 'Reizphysiologie',\n",
       "       'Sprachphysiologie', 'Tauchphysiologie', 'Umweltphysiologie',\n",
       "       'Vergleichende Neurophysiologie', 'Vergleichende Physiologie',\n",
       "       'Zellphysiologie'], dtype='<U57')"
      ]
     },
     "execution_count": 4,
     "metadata": {},
     "output_type": "execute_result"
    }
   ],
   "source": [
    "import numpy as np\n",
    "\n",
    "relevant_topics = []\n",
    "for node in list(G.nodes):\n",
    "    if G.nodes[node][\"type\"] == \"TopicTerm\":\n",
    "        relevant_topics.append((G.nodes[node][\"label\"]))\n",
    "\n",
    "np.setdiff1d([d[\"term\"] for d in all_physiology_terms], relevant_topics)"
   ]
  },
  {
   "cell_type": "markdown",
   "id": "hispanic-semester",
   "metadata": {},
   "source": [
    "## Retrieving the Network"
   ]
  },
  {
   "cell_type": "code",
   "execution_count": 6,
   "id": "first-warrant",
   "metadata": {},
   "outputs": [
    {
     "name": "stdout",
     "output_type": "stream",
     "text": [
      "CPU times: user 1min 1s, sys: 4.52 s, total: 1min 5s\n",
      "Wall time: 3min 45s\n"
     ]
    }
   ],
   "source": [
    "%%time\n",
    "\n",
    "from helper_functions.helper_fun import to_nx_graph\n",
    "\n",
    "query = \"\"\"\n",
    "MATCH (t:TopicTerm)--(n)\n",
    "WHERE t.Name CONTAINS \"hysiolog\" AND (n:PerName)\n",
    "WITH DISTINCT [x in collect(t)+collect(n)|id(x)] as collectedIds \n",
    "MATCH (n)-[rel1:RelationToPerName|SocialRelation|RelationToResource|RelationToGeoName|RelationCorpName|RelationToUniTitle*0..1]-(n2)\n",
    "WHERE id(n) in collectedIds \n",
    "RETURN n, n2, rel1\n",
    "\"\"\"\n",
    "\n",
    "\n",
    "driver = GraphDatabase.driver(uri, auth=(user, password))\n",
    "\n",
    "G = to_nx_graph(neo4j_driver = driver, \n",
    "                query = query)"
   ]
  },
  {
   "cell_type": "code",
   "execution_count": 7,
   "id": "foster-commitment",
   "metadata": {},
   "outputs": [],
   "source": [
    "import pickle\n",
    "\n",
    "filename = 'physiology_graph'\n",
    "outfile = open(filename,'wb')\n",
    "\n",
    "pickle.dump(G,outfile)\n",
    "outfile.close()"
   ]
  },
  {
   "cell_type": "code",
   "execution_count": 3,
   "id": "skilled-stocks",
   "metadata": {},
   "outputs": [],
   "source": [
    "import pickle\n",
    "\n",
    "with open('physiology_graph', 'rb') as f:\n",
    "    G = pickle.load(f)"
   ]
  },
  {
   "cell_type": "markdown",
   "id": "taken-craps",
   "metadata": {},
   "source": [
    "## Descriptive Metrics"
   ]
  },
  {
   "cell_type": "code",
   "execution_count": 8,
   "id": "interesting-watch",
   "metadata": {},
   "outputs": [
    {
     "name": "stdout",
     "output_type": "stream",
     "text": [
      "Number of Nodes:  47732\n",
      "Number of Edges:  56119\n"
     ]
    }
   ],
   "source": [
    "print(\"Number of Nodes: \", G.number_of_nodes())\n",
    "print(\"Number of Edges: \", G.number_of_edges())"
   ]
  },
  {
   "cell_type": "code",
   "execution_count": 9,
   "id": "lovely-harrison",
   "metadata": {},
   "outputs": [
    {
     "name": "stdout",
     "output_type": "stream",
     "text": [
      "Node types in Graph: ['TopicTerm', 'CorpName', 'UniTitle', 'Resource', 'PerName', 'MeetName', 'GeoName']\n",
      "Number of Persons in Graph:  11727\n",
      "Number of Resources and Works in Graph:  34304\n",
      "Number of Corporations in Graph:  1094\n",
      "Number of GeoNames in Graph: 560\n",
      "\n",
      "## Topic Terms in Graph: ## \n",
      "Arbeitsphysiologie\n",
      "Neurophysiologie\n",
      "Pathophysiologie\n",
      "Pflanzenphysiologie\n",
      "Physiologie\n",
      "Sinnesphysiologie\n",
      "Tierphysiologie\n",
      "Physiologische Chemie\n",
      "Physiologische Psychologie\n",
      "Sportphysiologie\n",
      "Leistungsphysiologie\n",
      "Physiologische Psychiatrie\n",
      "Elektrophysiologie\n",
      "Entwicklungsphysiologie\n",
      "Ernährungsphysiologie\n",
      "Höhenphysiologie\n",
      "Nacherntephysiologie\n",
      "Stoffwechselphysiologie\n",
      "Vegetative Physiologie\n",
      "Verhaltensphysiologie\n",
      "Physiologe\n",
      "Physiologin\n",
      "Physiologische Akustik\n",
      "Pflanzenphysiologe\n",
      "Pflanzenphysiologin\n",
      "Bernoulli-Balken\n",
      "Bernoulli-Balken\n",
      "Bathybius haeckelii\n",
      "Bathybius haeckelii\n"
     ]
    }
   ],
   "source": [
    "types_list = list(set([y[\"type\"] for x,y in G.nodes(data=True)]))\n",
    "person_nodes = [x for x,y in G.nodes(data=True) if y['type']==\"PerName\"]\n",
    "resources_and_works_nodes = [x for x,y in G.nodes(data=True) if y['type'] in [\"Resource\", \"UniTitle\"]]\n",
    "corps_nodes = [x for x,y in G.nodes(data=True) if y['type']==\"CorpName\"]\n",
    "geo_nodes = [x for x,y in G.nodes(data=True) if y['type']==\"GeoName\"]\n",
    "topicterm_nodes = [x for x,y in G.nodes(data=True) if y['type']==\"TopicTerm\"]\n",
    "\n",
    "print(\"Node types in Graph:\", types_list)\n",
    "print(\"Number of Persons in Graph: \", len(person_nodes))\n",
    "print(\"Number of Resources and Works in Graph: \", len(resources_and_works_nodes))\n",
    "print(\"Number of Corporations in Graph: \", len(corps_nodes))\n",
    "print(\"Number of GeoNames in Graph:\", len(geo_nodes))\n",
    "print(\"\")\n",
    "print(\"## Topic Terms in Graph: ## \")\n",
    "for node in topicterm_nodes:\n",
    "    print(G.nodes(data=True)[node][\"label\"])"
   ]
  },
  {
   "cell_type": "markdown",
   "id": "brave-pitch",
   "metadata": {},
   "source": [
    "Let's add a color attribute to the nodes based on the node types. This way visualizations of the network will be more informative to us. "
   ]
  },
  {
   "cell_type": "code",
   "execution_count": 10,
   "id": "collected-overview",
   "metadata": {},
   "outputs": [],
   "source": [
    "import networkx as nx\n",
    "type_list = list([y[\"type\"] for x,y in G.nodes(data=True)])\n",
    "\n",
    "color_map = {\"GeoName\": \"green\",\n",
    "             \"CorpName\": \"red\",\n",
    "             \"TopicTerm\": \"yellow\",\n",
    "             \"PerName\": \"blue\",  \n",
    "             \"Resource\": \"purple\", \n",
    "             \"MeetName\": \"orange\", \n",
    "             \"UniTitle\": \"pink\"}\n",
    "\n",
    "# We generate a dictionary again to map the respective type to the correct color\n",
    "color_dict = dict(zip(list(G.nodes), [color_map.get(item, item) for item in type_list]))\n",
    "\n",
    "# And finally we add the color information as a new attribute to the graph object\n",
    "nx.set_node_attributes(G, color_dict, \"color\")"
   ]
  },
  {
   "cell_type": "markdown",
   "id": "anonymous-constitutional",
   "metadata": {},
   "source": [
    "### Check Density and Connectedness of Network"
   ]
  },
  {
   "cell_type": "markdown",
   "id": "unable-export",
   "metadata": {},
   "source": [
    "Since our network is pretty large, it is a bit complicated to investigate the network visually from within this notebook. This is why we start investigating the network with some further descriptive assessments. \n",
    "\n",
    "\n",
    "Let's start with the *density* of the network. The *Network density* measures how many relationships between nodes exist in relation to how many relations are possible. Graph density for an undirected Graph is calculated as follows:\n",
    "\n",
    "\\begin{align}\n",
    "x & = \\frac{m}{n(n-1)/2}\n",
    "\\end{align}\n",
    "\n",
    "$n$ is the number of nodes and $m$ is the number of relationships in the graph. By calculating $n(n-1)/2$ we get the number of possible relationships in the graph. Basically we divide the number of edges by the number of possible edges and so we get the *density*. \n",
    "When every node is connected to every other node in the network, the density is 1. On the other hand, when there are no relationships between any nodes, the density is 0. \n",
    "\n",
    "We calculate the density to see how connected our graph is. \n",
    "\n",
    "The formula for a directed graph is slightly different from the formula presented above. Click [here](https://networkx.org/documentation/stable/reference/generated/networkx.classes.function.density.html?highlight=density) for more details."
   ]
  },
  {
   "cell_type": "code",
   "execution_count": 11,
   "id": "understanding-manufacturer",
   "metadata": {},
   "outputs": [
    {
     "data": {
      "text/plain": [
       "4.926400935949988e-05"
      ]
     },
     "execution_count": 11,
     "metadata": {},
     "output_type": "execute_result"
    }
   ],
   "source": [
    "import networkx as nx\n",
    "\n",
    "nx.density(G)"
   ]
  },
  {
   "cell_type": "markdown",
   "id": "running-comparative",
   "metadata": {},
   "source": [
    "As we can see, the density of our network is very low. This means that the nodes in our network are not very connected to each other. This could mean, that the graph consists of many isolated nodes or many little *components*. \n",
    "\n",
    "Let's at first check whether this assumption is true. To do so, we can assess the *connectivity* of the graph. A graph is considered to be connected, as long as there is a possibility to traverse from every node in the graph to any other node. Or in other words: A graph is disconnected, when it consists of isolated subgraphs, also called *components*.\n",
    "\n",
    "We can use the `is_connected()` method of the networkx library to do the connectivity check. [Here](https://networkx.org/documentation/stable/reference/algorithms/generated/networkx.algorithms.components.is_connected.html#networkx.algorithms.components.is_connected) you can find the documentation of the function. \n",
    "\n"
   ]
  },
  {
   "cell_type": "code",
   "execution_count": 12,
   "id": "secondary-listing",
   "metadata": {},
   "outputs": [
    {
     "data": {
      "text/plain": [
       "False"
      ]
     },
     "execution_count": 12,
     "metadata": {},
     "output_type": "execute_result"
    }
   ],
   "source": [
    "nx.is_connected(G)"
   ]
  },
  {
   "cell_type": "markdown",
   "id": "indoor-statement",
   "metadata": {},
   "source": [
    "Apparently the physiology graph is not fully connected and therefore there are isolated components in the graph. So let's try to understand, what these components are."
   ]
  },
  {
   "cell_type": "markdown",
   "id": "understanding-exception",
   "metadata": {},
   "source": [
    "**Components** \n",
    "\n",
    "Whenever you work with a network taken from the real world, it's quite common that the network is not fully connected. \n",
    "As we just found out, the physiology network also seems to consist of isolated \"islands of nodes\". Let's find out how many components our network has and how big they are. \n",
    "\n",
    "We will use some of the components algorithm the `networkx` library provides. [Here](https://networkx.org/documentation/stable/reference/algorithms/component.html) you can find an overview of all components related algorithms available. "
   ]
  },
  {
   "cell_type": "markdown",
   "id": "bound-morocco",
   "metadata": {},
   "source": [
    "We can use the method `number_connected_components()` to recieve the number of components in our graph."
   ]
  },
  {
   "cell_type": "code",
   "execution_count": 13,
   "id": "crude-purpose",
   "metadata": {},
   "outputs": [
    {
     "data": {
      "text/plain": [
       "687"
      ]
     },
     "execution_count": 13,
     "metadata": {},
     "output_type": "execute_result"
    }
   ],
   "source": [
    "nx.number_connected_components(G)"
   ]
  },
  {
   "cell_type": "markdown",
   "id": "analyzed-enhancement",
   "metadata": {},
   "source": [
    "There are nearly 700 components present in the graph. Let's investigate them further.\n",
    "\n",
    "By using the method `connected_components()` we can get a list containing the nodes present in each of the 685 components.  "
   ]
  },
  {
   "cell_type": "code",
   "execution_count": 14,
   "id": "spanish-thousand",
   "metadata": {},
   "outputs": [
    {
     "name": "stdout",
     "output_type": "stream",
     "text": [
      "number of unique component sizes (number of nodes): 24\n",
      "maximum component length: 45921\n",
      "minimum component length: 1\n"
     ]
    }
   ],
   "source": [
    "# retrieve a list of all components and the associated nodes\n",
    "components = nx.connected_components(G)\n",
    "\n",
    "# now we create a list containg the information about each component size (number of nodes)\n",
    "component_size_list = [len(component) for component in components]\n",
    "\n",
    "# let's print some summary details\n",
    "print(\"number of unique component sizes (number of nodes):\", len(set(component_size_list)))\n",
    "print(\"maximum component length:\", max(set(component_size_list)))\n",
    "print(\"minimum component length:\", min(set(component_size_list)))"
   ]
  },
  {
   "cell_type": "markdown",
   "id": "clinical-webmaster",
   "metadata": {},
   "source": [
    "Alright, as we can see from the output above, there are 24 distinct component sizes. This means that each of the 685 components takes one of 24 different sizes. The sizes of the components have a range from 1 node (a single node without any relationships) to 48175 nodes. \n",
    "\n",
    "Let's check the distribution of the components sizes next."
   ]
  },
  {
   "cell_type": "code",
   "execution_count": 15,
   "id": "appreciated-australian",
   "metadata": {},
   "outputs": [
    {
     "data": {
      "text/plain": [
       "<AxesSubplot:>"
      ]
     },
     "execution_count": 15,
     "metadata": {},
     "output_type": "execute_result"
    },
    {
     "data": {
      "image/png": "[encoded data removed]",
      "text/plain": [
       "<Figure size 432x288 with 1 Axes>"
      ]
     },
     "metadata": {
      "needs_background": "light"
     },
     "output_type": "display_data"
    }
   ],
   "source": [
    "import numpy as np\n",
    "import pandas as pd\n",
    "\n",
    "values, counts = np.unique(component_size_list, return_counts=True)\n",
    "pd.DataFrame(counts, values).plot.bar()"
   ]
  },
  {
   "cell_type": "markdown",
   "id": "ordinary-tolerance",
   "metadata": {},
   "source": [
    "More than 50% of the components in our graph are isolated nodes. There are quite some components with just a few nodes in them. But there is this one huge cluster with 48175 nodes. \n",
    "\n",
    "Let's create a subgraph of the largest component. As we want to explore the network of physiologists it might be most interesting to investigate the largest component and not the smaller ones.\n",
    "\n",
    "We can use the method `subgraph()` to extract the graph of the largest component. We just need to pass in a list of nodes we want to include in the new subgraph. Click [here](https://networkx.org/documentation/stable/reference/classes/generated/networkx.Graph.subgraph.html) for the documentation of the method."
   ]
  },
  {
   "cell_type": "code",
   "execution_count": 16,
   "id": "thick-recommendation",
   "metadata": {},
   "outputs": [
    {
     "name": "stdout",
     "output_type": "stream",
     "text": [
      "45921\n"
     ]
    }
   ],
   "source": [
    "# at first we extract the the largest component\n",
    "\n",
    "components = nx.connected_components(G)\n",
    "largest_component = max([component for component in components], key = len)\n",
    "print(len(largest_component))\n",
    "\n",
    "largest_component_graph = G.subgraph(largest_component)"
   ]
  },
  {
   "cell_type": "markdown",
   "id": "developing-invasion",
   "metadata": {},
   "source": [
    "Now we have our subgraph and we know that is is a connected graph now. Let's check if this assumption is true:"
   ]
  },
  {
   "cell_type": "code",
   "execution_count": 17,
   "id": "amber-shipping",
   "metadata": {},
   "outputs": [
    {
     "data": {
      "text/plain": [
       "True"
      ]
     },
     "execution_count": 17,
     "metadata": {},
     "output_type": "execute_result"
    }
   ],
   "source": [
    "nx.is_connected(largest_component_graph)"
   ]
  },
  {
   "cell_type": "markdown",
   "id": "ultimate-carrier",
   "metadata": {},
   "source": [
    "Perfect, so let's go on investigating this subgraph now."
   ]
  },
  {
   "cell_type": "markdown",
   "id": "indirect-vampire",
   "metadata": {},
   "source": [
    "# Investigating the Persons"
   ]
  },
  {
   "cell_type": "markdown",
   "id": "qualified-nevada",
   "metadata": {},
   "source": [
    "## Centrality Investigation"
   ]
  },
  {
   "cell_type": "markdown",
   "id": "stunning-discovery",
   "metadata": {},
   "source": [
    "At first we are going to investigate the centrality of the physiology network. By assessing the centrality we actually calculate the importance or the role of the nodes in a graph. Centrality metrics are used to identify the most important nodes in a network. Also, these metrics can be helpful to understand group dynamics like credibility, accessibility or flow of information. \n",
    "\n",
    "In this section about investigating the centrality of the physiology network, we won't apply path-based algorithms like betweenness centrality or information centrality, because path based calculations are very costly computational wise. A small overview of centrality metrics you can choose from provides the table below.\n",
    "\n",
    "| Centrality name | Characteristics of a central node|\n",
    "|:----------------|:---------------|\n",
    "|Degree Centrality|Connected to many other nodes|\n",
    "|Eigenvector Centrality|Connected to many other nodes and/or to other high-degree nodes|\n",
    "|PageRank|Connected to many other nodes and connected to other high-degree nodes|\n",
    "|Shortest-path Betweenness Centrality|Lies on many shortest topological paths linking other node pairs|\n",
    "|Shortest-path Closeness|  Low average shortest path length to other nodes in the network|\n",
    "\n",
    "<center>\n",
    "(Oldham at al., 2019)\n",
    "</center>\n",
    "\n",
    "The choice of the best centrality metric for your network or your research question can be rather difficult, since there are quite a lot centrality metrics available. Also, it is still a matter of ongoing research to evaluate the degree of unique information each metric provides compared to the other centrality metrics (Oldham et al., 2019).\n",
    "\n"
   ]
  },
  {
   "cell_type": "markdown",
   "id": "ongoing-guarantee",
   "metadata": {},
   "source": [
    "### Degree Centrality"
   ]
  },
  {
   "cell_type": "markdown",
   "id": "hairy-scottish",
   "metadata": {},
   "source": [
    "Let's start off with the simplest centrality metric - **Degree Centrality**. Degree is defined as the number of incoming and outgoing relationships of a node. The degree Can either be calculated as the sum of relationships or as the fraction of nodes a node is connected to. The latter one normalizes the metric. \n",
    "\n",
    "Mathematically,  degree centrality is defined as $ d_i = \\sum_{j\\ne i}A_{ij} $. \n",
    "\n",
    "where $A_{ij}$ is the adjacency matrix.\n",
    "\n",
    "We can calculate the degree centrality with the `networkx` package by using `degree_centrality()`. Check out the [documentation](https://networkx.org/documentation/stable/reference/algorithms/generated/networkx.algorithms.centrality.degree_centrality.html) for more details.\n"
   ]
  },
  {
   "cell_type": "code",
   "execution_count": 18,
   "id": "gross-gnome",
   "metadata": {},
   "outputs": [],
   "source": [
    "degrees = nx.degree_centrality(largest_component_graph)"
   ]
  },
  {
   "cell_type": "markdown",
   "id": "fuzzy-quantity",
   "metadata": {},
   "source": [
    "The `degrees` object we just created holds a dictionary with all node ids and their respective centrality as fraction.\n",
    "Let's order result from highest to lowest degree."
   ]
  },
  {
   "cell_type": "code",
   "execution_count": 19,
   "id": "falling-irrigation",
   "metadata": {},
   "outputs": [],
   "source": [
    "from operator import itemgetter\n",
    "\n",
    "degrees_sorted = sorted(degrees.items(), key = itemgetter(1), reverse = True)\n",
    "# we apply a filter because we only want to investigate persons \n",
    "degrees_filtered = [item for item in degrees_sorted if item[0] in person_nodes] \n",
    "top_degrees = degrees_filtered[:10]"
   ]
  },
  {
   "cell_type": "markdown",
   "id": "authentic-overhead",
   "metadata": {},
   "source": [
    "Alright, let's check out the top ten physiologists by degree centrality:"
   ]
  },
  {
   "cell_type": "code",
   "execution_count": 20,
   "id": "digital-princess",
   "metadata": {},
   "outputs": [
    {
     "name": "stdout",
     "output_type": "stream",
     "text": [
      "Name: Wundt, Wilhelm | Degree Centrality: 0.16583188153310105\n",
      "Name: Oken, Lorenz | Degree Centrality: 0.05505226480836237\n",
      "Name: Baer, Karl Ernst von | Degree Centrality: 0.05215592334494774\n",
      "Name: Pirson, André | Degree Centrality: 0.04695121951219512\n",
      "Name: Eccles, John C. | Degree Centrality: 0.04213850174216028\n",
      "Name: Haller, Albrecht von | Degree Centrality: 0.03523519163763066\n",
      "Name: Cohn, Jonas | Degree Centrality: 0.02968205574912892\n",
      "Name: Du Bois- Reymond, Emil Heinrich | Degree Centrality: 0.024259581881533102\n",
      "Name: Sömmerring, Samuel Thomas von | Degree Centrality: 0.023083623693379792\n",
      "Name: Helmholtz, Hermann von | Degree Centrality: 0.02219076655052265\n"
     ]
    }
   ],
   "source": [
    "for i in top_degrees: \n",
    "    degree = degrees[i[0]] \n",
    "    print(\"Name:\", largest_component_graph.nodes(data = True)[i[0]][\"label\"], \"| Degree Centrality:\", i[1])"
   ]
  },
  {
   "cell_type": "markdown",
   "id": "crude-thought",
   "metadata": {},
   "source": [
    "The most important physiologist in our network by degree centrality is Wilhelm Wundt. We also can retrieve the total number of incoming and outgoing relationships of Wilhelm Wundt:"
   ]
  },
  {
   "cell_type": "code",
   "execution_count": 21,
   "id": "looking-henry",
   "metadata": {},
   "outputs": [
    {
     "data": {
      "text/plain": [
       "7615"
      ]
     },
     "execution_count": 21,
     "metadata": {},
     "output_type": "execute_result"
    }
   ],
   "source": [
    "largest_component_graph.degree(top_degrees[0][0])"
   ]
  },
  {
   "cell_type": "markdown",
   "id": "weekly-hungary",
   "metadata": {},
   "source": [
    "### Eigenvector Centrality"
   ]
  },
  {
   "cell_type": "markdown",
   "id": "split-bench",
   "metadata": {},
   "source": [
    "The degree centrality we just calculated, only tells us about the quantity of relationships a node owns. A more complex calculation is the **Eigenvector Centrality** which also takes the \"quality\" of a relationship into consideration. The basic idea of the eigenvector centrality is: *It does not only matter how many relationships a node has, but it also matters whether a node has relationships to other high-degree nodes.* \n",
    "\n",
    "The eigenvector centrality is defined as:\n",
    "\n",
    "$ EC_i = \\frac{1}{\\lambda_1}\\sum_j A_{ji}v $\n",
    "\n",
    "where $\\lambda_1$ is the leading eigen*value* of the adjacency matrix $A_{ji}$, and $v$ is the leading eigen*vector* of $A$.\n",
    "\n",
    "The eigenvector centrality can be used to when we want to investigate a node's importance in respect to the importance of it's neighbors. \n",
    "\n",
    "Let's try that out. At first we calculate the eigenvectors with the `eigenvector_centrality_numpy()` function. Click [here](https://networkx.org/documentation/stable/reference/algorithms/generated/networkx.algorithms.centrality.eigenvector_centrality_numpy.html) for more details. "
   ]
  },
  {
   "cell_type": "code",
   "execution_count": 22,
   "id": "spare-paragraph",
   "metadata": {},
   "outputs": [],
   "source": [
    "eigenvectors = nx.eigenvector_centrality_numpy(largest_component_graph)"
   ]
  },
  {
   "cell_type": "markdown",
   "id": "controlled-racing",
   "metadata": {},
   "source": [
    "Again, we sort the values in descending order and print the top ten physiologists by eigenvector centrality: "
   ]
  },
  {
   "cell_type": "code",
   "execution_count": 23,
   "id": "medieval-purchase",
   "metadata": {},
   "outputs": [
    {
     "name": "stdout",
     "output_type": "stream",
     "text": [
      "Name: Wundt, Wilhelm | Eigenvector Centrality: 0.7057079896756637\n",
      "Name: Helmholtz, Hermann von | Eigenvector Centrality: 0.024370598658592625\n",
      "Name: Oken, Lorenz | Eigenvector Centrality: 0.02030453921038477\n",
      "Name: Du Bois- Reymond, Emil Heinrich | Eigenvector Centrality: 0.018596639803144976\n",
      "Name: Cohn, Jonas | Eigenvector Centrality: 0.01705806400518026\n",
      "Name: Müller, Johannes | Eigenvector Centrality: 0.014932812346634558\n",
      "Name: Tschermak-Seysenegg, Armin von | Eigenvector Centrality: 0.014342534150727889\n",
      "Name: Weber, Ernst Heinrich | Eigenvector Centrality: 0.0141333449988061\n",
      "Name: Henle, Jakob | Eigenvector Centrality: 0.01249579835633749\n",
      "Name: Bernstein, Julius | Eigenvector Centrality: 0.0111625642024987\n"
     ]
    }
   ],
   "source": [
    "from operator import itemgetter\n",
    "\n",
    "eigenvectors_sorted = sorted(eigenvectors.items(), key = itemgetter(1), reverse = True)\n",
    "\n",
    "# apply filter to only include persons\n",
    "eigenvectors_filtered = [item for item in eigenvectors_sorted if item[0] in person_nodes]\n",
    "top_eigenvectors = eigenvectors_filtered[:10]\n",
    "\n",
    "for i in top_eigenvectors: \n",
    "    degree = eigenvectors[i[0]] \n",
    "    print(\"Name:\", largest_component_graph.nodes(data = True)[i[0]][\"label\"], \"| Eigenvector Centrality:\", i[1])"
   ]
  },
  {
   "cell_type": "markdown",
   "id": "champion-helena",
   "metadata": {},
   "source": [
    "Apparently, Wilhelm Wundt does not only have the highest degree centrality but also the highest eigenvector centrality. Also, we can see that top ten physiologists by eigenvector differ slightly from the top ten physiologists by degree centrality. This means it matters quite a bit whether you are only interested in the total count of relationships a node has, or if you want to identify those nodes best connected to other meaningful nodes. \n"
   ]
  },
  {
   "cell_type": "markdown",
   "id": "balanced-integral",
   "metadata": {},
   "source": [
    "Since we now identified Wilhelm Wundt as the most important node in our graph, let's extract his ego-network to visually check what importance he plays in the network"
   ]
  },
  {
   "cell_type": "code",
   "execution_count": 24,
   "id": "controversial-speech",
   "metadata": {},
   "outputs": [],
   "source": [
    "from helper_functions.helper_fun import to_nx_graph\n",
    "from pyvis.network import Network\n",
    "\n",
    "# extract the id of Wilhelm Wundt \n",
    "wilhelm_wundt_id = top_eigenvectors[0][0]\n",
    "\n",
    "# get the subgraph of Wilhelm Wundt\n",
    "wilhelm_wundt_ego_net = nx.ego_graph(largest_component_graph, wilhelm_wundt_id)\n",
    "\n",
    "# visualize network\n",
    "nt = Network('500px', '100%', notebook=True)\n",
    "nt.from_nx(wilhelm_wundt_ego_net)\n",
    "nt.set_edge_smooth(\"dynamic\")\n",
    "#nt.toggle_physics(False)\n",
    "nt.force_atlas_2based(gravity = -55)\n",
    "#nt.show('./html_networks/ww_ego.html')"
   ]
  },
  {
   "cell_type": "markdown",
   "id": "loose-surge",
   "metadata": {},
   "source": [
    "### Centrality of Women"
   ]
  },
  {
   "cell_type": "markdown",
   "id": "geographic-reminder",
   "metadata": {},
   "source": [
    "The centrality investigation only brought up men in the list of the top ten physiologists. Let's also find out the top ten women amongst the physiologists. \n",
    "\n",
    "We do not need to adjust the code a lot to calculate the eigenvector centrality for women only, we just need to chnage the filter a little: "
   ]
  },
  {
   "cell_type": "code",
   "execution_count": 25,
   "id": "hybrid-mathematics",
   "metadata": {},
   "outputs": [
    {
     "name": "stdout",
     "output_type": "stream",
     "text": [
      "Name: Wundt, Eleonore | Eigenvector Centrality: 0.008510587343799373\n",
      "Name: Tschermak-Woess, Elisabeth | Eigenvector Centrality: 0.00847085050796523\n",
      "Name: Wundt, Sophie | Eigenvector Centrality: 0.00842860860252471\n",
      "Name: Feddersen, Helga | Eigenvector Centrality: 0.008231970708349433\n",
      "Name: Schmiedel, Clara | Eigenvector Centrality: 0.008231970708349433\n",
      "Name: Wiener, Lina | Eigenvector Centrality: 0.008231970708349431\n",
      "Name: Krüger, Margarete | Eigenvector Centrality: 0.008231970708349431\n",
      "Name: Oettingen, Elsa von | Eigenvector Centrality: 0.008231970708349426\n",
      "Name: Wundt, Marie Friederike | Eigenvector Centrality: 0.008191844692311927\n",
      "Name: Cohnheim, Martha | Eigenvector Centrality: 0.00808263414609114\n"
     ]
    }
   ],
   "source": [
    "# let's filter for women only. Women are coded as \"2\" in the \"Gender\" attribute\n",
    "women_nodes = [x for x,y in largest_component_graph.nodes(data=True) if \"Gender\" in y and y['Gender']==\"2\"]\n",
    "\n",
    "eigenvectors_women = [item for item in eigenvectors_sorted if item[0] in women_nodes]\n",
    "top_eigenvectors_women = eigenvectors_women[:10]\n",
    "\n",
    "for i in top_eigenvectors_women: \n",
    "    degree = eigenvectors[i[0]] \n",
    "    print(\"Name:\", largest_component_graph.nodes(data = True)[i[0]][\"label\"], \"| Eigenvector Centrality:\", i[1])"
   ]
  },
  {
   "cell_type": "code",
   "execution_count": 27,
   "id": "angry-champagne",
   "metadata": {},
   "outputs": [],
   "source": [
    "from helper_functions.helper_fun import to_nx_graph\n",
    "from pyvis.network import Network\n",
    "\n",
    "# extract the id of Wilhelm Wundt \n",
    "eleonore_wundt_id = top_eigenvectors_women[0][0]\n",
    "\n",
    "# get the subgraph of Wilhelm Wundt\n",
    "eleonore_wundt_ego_net = nx.ego_graph(largest_component_graph, eleonore_wundt_id)\n",
    "\n",
    "# visualize network\n",
    "nt = Network('500px', '100%', notebook=True)\n",
    "nt.from_nx(wilhelm_wundt_ego_net)\n",
    "nt.set_edge_smooth(\"dynamic\")\n",
    "nt.force_atlas_2based(gravity = -55)\n",
    "#nt.show('./html_networks/sw_ego.html')"
   ]
  },
  {
   "cell_type": "markdown",
   "id": "metallic-flavor",
   "metadata": {},
   "source": [
    "## Investigating Cliques"
   ]
  },
  {
   "cell_type": "code",
   "execution_count": 28,
   "id": "based-living",
   "metadata": {},
   "outputs": [
    {
     "name": "stdout",
     "output_type": "stream",
     "text": [
      "number of unique clique sizes (number of nodes): 10\n",
      "maximum clique size: 20\n",
      "minimum clique size: 2\n"
     ]
    }
   ],
   "source": [
    "# retrieve a list of all cliques and the associated nodes\n",
    "cliques = nx.find_cliques(largest_component_graph)\n",
    "\n",
    "# now we create a list containg the information about each clique size (number of nodes)\n",
    "clique_size_list = [len(clique) for clique in cliques]\n",
    "\n",
    "# let's print some summary details\n",
    "print(\"number of unique clique sizes (number of nodes):\", len(set(clique_size_list)))\n",
    "print(\"maximum clique size:\", max(set(clique_size_list)))\n",
    "print(\"minimum clique size:\", min(set(clique_size_list)))"
   ]
  },
  {
   "cell_type": "code",
   "execution_count": 29,
   "id": "fuzzy-monaco",
   "metadata": {},
   "outputs": [
    {
     "data": {
      "text/plain": [
       "<AxesSubplot:>"
      ]
     },
     "execution_count": 29,
     "metadata": {},
     "output_type": "execute_result"
    },
    {
     "data": {
      "image/png": "[encoded data removed]",
      "text/plain": [
       "<Figure size 432x288 with 1 Axes>"
      ]
     },
     "metadata": {
      "needs_background": "light"
     },
     "output_type": "display_data"
    }
   ],
   "source": [
    "import numpy as np\n",
    "import pandas as pd\n",
    "\n",
    "values, counts = np.unique(clique_size_list, return_counts=True)\n",
    "pd.DataFrame(counts, values).plot.bar()"
   ]
  },
  {
   "cell_type": "code",
   "execution_count": 31,
   "id": "incomplete-virgin",
   "metadata": {},
   "outputs": [],
   "source": [
    "cliques = nx.find_cliques(largest_component_graph)\n",
    "relevant_cliques = [clique for clique in cliques if len(clique) == 20]\n",
    "clique_nodes = set(n for clique in relevant_cliques for n in clique)\n",
    "cliques_subgraph = G.subgraph(clique_nodes)"
   ]
  },
  {
   "cell_type": "code",
   "execution_count": 32,
   "id": "polar-latex",
   "metadata": {},
   "outputs": [
    {
     "data": {
      "text/html": [
       "\n",
       "        <iframe\n",
       "            width=\"100%\"\n",
       "            height=\"500px\"\n",
       "            src=\"./html_networks/cliques_network.html\"\n",
       "            frameborder=\"0\"\n",
       "            allowfullscreen\n",
       "        ></iframe>\n",
       "        "
      ],
      "text/plain": [
       "<IPython.lib.display.IFrame at 0x7f9e20448040>"
      ]
     },
     "execution_count": 32,
     "metadata": {},
     "output_type": "execute_result"
    }
   ],
   "source": [
    "from helper_functions.helper_fun import to_nx_graph\n",
    "from pyvis.network import Network\n",
    "\n",
    "nt = Network('500px', '100%', notebook=True)\n",
    "nt.from_nx(cliques_subgraph)\n",
    "nt.set_edge_smooth(\"dynamic\")\n",
    "#nt.toggle_physics(False)\n",
    "nt.force_atlas_2based(gravity = -55)\n",
    "nt.show('./html_networks/cliques_network.html')"
   ]
  },
  {
   "cell_type": "markdown",
   "id": "polish-thompson",
   "metadata": {},
   "source": [
    "## Community Detection"
   ]
  },
  {
   "cell_type": "code",
   "execution_count": 33,
   "id": "demonstrated-investing",
   "metadata": {},
   "outputs": [],
   "source": [
    "import community as community_louvain\n",
    "\n",
    "communities = community_louvain.best_partition(largest_component_graph)"
   ]
  },
  {
   "cell_type": "code",
   "execution_count": 34,
   "id": "acting-outreach",
   "metadata": {},
   "outputs": [
    {
     "data": {
      "text/html": [
       "<div>\n",
       "<style scoped>\n",
       "    .dataframe tbody tr th:only-of-type {\n",
       "        vertical-align: middle;\n",
       "    }\n",
       "\n",
       "    .dataframe tbody tr th {\n",
       "        vertical-align: top;\n",
       "    }\n",
       "\n",
       "    .dataframe thead th {\n",
       "        text-align: right;\n",
       "    }\n",
       "</style>\n",
       "<table border=\"1\" class=\"dataframe\">\n",
       "  <thead>\n",
       "    <tr style=\"text-align: right;\">\n",
       "      <th></th>\n",
       "      <th>node</th>\n",
       "    </tr>\n",
       "    <tr>\n",
       "      <th>community_id</th>\n",
       "      <th></th>\n",
       "    </tr>\n",
       "  </thead>\n",
       "  <tbody>\n",
       "    <tr>\n",
       "      <th>53</th>\n",
       "      <td>6913</td>\n",
       "    </tr>\n",
       "    <tr>\n",
       "      <th>21</th>\n",
       "      <td>2635</td>\n",
       "    </tr>\n",
       "    <tr>\n",
       "      <th>1</th>\n",
       "      <td>2361</td>\n",
       "    </tr>\n",
       "    <tr>\n",
       "      <th>63</th>\n",
       "      <td>2264</td>\n",
       "    </tr>\n",
       "    <tr>\n",
       "      <th>52</th>\n",
       "      <td>2224</td>\n",
       "    </tr>\n",
       "    <tr>\n",
       "      <th>...</th>\n",
       "      <td>...</td>\n",
       "    </tr>\n",
       "    <tr>\n",
       "      <th>67</th>\n",
       "      <td>25</td>\n",
       "    </tr>\n",
       "    <tr>\n",
       "      <th>54</th>\n",
       "      <td>20</td>\n",
       "    </tr>\n",
       "    <tr>\n",
       "      <th>6</th>\n",
       "      <td>20</td>\n",
       "    </tr>\n",
       "    <tr>\n",
       "      <th>38</th>\n",
       "      <td>18</td>\n",
       "    </tr>\n",
       "    <tr>\n",
       "      <th>28</th>\n",
       "      <td>9</td>\n",
       "    </tr>\n",
       "  </tbody>\n",
       "</table>\n",
       "<p>68 rows × 1 columns</p>\n",
       "</div>"
      ],
      "text/plain": [
       "              node\n",
       "community_id      \n",
       "53            6913\n",
       "21            2635\n",
       "1             2361\n",
       "63            2264\n",
       "52            2224\n",
       "...            ...\n",
       "67              25\n",
       "54              20\n",
       "6               20\n",
       "38              18\n",
       "28               9\n",
       "\n",
       "[68 rows x 1 columns]"
      ]
     },
     "execution_count": 34,
     "metadata": {},
     "output_type": "execute_result"
    }
   ],
   "source": [
    "communities_df = pd.DataFrame(list(communities.items()), columns = [\"node\", \"community_id\"])\n",
    "\n",
    "communities_df.groupby(\"community_id\").count().sort_values(\"node\", ascending = False)"
   ]
  },
  {
   "cell_type": "code",
   "execution_count": 35,
   "id": "sound-repair",
   "metadata": {},
   "outputs": [],
   "source": [
    "community_selection = 2\n",
    "\n",
    "nodes = {k:v for (k,v) in communities.items() if v == community_selection}.keys()\n",
    "\n",
    "selected_community_graph = largest_component_graph.subgraph(nodes)"
   ]
  },
  {
   "cell_type": "code",
   "execution_count": 36,
   "id": "accomplished-silence",
   "metadata": {},
   "outputs": [
    {
     "data": {
      "text/html": [
       "\n",
       "        <iframe\n",
       "            width=\"100%\"\n",
       "            height=\"500px\"\n",
       "            src=\"./html_networks/community_subgraph.html\"\n",
       "            frameborder=\"0\"\n",
       "            allowfullscreen\n",
       "        ></iframe>\n",
       "        "
      ],
      "text/plain": [
       "<IPython.lib.display.IFrame at 0x7f9e20438700>"
      ]
     },
     "execution_count": 36,
     "metadata": {},
     "output_type": "execute_result"
    }
   ],
   "source": [
    "from helper_functions.helper_fun import to_nx_graph\n",
    "from pyvis.network import Network\n",
    "\n",
    "nt = Network('500px', '100%', notebook=True)\n",
    "nt.from_nx(selected_community_graph)\n",
    "nt.set_edge_smooth(\"dynamic\")\n",
    "#nt.toggle_physics(False)\n",
    "nt.force_atlas_2based(gravity = -55)\n",
    "nt.show('./html_networks/community_subgraph.html')"
   ]
  },
  {
   "cell_type": "markdown",
   "id": "polar-calibration",
   "metadata": {},
   "source": [
    "# Investigating Corporations"
   ]
  },
  {
   "cell_type": "markdown",
   "id": "acting-software",
   "metadata": {},
   "source": [
    "So far we predominantly focused on exploring people in the graph. Let's change our subject now, and investigate the corporations in the network. The steps we need to do are very similar to the ones we applied for the people focused analyses. \n",
    "\n",
    "Let's find out the most central corporations by calculating the eigenvector centrality for them. Afterwards we check for cliques and communities. \n",
    "\n",
    "In chapter [Eigenvector Centrality](#Eigenvector-Centrality) we created the `eigenvectors` object, containing all eigenvector values for the `largest_component_graph` object. We can use this `eigenvectors` again and apply a filter so we only retrieve the top ten corporations by eigenvector values:"
   ]
  },
  {
   "cell_type": "code",
   "execution_count": 37,
   "id": "friendly-dependence",
   "metadata": {},
   "outputs": [
    {
     "name": "stdout",
     "output_type": "stream",
     "text": [
      "Name: J.C.B. Mohr (Paul Siebeck) | Eigenvector Centrality: 0.009439143090247886\n",
      "Name: J. G. Cotta'sche Buchhandlung | Eigenvector Centrality: 0.009372333166243254\n",
      "Name: Universitätsbibliothek Leipzig | Eigenvector Centrality: 0.008833689198570359\n",
      "Name: Gebrüder Paetel | Eigenvector Centrality: 0.008713518645826816\n",
      "Name: Friedr. Vieweg und Sohn | Eigenvector Centrality: 0.008641851340715195\n",
      "Name: Physiologisches Institut | Eigenvector Centrality: 0.008604701747769892\n",
      "Name: Universität Heidelberg | Eigenvector Centrality: 0.008586975531017624\n",
      "Name: Universität Leipzig | Eigenvector Centrality: 0.008514198952477159\n",
      "Name: Philipps-Universität Marburg | Eigenvector Centrality: 0.008504348144672658\n",
      "Name: Preußen | Eigenvector Centrality: 0.008383102909141711\n"
     ]
    }
   ],
   "source": [
    "from operator import itemgetter\n",
    "\n",
    "eigenvectors_sorted = sorted(eigenvectors.items(), key = itemgetter(1), reverse = True)\n",
    "\n",
    "# apply filter to only include persons\n",
    "eigenvectors_filtered = [item for item in eigenvectors_sorted if item[0] in corps_nodes]\n",
    "top_eigenvectors = eigenvectors_filtered[:10]\n",
    "\n",
    "for i in top_eigenvectors: \n",
    "    degree = eigenvectors[i[0]] \n",
    "    print(\"Name:\", largest_component_graph.nodes(data = True)[i[0]][\"label\"], \"| Eigenvector Centrality:\", i[1])"
   ]
  },
  {
   "cell_type": "markdown",
   "id": "thousand-diameter",
   "metadata": {},
   "source": [
    "# Investigating Resources and Works"
   ]
  },
  {
   "cell_type": "code",
   "execution_count": 48,
   "id": "computational-hypothesis",
   "metadata": {},
   "outputs": [
    {
     "name": "stdout",
     "output_type": "stream",
     "text": [
      "Title: Brief von Wilhelm Wundt an Emil Heinrich Du Bois-Reymond | Eigenvector Centrality: 0.00867689378005998\n",
      "Title: Fragmente zur Physiologie. | Eigenvector Centrality: 0.008592842479991944\n",
      "Title: Brief von Ludwig Lange an Max Wundt | Eigenvector Centrality: 0.008559222365873684\n",
      "Title: Brief von Wilhelm Wundt an Leo Koenigsberger | Eigenvector Centrality: 0.008554911327442936\n",
      "Title: Exzerpte und Entwürfe zu Medizin und Physiologie X. | Eigenvector Centrality: 0.00854885342347721\n",
      "Title: Exzerpte und Entwürfe zur Philosophie VIII. | Eigenvector Centrality: 0.008508195790826152\n",
      "Title: Exzerpte und Entwürfe zu verschiedenen Themen IX. | Eigenvector Centrality: 0.00850819579082614\n",
      "Title: Brief von Emil Heinrich Du Bois-Reymond an Wilhelm Wundt | Eigenvector Centrality: 0.008501072207600267\n",
      "Title: Brief von Wilhelm Wundt an Emil Heinrich Du Bois-Reymond | Eigenvector Centrality: 0.00850107220760026\n",
      "Title: Brief von Hugo Münsterberg an Wilhelm Wundt | Eigenvector Centrality: 0.00848939122784871\n"
     ]
    }
   ],
   "source": [
    "from operator import itemgetter\n",
    "\n",
    "eigenvectors_sorted = sorted(eigenvectors.items(), key = itemgetter(1), reverse = True)\n",
    "\n",
    "# apply filter to only include persons\n",
    "eigenvectors_filtered = [item for item in eigenvectors_sorted if item[0] in resources_and_works_nodes]\n",
    "top_eigenvectors = eigenvectors_filtered[:10]\n",
    "\n",
    "for i in top_eigenvectors: \n",
    "    degree = eigenvectors[i[0]] \n",
    "    print(\"Title:\", largest_component_graph.nodes(data = True)[i[0]][\"Title\"], \"| Eigenvector Centrality:\", i[1])"
   ]
  },
  {
   "cell_type": "markdown",
   "id": "current-newsletter",
   "metadata": {},
   "source": [
    "# Investigating predefined set of Physiologists"
   ]
  },
  {
   "cell_type": "markdown",
   "id": "adverse-mitchell",
   "metadata": {},
   "source": [
    "* Gustav Fritsch (DE-588)115568808\n",
    "* Eduard Hitzig (DE-588)116917423\n",
    "* Hermann Munk (DE-588)117185930\n",
    "* Nathan Zuntz (DE-588)118896202\n",
    "* Friedrich Goltz (DE-588)116764694\n",
    "* Adolf Fick (DE-588)118800000\n",
    "* Jacques Loeb (DE-588)119133628"
   ]
  },
  {
   "cell_type": "code",
   "execution_count": null,
   "id": "acceptable-sudan",
   "metadata": {},
   "outputs": [],
   "source": [
    "physiologists = [\"(DE-588)115568808\", \"(DE-588)116917423\", \"(DE-588)117185930\", \"(DE-588)118896202\", \n",
    "                 \"(DE-588)116764694\", \"(DE-588)118800000\", \"(DE-588)119133628\"]"
   ]
  },
  {
   "cell_type": "markdown",
   "id": "sound-mileage",
   "metadata": {},
   "source": [
    "# Bibliography"
   ]
  },
  {
   "cell_type": "markdown",
   "id": "composed-sociology",
   "metadata": {},
   "source": [
    "Scifo, E. (2020). Hands-On Graph Analytics with Neo4j: Perform graph processing and visualization techniques using connected data across your enterprise. Birmingham, England: Packt Publishing.\n",
    "\n",
    "Oldham, S., Fulcher, B., Parkes, L., Arnatkevic̆iūtė, A., Suo, C., & Fornito, A. (2019). Consistency and differences between centrality measures across distinct classes of networks. PLOS ONE, 14(7), e0220061. https://doi.org/10.1371/journal.pone.0220061"
   ]
  },
  {
   "cell_type": "code",
   "execution_count": null,
   "id": "rubber-seattle",
   "metadata": {},
   "outputs": [],
   "source": []
  }
 ],
 "metadata": {
  "kernelspec": {
   "display_name": "Python 3",
   "language": "python",
   "name": "python3"
  },
  "language_info": {
   "codemirror_mode": {
    "name": "ipython",
    "version": 3
   },
   "file_extension": ".py",
   "mimetype": "text/x-python",
   "name": "python",
   "nbconvert_exporter": "python",
   "pygments_lexer": "ipython3",
   "version": "3.8.10"
  },
  "toc": {
   "base_numbering": 1,
   "nav_menu": {},
   "number_sections": true,
   "sideBar": true,
   "skip_h1_title": false,
   "title_cell": "Table of Contents",
   "title_sidebar": "Contents",
   "toc_cell": false,
   "toc_position": {
    "height": "calc(100% - 180px)",
    "left": "10px",
    "top": "150px",
    "width": "384px"
   },
   "toc_section_display": true,
   "toc_window_display": true
  }
 },
 "nbformat": 4,
 "nbformat_minor": 5
}
