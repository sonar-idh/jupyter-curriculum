{
 "cells": [
  {
   "cell_type": "code",
   "execution_count": 33,
   "id": "tropical-mistress",
   "metadata": {},
   "outputs": [],
   "source": [
    "### Loading Credentials from local file; \n",
    "### this cell is meant to be deleted before publishing\n",
    "import yaml\n",
    "\n",
    "with open(\"../creds.yml\", 'r') as ymlfile:\n",
    "    cfg = yaml.safe_load(ymlfile)\n",
    "\n",
    "uri = cfg[\"sonar_creds\"][\"uri\"]\n",
    "user = cfg[\"sonar_creds\"][\"user\"]\n",
    "password = cfg[\"sonar_creds\"][\"pass\"]"
   ]
  },
  {
   "cell_type": "markdown",
   "id": "covered-third",
   "metadata": {},
   "source": [
    "<font size = \"20\"> SoNAR (IDH) - HNA Curriculum </font>\n",
    "\n",
    "<font size = \"5\">Notebook 4:  Example Case - History of Physiology</font>"
   ]
  },
  {
   "cell_type": "markdown",
   "id": "occasional-muslim",
   "metadata": {},
   "source": [
    "# Defining the Physiology Graph"
   ]
  },
  {
   "cell_type": "markdown",
   "id": "popular-strap",
   "metadata": {},
   "source": [
    "Search for \"hysiolog\" as substring for Physiology to retrieve every possible string containing.\n"
   ]
  },
  {
   "cell_type": "code",
   "execution_count": 34,
   "id": "authentic-ceremony",
   "metadata": {},
   "outputs": [
    {
     "data": {
      "text/plain": [
       "[{'term': 'Arbeitsphysiologie'},\n",
       " {'term': 'Neurophysiologie'},\n",
       " {'term': 'Pathophysiologie'},\n",
       " {'term': 'Pflanzenphysiologie'},\n",
       " {'term': 'Physiologie'},\n",
       " {'term': 'Sinnesphysiologie'},\n",
       " {'term': 'Tierphysiologie'},\n",
       " {'term': 'Physiologische Chemie'},\n",
       " {'term': 'Physiologische Psychologie'},\n",
       " {'term': 'Sprachphysiologie'},\n",
       " {'term': 'Sportphysiologie'},\n",
       " {'term': 'Leistungsphysiologie'},\n",
       " {'term': 'Physiologische Psychiatrie'},\n",
       " {'term': 'Elektrophysiologie'},\n",
       " {'term': 'Altersphysiologie'},\n",
       " {'term': 'Bewegungsphysiologie'},\n",
       " {'term': 'Entwicklungsphysiologie'},\n",
       " {'term': 'Ernährungsphysiologie'},\n",
       " {'term': 'Ertragsphysiologie'},\n",
       " {'term': 'Histophysiologie'},\n",
       " {'term': 'Höhenphysiologie'},\n",
       " {'term': 'Nacherntephysiologie'},\n",
       " {'term': 'Physiologische Optik'},\n",
       " {'term': 'Physiologische Uhr'},\n",
       " {'term': 'Psychophysiologische Diagnostik'},\n",
       " {'term': 'Stoffwechselphysiologie'},\n",
       " {'term': 'Vegetative Physiologie'},\n",
       " {'term': 'Vergleichende Neurophysiologie'},\n",
       " {'term': 'Vergleichende Physiologie'},\n",
       " {'term': 'Verhaltensphysiologie'},\n",
       " {'term': 'Physiologe'},\n",
       " {'term': 'Reizphysiologie'},\n",
       " {'term': 'Experimentelle Physiologie'},\n",
       " {'term': 'Zellphysiologie'},\n",
       " {'term': 'Muskelphysiologie'},\n",
       " {'term': 'Physiologin'},\n",
       " {'term': 'Physiologische Akustik'},\n",
       " {'term': 'Tauchphysiologie'},\n",
       " {'term': 'Umweltphysiologie'},\n",
       " {'term': 'Ignaz-L.-Lieben-Preis für Physik, Chemie und Physiologie'},\n",
       " {'term': 'Elektrophysiologische Untersuchung'},\n",
       " {'term': 'Pflanzenphysiologe'},\n",
       " {'term': 'Pflanzenphysiologin'}]"
      ]
     },
     "execution_count": 34,
     "metadata": {},
     "output_type": "execute_result"
    }
   ],
   "source": [
    "from neo4j import GraphDatabase\n",
    "\n",
    "driver = GraphDatabase.driver(uri, auth=(user, password))\n",
    "\n",
    "query = \"\"\"\n",
    "MATCH (t:TopicTerm)\n",
    "WHERE t.Name CONTAINS \"hysiolog\"\n",
    "RETURN DISTINCT(t.Name) as term\n",
    "\"\"\"\n",
    "\n",
    "with driver.session() as session:\n",
    "    all_physiology_terms = session.run(query).data()\n",
    "    \n",
    "all_physiology_terms"
   ]
  },
  {
   "cell_type": "markdown",
   "id": "norman-group",
   "metadata": {},
   "source": [
    "Let's see whether every topic term also has people connected to them. "
   ]
  },
  {
   "cell_type": "code",
   "execution_count": 35,
   "id": "wrong-things",
   "metadata": {},
   "outputs": [],
   "source": [
    "from helper_functions.helper_fun import to_nx_graph\n",
    "\n",
    "query = \"\"\"\n",
    "MATCH (t:TopicTerm)-[r]-(n:PerName)\n",
    "WHERE t.Name CONTAINS \"hysiolog\"\n",
    "RETURN *\n",
    "\"\"\"\n",
    "\n",
    "driver = GraphDatabase.driver(uri, auth=(user, password))\n",
    "\n",
    "G = to_nx_graph(neo4j_driver = driver, \n",
    "                query = query)"
   ]
  },
  {
   "cell_type": "markdown",
   "id": "loving-share",
   "metadata": {},
   "source": [
    "Check which topic terms aren't present in query result:"
   ]
  },
  {
   "cell_type": "code",
   "execution_count": 36,
   "id": "essential-composite",
   "metadata": {},
   "outputs": [
    {
     "data": {
      "text/plain": [
       "array(['Altersphysiologie', 'Bewegungsphysiologie',\n",
       "       'Elektrophysiologische Untersuchung', 'Ertragsphysiologie',\n",
       "       'Experimentelle Physiologie', 'Histophysiologie',\n",
       "       'Ignaz-L.-Lieben-Preis für Physik, Chemie und Physiologie',\n",
       "       'Muskelphysiologie', 'Physiologische Optik', 'Physiologische Uhr',\n",
       "       'Psychophysiologische Diagnostik', 'Reizphysiologie',\n",
       "       'Sprachphysiologie', 'Tauchphysiologie', 'Umweltphysiologie',\n",
       "       'Vergleichende Neurophysiologie', 'Vergleichende Physiologie',\n",
       "       'Zellphysiologie'], dtype='<U57')"
      ]
     },
     "execution_count": 36,
     "metadata": {},
     "output_type": "execute_result"
    }
   ],
   "source": [
    "import numpy as np\n",
    "\n",
    "relevant_topics = []\n",
    "for node in list(G.nodes):\n",
    "    if G.nodes[node][\"type\"] == \"TopicTerm\":\n",
    "        relevant_topics.append((G.nodes[node][\"label\"]))\n",
    "\n",
    "np.setdiff1d([d[\"term\"] for d in all_physiology_terms], relevant_topics)"
   ]
  },
  {
   "cell_type": "markdown",
   "id": "geological-radar",
   "metadata": {},
   "source": [
    "@todo add colors to network below by node type"
   ]
  },
  {
   "cell_type": "code",
   "execution_count": 37,
   "id": "handed-qualification",
   "metadata": {},
   "outputs": [],
   "source": [
    "from helper_functions.helper_fun import to_nx_graph\n",
    "from pyvis.network import Network\n",
    "\n",
    "nt = Network('750px', '100%', notebook=True, directed = True)\n",
    "nt.from_nx(G)\n",
    "nt.set_edge_smooth(\"dynamic\")\n",
    "#nt.show('./html_networks/physiological_net.html')"
   ]
  },
  {
   "cell_type": "markdown",
   "id": "painted-standing",
   "metadata": {},
   "source": [
    "## Retrieving the Network"
   ]
  },
  {
   "cell_type": "code",
   "execution_count": 38,
   "id": "economic-draft",
   "metadata": {},
   "outputs": [
    {
     "name": "stdout",
     "output_type": "stream",
     "text": [
      "CPU times: user 2min 15s, sys: 4.87 s, total: 2min 20s\n",
      "Wall time: 2min 21s\n"
     ]
    }
   ],
   "source": [
    "%%time\n",
    "\n",
    "from helper_functions.helper_fun import to_nx_graph\n",
    "\n",
    "query = \"\"\"\n",
    "MATCH (t:TopicTerm)--(n)\n",
    "WHERE t.Name CONTAINS \"hysiolog\" AND (n:PerName)\n",
    "WITH DISTINCT [x in collect(t)+collect(n)|id(x)] as collectedIds \n",
    "MATCH (n)-[rel1:RelationToPerName|SocialRelation|RelationToResource|RelationToGeoName|RelationCorpName|RelationToUniTitle*0..1]-(n2)\n",
    "WHERE id(n) in collectedIds \n",
    "RETURN n, n2, rel1\n",
    "\"\"\"\n",
    "\n",
    "\n",
    "driver = GraphDatabase.driver(uri, auth=(user, password))\n",
    "\n",
    "G = to_nx_graph(neo4j_driver = driver, \n",
    "                query = query)"
   ]
  },
  {
   "cell_type": "code",
   "execution_count": 39,
   "id": "amino-appointment",
   "metadata": {},
   "outputs": [],
   "source": [
    "import pickle\n",
    "\n",
    "filename = 'physiology_graph'\n",
    "outfile = open(filename,'wb')\n",
    "\n",
    "pickle.dump(G,outfile)\n",
    "outfile.close()"
   ]
  },
  {
   "cell_type": "code",
   "execution_count": 40,
   "id": "deadly-breath",
   "metadata": {},
   "outputs": [],
   "source": [
    "import pickle\n",
    "\n",
    "with open('physiology_graph', 'rb') as f:\n",
    "    G = pickle.load(f)"
   ]
  },
  {
   "cell_type": "markdown",
   "id": "other-measure",
   "metadata": {},
   "source": [
    "## Descriptive Metrics"
   ]
  },
  {
   "cell_type": "code",
   "execution_count": 41,
   "id": "latter-qatar",
   "metadata": {},
   "outputs": [
    {
     "name": "stdout",
     "output_type": "stream",
     "text": [
      "Number of Nodes:  49969\n",
      "Number of Edges:  64974\n"
     ]
    }
   ],
   "source": [
    "print(\"Number of Nodes: \", G.number_of_nodes())\n",
    "print(\"Number of Edges: \", G.number_of_edges())"
   ]
  },
  {
   "cell_type": "code",
   "execution_count": 76,
   "id": "sufficient-popularity",
   "metadata": {},
   "outputs": [
    {
     "name": "stdout",
     "output_type": "stream",
     "text": [
      "Node types in Graph: ['GeoName', 'CorpName', 'TopicTerm', 'PerName', 'Resource', 'MeetName', 'UniTitle']\n",
      "Number of Persons in Graph:  13779\n",
      "Number of Resources and Works in Graph:  34306\n",
      "Number of Corporations in Graph:  1270\n",
      "Number of GeoNames in Graph: 560\n",
      "\n",
      "## Topic Terms in Graph: ## \n",
      "Arbeitsphysiologie\n",
      "Neurophysiologie\n",
      "Pathophysiologie\n",
      "Pflanzenphysiologie\n",
      "Physiologie\n",
      "Sinnesphysiologie\n",
      "Tierphysiologie\n",
      "Physiologische Chemie\n",
      "Physiologische Psychologie\n",
      "Sportphysiologie\n",
      "Leistungsphysiologie\n",
      "Physiologische Psychiatrie\n",
      "Elektrophysiologie\n",
      "Entwicklungsphysiologie\n",
      "Ernährungsphysiologie\n",
      "Höhenphysiologie\n",
      "Nacherntephysiologie\n",
      "Stoffwechselphysiologie\n",
      "Vegetative Physiologie\n",
      "Verhaltensphysiologie\n",
      "Physiologe\n",
      "Physiologin\n",
      "Physiologische Akustik\n",
      "Pflanzenphysiologe\n",
      "Pflanzenphysiologin\n",
      "Bernoulli-Balken\n",
      "Bathybius haeckelii\n"
     ]
    }
   ],
   "source": [
    "types_list = list(set([y[\"type\"] for x,y in G.nodes(data=True)]))\n",
    "person_nodes = [x for x,y in G.nodes(data=True) if y['type']==\"PerName\"]\n",
    "resources_and_works_nodes = [x for x,y in G.nodes(data=True) if y['type'] in [\"Resource\", \"UniTitle\"]]\n",
    "corps_nodes = [x for x,y in G.nodes(data=True) if y['type']==\"CorpName\"]\n",
    "geo_nodes = [x for x,y in G.nodes(data=True) if y['type']==\"GeoName\"]\n",
    "topicterm_nodes = [x for x,y in G.nodes(data=True) if y['type']==\"TopicTerm\"]\n",
    "\n",
    "print(\"Node types in Graph:\", type_list)\n",
    "print(\"Number of Persons in Graph: \", len(person_nodes))\n",
    "print(\"Number of Resources and Works in Graph: \", len(resources_and_works_nodes))\n",
    "print(\"Number of Corporations in Graph: \", len(corps_nodes))\n",
    "print(\"Number of GeoNames in Graph:\", len(geo_nodes))\n",
    "print(\"\")\n",
    "print(\"## Topic Terms in Graph: ## \")\n",
    "for node in topicterm_nodes:\n",
    "    print(G.nodes(data=True)[node][\"label\"])"
   ]
  },
  {
   "cell_type": "markdown",
   "id": "relative-investigation",
   "metadata": {},
   "source": [
    "Let's add a color attribute to the nodes based on the node types. This way visualizations of the network will be more informative to us. "
   ]
  },
  {
   "cell_type": "code",
   "execution_count": 115,
   "id": "precise-dating",
   "metadata": {},
   "outputs": [],
   "source": [
    "type_list = list([y[\"type\"] for x,y in G.nodes(data=True)])\n",
    "\n",
    "color_map = {\"GeoName\": \"green\",\n",
    "             \"CorpName\": \"red\",\n",
    "             \"TopicTerm\": \"yellow\",\n",
    "             \"PerName\": \"blue\",  \n",
    "             \"Resource\": \"purple\", \n",
    "             \"MeetName\": \"orange\", \n",
    "             \"UniTitle\": \"pink\"}\n",
    "\n",
    "# We generate a dictionary again to map the respective type to the correct color\n",
    "color_dict = dict(zip(list(G.nodes), [color_map.get(item, item) for item in type_list]))\n",
    "\n",
    "# And finally we add the color information as a new attribute to the graph object\n",
    "nx.set_node_attributes(G, color_dict, \"color\")"
   ]
  },
  {
   "cell_type": "markdown",
   "id": "simple-madison",
   "metadata": {},
   "source": [
    "### Check Density and Connectedness of Network"
   ]
  },
  {
   "cell_type": "markdown",
   "id": "mighty-winning",
   "metadata": {},
   "source": [
    "Since our network is pretty large, it is a bit complicated to investigate the network visually from within this notebook. This is why we start investigating the network with some further descriptive assessments. \n",
    "\n",
    "\n",
    "Let's start with the *density* of the network. The *Network density* measures how many relationships between nodes exist in relation to how many relations are possible. Graph density for an undirected Graph is calculated as follows:\n",
    "\n",
    "\\begin{align}\n",
    "x & = \\frac{m}{n(n-1)/2}\n",
    "\\end{align}\n",
    "\n",
    "$n$ is the number of nodes and $m$ is the number of relationships in the graph. By calculating $n(n-1)/2$ we get the number of possible relationships in the graph. Basically we divide the number of edges by the number of possible edges and so we get the *density*. \n",
    "When every node is connected to every other node in the network, the density is 1. On the other hand, when there are no relationships between any nodes, the density is 0. \n",
    "\n",
    "We calculate the density to see how connected our graph is. \n",
    "\n",
    "The formula for a directed graph is slightly different from the formula presented above. Click [here](https://networkx.org/documentation/stable/reference/generated/networkx.classes.function.density.html?highlight=density) for more details."
   ]
  },
  {
   "cell_type": "code",
   "execution_count": 79,
   "id": "underlying-requirement",
   "metadata": {},
   "outputs": [
    {
     "data": {
      "text/plain": [
       "5.204475574087443e-05"
      ]
     },
     "execution_count": 79,
     "metadata": {},
     "output_type": "execute_result"
    }
   ],
   "source": [
    "import networkx as nx\n",
    "\n",
    "nx.density(G)"
   ]
  },
  {
   "cell_type": "markdown",
   "id": "cellular-melbourne",
   "metadata": {},
   "source": [
    "As we can see, the density of our network is very low. This means that the nodes in our network are not very connected to each other. This could mean, that the graph consists of many isolated nodes or many little *components*. \n",
    "\n",
    "Let's at first check whether this assumption is true. To do so, we can assess the *connectivity* of the graph. A graph is considered to be connected, as long as there is a possibility to traverse from every node in the graph to any other node. Or in other words: A graph is disconnected, when it consists of isolated subgraphs, also called *components*.\n",
    "\n",
    "We can use the `is_connected()` method of the networkx library to do the connectivity check. [Here](https://networkx.org/documentation/stable/reference/algorithms/generated/networkx.algorithms.components.is_connected.html#networkx.algorithms.components.is_connected) you can find the documentation of the function. \n",
    "\n"
   ]
  },
  {
   "cell_type": "code",
   "execution_count": 80,
   "id": "vocational-graduate",
   "metadata": {},
   "outputs": [
    {
     "data": {
      "text/plain": [
       "False"
      ]
     },
     "execution_count": 80,
     "metadata": {},
     "output_type": "execute_result"
    }
   ],
   "source": [
    "nx.is_connected(G)"
   ]
  },
  {
   "cell_type": "markdown",
   "id": "informational-agent",
   "metadata": {},
   "source": [
    "Apparently the physiology graph is not fully connected and therefore there are isolated components in the graph. So let's try to understand, what these components are."
   ]
  },
  {
   "cell_type": "markdown",
   "id": "patent-humanity",
   "metadata": {},
   "source": [
    "**Components** \n",
    "\n",
    "Whenever you work with a network taken from the real world, it's quite common that the network is not fully connected. \n",
    "As we just found out, the physiology network also seems to consist of isolated \"islands of nodes\". Let's find out how many components our network has and how big they are. \n",
    "\n",
    "We will use some of the components algorithm the `networkx` library provides. [Here](https://networkx.org/documentation/stable/reference/algorithms/component.html) you can find an overview of all components related algorithms available. "
   ]
  },
  {
   "cell_type": "markdown",
   "id": "responsible-temple",
   "metadata": {},
   "source": [
    "We can use the method `number_connected_components()` to recieve the number of components in our graph."
   ]
  },
  {
   "cell_type": "code",
   "execution_count": 81,
   "id": "whole-opportunity",
   "metadata": {},
   "outputs": [
    {
     "data": {
      "text/plain": [
       "685"
      ]
     },
     "execution_count": 81,
     "metadata": {},
     "output_type": "execute_result"
    }
   ],
   "source": [
    "nx.number_connected_components(G)"
   ]
  },
  {
   "cell_type": "markdown",
   "id": "registered-twins",
   "metadata": {},
   "source": [
    "There are nearly 700 components present in the graph. Let's investigate them further.\n",
    "\n",
    "By using the method `connected_components()` we can get a list containing the nodes present in each of the 685 components.  "
   ]
  },
  {
   "cell_type": "code",
   "execution_count": 118,
   "id": "rough-transformation",
   "metadata": {},
   "outputs": [
    {
     "name": "stdout",
     "output_type": "stream",
     "text": [
      "number of unique component sizes (number of nodes): 24\n",
      "maximum component length: 48175\n",
      "minimum component length: 1\n"
     ]
    }
   ],
   "source": [
    "# retrieve a list of all components and the associated nodes\n",
    "components = nx.connected_components(G)\n",
    "\n",
    "# now we create a list containg the information about each component size (number of nodes)\n",
    "component_size_list = [len(component) for component in components]\n",
    "\n",
    "# let's print some summary details\n",
    "print(\"number of unique component sizes (number of nodes):\", len(set(component_size_list)))\n",
    "print(\"maximum component length:\", max(set(component_size_list)))\n",
    "print(\"minimum component length:\", min(set(component_size_list)))"
   ]
  },
  {
   "cell_type": "markdown",
   "id": "ahead-season",
   "metadata": {},
   "source": [
    "Alright, as we can see from the output above, there are 24 distinct component sizes. This means that each of the 685 components takes one of 24 different sizes. The sizes of the components have a range from 1 node (a single node without any relationships) to 48175 nodes. \n",
    "\n",
    "Let's check the distribution of the components sizes next."
   ]
  },
  {
   "cell_type": "code",
   "execution_count": 119,
   "id": "disciplinary-brooklyn",
   "metadata": {},
   "outputs": [
    {
     "data": {
      "text/plain": [
       "<AxesSubplot:>"
      ]
     },
     "execution_count": 119,
     "metadata": {},
     "output_type": "execute_result"
    },
    {
     "data": {
      "image/png": "[encoded data removed]",
      "text/plain": [
       "<Figure size 432x288 with 1 Axes>"
      ]
     },
     "metadata": {
      "needs_background": "light"
     },
     "output_type": "display_data"
    }
   ],
   "source": [
    "import numpy as np\n",
    "import pandas as pd\n",
    "\n",
    "values, counts = np.unique(component_size_list, return_counts=True)\n",
    "pd.DataFrame(counts, values).plot.bar()"
   ]
  },
  {
   "cell_type": "markdown",
   "id": "vital-plant",
   "metadata": {},
   "source": [
    "More than 50% of the components in our graph are isolated nodes. There are quite some components with just a few nodes in them. But there is this one huge cluster with 48175 nodes. \n",
    "\n",
    "Let's create a subgraph of the largest component. As we want to explore the network of physiologists it might be most interesting to investigate the largest component and not the smaller ones.\n",
    "\n",
    "We can use the method `subgraph()` to extract the graph of the largest component. We just need to pass in a list of nodes we want to include in the new subgraph. Click [here](https://networkx.org/documentation/stable/reference/classes/generated/networkx.Graph.subgraph.html) for the documentation of the method."
   ]
  },
  {
   "cell_type": "code",
   "execution_count": 120,
   "id": "studied-messaging",
   "metadata": {},
   "outputs": [
    {
     "name": "stdout",
     "output_type": "stream",
     "text": [
      "48175\n"
     ]
    }
   ],
   "source": [
    "# at first we extract the the largest component\n",
    "\n",
    "components = nx.connected_components(G)\n",
    "largest_component = max([component for component in components], key = len)\n",
    "print(len(largest_component))\n",
    "\n",
    "largest_component_graph = G.subgraph(largest_component)"
   ]
  },
  {
   "cell_type": "markdown",
   "id": "upset-court",
   "metadata": {},
   "source": [
    "Now we have our subgraph and we know that is is a connected graph now. Let's check if this assumption is true:"
   ]
  },
  {
   "cell_type": "code",
   "execution_count": 93,
   "id": "pressing-marathon",
   "metadata": {},
   "outputs": [
    {
     "data": {
      "text/plain": [
       "True"
      ]
     },
     "execution_count": 93,
     "metadata": {},
     "output_type": "execute_result"
    }
   ],
   "source": [
    "nx.is_connected(largest_component_graph)"
   ]
  },
  {
   "cell_type": "markdown",
   "id": "public-bathroom",
   "metadata": {},
   "source": [
    "Perfect, so let's go on investigating this subgraph now."
   ]
  },
  {
   "cell_type": "markdown",
   "id": "focal-football",
   "metadata": {},
   "source": [
    "# Investigating the Persons"
   ]
  },
  {
   "cell_type": "markdown",
   "id": "incident-immigration",
   "metadata": {},
   "source": [
    "## Centrality Investigation"
   ]
  },
  {
   "cell_type": "markdown",
   "id": "comprehensive-plate",
   "metadata": {},
   "source": [
    "At first we are going to investigate the centrality of the physiology network. By assessing the centrality we actually calculate the importance of the nodes. \n",
    "\n",
    " "
   ]
  },
  {
   "cell_type": "markdown",
   "id": "fancy-sampling",
   "metadata": {},
   "source": [
    "### Degree Centrality"
   ]
  },
  {
   "cell_type": "code",
   "execution_count": 95,
   "id": "honey-maximum",
   "metadata": {},
   "outputs": [],
   "source": [
    "degrees = nx.degree_centrality(largest_component_graph)"
   ]
  },
  {
   "cell_type": "code",
   "execution_count": 96,
   "id": "little-mailman",
   "metadata": {},
   "outputs": [],
   "source": [
    "from operator import itemgetter\n",
    "\n",
    "degrees_sorted = sorted(degrees.items(), key = itemgetter(1), reverse = True)\n",
    "degrees_filtered = [item for item in degrees_sorted if item[0] in person_nodes]\n",
    "top_degrees = degrees_filtered[:10]"
   ]
  },
  {
   "cell_type": "code",
   "execution_count": 97,
   "id": "convinced-benjamin",
   "metadata": {},
   "outputs": [
    {
     "name": "stdout",
     "output_type": "stream",
     "text": [
      "Name: Wundt, Wilhelm | Degree Centrality: 0.17951592145140532\n",
      "Name: Oken, Lorenz | Degree Centrality: 0.05432390916261884\n",
      "Name: Baer, Karl Ernst von | Degree Centrality: 0.05160459999169676\n",
      "Name: Pirson, André | Degree Centrality: 0.04523186781251297\n",
      "Name: Eccles, John C. | Degree Centrality: 0.04276165566488147\n",
      "Name: Haller, Albrecht von | Degree Centrality: 0.03686635944700461\n",
      "Name: Cohn, Jonas | Degree Centrality: 0.0300369493917881\n",
      "Name: Du Bois- Reymond, Emil Heinrich | Degree Centrality: 0.024619089135218167\n",
      "Name: Euler, Leonhard | Degree Centrality: 0.024598331049943953\n",
      "Name: Helmholtz, Hermann von | Degree Centrality: 0.024515298708847093\n"
     ]
    }
   ],
   "source": [
    "for i in top_degrees: \n",
    "    degree = degrees[i[0]] \n",
    "    print(\"Name:\", largest_component_graph.nodes(data = True)[i[0]][\"label\"], \"| Degree Centrality:\", i[1])"
   ]
  },
  {
   "cell_type": "code",
   "execution_count": 49,
   "id": "ongoing-sellers",
   "metadata": {},
   "outputs": [
    {
     "data": {
      "text/plain": [
       "8648"
      ]
     },
     "execution_count": 49,
     "metadata": {},
     "output_type": "execute_result"
    }
   ],
   "source": [
    "largest_component_graph.degree(top_degrees[0][0])"
   ]
  },
  {
   "cell_type": "markdown",
   "id": "published-continent",
   "metadata": {},
   "source": [
    "### Eigenvector Centrality"
   ]
  },
  {
   "cell_type": "code",
   "execution_count": 50,
   "id": "conservative-healing",
   "metadata": {},
   "outputs": [],
   "source": [
    "eigenvectors = nx.eigenvector_centrality_numpy(largest_component_graph)"
   ]
  },
  {
   "cell_type": "code",
   "execution_count": 51,
   "id": "toxic-homeless",
   "metadata": {},
   "outputs": [],
   "source": [
    "from operator import itemgetter\n",
    "\n",
    "eigenvectors_sorted = sorted(eigenvectors.items(), key = itemgetter(1), reverse = True)\n",
    "eigenvectors_filtered = [item for item in eigenvectors_sorted if item[0] in person_nodes]\n",
    "top_eigenvectors = eigenvectors_filtered[:10]"
   ]
  },
  {
   "cell_type": "code",
   "execution_count": 52,
   "id": "heard-france",
   "metadata": {},
   "outputs": [
    {
     "name": "stdout",
     "output_type": "stream",
     "text": [
      "Name: Wundt, Wilhelm | Eigenvector Centrality: 0.7051314322504603\n",
      "Name: Helmholtz, Hermann von | Eigenvector Centrality: 0.040611934429522996\n",
      "Name: Du Bois- Reymond, Emil Heinrich | Eigenvector Centrality: 0.02564805285503684\n",
      "Name: Lotze, Hermann | Eigenvector Centrality: 0.024399719180380978\n",
      "Name: Cohn, Jonas | Eigenvector Centrality: 0.021747254210137745\n",
      "Name: Oken, Lorenz | Eigenvector Centrality: 0.019706973925948886\n",
      "Name: Weber, Ernst Heinrich | Eigenvector Centrality: 0.016869098256312033\n",
      "Name: Haller, Albrecht von | Eigenvector Centrality: 0.0165399007601484\n",
      "Name: Müller, Johannes | Eigenvector Centrality: 0.016263981426262217\n",
      "Name: Preyer, William T. | Eigenvector Centrality: 0.01435665781945855\n"
     ]
    }
   ],
   "source": [
    "for i in top_eigenvectors: \n",
    "    degree = eigenvectors[i[0]] \n",
    "    print(\"Name:\", largest_component_graph.nodes(data = True)[i[0]][\"label\"], \"| Eigenvector Centrality:\", i[1])"
   ]
  },
  {
   "cell_type": "markdown",
   "id": "alpine-cartoon",
   "metadata": {},
   "source": [
    "### PageRank"
   ]
  },
  {
   "cell_type": "code",
   "execution_count": 32,
   "id": "rental-government",
   "metadata": {},
   "outputs": [],
   "source": [
    "pageranks = nx.pagerank(largest_component_graph)"
   ]
  },
  {
   "cell_type": "code",
   "execution_count": 33,
   "id": "robust-placement",
   "metadata": {},
   "outputs": [],
   "source": [
    "from operator import itemgetter\n",
    "\n",
    "pageranks_sorted = sorted(pageranks.items(), key = itemgetter(1), reverse = True)\n",
    "pageranks_filtered = [item for item in pageranks_sorted if item[0] in person_nodes]\n",
    "top_pageranks = pageranks_filtered[:10]"
   ]
  },
  {
   "cell_type": "code",
   "execution_count": 34,
   "id": "graduate-start",
   "metadata": {},
   "outputs": [
    {
     "name": "stdout",
     "output_type": "stream",
     "text": [
      "id:  2925003 Name: Wundt, Wilhelm | PageRank Centrality: 0.07322503088959763\n",
      "id:  2920435 Name: Oken, Lorenz | PageRank Centrality: 0.022486114985672583\n",
      "id:  2912081 Name: Baer, Karl Ernst von | PageRank Centrality: 0.020837094436932282\n",
      "id:  2895349 Name: Pirson, André | PageRank Centrality: 0.01812888645338315\n",
      "id:  2915992 Name: Haller, Albrecht von | PageRank Centrality: 0.015014881758535388\n",
      "id:  2928379 Name: Cohn, Jonas | PageRank Centrality: 0.012814816928099465\n",
      "id:  2946338 Name: Eccles, John C. | PageRank Centrality: 0.010695691527821157\n",
      "id:  2914627 Name: Euler, Leonhard | PageRank Centrality: 0.01051764882987141\n",
      "id:  2914257 Name: Du Bois- Reymond, Emil Heinrich | PageRank Centrality: 0.009388386350686334\n",
      "id:  2941800 Name: Sömmerring, Samuel Thomas von | PageRank Centrality: 0.009027728792718077\n"
     ]
    }
   ],
   "source": [
    "for i in top_pageranks: \n",
    "    degree = pageranks[i[0]] \n",
    "    print(\"id: \", i[0], \"Name:\", largest_component_graph.nodes(data = True)[i[0]][\"label\"], \"| PageRank Centrality:\", i[1])"
   ]
  },
  {
   "cell_type": "markdown",
   "id": "restricted-deviation",
   "metadata": {},
   "source": [
    "### Centrality of Women"
   ]
  },
  {
   "cell_type": "markdown",
   "id": "assumed-tracker",
   "metadata": {},
   "source": [
    "We can apply another filter to our "
   ]
  },
  {
   "cell_type": "markdown",
   "id": "lonely-intranet",
   "metadata": {},
   "source": [
    "## Investigating Cliques"
   ]
  },
  {
   "cell_type": "code",
   "execution_count": 121,
   "id": "democratic-diagram",
   "metadata": {},
   "outputs": [
    {
     "name": "stdout",
     "output_type": "stream",
     "text": [
      "number of unique clique sizes (number of nodes): 21\n",
      "maximum clique size: 27\n",
      "minimum clique size: 2\n"
     ]
    }
   ],
   "source": [
    "# retrieve a list of all cliques and the associated nodes\n",
    "cliques = nx.find_cliques(largest_component_graph)\n",
    "\n",
    "# now we create a list containg the information about each clique size (number of nodes)\n",
    "clique_size_list = [len(clique) for clique in cliques]\n",
    "\n",
    "# let's print some summary details\n",
    "print(\"number of unique clique sizes (number of nodes):\", len(set(clique_size_list)))\n",
    "print(\"maximum clique size:\", max(set(clique_size_list)))\n",
    "print(\"minimum clique size:\", min(set(clique_size_list)))"
   ]
  },
  {
   "cell_type": "code",
   "execution_count": 122,
   "id": "failing-clarity",
   "metadata": {},
   "outputs": [
    {
     "data": {
      "text/plain": [
       "<AxesSubplot:>"
      ]
     },
     "execution_count": 122,
     "metadata": {},
     "output_type": "execute_result"
    },
    {
     "data": {
      "image/png": "[encoded data removed]",
      "text/plain": [
       "<Figure size 432x288 with 1 Axes>"
      ]
     },
     "metadata": {
      "needs_background": "light"
     },
     "output_type": "display_data"
    }
   ],
   "source": [
    "import numpy as np\n",
    "import pandas as pd\n",
    "\n",
    "values, counts = np.unique(clique_size_list, return_counts=True)\n",
    "pd.DataFrame(counts, values).plot.bar()"
   ]
  },
  {
   "cell_type": "code",
   "execution_count": 123,
   "id": "coated-colon",
   "metadata": {},
   "outputs": [],
   "source": [
    "cliques = nx.find_cliques(largest_component_graph)\n",
    "relevant_cliques = [clique for clique in cliques if len(clique) >=10]\n",
    "clique_nodes = set(n for clique in relevant_cliques for n in clique)\n",
    "cliques_subgraph = G.subgraph(clique_nodes)"
   ]
  },
  {
   "cell_type": "code",
   "execution_count": 124,
   "id": "varying-faculty",
   "metadata": {},
   "outputs": [
    {
     "data": {
      "text/html": [
       "\n",
       "        <iframe\n",
       "            width=\"100%\"\n",
       "            height=\"500px\"\n",
       "            src=\"./html_networks/cliques_network.html\"\n",
       "            frameborder=\"0\"\n",
       "            allowfullscreen\n",
       "        ></iframe>\n",
       "        "
      ],
      "text/plain": [
       "<IPython.lib.display.IFrame at 0x7f4e338c4c10>"
      ]
     },
     "execution_count": 124,
     "metadata": {},
     "output_type": "execute_result"
    }
   ],
   "source": [
    "from helper_functions.helper_fun import to_nx_graph\n",
    "from pyvis.network import Network\n",
    "\n",
    "nt = Network('500px', '100%', notebook=True)\n",
    "nt.from_nx(cliques_subgraph)\n",
    "nt.set_edge_smooth(\"dynamic\")\n",
    "#nt.toggle_physics(False)\n",
    "nt.force_atlas_2based(gravity = -55)\n",
    "nt.show('./html_networks/cliques_network.html')"
   ]
  },
  {
   "cell_type": "markdown",
   "id": "infectious-simon",
   "metadata": {},
   "source": [
    "## Community Detection"
   ]
  },
  {
   "cell_type": "code",
   "execution_count": 70,
   "id": "registered-eight",
   "metadata": {},
   "outputs": [
    {
     "data": {
      "text/plain": [
       "{5046970: 0,\n",
       " 1498320: 0,\n",
       " 1497822: 0,\n",
       " 14948439: 0,\n",
       " 22459300: 0,\n",
       " 5046966: 0,\n",
       " 23581357: 0,\n",
       " 23654879: 0,\n",
       " 23807140: 0,\n",
       " 26106203: 0,\n",
       " 1144409: 0,\n",
       " 26582559: 0,\n",
       " 27648652: 0,\n",
       " 29488170: 0,\n",
       " 42308821: 0,\n",
       " 2638684: 1,\n",
       " 11618702: 1,\n",
       " 11618344: 1,\n",
       " 11617864: 1,\n",
       " 11618781: 1,\n",
       " 11617913: 1,\n",
       " 11618707: 1,\n",
       " 11617912: 1,\n",
       " 11618710: 1,\n",
       " 11618793: 1,\n",
       " 11618511: 1,\n",
       " 11618531: 1,\n",
       " 11618782: 1,\n",
       " 11617942: 1,\n",
       " 11617865: 1,\n",
       " 11618887: 1,\n",
       " 11617914: 1,\n",
       " 11618708: 1,\n",
       " 11618532: 1,\n",
       " 11617885: 1,\n",
       " 11617878: 1,\n",
       " 11618626: 1,\n",
       " 11617930: 1,\n",
       " 11617863: 1,\n",
       " 11618534: 1,\n",
       " 11617941: 1,\n",
       " 11617911: 1,\n",
       " 11617884: 1,\n",
       " 11618373: 1,\n",
       " 14615288: 1,\n",
       " 14829033: 1,\n",
       " 16885946: 1,\n",
       " 38775335: 1,\n",
       " 38776843: 1,\n",
       " 5248332: 1,\n",
       " 2942960: 1,\n",
       " 89154: 1,\n",
       " 2041899: 1,\n",
       " 6296338: 1,\n",
       " 5176002: 1,\n",
       " 5175262: 1,\n",
       " 2946338: 1,\n",
       " 2922833: 1,\n",
       " 2625027: 1,\n",
       " 5175185: 1,\n",
       " 3147114: 1,\n",
       " 5175248: 1,\n",
       " 5181184: 1,\n",
       " 14562: 1,\n",
       " 4240702: 1,\n",
       " 3389912: 1,\n",
       " 5230419: 1,\n",
       " 5181352: 1,\n",
       " 5239552: 1,\n",
       " 5181195: 1,\n",
       " 63720: 1,\n",
       " 5201437: 1,\n",
       " 3674325: 1,\n",
       " 6240293: 1,\n",
       " 2176338: 1,\n",
       " 5187367: 1,\n",
       " 3823515: 1,\n",
       " 5230455: 1,\n",
       " 5268540: 1,\n",
       " 3104142: 1,\n",
       " 59318: 1,\n",
       " 5247836: 1,\n",
       " 2935558: 1,\n",
       " 3803078: 1,\n",
       " 3316652: 1,\n",
       " 4902055: 1,\n",
       " 55963: 1,\n",
       " 5185043: 1,\n",
       " 5175496: 1,\n",
       " 157446: 1,\n",
       " 5184661: 1,\n",
       " 1827305: 1,\n",
       " 92157: 1,\n",
       " 5175255: 1,\n",
       " 5250277: 1,\n",
       " 99148: 1,\n",
       " 3260747: 1,\n",
       " 5171419: 1,\n",
       " 5249058: 1,\n",
       " 3145348: 1,\n",
       " 3340: 1,\n",
       " 5185296: 1,\n",
       " 5171411: 1,\n",
       " 249785: 1,\n",
       " 5249855: 1,\n",
       " 3092356: 1,\n",
       " 12953: 1,\n",
       " 5206819: 1,\n",
       " 12766: 1,\n",
       " 91648: 1,\n",
       " 4493162: 1,\n",
       " 3160517: 1,\n",
       " 5194450: 1,\n",
       " 2895723: 1,\n",
       " 3255046: 1,\n",
       " 5239727: 1,\n",
       " 5175209: 1,\n",
       " 3550682: 1,\n",
       " 5186053: 1,\n",
       " 2109934: 1,\n",
       " 5184673: 1,\n",
       " 44359: 1,\n",
       " 3714665: 1,\n",
       " 3609497: 1,\n",
       " 5185380: 1,\n",
       " 2969144: 1,\n",
       " 3301764: 1,\n",
       " 5185519: 1,\n",
       " 4012838: 1,\n",
       " 5187391: 1,\n",
       " 1826606: 1,\n",
       " 5176048: 1,\n",
       " 2895765: 1,\n",
       " 13731: 1,\n",
       " 38020: 1,\n",
       " 5185917: 1,\n",
       " 3605436: 1,\n",
       " 5175261: 1,\n",
       " 5249533: 1,\n",
       " 5241014: 1,\n",
       " 3087993: 1,\n",
       " 87837: 1,\n",
       " 5186088: 1,\n",
       " 5223129: 1,\n",
       " 5239691: 1,\n",
       " 4600802: 1,\n",
       " 5181331: 1,\n",
       " 2921044: 1,\n",
       " 3574285: 1,\n",
       " 2925166: 1,\n",
       " 5185052: 1,\n",
       " 5185940: 1,\n",
       " 3611799: 1,\n",
       " 3946823: 1,\n",
       " 5175664: 1,\n",
       " 2752903: 1,\n",
       " 186642: 1,\n",
       " 5176617: 1,\n",
       " 3401400: 1,\n",
       " 5181175: 1,\n",
       " 5190133: 1,\n",
       " 5185055: 1,\n",
       " 5249510: 1,\n",
       " 2638235: 1,\n",
       " 4804360: 1,\n",
       " 1213: 1,\n",
       " 2624037: 1,\n",
       " 3542045: 1,\n",
       " 5175282: 1,\n",
       " 5186523: 1,\n",
       " 2758761: 1,\n",
       " 2958786: 1,\n",
       " 3946334: 1,\n",
       " 261478: 1,\n",
       " 3870585: 1,\n",
       " 2962487: 1,\n",
       " 4600814: 1,\n",
       " 3131918: 1,\n",
       " 99444: 1,\n",
       " 272839: 1,\n",
       " 162644: 1,\n",
       " 3515729: 1,\n",
       " 5187650: 1,\n",
       " 4019836: 1,\n",
       " 2920083: 1,\n",
       " 4830026: 1,\n",
       " 264: 1,\n",
       " 5175278: 1,\n",
       " 4399300: 1,\n",
       " 5185905: 1,\n",
       " 5175254: 1,\n",
       " 5186043: 1,\n",
       " 3569826: 2,\n",
       " 2995916: 1,\n",
       " 5230868: 1,\n",
       " 4831009: 1,\n",
       " 1085: 1,\n",
       " 2922074: 3,\n",
       " 4151984: 1,\n",
       " 6412162: 1,\n",
       " 5248644: 1,\n",
       " 2881866: 1,\n",
       " 92447: 1,\n",
       " 5175277: 1,\n",
       " 5294125: 1,\n",
       " 5171395: 1,\n",
       " 5187119: 1,\n",
       " 2989264: 1,\n",
       " 2941493: 1,\n",
       " 5175952: 1,\n",
       " 3209294: 1,\n",
       " 3885302: 1,\n",
       " 2791171: 1,\n",
       " 93399: 1,\n",
       " 1499453: 4,\n",
       " 1503299: 1,\n",
       " 2675697: 24,\n",
       " 1489228: 24,\n",
       " 1498772: 6,\n",
       " 16186034: 24,\n",
       " 16326467: 24,\n",
       " 18513295: 24,\n",
       " 19335133: 24,\n",
       " 19659256: 24,\n",
       " 19804860: 24,\n",
       " 20273039: 24,\n",
       " 20696266: 24,\n",
       " 20847097: 24,\n",
       " 21034406: 24,\n",
       " 21100298: 24,\n",
       " 21368152: 24,\n",
       " 21806032: 24,\n",
       " 22142930: 24,\n",
       " 22820985: 24,\n",
       " 23083285: 24,\n",
       " 23800704: 24,\n",
       " 24711635: 24,\n",
       " 4380945: 24,\n",
       " 25651559: 24,\n",
       " 4381228: 24,\n",
       " 4528890: 24,\n",
       " 36320909: 24,\n",
       " 36905983: 24,\n",
       " 5306557: 24,\n",
       " 3208765: 24,\n",
       " 38707673: 24,\n",
       " 40270710: 24,\n",
       " 2684144: 7,\n",
       " 45296674: 7,\n",
       " 35577156: 7,\n",
       " 34595829: 7,\n",
       " 27612208: 7,\n",
       " 26863927: 7,\n",
       " 23925289: 7,\n",
       " 23870555: 7,\n",
       " 23893844: 7,\n",
       " 23819408: 7,\n",
       " 23807288: 7,\n",
       " 23778908: 7,\n",
       " 23792819: 7,\n",
       " 23514933: 7,\n",
       " 20475533: 7,\n",
       " 19629443: 7,\n",
       " 19523585: 7,\n",
       " 19126688: 7,\n",
       " 18889444: 7,\n",
       " 18656062: 7,\n",
       " 18411160: 7,\n",
       " 18298757: 7,\n",
       " 18223859: 7,\n",
       " 18078696: 7,\n",
       " 17689926: 7,\n",
       " 46364205: 7,\n",
       " 3824793: 7,\n",
       " 788308: 7,\n",
       " 3115634: 7,\n",
       " 3657879: 7,\n",
       " 2673513: 7,\n",
       " 3963014: 7,\n",
       " 3778479: 7,\n",
       " 3913376: 7,\n",
       " 1500417: 7,\n",
       " 2714335: 8,\n",
       " 20043886: 8,\n",
       " 22399154: 8,\n",
       " 7502685: 8,\n",
       " 211790: 8,\n",
       " 30738756: 8,\n",
       " 2714197: 9,\n",
       " 1500747: 9,\n",
       " 20038321: 9,\n",
       " 21754896: 9,\n",
       " 3906048: 8,\n",
       " 1503518: 8,\n",
       " 1504727: 8,\n",
       " 22206902: 8,\n",
       " 6766115: 8,\n",
       " 4525361: 8,\n",
       " 28653301: 8,\n",
       " 28653297: 8,\n",
       " 5364279: 8,\n",
       " 6766169: 8,\n",
       " 4521698: 8,\n",
       " 6766217: 8,\n",
       " 28653227: 8,\n",
       " 5773900: 8,\n",
       " 28653228: 8,\n",
       " 3918912: 6,\n",
       " 1497282: 6,\n",
       " 22232102: 6,\n",
       " 22268348: 6,\n",
       " 25369500: 6,\n",
       " 25574720: 6,\n",
       " 28653225: 8,\n",
       " 23393562: 8,\n",
       " 29136292: 8,\n",
       " 29136291: 8,\n",
       " 144915: 10,\n",
       " 6581342: 8,\n",
       " 6764125: 8,\n",
       " 541041: 8,\n",
       " 1219172: 8,\n",
       " 1142978: 8,\n",
       " 1225367: 8,\n",
       " 3877229: 8,\n",
       " 1066213: 8,\n",
       " 5173775: 8,\n",
       " 1498286: 8,\n",
       " 5237229: 11,\n",
       " 1503219: 11,\n",
       " 21852106: 11,\n",
       " 21846723: 11,\n",
       " 24114594: 11,\n",
       " 5442547: 12,\n",
       " 1497905: 12,\n",
       " 19798645: 12,\n",
       " 3145203: 12,\n",
       " 24800526: 12,\n",
       " 24845493: 12,\n",
       " 5759231: 12,\n",
       " 29166818: 12,\n",
       " 3621592: 12,\n",
       " 29217012: 12,\n",
       " 5454331: 13,\n",
       " 1497680: 13,\n",
       " 27571865: 13,\n",
       " 27852801: 13,\n",
       " 5486031: 8,\n",
       " 1500195: 8,\n",
       " 5632015: 6,\n",
       " 2956780: 6,\n",
       " 18173633: 6,\n",
       " 6368442: 13,\n",
       " 1497541: 13,\n",
       " 6626049: 8,\n",
       " 30738758: 8,\n",
       " 29289038: 8,\n",
       " 28826839: 8,\n",
       " 31433609: 8,\n",
       " 32584808: 8,\n",
       " 6620824: 8,\n",
       " 7590959: 8,\n",
       " 5843683: 8,\n",
       " 5229762: 8,\n",
       " 6551792: 8,\n",
       " 2907749: 8,\n",
       " 7506593: 8,\n",
       " 1093: 8,\n",
       " 90763: 8,\n",
       " 1219173: 8,\n",
       " 6899404: 8,\n",
       " 6899394: 8,\n",
       " 6559679: 8,\n",
       " 6889539: 8,\n",
       " 6889530: 8,\n",
       " 2713741: 8,\n",
       " 1218855: 8,\n",
       " 6661443: 8,\n",
       " 7590918: 8,\n",
       " 6563205: 8,\n",
       " 6187813: 8,\n",
       " 4493217: 8,\n",
       " 7673324: 8,\n",
       " 6276756: 8,\n",
       " 6652752: 14,\n",
       " 1500733: 14,\n",
       " 27980313: 14,\n",
       " 6649603: 15,\n",
       " 1498304: 15,\n",
       " 7568434: 1,\n",
       " 1516490: 1,\n",
       " 7673531: 1,\n",
       " 1501923: 1,\n",
       " 5751209: 16,\n",
       " 1515123: 16,\n",
       " 1499827: 16,\n",
       " 2837125: 17,\n",
       " 10724799: 17,\n",
       " 10724800: 17,\n",
       " 10729709: 17,\n",
       " 10724801: 17,\n",
       " 10295421: 17,\n",
       " 10295424: 17,\n",
       " 10295423: 17,\n",
       " 10295425: 17,\n",
       " 10295422: 17,\n",
       " 10724798: 17,\n",
       " 10724797: 17,\n",
       " 10754585: 17,\n",
       " 10754586: 17,\n",
       " 11608913: 17,\n",
       " 11608912: 17,\n",
       " 11607702: 17,\n",
       " 11607701: 17,\n",
       " 11983073: 17,\n",
       " 12075192: 17,\n",
       " 12380514: 17,\n",
       " 13055735: 17,\n",
       " 13063219: 17,\n",
       " 40075268: 17,\n",
       " 40072591: 17,\n",
       " 40831766: 17,\n",
       " 41013529: 17,\n",
       " 41012588: 17,\n",
       " 41013526: 17,\n",
       " 41013527: 17,\n",
       " 41013531: 17,\n",
       " 5118286: 17,\n",
       " 2861746: 17,\n",
       " 2974775: 18,\n",
       " 2916403: 17,\n",
       " 4384883: 17,\n",
       " 2633053: 19,\n",
       " 2960101: 20,\n",
       " 2867471: 24,\n",
       " 4370842: 17,\n",
       " 2623379: 17,\n",
       " 2885628: 17,\n",
       " 3143741: 17,\n",
       " 2895318: 17,\n",
       " 2844528: 17,\n",
       " 5991917: 17,\n",
       " 3634262: 17,\n",
       " 2939858: 17,\n",
       " 2935213: 17,\n",
       " 2919920: 17,\n",
       " 4370840: 17,\n",
       " 2826126: 17,\n",
       " 2880766: 17,\n",
       " 2623954: 17,\n",
       " 2968088: 17,\n",
       " 2837541: 17,\n",
       " 2828154: 17,\n",
       " 2742659: 17,\n",
       " 2880706: 17,\n",
       " 4370837: 17,\n",
       " 2842399: 17,\n",
       " 2849219: 17,\n",
       " 3001636: 17,\n",
       " 2880727: 17,\n",
       " 2837569: 17,\n",
       " 2988100: 17,\n",
       " 2935091: 17,\n",
       " 3582599: 17,\n",
       " 2885359: 17,\n",
       " 2815037: 17,\n",
       " 4373254: 17,\n",
       " 2887012: 17,\n",
       " 2832736: 17,\n",
       " 2880799: 17,\n",
       " 2939849: 17,\n",
       " 3205926: 17,\n",
       " 4373258: 17,\n",
       " 3016388: 17,\n",
       " 2919076: 17,\n",
       " 2885855: 17,\n",
       " 2845566: 17,\n",
       " 4373252: 17,\n",
       " 2920435: 17,\n",
       " 4250292: 17,\n",
       " 2885643: 17,\n",
       " 2883895: 17,\n",
       " 2987317: 21,\n",
       " 2895328: 17,\n",
       " 3071942: 17,\n",
       " 3001795: 17,\n",
       " 2651701: 17,\n",
       " 4154383: 17,\n",
       " 2799341: 17,\n",
       " 5361673: 19,\n",
       " 1497811: 17,\n",
       " 1512191: 17,\n",
       " 1499946: 18,\n",
       " 2887803: 14,\n",
       " 2979315: 14,\n",
       " 12255190: 14,\n",
       " 5548497: 22,\n",
       " 1501975: 22,\n",
       " 5702548: 23,\n",
       " 1502169: 23,\n",
       " 25772043: 23,\n",
       " 6177446: 0,\n",
       " 1497491: 0,\n",
       " 26007357: 0,\n",
       " 6207576: 23,\n",
       " 26261284: 23,\n",
       " 6299300: 23,\n",
       " 26548626: 23,\n",
       " 6560258: 17,\n",
       " 27185006: 17,\n",
       " 6550989: 10,\n",
       " 27170829: 10,\n",
       " 1079619: 10,\n",
       " 2722362: 10,\n",
       " 545865: 10,\n",
       " 29039136: 10,\n",
       " 6642703: 10,\n",
       " 6649133: 24,\n",
       " 1499293: 24,\n",
       " 6915591: 16,\n",
       " 2895349: 16,\n",
       " 12349955: 16,\n",
       " 16309591: 16,\n",
       " 18028342: 16,\n",
       " 7152635: 15,\n",
       " 1502506: 15,\n",
       " 29759816: 15,\n",
       " 7145593: 25,\n",
       " 1504395: 25,\n",
       " 29507902: 25,\n",
       " 29654561: 25,\n",
       " 7510344: 16,\n",
       " 1497420: 16,\n",
       " 12350415: 16,\n",
       " 7510444: 16,\n",
       " 12350417: 16,\n",
       " 7590907: 10,\n",
       " 3186335: 10,\n",
       " 3214791: 10,\n",
       " 3232199: 10,\n",
       " 31433605: 10,\n",
       " 3115986: 10,\n",
       " 7693452: 0,\n",
       " 1500459: 0,\n",
       " 7673811: 4,\n",
       " 7570215: 24,\n",
       " 1501296: 24,\n",
       " 31181345: 24,\n",
       " 7542771: 22,\n",
       " 7469983: 9,\n",
       " 1499416: 9,\n",
       " 7453365: 24,\n",
       " 1498611: 24,\n",
       " 30522642: 24,\n",
       " 31651077: 24,\n",
       " 7452953: 6,\n",
       " 1558039: 6,\n",
       " 12749: 6,\n",
       " 30374628: 6,\n",
       " 7227195: 26,\n",
       " 12738: 26,\n",
       " 37537709: 26,\n",
       " 7226091: 9,\n",
       " 7225399: 27,\n",
       " 1501347: 27,\n",
       " 1413049: 27,\n",
       " 38054772: 27,\n",
       " 7140038: 1,\n",
       " 1499076: 1,\n",
       " 6871148: 13,\n",
       " 29493367: 13,\n",
       " 6809166: 28,\n",
       " 1514199: 28,\n",
       " 6657226: 6,\n",
       " 1498799: 6,\n",
       " 3172003: 28,\n",
       " 25756840: 28,\n",
       " 24531229: 28,\n",
       " 24537871: 28,\n",
       " 24325338: 28,\n",
       " 24324236: 28,\n",
       " 22854712: 28,\n",
       " 16722773: 28,\n",
       " 25912353: 28,\n",
       " 25912349: 28,\n",
       " 29380064: 28,\n",
       " 2913504: 28,\n",
       " 4378301: 28,\n",
       " 2829535: 28,\n",
       " 2954774: 28,\n",
       " 2885447: 11,\n",
       " 2919026: 28,\n",
       " 2934206: 28,\n",
       " 2968169: 28,\n",
       " 3642414: 28,\n",
       " 3592303: 28,\n",
       " 3462069: 28,\n",
       " 2855187: 28,\n",
       " 3460783: 28,\n",
       " 2624976: 28,\n",
       " 1502483: 13,\n",
       " 1504950: 1,\n",
       " 3642926: 11,\n",
       " 1497729: 11,\n",
       " 21553017: 11,\n",
       " 4312010: 23,\n",
       " 2752368: 23,\n",
       " 2920630: 23,\n",
       " 2762106: 23,\n",
       " 1500789: 13,\n",
       " 131503: 23,\n",
       " 4312004: 23,\n",
       " 12416725: 23,\n",
       " 2916276: 16,\n",
       " 3106242: 23,\n",
       " 15720573: 23,\n",
       " 16072321: 23,\n",
       " 16675945: 23,\n",
       " 16675946: 23,\n",
       " 37990032: 23,\n",
       " 4411412: 25,\n",
       " 24317610: 25,\n",
       " 25460087: 25,\n",
       " 3113093: 25,\n",
       " 1170551: 25,\n",
       " 27442687: 25,\n",
       " 2939477: 25,\n",
       " 6835505: 25,\n",
       " 29107926: 25,\n",
       " 41904251: 25,\n",
       " 12750: 25,\n",
       " 45397327: 25,\n",
       " 4831205: 24,\n",
       " 1498435: 24,\n",
       " 1503661: 24,\n",
       " 1499748: 24,\n",
       " 4976914: 24,\n",
       " 24293681: 24,\n",
       " 5261027: 0,\n",
       " 24205313: 0,\n",
       " 42059161: 0,\n",
       " 5268135: 1,\n",
       " 11618043: 1,\n",
       " 11618699: 1,\n",
       " 11618583: 1,\n",
       " 11618700: 1,\n",
       " 5268101: 1,\n",
       " 4599489: 1,\n",
       " 91700: 1,\n",
       " 2899330: 1,\n",
       " 3105285: 1,\n",
       " 2672994: 1,\n",
       " 3774037: 1,\n",
       " 5175892: 1,\n",
       " 5295070: 45,\n",
       " 1500093: 45,\n",
       " 22608261: 45,\n",
       " 3953529: 45,\n",
       " 24191831: 45,\n",
       " 24675970: 45,\n",
       " 5615210: 30,\n",
       " 1516344: 30,\n",
       " 1530397: 22,\n",
       " 1502028: 30,\n",
       " 1497795: 30,\n",
       " 1498301: 30,\n",
       " 38209955: 30,\n",
       " 3600673: 30,\n",
       " 39224279: 30,\n",
       " 5615632: 15,\n",
       " 1497468: 15,\n",
       " 1498577: 15,\n",
       " 1508483: 15,\n",
       " 1517050: 15,\n",
       " 5656975: 24,\n",
       " 1498498: 24,\n",
       " 1498359: 24,\n",
       " 41632795: 24,\n",
       " 6263323: 15,\n",
       " 1499077: 15,\n",
       " 12443834: 15,\n",
       " 6427919: 1,\n",
       " 1516411: 1,\n",
       " 6427931: 1,\n",
       " 6578008: 31,\n",
       " 1553699: 31,\n",
       " 6660320: 9,\n",
       " 2950836: 11,\n",
       " 6397199: 11,\n",
       " 10084199: 11,\n",
       " 10083108: 11,\n",
       " 10084197: 11,\n",
       " 10084198: 11,\n",
       " 10087312: 11,\n",
       " 10085067: 11,\n",
       " 10084622: 11,\n",
       " 10084818: 11,\n",
       " 10085129: 11,\n",
       " 10085128: 11,\n",
       " 10087256: 11,\n",
       " 10084862: 11,\n",
       " 10087238: 11,\n",
       " 10087164: 11,\n",
       " 10085063: 11,\n",
       " 10086071: 11,\n",
       " 10087316: 11,\n",
       " 10085514: 11,\n",
       " 10084702: 11,\n",
       " 10086729: 11,\n",
       " 10087314: 11,\n",
       " 10084681: 11,\n",
       " 10087307: 11,\n",
       " 10084884: 11,\n",
       " 10084701: 11,\n",
       " 10087313: 11,\n",
       " 10085108: 11,\n",
       " 10084849: 11,\n",
       " 10085120: 11,\n",
       " 10983561: 11,\n",
       " 10983635: 11,\n",
       " 10983641: 11,\n",
       " 11000612: 18,\n",
       " 11000893: 11,\n",
       " 11000855: 11,\n",
       " 11000550: 11,\n",
       " 11000611: 11,\n",
       " 11000534: 11,\n",
       " 11000583: 11,\n",
       " 10998890: 11,\n",
       " 11000573: 11,\n",
       " 11000582: 11,\n",
       " 10998565: 11,\n",
       " 11000917: 11,\n",
       " 11000852: 11,\n",
       " 11000929: 11,\n",
       " 11007810: 11,\n",
       " 11000567: 11,\n",
       " 11000533: 11,\n",
       " 11000545: 11,\n",
       " 11000287: 11,\n",
       " 10999679: 11,\n",
       " 11000920: 11,\n",
       " 11000540: 11,\n",
       " 11000577: 11,\n",
       " 11000579: 11,\n",
       " 11012361: 11,\n",
       " 11012475: 11,\n",
       " 11013721: 11,\n",
       " 11012285: 11,\n",
       " 11147649: 11,\n",
       " 14256145: 11,\n",
       " 14253013: 11,\n",
       " 14256144: 11,\n",
       " 14381546: 11,\n",
       " 14451468: 11,\n",
       " 14451469: 11,\n",
       " 14451467: 11,\n",
       " 14493642: 11,\n",
       " 14942330: 11,\n",
       " 16857992: 11,\n",
       " 17356420: 11,\n",
       " 17471787: 11,\n",
       " 17542103: 11,\n",
       " 17542104: 11,\n",
       " 17617597: 11,\n",
       " 18307649: 11,\n",
       " 19132774: 11,\n",
       " 21487100: 11,\n",
       " 22675130: 11,\n",
       " 24318527: 11,\n",
       " 24633337: 11,\n",
       " 24690622: 11,\n",
       " 26378533: 11,\n",
       " 29512147: 11,\n",
       " 29512148: 11,\n",
       " 35201952: 11,\n",
       " 36913968: 11,\n",
       " 36916745: 11,\n",
       " 38418447: 11,\n",
       " 38397388: 11,\n",
       " 39146083: 11,\n",
       " 39133929: 11,\n",
       " 40728252: 19,\n",
       " 40891766: 11,\n",
       " 41364062: 11,\n",
       " 41363897: 11,\n",
       " 41549887: 11,\n",
       " 41549423: 11,\n",
       " 41549424: 11,\n",
       " 41549422: 11,\n",
       " 41549426: 11,\n",
       " 6397201: 11,\n",
       " 2993467: 11,\n",
       " 253772: 11,\n",
       " 2940395: 10,\n",
       " 2917632: 11,\n",
       " 2883822: 11,\n",
       " 2887718: 11,\n",
       " 2752169: 11,\n",
       " 2761683: 11,\n",
       " 23793: 11,\n",
       " 2926147: 11,\n",
       " 2798410: 11,\n",
       " 981287: 11,\n",
       " 2997469: 11,\n",
       " 2873653: 11,\n",
       " 76110: 11,\n",
       " 610617: 11,\n",
       " 3369085: 11,\n",
       " 2940351: 11,\n",
       " 2660982: 11,\n",
       " 2808083: 11,\n",
       " 2788764: 11,\n",
       " 161721: 11,\n",
       " 2876195: 11,\n",
       " 8269: 11,\n",
       " 2840064: 11,\n",
       " 2929190: 11,\n",
       " 2949301: 11,\n",
       " 280785: 11,\n",
       " 137333: 32,\n",
       " 2806319: 11,\n",
       " 2880784: 33,\n",
       " 24580: 11,\n",
       " 135164: 11,\n",
       " 2919012: 11,\n",
       " 2879101: 11,\n",
       " 5128705: 11,\n",
       " 2012: 11,\n",
       " 2895190: 11,\n",
       " 10328: 11,\n",
       " 2761982: 11,\n",
       " 2889048: 11,\n",
       " 3051580: 11,\n",
       " 6200339: 11,\n",
       " 2859214: 11,\n",
       " 2889049: 11,\n",
       " 2918781: 11,\n",
       " 2753529: 11,\n",
       " 2982318: 11,\n",
       " 78858: 11,\n",
       " 2753003: 11,\n",
       " 2966923: 11,\n",
       " 2770602: 11,\n",
       " 2789247: 11,\n",
       " 2627140: 11,\n",
       " 2983965: 14,\n",
       " 2781706: 11,\n",
       " 2752025: 11,\n",
       " 2892743: 11,\n",
       " 2801450: 11,\n",
       " 2879684: 11,\n",
       " 2891434: 11,\n",
       " 6344451: 11,\n",
       " 2885794: 11,\n",
       " 2889819: 11,\n",
       " 2879135: 14,\n",
       " 2877629: 11,\n",
       " 2822672: 11,\n",
       " 2787812: 11,\n",
       " 2914257: 19,\n",
       " 2816780: 18,\n",
       " 2889033: 11,\n",
       " 2890624: 11,\n",
       " 2770163: 9,\n",
       " 4231459: 11,\n",
       " 2885570: 18,\n",
       " 2865741: 11,\n",
       " 2766046: 11,\n",
       " 2876334: 11,\n",
       " 2814757: 34,\n",
       " 3014771: 11,\n",
       " 3583644: 11,\n",
       " 3752526: 11,\n",
       " 2959162: 11,\n",
       " 4313945: 11,\n",
       " 2879669: 11,\n",
       " 5267449: 11,\n",
       " 2802894: 11,\n",
       " 3240641: 11,\n",
       " 2835291: 11,\n",
       " 5639194: 11,\n",
       " 3748846: 11,\n",
       " 2879460: 18,\n",
       " 4850960: 11,\n",
       " 2885112: 11,\n",
       " 2893235: 11,\n",
       " 2886738: 11,\n",
       " 2791193: 11,\n",
       " 3589772: 11,\n",
       " 2888116: 11,\n",
       " 5807554: 11,\n",
       " 2896532: 11,\n",
       " 4205089: 11,\n",
       " 5658874: 11,\n",
       " 2765936: 11,\n",
       " 5809270: 11,\n",
       " 2846724: 11,\n",
       " 2875939: 11,\n",
       " 2880857: 23,\n",
       " 2888178: 11,\n",
       " 2879734: 11,\n",
       " 2859881: 11,\n",
       " 6461709: 11,\n",
       " 2850072: 11,\n",
       " 2877175: 11,\n",
       " 2907655: 11,\n",
       " 2777913: 11,\n",
       " 2763503: 11,\n",
       " 5651555: 11,\n",
       " 7303664: 11,\n",
       " 2754546: 11,\n",
       " 2882507: 11,\n",
       " 2882453: 11,\n",
       " 2843786: 11,\n",
       " 5590294: 11,\n",
       " 4350548: 11,\n",
       " 2893686: 11,\n",
       " 2892065: 35,\n",
       " 2915750: 11,\n",
       " 2892151: 11,\n",
       " 2802600: 19,\n",
       " 2950867: 18,\n",
       " 2879632: 11,\n",
       " 2889874: 11,\n",
       " 3014092: 11,\n",
       " 2887317: 11,\n",
       " 2956699: 11,\n",
       " 2775755: 36,\n",
       " 2869036: 11,\n",
       " 3014770: 11,\n",
       " 3510630: 11,\n",
       " 2920692: 36,\n",
       " 2807112: 11,\n",
       " 3014767: 11,\n",
       " 2846216: 11,\n",
       " 2823960: 11,\n",
       " 2884136: 11,\n",
       " 2890631: 1,\n",
       " 2769422: 11,\n",
       " 2836440: 11,\n",
       " 2886759: 11,\n",
       " 2918218: 11,\n",
       " 3304277: 8,\n",
       " 21262387: 8,\n",
       " 7691014: 8,\n",
       " 154137: 8,\n",
       " 32584803: 8,\n",
       " 3711118: 37,\n",
       " 1498568: 37,\n",
       " 1502247: 37,\n",
       " 18098683: 37,\n",
       " 18096582: 37,\n",
       " 18375014: 37,\n",
       " 2935884: 37,\n",
       " 2946010: 37,\n",
       " 19103169: 37,\n",
       " 19139589: 37,\n",
       " 19253648: 37,\n",
       " 19347197: 37,\n",
       " 19563799: 37,\n",
       " 19665448: 37,\n",
       " 20662481: 37,\n",
       " 20855854: 37,\n",
       " 20994083: 37,\n",
       " 21324110: 37,\n",
       " 4533245: 37,\n",
       " 34988497: 37,\n",
       " 39829859: 37,\n",
       " 4252084: 27,\n",
       " 12380043: 27,\n",
       " 12361902: 27,\n",
       " 12442525: 27,\n",
       " 15565290: 27,\n",
       " 15565289: 27,\n",
       " 15604579: 27,\n",
       " 15947668: 27,\n",
       " 15947669: 27,\n",
       " 15947667: 27,\n",
       " 15922300: 27,\n",
       " 17183904: 27,\n",
       " 37652643: 27,\n",
       " 38902931: 27,\n",
       " 38902932: 27,\n",
       " 38902933: 27,\n",
       " 40285289: 27,\n",
       " 4981206: 27,\n",
       " 6189671: 27,\n",
       " 5408848: 27,\n",
       " 2926079: 27,\n",
       " 3143261: 27,\n",
       " 6205423: 27,\n",
       " 6041822: 27,\n",
       " 6196358: 27,\n",
       " 6188643: 27,\n",
       " 2672012: 27,\n",
       " 6166641: 27,\n",
       " 2752301: 27,\n",
       " 2871641: 27,\n",
       " 5409731: 27,\n",
       " ...}"
      ]
     },
     "execution_count": 70,
     "metadata": {},
     "output_type": "execute_result"
    }
   ],
   "source": [
    "import community as community_louvain\n",
    "\n",
    "# compute the best partition\n",
    "partition = community_louvain.best_partition(largest_component_graph)\n",
    "partition"
   ]
  },
  {
   "cell_type": "markdown",
   "id": "streaming-religion",
   "metadata": {},
   "source": [
    "# Investigating Corporations"
   ]
  },
  {
   "cell_type": "markdown",
   "id": "tracked-tunnel",
   "metadata": {},
   "source": [
    "# Investigating Resources and Works"
   ]
  },
  {
   "cell_type": "markdown",
   "id": "cosmetic-daily",
   "metadata": {},
   "source": [
    "# Investigating predefined set of Physiologists"
   ]
  },
  {
   "cell_type": "markdown",
   "id": "democratic-avenue",
   "metadata": {},
   "source": [
    "* Gustav Fritsch (DE-588)115568808\n",
    "* Eduard Hitzig (DE-588)116917423\n",
    "* Hermann Munk (DE-588)117185930\n",
    "* Nathan Zuntz (DE-588)118896202\n",
    "* Friedrich Goltz (DE-588)116764694\n",
    "* Adolf Fick (DE-588)118800000\n",
    "* Jacques Loeb (DE-588)119133628"
   ]
  },
  {
   "cell_type": "code",
   "execution_count": null,
   "id": "reported-basket",
   "metadata": {},
   "outputs": [],
   "source": [
    "physiologists = [\"(DE-588)115568808\", \"(DE-588)116917423\", \"(DE-588)117185930\", \"(DE-588)118896202\", \n",
    "                 \"(DE-588)116764694\", \"(DE-588)118800000\", \"(DE-588)119133628\"]"
   ]
  },
  {
   "cell_type": "markdown",
   "id": "signal-bermuda",
   "metadata": {},
   "source": [
    "# Bibliography"
   ]
  },
  {
   "cell_type": "markdown",
   "id": "institutional-carol",
   "metadata": {},
   "source": [
    "Scifo, E. (2020). Hands-On Graph Analytics with Neo4j: Perform graph processing and visualization techniques using connected data across your enterprise. Birmingham, England: Packt Publishing."
   ]
  }
 ],
 "metadata": {
  "kernelspec": {
   "display_name": "Python 3",
   "language": "python",
   "name": "python3"
  },
  "language_info": {
   "codemirror_mode": {
    "name": "ipython",
    "version": 3
   },
   "file_extension": ".py",
   "mimetype": "text/x-python",
   "name": "python",
   "nbconvert_exporter": "python",
   "pygments_lexer": "ipython3",
   "version": "3.8.10"
  },
  "toc": {
   "base_numbering": 1,
   "nav_menu": {},
   "number_sections": true,
   "sideBar": true,
   "skip_h1_title": false,
   "title_cell": "Table of Contents",
   "title_sidebar": "Contents",
   "toc_cell": false,
   "toc_position": {
    "height": "calc(100% - 180px)",
    "left": "10px",
    "top": "150px",
    "width": "384px"
   },
   "toc_section_display": true,
   "toc_window_display": true
  }
 },
 "nbformat": 4,
 "nbformat_minor": 5
}
