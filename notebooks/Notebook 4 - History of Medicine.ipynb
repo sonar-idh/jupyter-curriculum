{
 "cells": [
  {
   "cell_type": "code",
   "execution_count": 1,
   "id": "infrared-roulette",
   "metadata": {},
   "outputs": [],
   "source": [
    "### Loading Credentials from local file; \n",
    "### this cell is meant to be deleted before publishing\n",
    "import yaml\n",
    "\n",
    "with open(\"../creds.yml\", 'r') as ymlfile:\n",
    "    cfg = yaml.safe_load(ymlfile)\n",
    "\n",
    "uri = cfg[\"sonar_creds\"][\"uri\"]\n",
    "user = cfg[\"sonar_creds\"][\"user\"]\n",
    "password = cfg[\"sonar_creds\"][\"pass\"]"
   ]
  },
  {
   "cell_type": "markdown",
   "id": "current-drama",
   "metadata": {},
   "source": [
    "<font size = \"20\"> SoNAR (IDH) - HNA Curriculum </font>\n",
    "\n",
    "<font size = \"5\">Notebook 4:  Example Case - History of Physiology</font>"
   ]
  },
  {
   "cell_type": "markdown",
   "id": "metallic-malta",
   "metadata": {},
   "source": [
    "# Defining the Physiology Graph"
   ]
  },
  {
   "cell_type": "markdown",
   "id": "reflected-dancing",
   "metadata": {},
   "source": [
    "Search for \"hysiolog\" as substring for Physiology to retrieve every possible string containing.\n"
   ]
  },
  {
   "cell_type": "code",
   "execution_count": 3,
   "id": "perfect-buying",
   "metadata": {},
   "outputs": [
    {
     "data": {
      "text/plain": [
       "[{'(t.Name)': 'Arbeitsphysiologie'},\n",
       " {'(t.Name)': 'Neurophysiologie'},\n",
       " {'(t.Name)': 'Pathophysiologie'},\n",
       " {'(t.Name)': 'Pflanzenphysiologie'},\n",
       " {'(t.Name)': 'Physiologie'},\n",
       " {'(t.Name)': 'Sinnesphysiologie'},\n",
       " {'(t.Name)': 'Tierphysiologie'},\n",
       " {'(t.Name)': 'Physiologische Chemie'},\n",
       " {'(t.Name)': 'Physiologische Psychologie'},\n",
       " {'(t.Name)': 'Sprachphysiologie'},\n",
       " {'(t.Name)': 'Sportphysiologie'},\n",
       " {'(t.Name)': 'Leistungsphysiologie'},\n",
       " {'(t.Name)': 'Physiologische Psychiatrie'},\n",
       " {'(t.Name)': 'Elektrophysiologie'},\n",
       " {'(t.Name)': 'Altersphysiologie'},\n",
       " {'(t.Name)': 'Bewegungsphysiologie'},\n",
       " {'(t.Name)': 'Entwicklungsphysiologie'},\n",
       " {'(t.Name)': 'Ernährungsphysiologie'},\n",
       " {'(t.Name)': 'Ertragsphysiologie'},\n",
       " {'(t.Name)': 'Histophysiologie'},\n",
       " {'(t.Name)': 'Höhenphysiologie'},\n",
       " {'(t.Name)': 'Nacherntephysiologie'},\n",
       " {'(t.Name)': 'Physiologische Optik'},\n",
       " {'(t.Name)': 'Physiologische Uhr'},\n",
       " {'(t.Name)': 'Psychophysiologische Diagnostik'},\n",
       " {'(t.Name)': 'Stoffwechselphysiologie'},\n",
       " {'(t.Name)': 'Vegetative Physiologie'},\n",
       " {'(t.Name)': 'Vergleichende Neurophysiologie'},\n",
       " {'(t.Name)': 'Vergleichende Physiologie'},\n",
       " {'(t.Name)': 'Verhaltensphysiologie'},\n",
       " {'(t.Name)': 'Physiologe'},\n",
       " {'(t.Name)': 'Reizphysiologie'},\n",
       " {'(t.Name)': 'Experimentelle Physiologie'},\n",
       " {'(t.Name)': 'Zellphysiologie'},\n",
       " {'(t.Name)': 'Muskelphysiologie'},\n",
       " {'(t.Name)': 'Physiologin'},\n",
       " {'(t.Name)': 'Physiologische Akustik'},\n",
       " {'(t.Name)': 'Tauchphysiologie'},\n",
       " {'(t.Name)': 'Umweltphysiologie'},\n",
       " {'(t.Name)': 'Ignaz-L.-Lieben-Preis für Physik, Chemie und Physiologie'},\n",
       " {'(t.Name)': 'Elektrophysiologische Untersuchung'},\n",
       " {'(t.Name)': 'Pflanzenphysiologe'},\n",
       " {'(t.Name)': 'Pflanzenphysiologin'}]"
      ]
     },
     "execution_count": 3,
     "metadata": {},
     "output_type": "execute_result"
    }
   ],
   "source": [
    "from neo4j import GraphDatabase\n",
    "\n",
    "driver = GraphDatabase.driver(uri, auth=(user, password))\n",
    "\n",
    "query = \"\"\"\n",
    "MATCH (t:TopicTerm)\n",
    "WHERE t.Name CONTAINS \"hysiolog\"\n",
    "RETURN DISTINCT(t.Name)\n",
    "\"\"\"\n",
    "\n",
    "with driver.session() as session:\n",
    "    all_physiology_terms = session.run(query).data()\n",
    "    \n",
    "all_physiology_terms"
   ]
  },
  {
   "cell_type": "markdown",
   "id": "conventional-surprise",
   "metadata": {},
   "source": [
    "Let's see whether every topic term also has people connected to them. "
   ]
  },
  {
   "cell_type": "code",
   "execution_count": 4,
   "id": "naughty-presentation",
   "metadata": {},
   "outputs": [],
   "source": [
    "from helper_functions.helper_fun import to_nx_graph\n",
    "\n",
    "query = \"\"\"\n",
    "MATCH (t:TopicTerm)-[r]-(n:PerName)\n",
    "WHERE t.Name CONTAINS \"hysiolog\"\n",
    "RETURN *\n",
    "\"\"\"\n",
    "\n",
    "driver = GraphDatabase.driver(uri, auth=(user, password))\n",
    "\n",
    "G = to_nx_graph(neo4j_driver = driver, \n",
    "                query = query)"
   ]
  },
  {
   "cell_type": "markdown",
   "id": "prepared-mixer",
   "metadata": {},
   "source": [
    "Check which topic terms aren't present in query result:"
   ]
  },
  {
   "cell_type": "code",
   "execution_count": 5,
   "id": "moral-broadway",
   "metadata": {},
   "outputs": [
    {
     "data": {
      "text/plain": [
       "array(['Altersphysiologie', 'Bewegungsphysiologie',\n",
       "       'Elektrophysiologische Untersuchung', 'Ertragsphysiologie',\n",
       "       'Experimentelle Physiologie', 'Histophysiologie',\n",
       "       'Ignaz-L.-Lieben-Preis für Physik, Chemie und Physiologie',\n",
       "       'Muskelphysiologie', 'Physiologische Optik', 'Physiologische Uhr',\n",
       "       'Psychophysiologische Diagnostik', 'Reizphysiologie',\n",
       "       'Sprachphysiologie', 'Tauchphysiologie', 'Umweltphysiologie',\n",
       "       'Vergleichende Neurophysiologie', 'Vergleichende Physiologie',\n",
       "       'Zellphysiologie'], dtype='<U57')"
      ]
     },
     "execution_count": 5,
     "metadata": {},
     "output_type": "execute_result"
    }
   ],
   "source": [
    "import numpy as np\n",
    "\n",
    "relevant_topics = []\n",
    "for node in list(G.nodes):\n",
    "    if G.nodes[node][\"type\"] == \"TopicTerm\":\n",
    "        relevant_topics.append((G.nodes[node][\"label\"]))\n",
    "\n",
    "np.setdiff1d([d[\"(t.Name)\"] for d in all_physiology_terms], relevant_topics)"
   ]
  },
  {
   "cell_type": "markdown",
   "id": "declared-vertical",
   "metadata": {},
   "source": [
    "@todo add colors to network below by node type"
   ]
  },
  {
   "cell_type": "code",
   "execution_count": 6,
   "id": "civic-shore",
   "metadata": {},
   "outputs": [],
   "source": [
    "from helper_functions.helper_fun import to_nx_graph\n",
    "from pyvis.network import Network\n",
    "\n",
    "nt = Network('750px', '100%', notebook=True, directed = True)\n",
    "nt.from_nx(G)\n",
    "nt.set_edge_smooth(\"dynamic\")\n",
    "#nt.show('./html_networks/physiological_net.html')"
   ]
  },
  {
   "cell_type": "markdown",
   "id": "technical-commerce",
   "metadata": {},
   "source": [
    "## Retrieving the Network"
   ]
  },
  {
   "cell_type": "code",
   "execution_count": 80,
   "id": "severe-death",
   "metadata": {},
   "outputs": [
    {
     "data": {
      "text/plain": [
       "[{'LABELS(n2)': ['TopicTerm']},\n",
       " {'LABELS(n2)': ['TopicTerm']},\n",
       " {'LABELS(n2)': ['TopicTerm']},\n",
       " {'LABELS(n2)': ['TopicTerm']},\n",
       " {'LABELS(n2)': ['TopicTerm']},\n",
       " {'LABELS(n2)': ['TopicTerm']},\n",
       " {'LABELS(n2)': ['TopicTerm']},\n",
       " {'LABELS(n2)': ['TopicTerm']},\n",
       " {'LABELS(n2)': ['TopicTerm']},\n",
       " {'LABELS(n2)': ['TopicTerm']}]"
      ]
     },
     "execution_count": 80,
     "metadata": {},
     "output_type": "execute_result"
    }
   ],
   "source": [
    "query = \"\"\"\n",
    "MATCH (n2)\n",
    "WHERE n2:PerName OR n2:Resource OR n2:UniTitle OR n2:CorpName OR n2:TopicTerm\n",
    "RETURN LABELS(n2)\n",
    "LIMIT 10\n",
    "\"\"\"\n",
    "\n",
    "driver = GraphDatabase.driver(uri, auth=(user, password))\n",
    "\n",
    "with driver.session() as session:\n",
    "    result = session.run(query).data()\n",
    "    \n",
    "result"
   ]
  },
  {
   "cell_type": "code",
   "execution_count": 184,
   "id": "liked-bristol",
   "metadata": {},
   "outputs": [
    {
     "name": "stdout",
     "output_type": "stream",
     "text": [
      "CPU times: user 14.9 s, sys: 495 ms, total: 15.4 s\n",
      "Wall time: 15.8 s\n"
     ]
    }
   ],
   "source": [
    "%%time\n",
    "\n",
    "from helper_functions.helper_fun import to_nx_graph\n",
    "\n",
    "query = \"\"\"\n",
    "MATCH (t:TopicTerm)--(n:PerName)\n",
    "WHERE t.Name CONTAINS \"hysiolog\"\n",
    "WITH DISTINCT [x in collect(t)+collect(n)|id(x)] as collectedIds \n",
    "MATCH (n)-[rel1:RelationToPerName|RelationToResource|RelationCorpName*0..1]-(n2)\n",
    "WHERE id(n) in collectedIds \n",
    "RETURN n, n2, rel1\n",
    "\"\"\"\n",
    "\n",
    "\n",
    "driver = GraphDatabase.driver(uri, auth=(user, password))\n",
    "\n",
    "G = to_nx_graph(neo4j_driver = driver, \n",
    "                query = query)"
   ]
  },
  {
   "cell_type": "markdown",
   "id": "handmade-reporter",
   "metadata": {},
   "source": [
    "## Descriptive Metrics"
   ]
  },
  {
   "cell_type": "code",
   "execution_count": 185,
   "id": "taken-aging",
   "metadata": {},
   "outputs": [
    {
     "name": "stdout",
     "output_type": "stream",
     "text": [
      "Number of Nodes:  36187\n",
      "Number of Edges:  36690\n"
     ]
    }
   ],
   "source": [
    "print(\"Number of Nodes: \", G.number_of_nodes())\n",
    "print(\"Number of Edges: \", G.number_of_edges())"
   ]
  },
  {
   "cell_type": "code",
   "execution_count": 118,
   "id": "three-psychiatry",
   "metadata": {},
   "outputs": [
    {
     "name": "stdout",
     "output_type": "stream",
     "text": [
      "Number of Persons in Graph:  1856\n",
      "Number of Resources and Works in Graph:  34299\n",
      "Number of Corporations in Graph:  5\n",
      "\n",
      "## Topic Terms in Graph: ## \n",
      "Arbeitsphysiologie\n",
      "Neurophysiologie\n",
      "Pathophysiologie\n",
      "Pflanzenphysiologie\n",
      "Physiologie\n",
      "Sinnesphysiologie\n",
      "Tierphysiologie\n",
      "Physiologische Chemie\n",
      "Physiologische Psychologie\n",
      "Sportphysiologie\n",
      "Leistungsphysiologie\n",
      "Physiologische Psychiatrie\n",
      "Elektrophysiologie\n",
      "Entwicklungsphysiologie\n",
      "Ernährungsphysiologie\n",
      "Höhenphysiologie\n",
      "Nacherntephysiologie\n",
      "Stoffwechselphysiologie\n",
      "Vegetative Physiologie\n",
      "Verhaltensphysiologie\n",
      "Physiologe\n",
      "Physiologin\n",
      "Physiologische Akustik\n",
      "Pflanzenphysiologe\n",
      "Pflanzenphysiologin\n",
      "Bernoulli-Balken\n",
      "Bathybius haeckelii\n"
     ]
    }
   ],
   "source": [
    "person_nodes = [x for x,y in G.nodes(data=True) if y['type']==\"PerName\"]\n",
    "resources_and_works_nodes = [x for x,y in G.nodes(data=True) if y['type'] in [\"Resource\", \"UniTitle\"]]\n",
    "corps_nodes = [x for x,y in G.nodes(data=True) if y['type']==\"CorpName\"]\n",
    "topicterm_nodes = [x for x,y in G.nodes(data=True) if y['type']==\"TopicTerm\"]\n",
    "\n",
    "\n",
    "print(\"Number of Persons in Graph: \", len(person_nodes))\n",
    "print(\"Number of Resources and Works in Graph: \", len(resources_and_works_nodes))\n",
    "print(\"Number of Corporations in Graph: \", len(corps_nodes))\n",
    "print(\"\")\n",
    "print(\"## Topic Terms in Graph: ## \")\n",
    "for node in topicterm_nodes:\n",
    "    print(G.nodes(data=True)[node][\"label\"])"
   ]
  },
  {
   "cell_type": "code",
   "execution_count": 108,
   "id": "important-zealand",
   "metadata": {},
   "outputs": [
    {
     "data": {
      "text/plain": [
       "3.64757734467894e-05"
      ]
     },
     "execution_count": 108,
     "metadata": {},
     "output_type": "execute_result"
    }
   ],
   "source": [
    "import networkx as nx\n",
    "\n",
    "nx.density(G)"
   ]
  },
  {
   "cell_type": "markdown",
   "id": "palestinian-edinburgh",
   "metadata": {},
   "source": [
    "# Investigating the Persons"
   ]
  },
  {
   "cell_type": "markdown",
   "id": "starting-harassment",
   "metadata": {},
   "source": [
    "## Centrality Investigation"
   ]
  },
  {
   "cell_type": "markdown",
   "id": "bright-parallel",
   "metadata": {},
   "source": [
    "At first we are going to investigate the centrality of the physiology network. By assessing the centrality we actually calculate the importance of the nodes. \n",
    "\n",
    " "
   ]
  },
  {
   "cell_type": "markdown",
   "id": "buried-technician",
   "metadata": {},
   "source": [
    "### Eigenvector Centrality"
   ]
  },
  {
   "cell_type": "code",
   "execution_count": 119,
   "id": "controlled-uruguay",
   "metadata": {},
   "outputs": [],
   "source": [
    "eigenvectors = nx.eigenvector_centrality_numpy(G)"
   ]
  },
  {
   "cell_type": "code",
   "execution_count": 121,
   "id": "amateur-appendix",
   "metadata": {},
   "outputs": [],
   "source": [
    "from operator import itemgetter\n",
    "\n",
    "eigenvectors_sorted = sorted(eigenvectors.items(), key = itemgetter(1), reverse = True)\n",
    "eigenvectors_filtered = [item for item in eigenvectors_sorted if item[0] in person_nodes]\n",
    "top_eigenvectors = eigenvectors_filtered[:10]"
   ]
  },
  {
   "cell_type": "code",
   "execution_count": 122,
   "id": "laughing-speed",
   "metadata": {},
   "outputs": [
    {
     "name": "stdout",
     "output_type": "stream",
     "text": [
      "Name: Wundt, Wilhelm | Eigenvector Centrality: 0.7070494505966636\n",
      "Name: Wundt, Marie Friederike | Eigenvector Centrality: 0.009074726145276537\n",
      "Name: Arnold, Ida Eberhardina | Eigenvector Centrality: 0.009074726145276532\n",
      "Name: Wundt, Wilhelm | Eigenvector Centrality: 0.009062579963126097\n",
      "Name: Wundt, Eleonore | Eigenvector Centrality: 0.009062579963126092\n",
      "Name: Wundt, Magdalena | Eigenvector Centrality: 0.00906257996312609\n",
      "Name: Wundt, Ludwig | Eigenvector Centrality: 0.009062579963126089\n",
      "Name: Wundt, Sophie | Eigenvector Centrality: 0.009062579963126087\n",
      "Name: Wundt, Max | Eigenvector Centrality: 0.009062579963126087\n",
      "Name: Wundt, Maximilian | Eigenvector Centrality: 0.009062579963126087\n"
     ]
    }
   ],
   "source": [
    "for i in top_eigenvectors: \n",
    "    degree = eigenvectors[i[0]] \n",
    "    print(\"Name:\", G.nodes(data = True)[i[0]][\"label\"], \"| Eigenvector Centrality:\", i[1])"
   ]
  },
  {
   "cell_type": "markdown",
   "id": "neural-sacramento",
   "metadata": {},
   "source": [
    "### PageRank"
   ]
  },
  {
   "cell_type": "code",
   "execution_count": 123,
   "id": "mobile-extra",
   "metadata": {},
   "outputs": [],
   "source": [
    "pageranks = nx.pagerank(G)"
   ]
  },
  {
   "cell_type": "code",
   "execution_count": 124,
   "id": "respiratory-antenna",
   "metadata": {},
   "outputs": [],
   "source": [
    "from operator import itemgetter\n",
    "\n",
    "pageranks_sorted = sorted(pageranks.items(), key = itemgetter(1), reverse = True)\n",
    "pageranks_filtered = [item for item in pageranks_sorted if item[0] in person_nodes]\n",
    "top_pageranks = pageranks_filtered[:10]"
   ]
  },
  {
   "cell_type": "code",
   "execution_count": 125,
   "id": "professional-console",
   "metadata": {},
   "outputs": [
    {
     "name": "stdout",
     "output_type": "stream",
     "text": [
      "Name: Wundt, Wilhelm | PageRank Centrality: 0.07749802724851465\n",
      "Name: Oken, Lorenz | PageRank Centrality: 0.028146978668306927\n",
      "Name: Baer, Karl Ernst von | PageRank Centrality: 0.019040751791885017\n",
      "Name: Cohn, Jonas | PageRank Centrality: 0.01496615179743833\n",
      "Name: Pirson, André | PageRank Centrality: 0.014152577093836416\n",
      "Name: Eccles, John C. | PageRank Centrality: 0.013947577661537536\n",
      "Name: Haller, Albrecht von | PageRank Centrality: 0.013138540797033306\n",
      "Name: Du Bois- Reymond, Emil Heinrich | PageRank Centrality: 0.010103140633417208\n",
      "Name: Sömmerring, Samuel Thomas von | PageRank Centrality: 0.009926079219744307\n",
      "Name: Euler, Leonhard | PageRank Centrality: 0.008790405208168936\n"
     ]
    }
   ],
   "source": [
    "for i in top_pageranks: \n",
    "    degree = pageranks[i[0]] \n",
    "    print(\"Name:\", G.nodes(data = True)[i[0]][\"label\"], \"| PageRank Centrality:\", i[1])"
   ]
  },
  {
   "cell_type": "markdown",
   "id": "clean-voice",
   "metadata": {},
   "source": [
    "### Centrality of Women"
   ]
  },
  {
   "cell_type": "markdown",
   "id": "bibliographic-trinidad",
   "metadata": {},
   "source": [
    "We can apply another filter to our "
   ]
  },
  {
   "cell_type": "markdown",
   "id": "democratic-failure",
   "metadata": {},
   "source": [
    "## Investigating Cliques"
   ]
  },
  {
   "cell_type": "code",
   "execution_count": 173,
   "id": "elect-pricing",
   "metadata": {},
   "outputs": [],
   "source": [
    "cliques = nx.find_cliques(G)\n",
    "#sorted(list(cliques), key = len, reverse=True)"
   ]
  },
  {
   "cell_type": "code",
   "execution_count": 180,
   "id": "virtual-marriage",
   "metadata": {},
   "outputs": [],
   "source": [
    "cliques_of_three = [clique for clique in cliques if len(clique) >= 3]\n",
    "clique_nodes = set(n for clique in cliques_of_three for n in clique)\n",
    "h = G.subgraph(clique_nodes)"
   ]
  },
  {
   "cell_type": "code",
   "execution_count": 181,
   "id": "verified-challenge",
   "metadata": {},
   "outputs": [
    {
     "data": {
      "text/html": [
       "\n",
       "        <iframe\n",
       "            width=\"100%\"\n",
       "            height=\"750px\"\n",
       "            src=\"./html_networks/test.html\"\n",
       "            frameborder=\"0\"\n",
       "            allowfullscreen\n",
       "        ></iframe>\n",
       "        "
      ],
      "text/plain": [
       "<IPython.lib.display.IFrame at 0x7f7806c00d00>"
      ]
     },
     "execution_count": 181,
     "metadata": {},
     "output_type": "execute_result"
    }
   ],
   "source": [
    "from helper_functions.helper_fun import to_nx_graph\n",
    "from pyvis.network import Network\n",
    "\n",
    "nt = Network('750px', '100%', notebook=True)\n",
    "nt.from_nx(h)\n",
    "nt.set_edge_smooth(\"dynamic\")\n",
    "nt.show('./html_networks/cliques.html')"
   ]
  },
  {
   "cell_type": "markdown",
   "id": "fluid-crawford",
   "metadata": {},
   "source": [
    "# Investigating predefined set of Physiologists"
   ]
  },
  {
   "cell_type": "markdown",
   "id": "seventh-meaning",
   "metadata": {},
   "source": [
    "* Gustav Fritsch (DE-588)115568808\n",
    "* Eduard Hitzig (DE-588)116917423\n",
    "* Hermann Munk (DE-588)117185930\n",
    "* Nathan Zuntz (DE-588)118896202\n",
    "* Friedrich Goltz (DE-588)116764694\n",
    "* Adolf Fick (DE-588)118800000\n",
    "* Jacques Loeb (DE-588)119133628"
   ]
  },
  {
   "cell_type": "code",
   "execution_count": null,
   "id": "documentary-jungle",
   "metadata": {},
   "outputs": [],
   "source": [
    "physiologists = [\"(DE-588)115568808\", \"(DE-588)116917423\", \"(DE-588)117185930\", \"(DE-588)118896202\", \n",
    "                 \"(DE-588)116764694\", \"(DE-588)118800000\", \"(DE-588)119133628\"]"
   ]
  },
  {
   "cell_type": "markdown",
   "id": "hairy-georgia",
   "metadata": {},
   "source": [
    "# Bibliography"
   ]
  },
  {
   "cell_type": "markdown",
   "id": "caroline-synthesis",
   "metadata": {},
   "source": [
    "Scifo, E. (2020). Hands-On Graph Analytics with Neo4j: Perform graph processing and visualization techniques using connected data across your enterprise. Birmingham, England: Packt Publishing."
   ]
  }
 ],
 "metadata": {
  "kernelspec": {
   "display_name": "Python 3",
   "language": "python",
   "name": "python3"
  },
  "language_info": {
   "codemirror_mode": {
    "name": "ipython",
    "version": 3
   },
   "file_extension": ".py",
   "mimetype": "text/x-python",
   "name": "python",
   "nbconvert_exporter": "python",
   "pygments_lexer": "ipython3",
   "version": "3.8.10"
  },
  "toc": {
   "base_numbering": 1,
   "nav_menu": {},
   "number_sections": true,
   "sideBar": true,
   "skip_h1_title": false,
   "title_cell": "Table of Contents",
   "title_sidebar": "Contents",
   "toc_cell": false,
   "toc_position": {
    "height": "calc(100% - 180px)",
    "left": "10px",
    "top": "150px",
    "width": "384px"
   },
   "toc_section_display": true,
   "toc_window_display": true
  }
 },
 "nbformat": 4,
 "nbformat_minor": 5
}
