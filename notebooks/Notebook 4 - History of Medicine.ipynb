{
 "cells": [
  {
   "cell_type": "code",
   "execution_count": 1,
   "id": "golden-affect",
   "metadata": {},
   "outputs": [],
   "source": [
    "### Loading Credentials from local file; \n",
    "### this cell is meant to be deleted before publishing\n",
    "import yaml\n",
    "\n",
    "with open(\"../creds.yml\", 'r') as ymlfile:\n",
    "    cfg = yaml.safe_load(ymlfile)\n",
    "\n",
    "uri = cfg[\"sonar_creds\"][\"uri\"]\n",
    "user = cfg[\"sonar_creds\"][\"user\"]\n",
    "password = cfg[\"sonar_creds\"][\"pass\"]"
   ]
  },
  {
   "cell_type": "markdown",
   "id": "inclusive-muscle",
   "metadata": {},
   "source": [
    "# Check Physiology related topic terms"
   ]
  },
  {
   "cell_type": "markdown",
   "id": "unavailable-brick",
   "metadata": {},
   "source": [
    "Search for \"hysiolog\" as substring for Physiology to retrieve every possible string containing.\n"
   ]
  },
  {
   "cell_type": "code",
   "execution_count": 2,
   "id": "prime-angle",
   "metadata": {},
   "outputs": [
    {
     "data": {
      "text/plain": [
       "[{'(t.Name)': 'Arbeitsphysiologie'},\n",
       " {'(t.Name)': 'Neurophysiologie'},\n",
       " {'(t.Name)': 'Pathophysiologie'},\n",
       " {'(t.Name)': 'Pflanzenphysiologie'},\n",
       " {'(t.Name)': 'Physiologie'},\n",
       " {'(t.Name)': 'Sinnesphysiologie'},\n",
       " {'(t.Name)': 'Tierphysiologie'},\n",
       " {'(t.Name)': 'Physiologische Chemie'},\n",
       " {'(t.Name)': 'Physiologische Psychologie'},\n",
       " {'(t.Name)': 'Sprachphysiologie'},\n",
       " {'(t.Name)': 'Sportphysiologie'},\n",
       " {'(t.Name)': 'Leistungsphysiologie'},\n",
       " {'(t.Name)': 'Physiologische Psychiatrie'},\n",
       " {'(t.Name)': 'Elektrophysiologie'},\n",
       " {'(t.Name)': 'Altersphysiologie'},\n",
       " {'(t.Name)': 'Bewegungsphysiologie'},\n",
       " {'(t.Name)': 'Entwicklungsphysiologie'},\n",
       " {'(t.Name)': 'Ernährungsphysiologie'},\n",
       " {'(t.Name)': 'Ertragsphysiologie'},\n",
       " {'(t.Name)': 'Histophysiologie'},\n",
       " {'(t.Name)': 'Höhenphysiologie'},\n",
       " {'(t.Name)': 'Nacherntephysiologie'},\n",
       " {'(t.Name)': 'Physiologische Optik'},\n",
       " {'(t.Name)': 'Physiologische Uhr'},\n",
       " {'(t.Name)': 'Psychophysiologische Diagnostik'},\n",
       " {'(t.Name)': 'Stoffwechselphysiologie'},\n",
       " {'(t.Name)': 'Vegetative Physiologie'},\n",
       " {'(t.Name)': 'Vergleichende Neurophysiologie'},\n",
       " {'(t.Name)': 'Vergleichende Physiologie'},\n",
       " {'(t.Name)': 'Verhaltensphysiologie'},\n",
       " {'(t.Name)': 'Physiologe'},\n",
       " {'(t.Name)': 'Reizphysiologie'},\n",
       " {'(t.Name)': 'Experimentelle Physiologie'},\n",
       " {'(t.Name)': 'Zellphysiologie'},\n",
       " {'(t.Name)': 'Muskelphysiologie'},\n",
       " {'(t.Name)': 'Physiologin'},\n",
       " {'(t.Name)': 'Physiologische Akustik'},\n",
       " {'(t.Name)': 'Tauchphysiologie'},\n",
       " {'(t.Name)': 'Umweltphysiologie'},\n",
       " {'(t.Name)': 'Ignaz-L.-Lieben-Preis für Physik, Chemie und Physiologie'},\n",
       " {'(t.Name)': 'Elektrophysiologische Untersuchung'},\n",
       " {'(t.Name)': 'Pflanzenphysiologe'},\n",
       " {'(t.Name)': 'Pflanzenphysiologin'}]"
      ]
     },
     "execution_count": 2,
     "metadata": {},
     "output_type": "execute_result"
    }
   ],
   "source": [
    "from neo4j import GraphDatabase\n",
    "\n",
    "driver = GraphDatabase.driver(uri, auth=(user, password))\n",
    "\n",
    "query = \"\"\"\n",
    "MATCH (t:TopicTerm)\n",
    "WHERE t.Name CONTAINS \"hysiolog\"\n",
    "RETURN DISTINCT(t.Name)\n",
    "\"\"\"\n",
    "\n",
    "with driver.session() as session:\n",
    "    all_physiology_terms = session.run(query).data()\n",
    "    \n",
    "all_physiology_terms"
   ]
  },
  {
   "cell_type": "markdown",
   "id": "descending-completion",
   "metadata": {},
   "source": [
    "With this in mind we can create a full network that contains every person connected to any kind of Physiological topic term. Also, we use the function `apoc.algo.cover(n)` to retrieve any kind of relationship between the persons connected to Physiological topic terms."
   ]
  },
  {
   "cell_type": "code",
   "execution_count": 3,
   "id": "accepted-switch",
   "metadata": {},
   "outputs": [],
   "source": [
    "from helper_functions.helper_fun import to_nx_graph\n",
    "\n",
    "query = \"\"\"\n",
    "MATCH (t:TopicTerm)-[r]-(n:PerName)\n",
    "WHERE t.Name CONTAINS \"hysiolog\"\n",
    "RETURN *\n",
    "\"\"\"\n",
    "\n",
    "driver = GraphDatabase.driver(uri, auth=(user, password))\n",
    "\n",
    "G = to_nx_graph(neo4j_driver = driver, \n",
    "                query = query)"
   ]
  },
  {
   "cell_type": "markdown",
   "id": "amended-there",
   "metadata": {},
   "source": [
    "Check which topic terms aren't present in query result:"
   ]
  },
  {
   "cell_type": "code",
   "execution_count": 5,
   "id": "advanced-strand",
   "metadata": {},
   "outputs": [
    {
     "data": {
      "text/plain": [
       "array(['Altersphysiologie', 'Bewegungsphysiologie',\n",
       "       'Elektrophysiologische Untersuchung', 'Ertragsphysiologie',\n",
       "       'Experimentelle Physiologie', 'Histophysiologie',\n",
       "       'Ignaz-L.-Lieben-Preis für Physik, Chemie und Physiologie',\n",
       "       'Muskelphysiologie', 'Physiologische Optik', 'Physiologische Uhr',\n",
       "       'Psychophysiologische Diagnostik', 'Reizphysiologie',\n",
       "       'Sprachphysiologie', 'Tauchphysiologie', 'Umweltphysiologie',\n",
       "       'Vergleichende Neurophysiologie', 'Vergleichende Physiologie',\n",
       "       'Zellphysiologie'], dtype='<U57')"
      ]
     },
     "execution_count": 5,
     "metadata": {},
     "output_type": "execute_result"
    }
   ],
   "source": [
    "import numpy as np\n",
    "\n",
    "relevant_topics = []\n",
    "for node in list(G.nodes):\n",
    "    if G.nodes[node][\"type\"] == \"TopicTerm\":\n",
    "        relevant_topics.append((G.nodes[node][\"label\"]))\n",
    "\n",
    "np.setdiff1d([d[\"(t.Name)\"] for d in all_physiology_terms], relevant_topics)"
   ]
  },
  {
   "cell_type": "markdown",
   "id": "nominated-dispute",
   "metadata": {},
   "source": [
    "@todo add colors to network below by node type"
   ]
  },
  {
   "cell_type": "code",
   "execution_count": 6,
   "id": "maritime-dublin",
   "metadata": {},
   "outputs": [],
   "source": [
    "from helper_functions.helper_fun import to_nx_graph\n",
    "from pyvis.network import Network\n",
    "\n",
    "nt = Network('750px', '100%', notebook=True, directed = True)\n",
    "nt.from_nx(G)\n",
    "nt.set_edge_smooth(\"dynamic\")\n",
    "#nt.show('./html_networks/physiological_net.html')"
   ]
  },
  {
   "cell_type": "markdown",
   "id": "copyrighted-rally",
   "metadata": {},
   "source": [
    "# Full network query"
   ]
  },
  {
   "cell_type": "code",
   "execution_count": 49,
   "id": "speaking-feeding",
   "metadata": {},
   "outputs": [
    {
     "name": "stdout",
     "output_type": "stream",
     "text": [
      "CPU times: user 3.07 s, sys: 81.8 ms, total: 3.15 s\n",
      "Wall time: 3.86 s\n"
     ]
    }
   ],
   "source": [
    "%%time\n",
    "\n",
    "from helper_functions.helper_fun import to_nx_graph\n",
    "\n",
    "query = \"\"\"\n",
    "MATCH (t:TopicTerm)--(n:PerName)\n",
    "WHERE t.Name CONTAINS \"hysiolog\"\n",
    "WITH DISTINCT [x in collect(t)+collect(n)|id(x)] as collectedIds \n",
    "MATCH (n)-[rel1:RelationToPerName]-(n2)\n",
    "WHERE id(n) in collectedIds\n",
    "RETURN n, n2, rel1\n",
    "LIMIT 10000\n",
    "\"\"\"\n",
    "\n",
    "\n",
    "driver = GraphDatabase.driver(uri, auth=(user, password))\n",
    "\n",
    "G = to_nx_graph(neo4j_driver = driver, \n",
    "                query = query)"
   ]
  },
  {
   "cell_type": "code",
   "execution_count": 50,
   "id": "atlantic-mistake",
   "metadata": {},
   "outputs": [
    {
     "data": {
      "text/plain": [
       "9619"
      ]
     },
     "execution_count": 50,
     "metadata": {},
     "output_type": "execute_result"
    }
   ],
   "source": [
    "G.number_of_edges()"
   ]
  },
  {
   "cell_type": "markdown",
   "id": "transsexual-house",
   "metadata": {},
   "source": [
    "## Betweenness Centrality"
   ]
  },
  {
   "cell_type": "code",
   "execution_count": 51,
   "id": "italic-domain",
   "metadata": {},
   "outputs": [
    {
     "name": "stdout",
     "output_type": "stream",
     "text": [
      "CPU times: user 2min 2s, sys: 7.5 ms, total: 2min 2s\n",
      "Wall time: 2min 2s\n"
     ]
    }
   ],
   "source": [
    "%%time\n",
    "import networkx as nx\n",
    "betweenness = nx.betweenness_centrality(G)"
   ]
  },
  {
   "cell_type": "code",
   "execution_count": 52,
   "id": "aware-large",
   "metadata": {},
   "outputs": [],
   "source": [
    "from operator import itemgetter\n",
    "\n",
    "betweenness_sorted = sorted(betweenness.items(), key = itemgetter(1), reverse = True)\n",
    "top_betweenness = betweenness_sorted[:20]"
   ]
  },
  {
   "cell_type": "code",
   "execution_count": 54,
   "id": "polar-accommodation",
   "metadata": {},
   "outputs": [
    {
     "name": "stdout",
     "output_type": "stream",
     "text": [
      "Name: Eccles, John C. | Betweenness Centrality: 0.03965229437712333\n",
      "Name: Weber, Ernst Heinrich | Betweenness Centrality: 0.019406124974935234\n",
      "Name: Engelmann, Wilhelm | Betweenness Centrality: 0.018738346501259856\n",
      "Name: Sömmerring, Samuel Thomas von | Betweenness Centrality: 0.017893257091632652\n",
      "Name: None | Betweenness Centrality: 0.010001680253670908\n",
      "Name: Frey, Max von | Betweenness Centrality: 0.009720930048847786\n",
      "Name: Ludwig, Carl | Betweenness Centrality: 0.00878704841846009\n",
      "Name: Zuntz, Nathan | Betweenness Centrality: 0.00774113642503953\n",
      "Name: Hermann, Ludimar | Betweenness Centrality: 0.0076126218401466016\n",
      "Name: Trendelenburg, Wilhelm | Betweenness Centrality: 0.005407824591234358\n",
      "Name: Handbuch der Physiologie der Bewegungsapparate | Betweenness Centrality: 0.005234866959360121\n",
      "Name: Schmidt, Robert F. | Betweenness Centrality: 0.004979847310878396\n",
      "Name: Tiedemann, Friedrich | Betweenness Centrality: 0.00487144399698474\n",
      "Name: Handbuch der Physiologie des Kreislaufs, der Athmung und der thierischen Wärme | Betweenness Centrality: 0.00468722130681012\n",
      "Name: Hering, Ewald | Betweenness Centrality: 0.0045754149770232165\n",
      "Name: Rede zum Gedächtniss an Ernst Heinrich Weber | Betweenness Centrality: 0.0040785008817144424\n",
      "Name: None | Betweenness Centrality: 0.0040785008817144424\n",
      "Name: Brücke, Ernst Wilhelm von | Betweenness Centrality: 0.003398799781778505\n",
      "Name: Döllinger, Ignaz | Betweenness Centrality: 0.003376536209148551\n",
      "Name: None | Betweenness Centrality: 0.0033453083510468517\n"
     ]
    }
   ],
   "source": [
    "for i in top_betweenness: \n",
    "    degree = betweenness[i[0]] # Use degree_dict to access a node's degree, see footnote 2\n",
    "    print(\"Name:\", G.nodes(data = True)[i[0]][\"label\"], \"| Betweenness Centrality:\", i[1])"
   ]
  },
  {
   "cell_type": "code",
   "execution_count": 46,
   "id": "raising-adobe",
   "metadata": {},
   "outputs": [
    {
     "data": {
      "text/plain": [
       "'Zuntz, Nathan'"
      ]
     },
     "execution_count": 46,
     "metadata": {},
     "output_type": "execute_result"
    }
   ],
   "source": [
    "G.nodes(data = True)[2950836][\"label\"]"
   ]
  },
  {
   "cell_type": "markdown",
   "id": "impossible-programming",
   "metadata": {},
   "source": [
    "## 7 Physiologists Network"
   ]
  },
  {
   "cell_type": "markdown",
   "id": "concrete-pollution",
   "metadata": {},
   "source": [
    "* Gustav Fritsch (DE-588)115568808\n",
    "* Eduard Hitzig (DE-588)116917423\n",
    "* Hermann Munk (DE-588)117185930\n",
    "* Nathan Zuntz (DE-588)118896202\n",
    "* Friedrich Goltz (DE-588)116764694\n",
    "* Adolf Fick (DE-588)118800000\n",
    "* Jacques Loeb (DE-588)119133628"
   ]
  },
  {
   "cell_type": "code",
   "execution_count": null,
   "id": "quiet-delhi",
   "metadata": {},
   "outputs": [],
   "source": [
    "physiologists = [\"(DE-588)115568808\", \"(DE-588)116917423\", \"(DE-588)117185930\", \"(DE-588)118896202\", \n",
    "                 \"(DE-588)116764694\", \"(DE-588)118800000\", \"(DE-588)119133628\"]\n",
    "\n"
   ]
  }
 ],
 "metadata": {
  "kernelspec": {
   "display_name": "Python 3",
   "language": "python",
   "name": "python3"
  },
  "language_info": {
   "codemirror_mode": {
    "name": "ipython",
    "version": 3
   },
   "file_extension": ".py",
   "mimetype": "text/x-python",
   "name": "python",
   "nbconvert_exporter": "python",
   "pygments_lexer": "ipython3",
   "version": "3.8.10"
  },
  "toc": {
   "base_numbering": 1,
   "nav_menu": {},
   "number_sections": true,
   "sideBar": true,
   "skip_h1_title": false,
   "title_cell": "Table of Contents",
   "title_sidebar": "Contents",
   "toc_cell": false,
   "toc_position": {},
   "toc_section_display": true,
   "toc_window_display": false
  }
 },
 "nbformat": 4,
 "nbformat_minor": 5
}
