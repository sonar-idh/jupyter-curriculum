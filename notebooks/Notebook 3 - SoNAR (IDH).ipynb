{
 "cells": [
  {
   "cell_type": "markdown",
   "id": "completed-frame",
   "metadata": {},
   "source": [
    "# Project Summary\n",
    "\n",
    "## Citing SoNAR (IDH)"
   ]
  },
  {
   "cell_type": "markdown",
   "id": "hindu-funeral",
   "metadata": {},
   "source": [
    "# Data Description\n"
   ]
  },
  {
   "cell_type": "markdown",
   "id": "solid-manner",
   "metadata": {},
   "source": [
    "## Summary Stats"
   ]
  },
  {
   "cell_type": "markdown",
   "id": "growing-prague",
   "metadata": {},
   "source": [
    "## Data Sources"
   ]
  },
  {
   "cell_type": "markdown",
   "id": "alpine-bulgarian",
   "metadata": {},
   "source": [
    "## Data Preparation"
   ]
  },
  {
   "cell_type": "markdown",
   "id": "skilled-permission",
   "metadata": {},
   "source": [
    "# Data Access"
   ]
  },
  {
   "cell_type": "markdown",
   "id": "extensive-myanmar",
   "metadata": {},
   "source": [
    "We will need some specific libraries to work with the SoNAR (IDH) database. Let's start with installing the `neo4j` library.\n",
    "\n",
    "When you are using the curriculum on binder or locally or by running it as a docker container locally, the pacckage is already installed. When you want to interact with the SoNAR (IDH) database independently install the package with the following code line in a new notebook cell:\n",
    "\n",
    "```python\n",
    "!pip install neo4j\n",
    "```"
   ]
  },
  {
   "cell_type": "code",
   "execution_count": 4,
   "id": "emerging-pointer",
   "metadata": {},
   "outputs": [],
   "source": [
    "import yaml\n",
    "\n",
    "with open(\"../creds.yml\", 'r') as ymlfile:\n",
    "    cfg = yaml.safe_load(ymlfile)\n",
    "\n",
    "uri = cfg[\"sonar_creds\"][\"uri\"]\n",
    "user = cfg[\"sonar_creds\"][\"user\"]\n",
    "password = cfg[\"sonar_creds\"][\"pass\"]"
   ]
  },
  {
   "cell_type": "code",
   "execution_count": 179,
   "id": "constant-process",
   "metadata": {},
   "outputs": [],
   "source": [
    "from neo4j import GraphDatabase\n",
    "\n",
    "driver = GraphDatabase.driver(uri, auth=(user, password))"
   ]
  },
  {
   "cell_type": "markdown",
   "id": "controlled-enterprise",
   "metadata": {},
   "source": [
    "With the call above we create a [Neo4j driver object](https://neo4j.com/docs/api/python-driver/current/api.html#driver). This driver now stores the connection details for the database. We can use this driver now to send requests to the database for example to request data."
   ]
  },
  {
   "cell_type": "markdown",
   "id": "communist-medium",
   "metadata": {},
   "source": [
    "# Data Exploration"
   ]
  },
  {
   "cell_type": "markdown",
   "id": "ancient-chain",
   "metadata": {},
   "source": [
    "Data exploration is usually the very first thing to do when working with new data. So let's start diving into the SoNAR (IDH) database by exploring it. \n",
    "\n",
    "Whenever we want to retrieve data from the Neo4j database of SoNAR (IDH) we can use a query language called \"Cypher Query Language\". Cypher provides a rather easy to comprehend syntax for requesting data from the database.\n",
    "\n",
    "Throughout this curriculum we will use this Cypher Query Language whenever we directly retrieve data from SoNAR (IDH)."
   ]
  },
  {
   "cell_type": "markdown",
   "id": "headed-comparative",
   "metadata": {},
   "source": [
    "## Node Labels"
   ]
  },
  {
   "cell_type": "markdown",
   "id": "amended-apple",
   "metadata": {},
   "source": [
    "Let's start off with a simple query. Let's request the database to return all [node labels](https://neo4j.com/docs/getting-started/current/graphdb-concepts/#graphdb-labels). Node labels are basically the categories the nodes can belong to. You can think of them as entity groups. The SoNAR (IDH) database distinguishes between Persons, Corporations and more. Let's ask the database it self to return all the labels available. "
   ]
  },
  {
   "cell_type": "code",
   "execution_count": 80,
   "id": "multiple-country",
   "metadata": {},
   "outputs": [
    {
     "name": "stdout",
     "output_type": "stream",
     "text": [
      "[{'label': 'CorpName'}, {'label': 'GeoName'}, {'label': 'MeetName'}, {'label': 'PerName'}, {'label': 'TopicTerm'}, {'label': 'UniTitle'}, {'label': 'ChronTerm'}, {'label': 'IsilTerm'}, {'label': 'Resource'}]\n"
     ]
    }
   ],
   "source": [
    "with driver.session() as session:\n",
    "    print(session.run(\"CALL db.labels()\").data())"
   ]
  },
  {
   "cell_type": "markdown",
   "id": "fallen-protein",
   "metadata": {},
   "source": [
    "**Code Breakdown:**\n",
    "\n",
    "*`with` [..] `as` [..] `:`*  \n",
    ">The `with` statement is basically used to make the database call as resource effective and concise as possible. Everything that happens within the `with` statement will only be temporarily kept in memory. The `as` assigns the `with` definition to an object we can use inside the `with block`.\n",
    ">\n",
    ">There are more advantages of the `with` call but their explanation would exceed the goal of this curriculum. However, an in-depth explanation of the `with` statement can be found [here](https://www.python.org/dev/peps/pep-0343/).\n",
    "\n",
    "*`driver.session()` [as] `session`*\n",
    ">When we request data from the database we need to establish a connection (`session`). The `driver` object we created earlier stores the connection details. When we use the method `driver.session()` we establish a new connection. This connection is assigned to the object `session` object for the `while` statement.\n",
    "\n",
    "*`print(` [..] `)`*\n",
    "> The print function is wrapped around the actual database request to see the result below the cell.\n",
    "\n",
    "*`session.run(`[..]`).data()`*\n",
    "> This is the part of the code that actually sends the request to the database and returns the answer. `session.run()` ingests a Cypher query. The method `.data()` can be used to return the plain data the database returned.\n",
    "\n",
    "*`\"CALL db.labels()\"`*\n",
    "> This is the actual Cypher query. The `CALL` clause is used to call the `db.labels()` procedure. More details about Neo4j procedures can be found below.\n",
    "\n",
    "\n",
    "The result of this code chunk is a list that contains a key-value pair (`dictionary`) per label in the database.  "
   ]
  },
  {
   "cell_type": "markdown",
   "id": "economic-tonight",
   "metadata": {},
   "source": [
    "Some useful built-in procedures for exploring and describing the database are listed in the table below. You can get a full list of built-in procedures by using the following query: `CALL dbms.procedures()`\n",
    "\n",
    "\n",
    "|Procedure | Description |\n",
    "|---------|----------|\n",
    "|`db.labels()`| List all labels in the database.|\n",
    "|`db.propertyKeys()`|List all property keys in the database.|\n",
    "|`db.relationshipTypes`|List all relationship types in the database. |\n",
    "|`db.schema`| Show the schema of the data. |\n",
    "|`db.stats.retrieve`|Retrieve statistical data about the current database. <br>Valid sections are 'GRAPH COUNTS', 'TOKENS', 'QUERIES', 'META'|"
   ]
  },
  {
   "cell_type": "markdown",
   "id": "continued-traffic",
   "metadata": {},
   "source": [
    "The code chunk above is a very short way to retrieve the available labels but it does not produce the most \"pretty\" and usable output. So let's check some alternative ways to retrieve the same data in different styles."
   ]
  },
  {
   "cell_type": "markdown",
   "id": "pursuant-prior",
   "metadata": {},
   "source": [
    "### Node labels as data frame"
   ]
  },
  {
   "cell_type": "code",
   "execution_count": 157,
   "id": "civic-requirement",
   "metadata": {},
   "outputs": [
    {
     "data": {
      "text/html": [
       "<div>\n",
       "<style scoped>\n",
       "    .dataframe tbody tr th:only-of-type {\n",
       "        vertical-align: middle;\n",
       "    }\n",
       "\n",
       "    .dataframe tbody tr th {\n",
       "        vertical-align: top;\n",
       "    }\n",
       "\n",
       "    .dataframe thead th {\n",
       "        text-align: right;\n",
       "    }\n",
       "</style>\n",
       "<table border=\"1\" class=\"dataframe\">\n",
       "  <thead>\n",
       "    <tr style=\"text-align: right;\">\n",
       "      <th></th>\n",
       "      <th>label</th>\n",
       "    </tr>\n",
       "  </thead>\n",
       "  <tbody>\n",
       "    <tr>\n",
       "      <th>0</th>\n",
       "      <td>CorpName</td>\n",
       "    </tr>\n",
       "    <tr>\n",
       "      <th>1</th>\n",
       "      <td>GeoName</td>\n",
       "    </tr>\n",
       "    <tr>\n",
       "      <th>2</th>\n",
       "      <td>MeetName</td>\n",
       "    </tr>\n",
       "    <tr>\n",
       "      <th>3</th>\n",
       "      <td>PerName</td>\n",
       "    </tr>\n",
       "    <tr>\n",
       "      <th>4</th>\n",
       "      <td>TopicTerm</td>\n",
       "    </tr>\n",
       "    <tr>\n",
       "      <th>5</th>\n",
       "      <td>UniTitle</td>\n",
       "    </tr>\n",
       "    <tr>\n",
       "      <th>6</th>\n",
       "      <td>ChronTerm</td>\n",
       "    </tr>\n",
       "    <tr>\n",
       "      <th>7</th>\n",
       "      <td>IsilTerm</td>\n",
       "    </tr>\n",
       "    <tr>\n",
       "      <th>8</th>\n",
       "      <td>Resource</td>\n",
       "    </tr>\n",
       "  </tbody>\n",
       "</table>\n",
       "</div>"
      ],
      "text/plain": [
       "       label\n",
       "0   CorpName\n",
       "1    GeoName\n",
       "2   MeetName\n",
       "3    PerName\n",
       "4  TopicTerm\n",
       "5   UniTitle\n",
       "6  ChronTerm\n",
       "7   IsilTerm\n",
       "8   Resource"
      ]
     },
     "execution_count": 157,
     "metadata": {},
     "output_type": "execute_result"
    }
   ],
   "source": [
    "import pandas as pd\n",
    "\n",
    "with driver.session() as session:\n",
    "    result = session.run(\"CALL db.labels()\").data()\n",
    "\n",
    "pd.DataFrame(result)"
   ]
  },
  {
   "cell_type": "markdown",
   "id": "neither-imagination",
   "metadata": {},
   "source": [
    "### Node labels as list"
   ]
  },
  {
   "cell_type": "code",
   "execution_count": 158,
   "id": "referenced-lithuania",
   "metadata": {},
   "outputs": [
    {
     "data": {
      "text/plain": [
       "['CorpName',\n",
       " 'GeoName',\n",
       " 'MeetName',\n",
       " 'PerName',\n",
       " 'TopicTerm',\n",
       " 'UniTitle',\n",
       " 'ChronTerm',\n",
       " 'IsilTerm',\n",
       " 'Resource']"
      ]
     },
     "execution_count": 158,
     "metadata": {},
     "output_type": "execute_result"
    }
   ],
   "source": [
    "with driver.session() as session:\n",
    "    result = session.run(\"CALL db.labels()\")\n",
    "    node_list = [row[\"label\"] for row in result]\n",
    "\n",
    "node_list"
   ]
  },
  {
   "cell_type": "markdown",
   "id": "medium-cambodia",
   "metadata": {},
   "source": [
    "# Descriptive Analyses"
   ]
  },
  {
   "cell_type": "markdown",
   "id": "manufactured-native",
   "metadata": {},
   "source": [
    "## Summarise Node Labels"
   ]
  },
  {
   "cell_type": "code",
   "execution_count": 177,
   "id": "severe-lingerie",
   "metadata": {},
   "outputs": [
    {
     "data": {
      "text/html": [
       "<div>\n",
       "<style scoped>\n",
       "    .dataframe tbody tr th:only-of-type {\n",
       "        vertical-align: middle;\n",
       "    }\n",
       "\n",
       "    .dataframe tbody tr th {\n",
       "        vertical-align: top;\n",
       "    }\n",
       "\n",
       "    .dataframe thead th {\n",
       "        text-align: right;\n",
       "    }\n",
       "</style>\n",
       "<table border=\"1\" class=\"dataframe\">\n",
       "  <thead>\n",
       "    <tr style=\"text-align: right;\">\n",
       "      <th></th>\n",
       "      <th>label</th>\n",
       "      <th>count</th>\n",
       "    </tr>\n",
       "  </thead>\n",
       "  <tbody>\n",
       "    <tr>\n",
       "      <th>7</th>\n",
       "      <td>IsilTerm</td>\n",
       "      <td>611</td>\n",
       "    </tr>\n",
       "    <tr>\n",
       "      <th>4</th>\n",
       "      <td>TopicTerm</td>\n",
       "      <td>212135</td>\n",
       "    </tr>\n",
       "    <tr>\n",
       "      <th>1</th>\n",
       "      <td>GeoName</td>\n",
       "      <td>308197</td>\n",
       "    </tr>\n",
       "    <tr>\n",
       "      <th>5</th>\n",
       "      <td>UniTitle</td>\n",
       "      <td>385300</td>\n",
       "    </tr>\n",
       "    <tr>\n",
       "      <th>6</th>\n",
       "      <td>ChronTerm</td>\n",
       "      <td>537054</td>\n",
       "    </tr>\n",
       "    <tr>\n",
       "      <th>2</th>\n",
       "      <td>MeetName</td>\n",
       "      <td>814044</td>\n",
       "    </tr>\n",
       "    <tr>\n",
       "      <th>0</th>\n",
       "      <td>CorpName</td>\n",
       "      <td>1487711</td>\n",
       "    </tr>\n",
       "    <tr>\n",
       "      <th>3</th>\n",
       "      <td>PerName</td>\n",
       "      <td>5087660</td>\n",
       "    </tr>\n",
       "    <tr>\n",
       "      <th>8</th>\n",
       "      <td>Resource</td>\n",
       "      <td>37999093</td>\n",
       "    </tr>\n",
       "  </tbody>\n",
       "</table>\n",
       "</div>"
      ],
      "text/plain": [
       "       label     count\n",
       "7   IsilTerm       611\n",
       "4  TopicTerm    212135\n",
       "1    GeoName    308197\n",
       "5   UniTitle    385300\n",
       "6  ChronTerm    537054\n",
       "2   MeetName    814044\n",
       "0   CorpName   1487711\n",
       "3    PerName   5087660\n",
       "8   Resource  37999093"
      ]
     },
     "execution_count": 177,
     "metadata": {},
     "output_type": "execute_result"
    }
   ],
   "source": [
    "result = {\"label\": [], \"count\": []}\n",
    "\n",
    "with driver.session() as session:\n",
    "    labels = [row[\"label\"] for row in session.run(\"CALL db.labels()\")]\n",
    "    for label in labels:\n",
    "        query = f\"MATCH (:{label}) RETURN count(*) as count\"\n",
    "        count = session.run(query).single()[\"count\"]\n",
    "        result[\"label\"].append(label)\n",
    "        result[\"count\"].append(count)\n",
    "        \n",
    "node_labels_df = pd.DataFrame(result)\n",
    "node_labels_df.sort_values(by = \"count\")"
   ]
  },
  {
   "cell_type": "markdown",
   "id": "basic-monday",
   "metadata": {},
   "source": [
    "## Summarise Relationship Types\n"
   ]
  },
  {
   "cell_type": "code",
   "execution_count": 183,
   "id": "derived-brown",
   "metadata": {},
   "outputs": [
    {
     "data": {
      "text/html": [
       "<div>\n",
       "<style scoped>\n",
       "    .dataframe tbody tr th:only-of-type {\n",
       "        vertical-align: middle;\n",
       "    }\n",
       "\n",
       "    .dataframe tbody tr th {\n",
       "        vertical-align: top;\n",
       "    }\n",
       "\n",
       "    .dataframe thead th {\n",
       "        text-align: right;\n",
       "    }\n",
       "</style>\n",
       "<table border=\"1\" class=\"dataframe\">\n",
       "  <thead>\n",
       "    <tr style=\"text-align: right;\">\n",
       "      <th></th>\n",
       "      <th>relType</th>\n",
       "      <th>count</th>\n",
       "    </tr>\n",
       "  </thead>\n",
       "  <tbody>\n",
       "    <tr>\n",
       "      <th>8</th>\n",
       "      <td>RelationToUniTitle</td>\n",
       "      <td>128256</td>\n",
       "    </tr>\n",
       "    <tr>\n",
       "      <th>6</th>\n",
       "      <td>RelationToMeetName</td>\n",
       "      <td>422333</td>\n",
       "    </tr>\n",
       "    <tr>\n",
       "      <th>1</th>\n",
       "      <td>RelationToChronTerm</td>\n",
       "      <td>5446841</td>\n",
       "    </tr>\n",
       "    <tr>\n",
       "      <th>2</th>\n",
       "      <td>RelationToCorpName</td>\n",
       "      <td>6728127</td>\n",
       "    </tr>\n",
       "    <tr>\n",
       "      <th>4</th>\n",
       "      <td>RelationToGeoName</td>\n",
       "      <td>6861379</td>\n",
       "    </tr>\n",
       "    <tr>\n",
       "      <th>9</th>\n",
       "      <td>RelationToResource</td>\n",
       "      <td>7389423</td>\n",
       "    </tr>\n",
       "    <tr>\n",
       "      <th>7</th>\n",
       "      <td>RelationToPerName</td>\n",
       "      <td>20857782</td>\n",
       "    </tr>\n",
       "    <tr>\n",
       "      <th>3</th>\n",
       "      <td>RelationToTopicTerm</td>\n",
       "      <td>24068056</td>\n",
       "    </tr>\n",
       "    <tr>\n",
       "      <th>5</th>\n",
       "      <td>SocialRelation</td>\n",
       "      <td>40301595</td>\n",
       "    </tr>\n",
       "    <tr>\n",
       "      <th>0</th>\n",
       "      <td>RelationToIsilTerm</td>\n",
       "      <td>79159868</td>\n",
       "    </tr>\n",
       "  </tbody>\n",
       "</table>\n",
       "</div>"
      ],
      "text/plain": [
       "               relType     count\n",
       "8   RelationToUniTitle    128256\n",
       "6   RelationToMeetName    422333\n",
       "1  RelationToChronTerm   5446841\n",
       "2   RelationToCorpName   6728127\n",
       "4    RelationToGeoName   6861379\n",
       "9   RelationToResource   7389423\n",
       "7    RelationToPerName  20857782\n",
       "3  RelationToTopicTerm  24068056\n",
       "5       SocialRelation  40301595\n",
       "0   RelationToIsilTerm  79159868"
      ]
     },
     "execution_count": 183,
     "metadata": {},
     "output_type": "execute_result"
    }
   ],
   "source": [
    "result = {\"relType\": [], \"count\": []}\n",
    "\n",
    "with driver.session() as session:\n",
    "    rel_types = [row[\"relationshipType\"] for row in session.run(\"CALL db.relationshipTypes()\")]\n",
    "    for rel_type in rel_types:\n",
    "        query = f\"MATCH ()-[:{rel_type}]->() RETURN count(*) as count\"\n",
    "        count = session.run(query).single()[\"count\"]\n",
    "        result[\"relType\"].append(rel_type)\n",
    "        result[\"count\"].append(count)\n",
    "        \n",
    "rel_type_df = pd.DataFrame(result)\n",
    "rel_type_df.sort_values(by = \"count\")"
   ]
  },
  {
   "cell_type": "markdown",
   "id": "handed-introduction",
   "metadata": {},
   "source": [
    "# Complex Queries & Data Preparation"
   ]
  },
  {
   "cell_type": "code",
   "execution_count": null,
   "id": "unnecessary-scene",
   "metadata": {},
   "outputs": [],
   "source": []
  }
 ],
 "metadata": {
  "kernelspec": {
   "display_name": "Python 3",
   "language": "python",
   "name": "python3"
  },
  "language_info": {
   "codemirror_mode": {
    "name": "ipython",
    "version": 3
   },
   "file_extension": ".py",
   "mimetype": "text/x-python",
   "name": "python",
   "nbconvert_exporter": "python",
   "pygments_lexer": "ipython3",
   "version": "3.8.9"
  },
  "toc": {
   "base_numbering": 1,
   "nav_menu": {},
   "number_sections": true,
   "sideBar": true,
   "skip_h1_title": false,
   "title_cell": "Table of Contents",
   "title_sidebar": "Contents",
   "toc_cell": false,
   "toc_position": {
    "height": "calc(100% - 180px)",
    "left": "10px",
    "top": "150px",
    "width": "384px"
   },
   "toc_section_display": true,
   "toc_window_display": true
  },
  "varInspector": {
   "cols": {
    "lenName": 16,
    "lenType": 16,
    "lenVar": 40
   },
   "kernels_config": {
    "python": {
     "delete_cmd_postfix": "",
     "delete_cmd_prefix": "del ",
     "library": "var_list.py",
     "varRefreshCmd": "print(var_dic_list())"
    },
    "r": {
     "delete_cmd_postfix": ") ",
     "delete_cmd_prefix": "rm(",
     "library": "var_list.r",
     "varRefreshCmd": "cat(var_dic_list()) "
    }
   },
   "position": {
    "height": "343px",
    "left": "1441px",
    "right": "20px",
    "top": "162px",
    "width": "437px"
   },
   "types_to_exclude": [
    "module",
    "function",
    "builtin_function_or_method",
    "instance",
    "_Feature"
   ],
   "window_display": false
  }
 },
 "nbformat": 4,
 "nbformat_minor": 5
}
