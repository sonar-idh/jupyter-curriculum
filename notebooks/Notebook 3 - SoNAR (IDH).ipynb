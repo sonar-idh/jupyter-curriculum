{
 "cells": [
  {
   "cell_type": "code",
   "execution_count": 1,
   "id": "decimal-affiliation",
   "metadata": {},
   "outputs": [],
   "source": [
    "### Loading Credentials from local file; this cell is meant to be deleted before publishing\n",
    "import yaml\n",
    "\n",
    "with open(\"../creds.yml\", 'r') as ymlfile:\n",
    "    cfg = yaml.safe_load(ymlfile)\n",
    "\n",
    "uri = cfg[\"sonar_creds\"][\"uri\"]\n",
    "user = cfg[\"sonar_creds\"][\"user\"]\n",
    "password = cfg[\"sonar_creds\"][\"pass\"]"
   ]
  },
  {
   "cell_type": "markdown",
   "id": "irish-gasoline",
   "metadata": {},
   "source": [
    "# Project Summary\n",
    "\n",
    "## Citing SoNAR (IDH)"
   ]
  },
  {
   "cell_type": "markdown",
   "id": "acute-trust",
   "metadata": {},
   "source": [
    "# Data Description\n"
   ]
  },
  {
   "cell_type": "markdown",
   "id": "narrative-chrome",
   "metadata": {},
   "source": [
    "## Summary Stats"
   ]
  },
  {
   "cell_type": "markdown",
   "id": "superior-button",
   "metadata": {},
   "source": [
    "## Data Sources"
   ]
  },
  {
   "cell_type": "markdown",
   "id": "actual-fisher",
   "metadata": {},
   "source": [
    "## Data Preparation"
   ]
  },
  {
   "cell_type": "markdown",
   "id": "acoustic-sharp",
   "metadata": {},
   "source": [
    "# Data Access"
   ]
  },
  {
   "cell_type": "markdown",
   "id": "analyzed-technique",
   "metadata": {},
   "source": [
    "We will need some specific libraries to work with the SoNAR (IDH) database. Let's start with installing the `neo4j` library.\n",
    "\n",
    "When you are using the curriculum on binder or locally or by running it as a docker container locally, the pacckage is already installed. When you want to interact with the SoNAR (IDH) database independently install the package with the following code line in a new notebook cell:\n",
    "\n",
    "```python\n",
    "!pip install neo4j\n",
    "```"
   ]
  },
  {
   "cell_type": "code",
   "execution_count": 103,
   "id": "little-aviation",
   "metadata": {},
   "outputs": [],
   "source": [
    "from neo4j import GraphDatabase\n",
    "\n",
    "driver = GraphDatabase.driver(uri, auth=(user, password))"
   ]
  },
  {
   "cell_type": "markdown",
   "id": "ignored-prague",
   "metadata": {},
   "source": [
    "With the call above we create a [Neo4j driver object](https://neo4j.com/docs/api/python-driver/current/api.html#driver). This driver now stores the connection details for the database. We can use this driver now to send requests to the database for example to request data."
   ]
  },
  {
   "cell_type": "markdown",
   "id": "comfortable-honduras",
   "metadata": {},
   "source": [
    "# Data Exploration"
   ]
  },
  {
   "cell_type": "markdown",
   "id": "arbitrary-behavior",
   "metadata": {},
   "source": [
    "Data exploration is usually the very first thing to do when working with new data. So let's start diving into the SoNAR (IDH) database by exploring it. \n",
    "\n",
    "Whenever we want to retrieve data from the Neo4j database of SoNAR (IDH) we can use a query language called \"Cypher Query Language\". Cypher provides a rather easy to comprehend syntax for requesting data from the database.\n",
    "\n",
    "Throughout this curriculum we will use this Cypher Query Language whenever we directly retrieve data from SoNAR (IDH)."
   ]
  },
  {
   "cell_type": "markdown",
   "id": "injured-dutch",
   "metadata": {},
   "source": [
    "## Nodes"
   ]
  },
  {
   "cell_type": "markdown",
   "id": "mysterious-mobile",
   "metadata": {},
   "source": [
    "### Node Labels"
   ]
  },
  {
   "cell_type": "markdown",
   "id": "dependent-retail",
   "metadata": {},
   "source": [
    "Let's start off with a simple query. Let's request the database to return all [node labels](https://neo4j.com/docs/getting-started/current/graphdb-concepts/#graphdb-labels). Node labels are basically categories the nodes can belong to. You can think of them as entity groups. The SoNAR (IDH) database distinguishes between Persons, Corporations and more. Let's ask the database it self to return all the labels available. "
   ]
  },
  {
   "cell_type": "code",
   "execution_count": 57,
   "id": "medium-aquatic",
   "metadata": {},
   "outputs": [
    {
     "data": {
      "text/plain": [
       "[{'label': 'CorpName'},\n",
       " {'label': 'GeoName'},\n",
       " {'label': 'MeetName'},\n",
       " {'label': 'PerName'},\n",
       " {'label': 'TopicTerm'},\n",
       " {'label': 'UniTitle'},\n",
       " {'label': 'ChronTerm'},\n",
       " {'label': 'IsilTerm'},\n",
       " {'label': 'Resource'}]"
      ]
     },
     "execution_count": 57,
     "metadata": {},
     "output_type": "execute_result"
    }
   ],
   "source": [
    "with driver.session() as session:\n",
    "    result = session.run(\"CALL db.labels()\").data()\n",
    "    \n",
    "result"
   ]
  },
  {
   "cell_type": "markdown",
   "id": "nutritional-patio",
   "metadata": {},
   "source": [
    "**Code Breakdown:**\n",
    "\n",
    ">The `with` statement is basically used to make the database call as resource effective and concise as possible. There are more advantages of the `with` call but their explanation would exceed the goal of this curriculum. However, an in-depth explanation of the `with` statement can be found [here](https://www.python.org/dev/peps/pep-0343/).\n",
    ">\n",
    ">When we request data from the database we need to establish a connection (`session`). The `driver` object we created earlier stores the connection details. When we use the method `driver.session()` we establish a new connection. This connection is assigned to the object `session` object for the `while` statement.\n",
    ">\n",
    ">The most relevant part of the code for retrieving the data is `\"CALL db.labels()\"`. This part is the actual Cypher query. The `CALL` clause is used to call the `db.labels()` procedure. More details about Neo4j procedures can be found below.\n",
    ">\n",
    ">The result of this code chunk is a list that contains a key-value pair (`dictionary`) per label in the database.  "
   ]
  },
  {
   "cell_type": "markdown",
   "id": "lightweight-asset",
   "metadata": {},
   "source": [
    "Some useful built-in procedures for exploring and describing the database are listed in the table below. You can get a full list of built-in procedures by using the following query: `CALL dbms.procedures()`\n",
    "\n",
    "\n",
    "|Procedure | Description |\n",
    "|---------|----------|\n",
    "|`db.labels()`| List all labels in the database.|\n",
    "|`db.propertyKeys()`|List all property keys in the database.|\n",
    "|`db.relationshipTypes`|List all relationship types in the database. |\n",
    "|`db.schema`| Show the schema of the data. |\n",
    "|`db.stats.retrieve`|Retrieve statistical data about the current database. <br>Valid sections are 'GRAPH COUNTS', 'TOKENS', 'QUERIES', 'META'|"
   ]
  },
  {
   "cell_type": "markdown",
   "id": "fantastic-reason",
   "metadata": {},
   "source": [
    "### Selecting Nodes"
   ]
  },
  {
   "cell_type": "markdown",
   "id": "adolescent-summary",
   "metadata": {},
   "source": [
    "You can select nodes by using the `MATCH` statement. Cypher uses `ASCII-art` syntax to define nodes, relationships and the direction of relationships in queries. \n",
    "\n",
    "Nodes are referred to by using parentheses `()`. Inside the parentheses you can define a Node variable. This variable can be used to refer to a specific set of nodes throughout the rest of the query.\n",
    "\n",
    "The example below matches any kind of Node and assigns the variable name n `(n)`. We use the `LIMIT` statement to tell the database we only want to have the first 10 results."
   ]
  },
  {
   "cell_type": "code",
   "execution_count": 58,
   "id": "freelance-knitting",
   "metadata": {},
   "outputs": [],
   "source": [
    "query = \"\"\"\n",
    "MATCH (n)\n",
    "RETURN n\n",
    "LIMIT 5\n",
    "\"\"\""
   ]
  },
  {
   "cell_type": "code",
   "execution_count": 91,
   "id": "worth-sword",
   "metadata": {},
   "outputs": [
    {
     "data": {
      "text/plain": [
       "[{'n': {'GenType': 'b',\n",
       "   'DateOriginal': '1951-',\n",
       "   'SpecType': 'kiz',\n",
       "   'VariantName': 'CNS;;;CNS',\n",
       "   'DateApproxBegin': '1951',\n",
       "   'Id': '(DE-588)110-7',\n",
       "   'id': 'Aut110_7',\n",
       "   'Uri': 'http://d-nb.info/gnd/110-7',\n",
       "   'Name': 'Congress of Neurological Surgeons'}},\n",
       " {'n': {'GenType': 'b',\n",
       "   'Id': '(DE-588)191-0',\n",
       "   'id': 'Aut191_0',\n",
       "   'Uri': 'http://d-nb.info/gnd/191-0',\n",
       "   'SubUnit': 'División de Ciencias Matemáticas, Médicas y de la Naturaleza',\n",
       "   'Name': 'Consejo Superior de Investigaciones Científicas'}},\n",
       " {'n': {'GenType': 'b',\n",
       "   'Id': '(DE-588)257-4',\n",
       "   'id': 'Aut257_4',\n",
       "   'SpecType': 'kiz',\n",
       "   'Uri': 'http://d-nb.info/gnd/257-4',\n",
       "   'Name': 'Fondazione Antonio Baselli'}},\n",
       " {'n': {'GenType': 'b',\n",
       "   'Id': '(DE-588)273-2',\n",
       "   'id': 'Aut273_2',\n",
       "   'SpecType': 'wit',\n",
       "   'Uri': 'http://d-nb.info/gnd/273-2',\n",
       "   'Name': 'Copyright Law Symposium'}},\n",
       " {'n': {'GenType': 'b',\n",
       "   'DateOriginal': '1865-',\n",
       "   'VariantName': \"Kornel'skii Universitet;;;Cornell Univ.;;;University;;;Cornell University;;;Cornell University\",\n",
       "   'SpecType': 'kiz',\n",
       "   'OldId': '(DE-588)1088112064;;;(DE-588)1088112544;;;(DE-588)16294577-2;;;(DE-588)16286598-3;;;(DE-588)4223553-4',\n",
       "   'DateApproxBegin': '1865',\n",
       "   'Id': '(DE-588)275-6',\n",
       "   'id': 'Aut275_6',\n",
       "   'Uri': 'http://d-nb.info/gnd/275-6',\n",
       "   'Name': 'Cornell University'}}]"
      ]
     },
     "execution_count": 91,
     "metadata": {},
     "output_type": "execute_result"
    }
   ],
   "source": [
    "import pandas as pd\n",
    "\n",
    "with driver.session() as session:\n",
    "    result = session.run(query).data()\n",
    "    \n",
    "result"
   ]
  },
  {
   "cell_type": "markdown",
   "id": "collect-cambodia",
   "metadata": {},
   "source": [
    "This output looks good, but let's populate a data frame with this output, so it's easier to work with later on. \n",
    "\n",
    "The code cell below populates a pandas data frame with a loop - this is not a recommended way to solve this data transformation since it is very slow. Later on in this curriculum we will use more efficient ways to get this job done."
   ]
  },
  {
   "cell_type": "code",
   "execution_count": 87,
   "id": "considerable-galaxy",
   "metadata": {},
   "outputs": [
    {
     "data": {
      "text/html": [
       "<div>\n",
       "<style scoped>\n",
       "    .dataframe tbody tr th:only-of-type {\n",
       "        vertical-align: middle;\n",
       "    }\n",
       "\n",
       "    .dataframe tbody tr th {\n",
       "        vertical-align: top;\n",
       "    }\n",
       "\n",
       "    .dataframe thead th {\n",
       "        text-align: right;\n",
       "    }\n",
       "</style>\n",
       "<table border=\"1\" class=\"dataframe\">\n",
       "  <thead>\n",
       "    <tr style=\"text-align: right;\">\n",
       "      <th></th>\n",
       "      <th>GenType</th>\n",
       "      <th>DateOriginal</th>\n",
       "      <th>SpecType</th>\n",
       "      <th>VariantName</th>\n",
       "      <th>DateApproxBegin</th>\n",
       "      <th>Id</th>\n",
       "      <th>id</th>\n",
       "      <th>Uri</th>\n",
       "      <th>Name</th>\n",
       "      <th>SubUnit</th>\n",
       "      <th>OldId</th>\n",
       "    </tr>\n",
       "  </thead>\n",
       "  <tbody>\n",
       "    <tr>\n",
       "      <th>0</th>\n",
       "      <td>b</td>\n",
       "      <td>1951-</td>\n",
       "      <td>kiz</td>\n",
       "      <td>CNS;;;CNS</td>\n",
       "      <td>1951</td>\n",
       "      <td>(DE-588)110-7</td>\n",
       "      <td>Aut110_7</td>\n",
       "      <td>http://d-nb.info/gnd/110-7</td>\n",
       "      <td>Congress of Neurological Surgeons</td>\n",
       "      <td>NaN</td>\n",
       "      <td>NaN</td>\n",
       "    </tr>\n",
       "    <tr>\n",
       "      <th>1</th>\n",
       "      <td>b</td>\n",
       "      <td>NaN</td>\n",
       "      <td>NaN</td>\n",
       "      <td>NaN</td>\n",
       "      <td>NaN</td>\n",
       "      <td>(DE-588)191-0</td>\n",
       "      <td>Aut191_0</td>\n",
       "      <td>http://d-nb.info/gnd/191-0</td>\n",
       "      <td>Consejo Superior de Investigaciones Científicas</td>\n",
       "      <td>División de Ciencias Matemáticas, Médicas y...</td>\n",
       "      <td>NaN</td>\n",
       "    </tr>\n",
       "    <tr>\n",
       "      <th>2</th>\n",
       "      <td>b</td>\n",
       "      <td>NaN</td>\n",
       "      <td>kiz</td>\n",
       "      <td>NaN</td>\n",
       "      <td>NaN</td>\n",
       "      <td>(DE-588)257-4</td>\n",
       "      <td>Aut257_4</td>\n",
       "      <td>http://d-nb.info/gnd/257-4</td>\n",
       "      <td>Fondazione Antonio Baselli</td>\n",
       "      <td>NaN</td>\n",
       "      <td>NaN</td>\n",
       "    </tr>\n",
       "    <tr>\n",
       "      <th>3</th>\n",
       "      <td>b</td>\n",
       "      <td>NaN</td>\n",
       "      <td>wit</td>\n",
       "      <td>NaN</td>\n",
       "      <td>NaN</td>\n",
       "      <td>(DE-588)273-2</td>\n",
       "      <td>Aut273_2</td>\n",
       "      <td>http://d-nb.info/gnd/273-2</td>\n",
       "      <td>Copyright Law Symposium</td>\n",
       "      <td>NaN</td>\n",
       "      <td>NaN</td>\n",
       "    </tr>\n",
       "    <tr>\n",
       "      <th>4</th>\n",
       "      <td>b</td>\n",
       "      <td>1865-</td>\n",
       "      <td>kiz</td>\n",
       "      <td>Kornel'skii Universitet;;;Cornell Univ.;;;Univ...</td>\n",
       "      <td>1865</td>\n",
       "      <td>(DE-588)275-6</td>\n",
       "      <td>Aut275_6</td>\n",
       "      <td>http://d-nb.info/gnd/275-6</td>\n",
       "      <td>Cornell University</td>\n",
       "      <td>NaN</td>\n",
       "      <td>(DE-588)1088112064;;;(DE-588)1088112544;;;(DE-...</td>\n",
       "    </tr>\n",
       "  </tbody>\n",
       "</table>\n",
       "</div>"
      ],
      "text/plain": [
       "  GenType DateOriginal SpecType  \\\n",
       "0       b        1951-      kiz   \n",
       "1       b          NaN      NaN   \n",
       "2       b          NaN      kiz   \n",
       "3       b          NaN      wit   \n",
       "4       b        1865-      kiz   \n",
       "\n",
       "                                         VariantName DateApproxBegin  \\\n",
       "0                                          CNS;;;CNS            1951   \n",
       "1                                                NaN             NaN   \n",
       "2                                                NaN             NaN   \n",
       "3                                                NaN             NaN   \n",
       "4  Kornel'skii Universitet;;;Cornell Univ.;;;Univ...            1865   \n",
       "\n",
       "              Id        id                         Uri  \\\n",
       "0  (DE-588)110-7  Aut110_7  http://d-nb.info/gnd/110-7   \n",
       "1  (DE-588)191-0  Aut191_0  http://d-nb.info/gnd/191-0   \n",
       "2  (DE-588)257-4  Aut257_4  http://d-nb.info/gnd/257-4   \n",
       "3  (DE-588)273-2  Aut273_2  http://d-nb.info/gnd/273-2   \n",
       "4  (DE-588)275-6  Aut275_6  http://d-nb.info/gnd/275-6   \n",
       "\n",
       "                                               Name  \\\n",
       "0                 Congress of Neurological Surgeons   \n",
       "1  Consejo Superior de Investigaciones Científicas   \n",
       "2                        Fondazione Antonio Baselli   \n",
       "3                           Copyright Law Symposium   \n",
       "4                                Cornell University   \n",
       "\n",
       "                                             SubUnit  \\\n",
       "0                                                NaN   \n",
       "1  División de Ciencias Matemáticas, Médicas y...   \n",
       "2                                                NaN   \n",
       "3                                                NaN   \n",
       "4                                                NaN   \n",
       "\n",
       "                                               OldId  \n",
       "0                                                NaN  \n",
       "1                                                NaN  \n",
       "2                                                NaN  \n",
       "3                                                NaN  \n",
       "4  (DE-588)1088112064;;;(DE-588)1088112544;;;(DE-...  "
      ]
     },
     "execution_count": 87,
     "metadata": {},
     "output_type": "execute_result"
    }
   ],
   "source": [
    "df = pd.DataFrame()\n",
    "\n",
    "for i in range(len(result)):\n",
    "    temp_df = pd.DataFrame.from_dict(result[i], orient = \"index\")\n",
    "    df = pd.concat([df, temp_df], axis = 0, ignore_index = True) \n",
    "df"
   ]
  },
  {
   "cell_type": "markdown",
   "id": "blocked-empty",
   "metadata": {},
   "source": [
    "### Filtering Nodes"
   ]
  },
  {
   "cell_type": "code",
   "execution_count": 93,
   "id": "running-cable",
   "metadata": {},
   "outputs": [],
   "source": [
    "query = \"\"\"\n",
    "MATCH (n:PerName)\n",
    "RETURN n\n",
    "LIMIT 5\"\"\""
   ]
  },
  {
   "cell_type": "code",
   "execution_count": 96,
   "id": "lovely-creator",
   "metadata": {},
   "outputs": [
    {
     "data": {
      "text/html": [
       "<div>\n",
       "<style scoped>\n",
       "    .dataframe tbody tr th:only-of-type {\n",
       "        vertical-align: middle;\n",
       "    }\n",
       "\n",
       "    .dataframe tbody tr th {\n",
       "        vertical-align: top;\n",
       "    }\n",
       "\n",
       "    .dataframe thead th {\n",
       "        text-align: right;\n",
       "    }\n",
       "</style>\n",
       "<table border=\"1\" class=\"dataframe\">\n",
       "  <thead>\n",
       "    <tr style=\"text-align: right;\">\n",
       "      <th></th>\n",
       "      <th>GenType</th>\n",
       "      <th>VariantName</th>\n",
       "      <th>SpecType</th>\n",
       "      <th>Id</th>\n",
       "      <th>id</th>\n",
       "      <th>Uri</th>\n",
       "      <th>Name</th>\n",
       "      <th>DateApproxEnd</th>\n",
       "      <th>DateStrictOriginal</th>\n",
       "      <th>DateStrictBegin</th>\n",
       "      <th>DateStrictEnd</th>\n",
       "      <th>DateApproxOriginal</th>\n",
       "      <th>Gender</th>\n",
       "      <th>DateApproxBegin</th>\n",
       "      <th>OldId</th>\n",
       "    </tr>\n",
       "  </thead>\n",
       "  <tbody>\n",
       "    <tr>\n",
       "      <th>0</th>\n",
       "      <td>p</td>\n",
       "      <td>Lombez, Ambrosius de;;;La Peirie, Ambroise;;;L...</td>\n",
       "      <td>piz</td>\n",
       "      <td>(DE-588)100000096</td>\n",
       "      <td>Aut100000096</td>\n",
       "      <td>http://d-nb.info/gnd/100000096</td>\n",
       "      <td>Ambrosius</td>\n",
       "      <td>NaN</td>\n",
       "      <td>NaN</td>\n",
       "      <td>NaN</td>\n",
       "      <td>NaN</td>\n",
       "      <td>NaN</td>\n",
       "      <td>NaN</td>\n",
       "      <td>NaN</td>\n",
       "      <td>NaN</td>\n",
       "    </tr>\n",
       "    <tr>\n",
       "      <th>1</th>\n",
       "      <td>p</td>\n",
       "      <td>Bauer, Johanes Gottfried;;;Bauerus, Johannes G...</td>\n",
       "      <td>piz</td>\n",
       "      <td>(DE-588)100000193</td>\n",
       "      <td>Aut100000193</td>\n",
       "      <td>http://d-nb.info/gnd/100000193</td>\n",
       "      <td>Bauer, Johann Gottfried</td>\n",
       "      <td>1763</td>\n",
       "      <td>20.02.1695-02.03.1763</td>\n",
       "      <td>20.02.1695</td>\n",
       "      <td>02.03.1763</td>\n",
       "      <td>1695-1763</td>\n",
       "      <td>1</td>\n",
       "      <td>1695</td>\n",
       "      <td>NaN</td>\n",
       "    </tr>\n",
       "    <tr>\n",
       "      <th>2</th>\n",
       "      <td>p</td>\n",
       "      <td>Baur, W.;;;Baur, Johannes Guilielmus;;;Baur, W...</td>\n",
       "      <td>piz</td>\n",
       "      <td>(DE-588)100000231</td>\n",
       "      <td>Aut100000231</td>\n",
       "      <td>http://d-nb.info/gnd/100000231</td>\n",
       "      <td>Baur, Johann Wilhelm</td>\n",
       "      <td>1642</td>\n",
       "      <td>31.05.1600-XX.01.1642</td>\n",
       "      <td>31.05.1600</td>\n",
       "      <td>XX.01.1642</td>\n",
       "      <td>1607-1642</td>\n",
       "      <td>1</td>\n",
       "      <td>1607</td>\n",
       "      <td>(DE-588)17418154X;;;(DE-588)172001064</td>\n",
       "    </tr>\n",
       "    <tr>\n",
       "      <th>3</th>\n",
       "      <td>p</td>\n",
       "      <td>Amman, Reinerius</td>\n",
       "      <td>piz</td>\n",
       "      <td>(DE-588)100000355</td>\n",
       "      <td>Aut100000355</td>\n",
       "      <td>http://d-nb.info/gnd/100000355</td>\n",
       "      <td>Amman, Reiner</td>\n",
       "      <td>NaN</td>\n",
       "      <td>NaN</td>\n",
       "      <td>NaN</td>\n",
       "      <td>NaN</td>\n",
       "      <td>NaN</td>\n",
       "      <td>NaN</td>\n",
       "      <td>NaN</td>\n",
       "      <td>NaN</td>\n",
       "    </tr>\n",
       "    <tr>\n",
       "      <th>4</th>\n",
       "      <td>p</td>\n",
       "      <td>Mosca, Gioseppe</td>\n",
       "      <td>piz</td>\n",
       "      <td>(DE-588)100000541</td>\n",
       "      <td>Aut100000541</td>\n",
       "      <td>http://d-nb.info/gnd/100000541</td>\n",
       "      <td>Mosca, Giuseppe</td>\n",
       "      <td>1839</td>\n",
       "      <td>NaN</td>\n",
       "      <td>NaN</td>\n",
       "      <td>NaN</td>\n",
       "      <td>1772-1839</td>\n",
       "      <td>NaN</td>\n",
       "      <td>1772</td>\n",
       "      <td>NaN</td>\n",
       "    </tr>\n",
       "  </tbody>\n",
       "</table>\n",
       "</div>"
      ],
      "text/plain": [
       "  GenType                                        VariantName SpecType  \\\n",
       "0       p  Lombez, Ambrosius de;;;La Peirie, Ambroise;;;L...      piz   \n",
       "1       p  Bauer, Johanes Gottfried;;;Bauerus, Johannes G...      piz   \n",
       "2       p  Baur, W.;;;Baur, Johannes Guilielmus;;;Baur, W...      piz   \n",
       "3       p                                   Amman, Reinerius      piz   \n",
       "4       p                                    Mosca, Gioseppe      piz   \n",
       "\n",
       "                  Id            id                             Uri  \\\n",
       "0  (DE-588)100000096  Aut100000096  http://d-nb.info/gnd/100000096   \n",
       "1  (DE-588)100000193  Aut100000193  http://d-nb.info/gnd/100000193   \n",
       "2  (DE-588)100000231  Aut100000231  http://d-nb.info/gnd/100000231   \n",
       "3  (DE-588)100000355  Aut100000355  http://d-nb.info/gnd/100000355   \n",
       "4  (DE-588)100000541  Aut100000541  http://d-nb.info/gnd/100000541   \n",
       "\n",
       "                      Name DateApproxEnd     DateStrictOriginal  \\\n",
       "0                Ambrosius           NaN                    NaN   \n",
       "1  Bauer, Johann Gottfried          1763  20.02.1695-02.03.1763   \n",
       "2     Baur, Johann Wilhelm          1642  31.05.1600-XX.01.1642   \n",
       "3            Amman, Reiner           NaN                    NaN   \n",
       "4          Mosca, Giuseppe          1839                    NaN   \n",
       "\n",
       "  DateStrictBegin DateStrictEnd DateApproxOriginal Gender DateApproxBegin  \\\n",
       "0             NaN           NaN                NaN    NaN             NaN   \n",
       "1      20.02.1695    02.03.1763          1695-1763      1            1695   \n",
       "2      31.05.1600    XX.01.1642          1607-1642      1            1607   \n",
       "3             NaN           NaN                NaN    NaN             NaN   \n",
       "4             NaN           NaN          1772-1839    NaN            1772   \n",
       "\n",
       "                                   OldId  \n",
       "0                                    NaN  \n",
       "1                                    NaN  \n",
       "2  (DE-588)17418154X;;;(DE-588)172001064  \n",
       "3                                    NaN  \n",
       "4                                    NaN  "
      ]
     },
     "execution_count": 96,
     "metadata": {},
     "output_type": "execute_result"
    }
   ],
   "source": [
    "import pandas as pd\n",
    "\n",
    "with driver.session() as session:\n",
    "    result = session.run(query).data()\n",
    "    \n",
    "df = pd.DataFrame()\n",
    "\n",
    "for i in range(len(result)):\n",
    "    temp_df = pd.DataFrame.from_dict(result[i], orient = \"index\")\n",
    "    df = pd.concat([df, temp_df], axis = 0, ignore_index = True) \n",
    "df"
   ]
  },
  {
   "cell_type": "markdown",
   "id": "eastern-thousand",
   "metadata": {},
   "source": [
    "**Filtering Nodes by Properties**"
   ]
  },
  {
   "cell_type": "code",
   "execution_count": 104,
   "id": "tired-column",
   "metadata": {},
   "outputs": [],
   "source": [
    "query = \"\"\"\n",
    "MATCH (n {Name: 'Weber, Max'})\n",
    "RETURN n\n",
    "LIMIT 10\"\"\""
   ]
  },
  {
   "cell_type": "code",
   "execution_count": 105,
   "id": "biological-yacht",
   "metadata": {},
   "outputs": [
    {
     "name": "stdout",
     "output_type": "stream",
     "text": [
      "[{'n': {'GenType': 'p', 'SpecType': 'piz', 'Id': '(DE-588)117167665', 'id': 'Aut117167665', 'Gender': '1', 'Uri': 'http://d-nb.info/gnd/117167665', 'Name': 'Weber, Max'}}, {'n': {'GenType': 'p', 'DateApproxEnd': '1937', 'VariantName': 'Weber, Max W.;;;Weber, Max Carl Wilhelm;;;Weber, Max C. W.;;;Weber, Max Wilhelm Carl;;;Weber, M.', 'SpecType': 'piz', 'DateApproxBegin': '1852', 'DateApproxOriginal': '1852-1937', 'Gender': '1', 'Id': '(DE-588)117167681', 'id': 'Aut117167681', 'Uri': 'http://d-nb.info/gnd/117167681', 'Name': 'Weber, Max'}}, {'n': {'GenType': 'p', 'DateApproxEnd': '1897', 'SpecType': 'piz', 'DateApproxBegin': '1836', 'Id': '(DE-588)117167738', 'DateApproxOriginal': '1836-1897', 'Gender': '1', 'id': 'Aut117167738', 'Uri': 'http://d-nb.info/gnd/117167738', 'Name': 'Weber, Max'}}, {'n': {'GenType': 'p', 'DateApproxEnd': '1948', 'DateStrictOriginal': '20.09.1874-30.09.1948', 'SpecType': 'piz', 'DateStrictBegin': '20.09.1874', 'DateStrictEnd': '30.09.1948', 'OldId': '(DE-588)139364978', 'DateApproxOriginal': '1874-1948', 'Gender': '1', 'Uri': 'http://d-nb.info/gnd/117167762', 'Name': 'Weber, Max', 'DateApproxBegin': '1874', 'Id': '(DE-588)117167762', 'id': 'Aut117167762'}}, {'n': {'GenType': 'p', 'DateApproxEnd': '1920', 'DateStrictOriginal': '21.04.1864-14.06.1920', 'VariantName': 'Makesi, Weipei;;;Weber, Karl Emil Maximilian;;;Veber, Maks;;;Veber, M.;;;Weibo, ...;;;Uēbā, Makkusu;;;Wibir, Māks;;;Weibo, Makesi;;;Fībir, Māks;;;Vēbā, Makkusu;;;Ma ke si Wei bo;;;Makesi-Weibo;;;馬克思, 威培;;;فيبر، ماكس;;;マックス・ウェーバー;;;马克斯•韦伯;;;ובר, מקס;;;韦伯, 马克斯', 'SpecType': 'piz', 'DateStrictBegin': '21.04.1864', 'DateStrictEnd': '14.06.1920', 'Gender': '1', 'DateApproxOriginal': '1864-1920', 'Uri': 'http://d-nb.info/gnd/118629743', 'Name': 'Weber, Max', 'DateApproxBegin': '1864', 'Id': '(DE-588)118629743', 'id': 'Aut118629743'}}, {'n': {'GenType': 'p', 'DateApproxEnd': '1974', 'DateStrictOriginal': '02.08.1897-02.12.1974', 'SpecType': 'piz', 'DateStrictBegin': '02.08.1897', 'DateStrictEnd': '02.12.1974', 'DateApproxOriginal': '1897-1974', 'Gender': '1', 'Uri': 'http://d-nb.info/gnd/118765922', 'Name': 'Weber, Max', 'DateApproxBegin': '1897', 'Id': '(DE-588)118765922', 'id': 'Aut118765922'}}, {'n': {'GenType': 'p', 'DateApproxEnd': '1961', 'SpecType': 'piz', 'DateApproxBegin': '1881', 'Id': '(DE-588)118834010', 'DateApproxOriginal': '1881-1961', 'id': 'Aut118834010', 'Uri': 'http://d-nb.info/gnd/118834010', 'Name': 'Weber, Max'}}, {'n': {'GenType': 'p', 'DateApproxEnd': '1946', 'SpecType': 'piz', 'DateApproxBegin': '1885', 'Id': '(DE-588)119526921', 'DateApproxOriginal': '1885-1946', 'id': 'Aut119526921', 'Uri': 'http://d-nb.info/gnd/119526921', 'Name': 'Weber, Max'}}, {'n': {'GenType': 'p', 'VariantName': 'Weber, Maximilianus;;;Weber, Maximilian', 'SpecType': 'piz', 'DateApproxBegin': '1852', 'DateApproxOriginal': '1852-', 'Id': '(DE-588)13226854X', 'id': 'Aut13226854X', 'Uri': 'http://d-nb.info/gnd/13226854X', 'Name': 'Weber, Max'}}, {'n': {'GenType': 'p', 'VariantName': 'Weber, Maximilian', 'SpecType': 'piz', 'Id': '(DE-588)132268760', 'id': 'Aut132268760', 'Uri': 'http://d-nb.info/gnd/132268760', 'Name': 'Weber, Max'}}]\n"
     ]
    }
   ],
   "source": [
    "with driver.session() as session:\n",
    "    print(session.run(query).data())"
   ]
  },
  {
   "cell_type": "markdown",
   "id": "satellite-allen",
   "metadata": {},
   "source": [
    "More details on properties can be found in the [properties section](#Properties)."
   ]
  },
  {
   "cell_type": "markdown",
   "id": "phantom-crime",
   "metadata": {},
   "source": [
    "## Relationship Types"
   ]
  },
  {
   "cell_type": "markdown",
   "id": "fossil-facility",
   "metadata": {},
   "source": [
    "Similar to node labels we can retrieve the categories of the relations inside the database. Every relation must have exactly one relationship type. This type defines the kind or category the relation belongs to. "
   ]
  },
  {
   "cell_type": "code",
   "execution_count": 15,
   "id": "sharing-twelve",
   "metadata": {},
   "outputs": [
    {
     "ename": "StopIteration",
     "evalue": "",
     "output_type": "error",
     "traceback": [
      "\u001b[0;31m---------------------------------------------------------------------------\u001b[0m",
      "\u001b[0;31mStopIteration\u001b[0m                             Traceback (most recent call last)",
      "\u001b[0;32m<ipython-input-15-f329c737065b>\u001b[0m in \u001b[0;36m<module>\u001b[0;34m\u001b[0m\n\u001b[1;32m      1\u001b[0m \u001b[0;32mwith\u001b[0m \u001b[0mdriver\u001b[0m\u001b[0;34m.\u001b[0m\u001b[0msession\u001b[0m\u001b[0;34m(\u001b[0m\u001b[0;34m)\u001b[0m \u001b[0;32mas\u001b[0m \u001b[0msession\u001b[0m\u001b[0;34m:\u001b[0m\u001b[0;34m\u001b[0m\u001b[0;34m\u001b[0m\u001b[0m\n\u001b[0;32m----> 2\u001b[0;31m     \u001b[0mresult\u001b[0m \u001b[0;34m=\u001b[0m \u001b[0msession\u001b[0m\u001b[0;34m.\u001b[0m\u001b[0mrun\u001b[0m\u001b[0;34m(\u001b[0m\u001b[0;34m\"CALL db.relationshipTypes()\"\u001b[0m\u001b[0;34m)\u001b[0m\u001b[0;34m.\u001b[0m\u001b[0mdata\u001b[0m\u001b[0;34m(\u001b[0m\u001b[0;34m)\u001b[0m\u001b[0;34m\u001b[0m\u001b[0;34m\u001b[0m\u001b[0m\n\u001b[0m\u001b[1;32m      3\u001b[0m \u001b[0;34m\u001b[0m\u001b[0m\n",
      "\u001b[0;32m/usr/local/lib/python3.8/site-packages/neo4j/work/simple.py\u001b[0m in \u001b[0;36mrun\u001b[0;34m(self, query, parameters, **kwparameters)\u001b[0m\n\u001b[1;32m    216\u001b[0m         \u001b[0mself\u001b[0m\u001b[0;34m.\u001b[0m\u001b[0m_autoResult\u001b[0m \u001b[0;34m=\u001b[0m \u001b[0mResult\u001b[0m\u001b[0;34m(\u001b[0m\u001b[0mcx\u001b[0m\u001b[0;34m,\u001b[0m \u001b[0mhydrant\u001b[0m\u001b[0;34m,\u001b[0m \u001b[0mself\u001b[0m\u001b[0;34m.\u001b[0m\u001b[0m_config\u001b[0m\u001b[0;34m.\u001b[0m\u001b[0mfetch_size\u001b[0m\u001b[0;34m,\u001b[0m \u001b[0mself\u001b[0m\u001b[0;34m.\u001b[0m\u001b[0m_result_closed\u001b[0m\u001b[0;34m)\u001b[0m\u001b[0;34m\u001b[0m\u001b[0;34m\u001b[0m\u001b[0m\n\u001b[0;32m--> 217\u001b[0;31m         \u001b[0mself\u001b[0m\u001b[0;34m.\u001b[0m\u001b[0m_autoResult\u001b[0m\u001b[0;34m.\u001b[0m\u001b[0m_run\u001b[0m\u001b[0;34m(\u001b[0m\u001b[0mquery\u001b[0m\u001b[0;34m,\u001b[0m \u001b[0mparameters\u001b[0m\u001b[0;34m,\u001b[0m \u001b[0mself\u001b[0m\u001b[0;34m.\u001b[0m\u001b[0m_config\u001b[0m\u001b[0;34m.\u001b[0m\u001b[0mdatabase\u001b[0m\u001b[0;34m,\u001b[0m \u001b[0mself\u001b[0m\u001b[0;34m.\u001b[0m\u001b[0m_config\u001b[0m\u001b[0;34m.\u001b[0m\u001b[0mdefault_access_mode\u001b[0m\u001b[0;34m,\u001b[0m \u001b[0mself\u001b[0m\u001b[0;34m.\u001b[0m\u001b[0m_bookmarks\u001b[0m\u001b[0;34m,\u001b[0m \u001b[0;34m**\u001b[0m\u001b[0mkwparameters\u001b[0m\u001b[0;34m)\u001b[0m\u001b[0;34m\u001b[0m\u001b[0;34m\u001b[0m\u001b[0m\n\u001b[0m\u001b[1;32m    218\u001b[0m \u001b[0;34m\u001b[0m\u001b[0m\n",
      "\u001b[0;32m/usr/local/lib/python3.8/site-packages/neo4j/work/result.py\u001b[0m in \u001b[0;36m_run\u001b[0;34m(self, query, parameters, db, access_mode, bookmarks, **kwparameters)\u001b[0m\n\u001b[1;32m    100\u001b[0m         \u001b[0mself\u001b[0m\u001b[0;34m.\u001b[0m\u001b[0m_connection\u001b[0m\u001b[0;34m.\u001b[0m\u001b[0msend_all\u001b[0m\u001b[0;34m(\u001b[0m\u001b[0;34m)\u001b[0m\u001b[0;34m\u001b[0m\u001b[0;34m\u001b[0m\u001b[0m\n\u001b[0;32m--> 101\u001b[0;31m         \u001b[0mself\u001b[0m\u001b[0;34m.\u001b[0m\u001b[0m_attach\u001b[0m\u001b[0;34m(\u001b[0m\u001b[0;34m)\u001b[0m\u001b[0;34m\u001b[0m\u001b[0;34m\u001b[0m\u001b[0m\n\u001b[0m\u001b[1;32m    102\u001b[0m \u001b[0;34m\u001b[0m\u001b[0m\n",
      "\u001b[0;32m/usr/local/lib/python3.8/site-packages/neo4j/work/result.py\u001b[0m in \u001b[0;36m_attach\u001b[0;34m(self)\u001b[0m\n\u001b[1;32m    201\u001b[0m             \u001b[0;32mwhile\u001b[0m \u001b[0mself\u001b[0m\u001b[0;34m.\u001b[0m\u001b[0m_attached\u001b[0m \u001b[0;32mis\u001b[0m \u001b[0;32mFalse\u001b[0m\u001b[0;34m:\u001b[0m\u001b[0;34m\u001b[0m\u001b[0;34m\u001b[0m\u001b[0m\n\u001b[0;32m--> 202\u001b[0;31m                 \u001b[0mself\u001b[0m\u001b[0;34m.\u001b[0m\u001b[0m_connection\u001b[0m\u001b[0;34m.\u001b[0m\u001b[0mfetch_message\u001b[0m\u001b[0;34m(\u001b[0m\u001b[0;34m)\u001b[0m\u001b[0;34m\u001b[0m\u001b[0;34m\u001b[0m\u001b[0m\n\u001b[0m\u001b[1;32m    203\u001b[0m \u001b[0;34m\u001b[0m\u001b[0m\n",
      "\u001b[0;32m/usr/local/lib/python3.8/site-packages/neo4j/io/_bolt3.py\u001b[0m in \u001b[0;36mfetch_message\u001b[0;34m(self)\u001b[0m\n\u001b[1;32m    309\u001b[0m         \u001b[0;32mtry\u001b[0m\u001b[0;34m:\u001b[0m\u001b[0;34m\u001b[0m\u001b[0;34m\u001b[0m\u001b[0m\n\u001b[0;32m--> 310\u001b[0;31m             \u001b[0mdetails\u001b[0m\u001b[0;34m,\u001b[0m \u001b[0msummary_signature\u001b[0m\u001b[0;34m,\u001b[0m \u001b[0msummary_metadata\u001b[0m \u001b[0;34m=\u001b[0m \u001b[0mnext\u001b[0m\u001b[0;34m(\u001b[0m\u001b[0mself\u001b[0m\u001b[0;34m.\u001b[0m\u001b[0minbox\u001b[0m\u001b[0;34m)\u001b[0m\u001b[0;34m\u001b[0m\u001b[0;34m\u001b[0m\u001b[0m\n\u001b[0m\u001b[1;32m    311\u001b[0m         \u001b[0;32mexcept\u001b[0m \u001b[0;34m(\u001b[0m\u001b[0mIOError\u001b[0m\u001b[0;34m,\u001b[0m \u001b[0mOSError\u001b[0m\u001b[0;34m)\u001b[0m \u001b[0;32mas\u001b[0m \u001b[0merror\u001b[0m\u001b[0;34m:\u001b[0m\u001b[0;34m\u001b[0m\u001b[0;34m\u001b[0m\u001b[0m\n",
      "\u001b[0;32m/usr/local/lib/python3.8/site-packages/neo4j/io/_bolt3.py\u001b[0m in \u001b[0;36m__next__\u001b[0;34m(self)\u001b[0m\n\u001b[1;32m    478\u001b[0m     \u001b[0;32mdef\u001b[0m \u001b[0m__next__\u001b[0m\u001b[0;34m(\u001b[0m\u001b[0mself\u001b[0m\u001b[0;34m)\u001b[0m\u001b[0;34m:\u001b[0m\u001b[0;34m\u001b[0m\u001b[0;34m\u001b[0m\u001b[0m\n\u001b[0;32m--> 479\u001b[0;31m         \u001b[0mtag\u001b[0m\u001b[0;34m,\u001b[0m \u001b[0mfields\u001b[0m \u001b[0;34m=\u001b[0m \u001b[0mself\u001b[0m\u001b[0;34m.\u001b[0m\u001b[0mpop\u001b[0m\u001b[0;34m(\u001b[0m\u001b[0;34m)\u001b[0m\u001b[0;34m\u001b[0m\u001b[0;34m\u001b[0m\u001b[0m\n\u001b[0m\u001b[1;32m    480\u001b[0m         \u001b[0;32mif\u001b[0m \u001b[0mtag\u001b[0m \u001b[0;34m==\u001b[0m \u001b[0;34mb\"\\x71\"\u001b[0m\u001b[0;34m:\u001b[0m\u001b[0;34m\u001b[0m\u001b[0;34m\u001b[0m\u001b[0m\n",
      "\u001b[0;32m/usr/local/lib/python3.8/site-packages/neo4j/io/_courier.py\u001b[0m in \u001b[0;36mpop\u001b[0;34m(self)\u001b[0m\n\u001b[1;32m     65\u001b[0m     \u001b[0;32mdef\u001b[0m \u001b[0mpop\u001b[0m\u001b[0;34m(\u001b[0m\u001b[0mself\u001b[0m\u001b[0;34m)\u001b[0m\u001b[0;34m:\u001b[0m\u001b[0;34m\u001b[0m\u001b[0;34m\u001b[0m\u001b[0m\n\u001b[0;32m---> 66\u001b[0;31m         \u001b[0;32mreturn\u001b[0m \u001b[0mnext\u001b[0m\u001b[0;34m(\u001b[0m\u001b[0mself\u001b[0m\u001b[0;34m.\u001b[0m\u001b[0m_messages\u001b[0m\u001b[0;34m)\u001b[0m\u001b[0;34m\u001b[0m\u001b[0;34m\u001b[0m\u001b[0m\n\u001b[0m",
      "\u001b[0;31mStopIteration\u001b[0m: ",
      "\nDuring handling of the above exception, another exception occurred:\n",
      "\u001b[0;31mStopIteration\u001b[0m                             Traceback (most recent call last)",
      "\u001b[0;32m<ipython-input-15-f329c737065b>\u001b[0m in \u001b[0;36m<module>\u001b[0;34m\u001b[0m\n\u001b[1;32m      1\u001b[0m \u001b[0;32mwith\u001b[0m \u001b[0mdriver\u001b[0m\u001b[0;34m.\u001b[0m\u001b[0msession\u001b[0m\u001b[0;34m(\u001b[0m\u001b[0;34m)\u001b[0m \u001b[0;32mas\u001b[0m \u001b[0msession\u001b[0m\u001b[0;34m:\u001b[0m\u001b[0;34m\u001b[0m\u001b[0;34m\u001b[0m\u001b[0m\n\u001b[0;32m----> 2\u001b[0;31m     \u001b[0mresult\u001b[0m \u001b[0;34m=\u001b[0m \u001b[0msession\u001b[0m\u001b[0;34m.\u001b[0m\u001b[0mrun\u001b[0m\u001b[0;34m(\u001b[0m\u001b[0;34m\"CALL db.relationshipTypes()\"\u001b[0m\u001b[0;34m)\u001b[0m\u001b[0;34m.\u001b[0m\u001b[0mdata\u001b[0m\u001b[0;34m(\u001b[0m\u001b[0;34m)\u001b[0m\u001b[0;34m\u001b[0m\u001b[0;34m\u001b[0m\u001b[0m\n\u001b[0m\u001b[1;32m      3\u001b[0m \u001b[0;34m\u001b[0m\u001b[0m\n\u001b[1;32m      4\u001b[0m \u001b[0;34m\u001b[0m\u001b[0m\n\u001b[1;32m      5\u001b[0m \u001b[0mpd\u001b[0m\u001b[0;34m.\u001b[0m\u001b[0mDataFrame\u001b[0m\u001b[0;34m(\u001b[0m\u001b[0mresult\u001b[0m\u001b[0;34m)\u001b[0m\u001b[0;34m\u001b[0m\u001b[0;34m\u001b[0m\u001b[0m\n",
      "\u001b[0;32m/usr/local/lib/python3.8/site-packages/neo4j/work/simple.py\u001b[0m in \u001b[0;36m__exit__\u001b[0;34m(self, exception_type, exception_value, traceback)\u001b[0m\n\u001b[1;32m    103\u001b[0m         \u001b[0;32mif\u001b[0m \u001b[0mexception_type\u001b[0m\u001b[0;34m:\u001b[0m\u001b[0;34m\u001b[0m\u001b[0;34m\u001b[0m\u001b[0m\n\u001b[1;32m    104\u001b[0m             \u001b[0mself\u001b[0m\u001b[0;34m.\u001b[0m\u001b[0m_state_failed\u001b[0m \u001b[0;34m=\u001b[0m \u001b[0;32mTrue\u001b[0m\u001b[0;34m\u001b[0m\u001b[0;34m\u001b[0m\u001b[0m\n\u001b[0;32m--> 105\u001b[0;31m         \u001b[0mself\u001b[0m\u001b[0;34m.\u001b[0m\u001b[0mclose\u001b[0m\u001b[0;34m(\u001b[0m\u001b[0;34m)\u001b[0m\u001b[0;34m\u001b[0m\u001b[0;34m\u001b[0m\u001b[0m\n\u001b[0m\u001b[1;32m    106\u001b[0m \u001b[0;34m\u001b[0m\u001b[0m\n\u001b[1;32m    107\u001b[0m     \u001b[0;32mdef\u001b[0m \u001b[0m_connect\u001b[0m\u001b[0;34m(\u001b[0m\u001b[0mself\u001b[0m\u001b[0;34m,\u001b[0m \u001b[0maccess_mode\u001b[0m\u001b[0;34m,\u001b[0m \u001b[0mdatabase\u001b[0m\u001b[0;34m)\u001b[0m\u001b[0;34m:\u001b[0m\u001b[0;34m\u001b[0m\u001b[0;34m\u001b[0m\u001b[0m\n",
      "\u001b[0;32m/usr/local/lib/python3.8/site-packages/neo4j/work/simple.py\u001b[0m in \u001b[0;36mclose\u001b[0;34m(self)\u001b[0m\n\u001b[1;32m    153\u001b[0m                 \u001b[0;32mif\u001b[0m \u001b[0mself\u001b[0m\u001b[0;34m.\u001b[0m\u001b[0m_connection\u001b[0m\u001b[0;34m:\u001b[0m\u001b[0;34m\u001b[0m\u001b[0;34m\u001b[0m\u001b[0m\n\u001b[1;32m    154\u001b[0m                     \u001b[0mself\u001b[0m\u001b[0;34m.\u001b[0m\u001b[0m_connection\u001b[0m\u001b[0;34m.\u001b[0m\u001b[0msend_all\u001b[0m\u001b[0;34m(\u001b[0m\u001b[0;34m)\u001b[0m\u001b[0;34m\u001b[0m\u001b[0;34m\u001b[0m\u001b[0m\n\u001b[0;32m--> 155\u001b[0;31m                     \u001b[0mself\u001b[0m\u001b[0;34m.\u001b[0m\u001b[0m_connection\u001b[0m\u001b[0;34m.\u001b[0m\u001b[0mfetch_all\u001b[0m\u001b[0;34m(\u001b[0m\u001b[0;34m)\u001b[0m\u001b[0;34m\u001b[0m\u001b[0;34m\u001b[0m\u001b[0m\n\u001b[0m\u001b[1;32m    156\u001b[0m                     \u001b[0;31m# TODO: Investigate potential non graceful close states\u001b[0m\u001b[0;34m\u001b[0m\u001b[0;34m\u001b[0m\u001b[0;34m\u001b[0m\u001b[0m\n\u001b[1;32m    157\u001b[0m             \u001b[0;32mexcept\u001b[0m \u001b[0mNeo4jError\u001b[0m\u001b[0;34m:\u001b[0m\u001b[0;34m\u001b[0m\u001b[0;34m\u001b[0m\u001b[0m\n",
      "\u001b[0;32m/usr/local/lib/python3.8/site-packages/neo4j/io/_bolt3.py\u001b[0m in \u001b[0;36mfetch_all\u001b[0;34m(self)\u001b[0m\n\u001b[1;32m    391\u001b[0m             \u001b[0mresponse\u001b[0m \u001b[0;34m=\u001b[0m \u001b[0mself\u001b[0m\u001b[0;34m.\u001b[0m\u001b[0mresponses\u001b[0m\u001b[0;34m[\u001b[0m\u001b[0;36m0\u001b[0m\u001b[0;34m]\u001b[0m\u001b[0;34m\u001b[0m\u001b[0;34m\u001b[0m\u001b[0m\n\u001b[1;32m    392\u001b[0m             \u001b[0;32mwhile\u001b[0m \u001b[0;32mnot\u001b[0m \u001b[0mresponse\u001b[0m\u001b[0;34m.\u001b[0m\u001b[0mcomplete\u001b[0m\u001b[0;34m:\u001b[0m\u001b[0;34m\u001b[0m\u001b[0;34m\u001b[0m\u001b[0m\n\u001b[0;32m--> 393\u001b[0;31m                 \u001b[0mdetail_delta\u001b[0m\u001b[0;34m,\u001b[0m \u001b[0msummary_delta\u001b[0m \u001b[0;34m=\u001b[0m \u001b[0mself\u001b[0m\u001b[0;34m.\u001b[0m\u001b[0mfetch_message\u001b[0m\u001b[0;34m(\u001b[0m\u001b[0;34m)\u001b[0m\u001b[0;34m\u001b[0m\u001b[0;34m\u001b[0m\u001b[0m\n\u001b[0m\u001b[1;32m    394\u001b[0m                 \u001b[0mdetail_count\u001b[0m \u001b[0;34m+=\u001b[0m \u001b[0mdetail_delta\u001b[0m\u001b[0;34m\u001b[0m\u001b[0;34m\u001b[0m\u001b[0m\n\u001b[1;32m    395\u001b[0m                 \u001b[0msummary_count\u001b[0m \u001b[0;34m+=\u001b[0m \u001b[0msummary_delta\u001b[0m\u001b[0;34m\u001b[0m\u001b[0;34m\u001b[0m\u001b[0m\n",
      "\u001b[0;32m/usr/local/lib/python3.8/site-packages/neo4j/io/_bolt3.py\u001b[0m in \u001b[0;36mfetch_message\u001b[0;34m(self)\u001b[0m\n\u001b[1;32m    308\u001b[0m         \u001b[0;31m# Receive exactly one message\u001b[0m\u001b[0;34m\u001b[0m\u001b[0;34m\u001b[0m\u001b[0;34m\u001b[0m\u001b[0m\n\u001b[1;32m    309\u001b[0m         \u001b[0;32mtry\u001b[0m\u001b[0;34m:\u001b[0m\u001b[0;34m\u001b[0m\u001b[0;34m\u001b[0m\u001b[0m\n\u001b[0;32m--> 310\u001b[0;31m             \u001b[0mdetails\u001b[0m\u001b[0;34m,\u001b[0m \u001b[0msummary_signature\u001b[0m\u001b[0;34m,\u001b[0m \u001b[0msummary_metadata\u001b[0m \u001b[0;34m=\u001b[0m \u001b[0mnext\u001b[0m\u001b[0;34m(\u001b[0m\u001b[0mself\u001b[0m\u001b[0;34m.\u001b[0m\u001b[0minbox\u001b[0m\u001b[0;34m)\u001b[0m\u001b[0;34m\u001b[0m\u001b[0;34m\u001b[0m\u001b[0m\n\u001b[0m\u001b[1;32m    311\u001b[0m         \u001b[0;32mexcept\u001b[0m \u001b[0;34m(\u001b[0m\u001b[0mIOError\u001b[0m\u001b[0;34m,\u001b[0m \u001b[0mOSError\u001b[0m\u001b[0;34m)\u001b[0m \u001b[0;32mas\u001b[0m \u001b[0merror\u001b[0m\u001b[0;34m:\u001b[0m\u001b[0;34m\u001b[0m\u001b[0;34m\u001b[0m\u001b[0m\n\u001b[1;32m    312\u001b[0m             log.error(\"Failed to read data from connection \"\n",
      "\u001b[0;32m/usr/local/lib/python3.8/site-packages/neo4j/io/_bolt3.py\u001b[0m in \u001b[0;36m__next__\u001b[0;34m(self)\u001b[0m\n\u001b[1;32m    477\u001b[0m \u001b[0;34m\u001b[0m\u001b[0m\n\u001b[1;32m    478\u001b[0m     \u001b[0;32mdef\u001b[0m \u001b[0m__next__\u001b[0m\u001b[0;34m(\u001b[0m\u001b[0mself\u001b[0m\u001b[0;34m)\u001b[0m\u001b[0;34m:\u001b[0m\u001b[0;34m\u001b[0m\u001b[0;34m\u001b[0m\u001b[0m\n\u001b[0;32m--> 479\u001b[0;31m         \u001b[0mtag\u001b[0m\u001b[0;34m,\u001b[0m \u001b[0mfields\u001b[0m \u001b[0;34m=\u001b[0m \u001b[0mself\u001b[0m\u001b[0;34m.\u001b[0m\u001b[0mpop\u001b[0m\u001b[0;34m(\u001b[0m\u001b[0;34m)\u001b[0m\u001b[0;34m\u001b[0m\u001b[0;34m\u001b[0m\u001b[0m\n\u001b[0m\u001b[1;32m    480\u001b[0m         \u001b[0;32mif\u001b[0m \u001b[0mtag\u001b[0m \u001b[0;34m==\u001b[0m \u001b[0;34mb\"\\x71\"\u001b[0m\u001b[0;34m:\u001b[0m\u001b[0;34m\u001b[0m\u001b[0;34m\u001b[0m\u001b[0m\n\u001b[1;32m    481\u001b[0m             \u001b[0;32mreturn\u001b[0m \u001b[0mfields\u001b[0m\u001b[0;34m,\u001b[0m \u001b[0;32mNone\u001b[0m\u001b[0;34m,\u001b[0m \u001b[0;32mNone\u001b[0m\u001b[0;34m\u001b[0m\u001b[0;34m\u001b[0m\u001b[0m\n",
      "\u001b[0;32m/usr/local/lib/python3.8/site-packages/neo4j/io/_courier.py\u001b[0m in \u001b[0;36mpop\u001b[0;34m(self)\u001b[0m\n\u001b[1;32m     64\u001b[0m \u001b[0;34m\u001b[0m\u001b[0m\n\u001b[1;32m     65\u001b[0m     \u001b[0;32mdef\u001b[0m \u001b[0mpop\u001b[0m\u001b[0;34m(\u001b[0m\u001b[0mself\u001b[0m\u001b[0;34m)\u001b[0m\u001b[0;34m:\u001b[0m\u001b[0;34m\u001b[0m\u001b[0;34m\u001b[0m\u001b[0m\n\u001b[0;32m---> 66\u001b[0;31m         \u001b[0;32mreturn\u001b[0m \u001b[0mnext\u001b[0m\u001b[0;34m(\u001b[0m\u001b[0mself\u001b[0m\u001b[0;34m.\u001b[0m\u001b[0m_messages\u001b[0m\u001b[0;34m)\u001b[0m\u001b[0;34m\u001b[0m\u001b[0;34m\u001b[0m\u001b[0m\n\u001b[0m",
      "\u001b[0;31mStopIteration\u001b[0m: "
     ]
    }
   ],
   "source": [
    "with driver.session() as session:\n",
    "    result = session.run(\"CALL db.relationshipTypes()\").data()\n",
    "\n",
    "    \n",
    "pd.DataFrame(result)"
   ]
  },
  {
   "cell_type": "markdown",
   "id": "alien-display",
   "metadata": {},
   "source": [
    "## Properties"
   ]
  },
  {
   "cell_type": "markdown",
   "id": "secondary-receipt",
   "metadata": {},
   "source": [
    "Properties are additional information that might be assigned to nodes or relationships. Properties can provide meta information e.g. about geographic locations, names, gender and pretty much anything else that might be relevant as an information for nodes or relationships. \n",
    "\n",
    "Also, properties can be used to identify a specific subset of nodes or relationships. "
   ]
  },
  {
   "cell_type": "code",
   "execution_count": 22,
   "id": "whole-hacker",
   "metadata": {
    "scrolled": true
   },
   "outputs": [
    {
     "ename": "StopIteration",
     "evalue": "",
     "output_type": "error",
     "traceback": [
      "\u001b[0;31m---------------------------------------------------------------------------\u001b[0m",
      "\u001b[0;31mKeyboardInterrupt\u001b[0m                         Traceback (most recent call last)",
      "\u001b[0;32m<ipython-input-22-93bfcf2fda34>\u001b[0m in \u001b[0;36m<module>\u001b[0;34m\u001b[0m\n\u001b[1;32m      9\u001b[0m \u001b[0;32mwith\u001b[0m \u001b[0mdriver\u001b[0m\u001b[0;34m.\u001b[0m\u001b[0msession\u001b[0m\u001b[0;34m(\u001b[0m\u001b[0;34m)\u001b[0m \u001b[0;32mas\u001b[0m \u001b[0msession\u001b[0m\u001b[0;34m:\u001b[0m\u001b[0;34m\u001b[0m\u001b[0;34m\u001b[0m\u001b[0m\n\u001b[0;32m---> 10\u001b[0;31m     \u001b[0mresult\u001b[0m \u001b[0;34m=\u001b[0m \u001b[0msession\u001b[0m\u001b[0;34m.\u001b[0m\u001b[0mrun\u001b[0m\u001b[0;34m(\u001b[0m\u001b[0mquery\u001b[0m\u001b[0;34m)\u001b[0m\u001b[0;34m.\u001b[0m\u001b[0mdata\u001b[0m\u001b[0;34m(\u001b[0m\u001b[0;34m)\u001b[0m\u001b[0;34m\u001b[0m\u001b[0;34m\u001b[0m\u001b[0m\n\u001b[0m\u001b[1;32m     11\u001b[0m \u001b[0;34m\u001b[0m\u001b[0m\n",
      "\u001b[0;32m/usr/local/lib/python3.8/site-packages/neo4j/work/simple.py\u001b[0m in \u001b[0;36mrun\u001b[0;34m(self, query, parameters, **kwparameters)\u001b[0m\n\u001b[1;32m    216\u001b[0m         \u001b[0mself\u001b[0m\u001b[0;34m.\u001b[0m\u001b[0m_autoResult\u001b[0m \u001b[0;34m=\u001b[0m \u001b[0mResult\u001b[0m\u001b[0;34m(\u001b[0m\u001b[0mcx\u001b[0m\u001b[0;34m,\u001b[0m \u001b[0mhydrant\u001b[0m\u001b[0;34m,\u001b[0m \u001b[0mself\u001b[0m\u001b[0;34m.\u001b[0m\u001b[0m_config\u001b[0m\u001b[0;34m.\u001b[0m\u001b[0mfetch_size\u001b[0m\u001b[0;34m,\u001b[0m \u001b[0mself\u001b[0m\u001b[0;34m.\u001b[0m\u001b[0m_result_closed\u001b[0m\u001b[0;34m)\u001b[0m\u001b[0;34m\u001b[0m\u001b[0;34m\u001b[0m\u001b[0m\n\u001b[0;32m--> 217\u001b[0;31m         \u001b[0mself\u001b[0m\u001b[0;34m.\u001b[0m\u001b[0m_autoResult\u001b[0m\u001b[0;34m.\u001b[0m\u001b[0m_run\u001b[0m\u001b[0;34m(\u001b[0m\u001b[0mquery\u001b[0m\u001b[0;34m,\u001b[0m \u001b[0mparameters\u001b[0m\u001b[0;34m,\u001b[0m \u001b[0mself\u001b[0m\u001b[0;34m.\u001b[0m\u001b[0m_config\u001b[0m\u001b[0;34m.\u001b[0m\u001b[0mdatabase\u001b[0m\u001b[0;34m,\u001b[0m \u001b[0mself\u001b[0m\u001b[0;34m.\u001b[0m\u001b[0m_config\u001b[0m\u001b[0;34m.\u001b[0m\u001b[0mdefault_access_mode\u001b[0m\u001b[0;34m,\u001b[0m \u001b[0mself\u001b[0m\u001b[0;34m.\u001b[0m\u001b[0m_bookmarks\u001b[0m\u001b[0;34m,\u001b[0m \u001b[0;34m**\u001b[0m\u001b[0mkwparameters\u001b[0m\u001b[0;34m)\u001b[0m\u001b[0;34m\u001b[0m\u001b[0;34m\u001b[0m\u001b[0m\n\u001b[0m\u001b[1;32m    218\u001b[0m \u001b[0;34m\u001b[0m\u001b[0m\n",
      "\u001b[0;32m/usr/local/lib/python3.8/site-packages/neo4j/work/result.py\u001b[0m in \u001b[0;36m_run\u001b[0;34m(self, query, parameters, db, access_mode, bookmarks, **kwparameters)\u001b[0m\n\u001b[1;32m    100\u001b[0m         \u001b[0mself\u001b[0m\u001b[0;34m.\u001b[0m\u001b[0m_connection\u001b[0m\u001b[0;34m.\u001b[0m\u001b[0msend_all\u001b[0m\u001b[0;34m(\u001b[0m\u001b[0;34m)\u001b[0m\u001b[0;34m\u001b[0m\u001b[0;34m\u001b[0m\u001b[0m\n\u001b[0;32m--> 101\u001b[0;31m         \u001b[0mself\u001b[0m\u001b[0;34m.\u001b[0m\u001b[0m_attach\u001b[0m\u001b[0;34m(\u001b[0m\u001b[0;34m)\u001b[0m\u001b[0;34m\u001b[0m\u001b[0;34m\u001b[0m\u001b[0m\n\u001b[0m\u001b[1;32m    102\u001b[0m \u001b[0;34m\u001b[0m\u001b[0m\n",
      "\u001b[0;32m/usr/local/lib/python3.8/site-packages/neo4j/work/result.py\u001b[0m in \u001b[0;36m_attach\u001b[0;34m(self)\u001b[0m\n\u001b[1;32m    201\u001b[0m             \u001b[0;32mwhile\u001b[0m \u001b[0mself\u001b[0m\u001b[0;34m.\u001b[0m\u001b[0m_attached\u001b[0m \u001b[0;32mis\u001b[0m \u001b[0;32mFalse\u001b[0m\u001b[0;34m:\u001b[0m\u001b[0;34m\u001b[0m\u001b[0;34m\u001b[0m\u001b[0m\n\u001b[0;32m--> 202\u001b[0;31m                 \u001b[0mself\u001b[0m\u001b[0;34m.\u001b[0m\u001b[0m_connection\u001b[0m\u001b[0;34m.\u001b[0m\u001b[0mfetch_message\u001b[0m\u001b[0;34m(\u001b[0m\u001b[0;34m)\u001b[0m\u001b[0;34m\u001b[0m\u001b[0;34m\u001b[0m\u001b[0m\n\u001b[0m\u001b[1;32m    203\u001b[0m \u001b[0;34m\u001b[0m\u001b[0m\n",
      "\u001b[0;32m/usr/local/lib/python3.8/site-packages/neo4j/io/_bolt3.py\u001b[0m in \u001b[0;36mfetch_message\u001b[0;34m(self)\u001b[0m\n\u001b[1;32m    309\u001b[0m         \u001b[0;32mtry\u001b[0m\u001b[0;34m:\u001b[0m\u001b[0;34m\u001b[0m\u001b[0;34m\u001b[0m\u001b[0m\n\u001b[0;32m--> 310\u001b[0;31m             \u001b[0mdetails\u001b[0m\u001b[0;34m,\u001b[0m \u001b[0msummary_signature\u001b[0m\u001b[0;34m,\u001b[0m \u001b[0msummary_metadata\u001b[0m \u001b[0;34m=\u001b[0m \u001b[0mnext\u001b[0m\u001b[0;34m(\u001b[0m\u001b[0mself\u001b[0m\u001b[0;34m.\u001b[0m\u001b[0minbox\u001b[0m\u001b[0;34m)\u001b[0m\u001b[0;34m\u001b[0m\u001b[0;34m\u001b[0m\u001b[0m\n\u001b[0m\u001b[1;32m    311\u001b[0m         \u001b[0;32mexcept\u001b[0m \u001b[0;34m(\u001b[0m\u001b[0mIOError\u001b[0m\u001b[0;34m,\u001b[0m \u001b[0mOSError\u001b[0m\u001b[0;34m)\u001b[0m \u001b[0;32mas\u001b[0m \u001b[0merror\u001b[0m\u001b[0;34m:\u001b[0m\u001b[0;34m\u001b[0m\u001b[0;34m\u001b[0m\u001b[0m\n",
      "\u001b[0;32m/usr/local/lib/python3.8/site-packages/neo4j/io/_bolt3.py\u001b[0m in \u001b[0;36m__next__\u001b[0;34m(self)\u001b[0m\n\u001b[1;32m    478\u001b[0m     \u001b[0;32mdef\u001b[0m \u001b[0m__next__\u001b[0m\u001b[0;34m(\u001b[0m\u001b[0mself\u001b[0m\u001b[0;34m)\u001b[0m\u001b[0;34m:\u001b[0m\u001b[0;34m\u001b[0m\u001b[0;34m\u001b[0m\u001b[0m\n\u001b[0;32m--> 479\u001b[0;31m         \u001b[0mtag\u001b[0m\u001b[0;34m,\u001b[0m \u001b[0mfields\u001b[0m \u001b[0;34m=\u001b[0m \u001b[0mself\u001b[0m\u001b[0;34m.\u001b[0m\u001b[0mpop\u001b[0m\u001b[0;34m(\u001b[0m\u001b[0;34m)\u001b[0m\u001b[0;34m\u001b[0m\u001b[0;34m\u001b[0m\u001b[0m\n\u001b[0m\u001b[1;32m    480\u001b[0m         \u001b[0;32mif\u001b[0m \u001b[0mtag\u001b[0m \u001b[0;34m==\u001b[0m \u001b[0;34mb\"\\x71\"\u001b[0m\u001b[0;34m:\u001b[0m\u001b[0;34m\u001b[0m\u001b[0;34m\u001b[0m\u001b[0m\n",
      "\u001b[0;32m/usr/local/lib/python3.8/site-packages/neo4j/io/_courier.py\u001b[0m in \u001b[0;36mpop\u001b[0;34m(self)\u001b[0m\n\u001b[1;32m     65\u001b[0m     \u001b[0;32mdef\u001b[0m \u001b[0mpop\u001b[0m\u001b[0;34m(\u001b[0m\u001b[0mself\u001b[0m\u001b[0;34m)\u001b[0m\u001b[0;34m:\u001b[0m\u001b[0;34m\u001b[0m\u001b[0;34m\u001b[0m\u001b[0m\n\u001b[0;32m---> 66\u001b[0;31m         \u001b[0;32mreturn\u001b[0m \u001b[0mnext\u001b[0m\u001b[0;34m(\u001b[0m\u001b[0mself\u001b[0m\u001b[0;34m.\u001b[0m\u001b[0m_messages\u001b[0m\u001b[0;34m)\u001b[0m\u001b[0;34m\u001b[0m\u001b[0;34m\u001b[0m\u001b[0m\n\u001b[0m",
      "\u001b[0;32m/usr/local/lib/python3.8/site-packages/neo4j/io/_courier.py\u001b[0m in \u001b[0;36m_yield_messages\u001b[0;34m(self, sock)\u001b[0m\n\u001b[1;32m     45\u001b[0m                     \u001b[0;31m# Determine the chunk size and skip noop\u001b[0m\u001b[0;34m\u001b[0m\u001b[0;34m\u001b[0m\u001b[0;34m\u001b[0m\u001b[0m\n\u001b[0;32m---> 46\u001b[0;31m                     \u001b[0mbuffer\u001b[0m\u001b[0;34m.\u001b[0m\u001b[0mreceive\u001b[0m\u001b[0;34m(\u001b[0m\u001b[0msock\u001b[0m\u001b[0;34m,\u001b[0m \u001b[0;36m2\u001b[0m\u001b[0;34m)\u001b[0m\u001b[0;34m\u001b[0m\u001b[0;34m\u001b[0m\u001b[0m\n\u001b[0m\u001b[1;32m     47\u001b[0m                     \u001b[0mchunk_size\u001b[0m \u001b[0;34m=\u001b[0m \u001b[0mbuffer\u001b[0m\u001b[0;34m.\u001b[0m\u001b[0mpop_u16\u001b[0m\u001b[0;34m(\u001b[0m\u001b[0;34m)\u001b[0m\u001b[0;34m\u001b[0m\u001b[0;34m\u001b[0m\u001b[0m\n",
      "\u001b[0;32m/usr/local/lib/python3.8/site-packages/neo4j/packstream.py\u001b[0m in \u001b[0;36mreceive\u001b[0;34m(self, sock, n_bytes)\u001b[0m\n\u001b[1;32m    604\u001b[0m         \u001b[0;32mwhile\u001b[0m \u001b[0mself\u001b[0m\u001b[0;34m.\u001b[0m\u001b[0mused\u001b[0m \u001b[0;34m<\u001b[0m \u001b[0mend\u001b[0m\u001b[0;34m:\u001b[0m\u001b[0;34m\u001b[0m\u001b[0;34m\u001b[0m\u001b[0m\n\u001b[0;32m--> 605\u001b[0;31m             \u001b[0mn\u001b[0m \u001b[0;34m=\u001b[0m \u001b[0msock\u001b[0m\u001b[0;34m.\u001b[0m\u001b[0mrecv_into\u001b[0m\u001b[0;34m(\u001b[0m\u001b[0mview\u001b[0m\u001b[0;34m[\u001b[0m\u001b[0mself\u001b[0m\u001b[0;34m.\u001b[0m\u001b[0mused\u001b[0m\u001b[0;34m:\u001b[0m\u001b[0mend\u001b[0m\u001b[0;34m]\u001b[0m\u001b[0;34m,\u001b[0m \u001b[0mend\u001b[0m \u001b[0;34m-\u001b[0m \u001b[0mself\u001b[0m\u001b[0;34m.\u001b[0m\u001b[0mused\u001b[0m\u001b[0;34m)\u001b[0m\u001b[0;34m\u001b[0m\u001b[0;34m\u001b[0m\u001b[0m\n\u001b[0m\u001b[1;32m    606\u001b[0m             \u001b[0;32mif\u001b[0m \u001b[0mn\u001b[0m \u001b[0;34m==\u001b[0m \u001b[0;36m0\u001b[0m\u001b[0;34m:\u001b[0m\u001b[0;34m\u001b[0m\u001b[0;34m\u001b[0m\u001b[0m\n",
      "\u001b[0;32m/usr/local/lib/python3.8/ssl.py\u001b[0m in \u001b[0;36mrecv_into\u001b[0;34m(self, buffer, nbytes, flags)\u001b[0m\n\u001b[1;32m   1240\u001b[0m                   self.__class__)\n\u001b[0;32m-> 1241\u001b[0;31m             \u001b[0;32mreturn\u001b[0m \u001b[0mself\u001b[0m\u001b[0;34m.\u001b[0m\u001b[0mread\u001b[0m\u001b[0;34m(\u001b[0m\u001b[0mnbytes\u001b[0m\u001b[0;34m,\u001b[0m \u001b[0mbuffer\u001b[0m\u001b[0;34m)\u001b[0m\u001b[0;34m\u001b[0m\u001b[0;34m\u001b[0m\u001b[0m\n\u001b[0m\u001b[1;32m   1242\u001b[0m         \u001b[0;32melse\u001b[0m\u001b[0;34m:\u001b[0m\u001b[0;34m\u001b[0m\u001b[0;34m\u001b[0m\u001b[0m\n",
      "\u001b[0;32m/usr/local/lib/python3.8/ssl.py\u001b[0m in \u001b[0;36mread\u001b[0;34m(self, len, buffer)\u001b[0m\n\u001b[1;32m   1098\u001b[0m             \u001b[0;32mif\u001b[0m \u001b[0mbuffer\u001b[0m \u001b[0;32mis\u001b[0m \u001b[0;32mnot\u001b[0m \u001b[0;32mNone\u001b[0m\u001b[0;34m:\u001b[0m\u001b[0;34m\u001b[0m\u001b[0;34m\u001b[0m\u001b[0m\n\u001b[0;32m-> 1099\u001b[0;31m                 \u001b[0;32mreturn\u001b[0m \u001b[0mself\u001b[0m\u001b[0;34m.\u001b[0m\u001b[0m_sslobj\u001b[0m\u001b[0;34m.\u001b[0m\u001b[0mread\u001b[0m\u001b[0;34m(\u001b[0m\u001b[0mlen\u001b[0m\u001b[0;34m,\u001b[0m \u001b[0mbuffer\u001b[0m\u001b[0;34m)\u001b[0m\u001b[0;34m\u001b[0m\u001b[0;34m\u001b[0m\u001b[0m\n\u001b[0m\u001b[1;32m   1100\u001b[0m             \u001b[0;32melse\u001b[0m\u001b[0;34m:\u001b[0m\u001b[0;34m\u001b[0m\u001b[0;34m\u001b[0m\u001b[0m\n",
      "\u001b[0;31mKeyboardInterrupt\u001b[0m: ",
      "\nDuring handling of the above exception, another exception occurred:\n",
      "\u001b[0;31mStopIteration\u001b[0m                             Traceback (most recent call last)",
      "\u001b[0;32m<ipython-input-22-93bfcf2fda34>\u001b[0m in \u001b[0;36m<module>\u001b[0;34m\u001b[0m\n\u001b[1;32m      8\u001b[0m \u001b[0;34m\u001b[0m\u001b[0m\n\u001b[1;32m      9\u001b[0m \u001b[0;32mwith\u001b[0m \u001b[0mdriver\u001b[0m\u001b[0;34m.\u001b[0m\u001b[0msession\u001b[0m\u001b[0;34m(\u001b[0m\u001b[0;34m)\u001b[0m \u001b[0;32mas\u001b[0m \u001b[0msession\u001b[0m\u001b[0;34m:\u001b[0m\u001b[0;34m\u001b[0m\u001b[0;34m\u001b[0m\u001b[0m\n\u001b[0;32m---> 10\u001b[0;31m     \u001b[0mresult\u001b[0m \u001b[0;34m=\u001b[0m \u001b[0msession\u001b[0m\u001b[0;34m.\u001b[0m\u001b[0mrun\u001b[0m\u001b[0;34m(\u001b[0m\u001b[0mquery\u001b[0m\u001b[0;34m)\u001b[0m\u001b[0;34m.\u001b[0m\u001b[0mdata\u001b[0m\u001b[0;34m(\u001b[0m\u001b[0;34m)\u001b[0m\u001b[0;34m\u001b[0m\u001b[0;34m\u001b[0m\u001b[0m\n\u001b[0m\u001b[1;32m     11\u001b[0m \u001b[0;34m\u001b[0m\u001b[0m\n\u001b[1;32m     12\u001b[0m \u001b[0mresult\u001b[0m\u001b[0;34m\u001b[0m\u001b[0;34m\u001b[0m\u001b[0m\n",
      "\u001b[0;32m/usr/local/lib/python3.8/site-packages/neo4j/work/simple.py\u001b[0m in \u001b[0;36m__exit__\u001b[0;34m(self, exception_type, exception_value, traceback)\u001b[0m\n\u001b[1;32m    103\u001b[0m         \u001b[0;32mif\u001b[0m \u001b[0mexception_type\u001b[0m\u001b[0;34m:\u001b[0m\u001b[0;34m\u001b[0m\u001b[0;34m\u001b[0m\u001b[0m\n\u001b[1;32m    104\u001b[0m             \u001b[0mself\u001b[0m\u001b[0;34m.\u001b[0m\u001b[0m_state_failed\u001b[0m \u001b[0;34m=\u001b[0m \u001b[0;32mTrue\u001b[0m\u001b[0;34m\u001b[0m\u001b[0;34m\u001b[0m\u001b[0m\n\u001b[0;32m--> 105\u001b[0;31m         \u001b[0mself\u001b[0m\u001b[0;34m.\u001b[0m\u001b[0mclose\u001b[0m\u001b[0;34m(\u001b[0m\u001b[0;34m)\u001b[0m\u001b[0;34m\u001b[0m\u001b[0;34m\u001b[0m\u001b[0m\n\u001b[0m\u001b[1;32m    106\u001b[0m \u001b[0;34m\u001b[0m\u001b[0m\n\u001b[1;32m    107\u001b[0m     \u001b[0;32mdef\u001b[0m \u001b[0m_connect\u001b[0m\u001b[0;34m(\u001b[0m\u001b[0mself\u001b[0m\u001b[0;34m,\u001b[0m \u001b[0maccess_mode\u001b[0m\u001b[0;34m,\u001b[0m \u001b[0mdatabase\u001b[0m\u001b[0;34m)\u001b[0m\u001b[0;34m:\u001b[0m\u001b[0;34m\u001b[0m\u001b[0;34m\u001b[0m\u001b[0m\n",
      "\u001b[0;32m/usr/local/lib/python3.8/site-packages/neo4j/work/simple.py\u001b[0m in \u001b[0;36mclose\u001b[0;34m(self)\u001b[0m\n\u001b[1;32m    153\u001b[0m                 \u001b[0;32mif\u001b[0m \u001b[0mself\u001b[0m\u001b[0;34m.\u001b[0m\u001b[0m_connection\u001b[0m\u001b[0;34m:\u001b[0m\u001b[0;34m\u001b[0m\u001b[0;34m\u001b[0m\u001b[0m\n\u001b[1;32m    154\u001b[0m                     \u001b[0mself\u001b[0m\u001b[0;34m.\u001b[0m\u001b[0m_connection\u001b[0m\u001b[0;34m.\u001b[0m\u001b[0msend_all\u001b[0m\u001b[0;34m(\u001b[0m\u001b[0;34m)\u001b[0m\u001b[0;34m\u001b[0m\u001b[0;34m\u001b[0m\u001b[0m\n\u001b[0;32m--> 155\u001b[0;31m                     \u001b[0mself\u001b[0m\u001b[0;34m.\u001b[0m\u001b[0m_connection\u001b[0m\u001b[0;34m.\u001b[0m\u001b[0mfetch_all\u001b[0m\u001b[0;34m(\u001b[0m\u001b[0;34m)\u001b[0m\u001b[0;34m\u001b[0m\u001b[0;34m\u001b[0m\u001b[0m\n\u001b[0m\u001b[1;32m    156\u001b[0m                     \u001b[0;31m# TODO: Investigate potential non graceful close states\u001b[0m\u001b[0;34m\u001b[0m\u001b[0;34m\u001b[0m\u001b[0;34m\u001b[0m\u001b[0m\n\u001b[1;32m    157\u001b[0m             \u001b[0;32mexcept\u001b[0m \u001b[0mNeo4jError\u001b[0m\u001b[0;34m:\u001b[0m\u001b[0;34m\u001b[0m\u001b[0;34m\u001b[0m\u001b[0m\n",
      "\u001b[0;32m/usr/local/lib/python3.8/site-packages/neo4j/io/_bolt3.py\u001b[0m in \u001b[0;36mfetch_all\u001b[0;34m(self)\u001b[0m\n\u001b[1;32m    391\u001b[0m             \u001b[0mresponse\u001b[0m \u001b[0;34m=\u001b[0m \u001b[0mself\u001b[0m\u001b[0;34m.\u001b[0m\u001b[0mresponses\u001b[0m\u001b[0;34m[\u001b[0m\u001b[0;36m0\u001b[0m\u001b[0;34m]\u001b[0m\u001b[0;34m\u001b[0m\u001b[0;34m\u001b[0m\u001b[0m\n\u001b[1;32m    392\u001b[0m             \u001b[0;32mwhile\u001b[0m \u001b[0;32mnot\u001b[0m \u001b[0mresponse\u001b[0m\u001b[0;34m.\u001b[0m\u001b[0mcomplete\u001b[0m\u001b[0;34m:\u001b[0m\u001b[0;34m\u001b[0m\u001b[0;34m\u001b[0m\u001b[0m\n\u001b[0;32m--> 393\u001b[0;31m                 \u001b[0mdetail_delta\u001b[0m\u001b[0;34m,\u001b[0m \u001b[0msummary_delta\u001b[0m \u001b[0;34m=\u001b[0m \u001b[0mself\u001b[0m\u001b[0;34m.\u001b[0m\u001b[0mfetch_message\u001b[0m\u001b[0;34m(\u001b[0m\u001b[0;34m)\u001b[0m\u001b[0;34m\u001b[0m\u001b[0;34m\u001b[0m\u001b[0m\n\u001b[0m\u001b[1;32m    394\u001b[0m                 \u001b[0mdetail_count\u001b[0m \u001b[0;34m+=\u001b[0m \u001b[0mdetail_delta\u001b[0m\u001b[0;34m\u001b[0m\u001b[0;34m\u001b[0m\u001b[0m\n\u001b[1;32m    395\u001b[0m                 \u001b[0msummary_count\u001b[0m \u001b[0;34m+=\u001b[0m \u001b[0msummary_delta\u001b[0m\u001b[0;34m\u001b[0m\u001b[0;34m\u001b[0m\u001b[0m\n",
      "\u001b[0;32m/usr/local/lib/python3.8/site-packages/neo4j/io/_bolt3.py\u001b[0m in \u001b[0;36mfetch_message\u001b[0;34m(self)\u001b[0m\n\u001b[1;32m    308\u001b[0m         \u001b[0;31m# Receive exactly one message\u001b[0m\u001b[0;34m\u001b[0m\u001b[0;34m\u001b[0m\u001b[0;34m\u001b[0m\u001b[0m\n\u001b[1;32m    309\u001b[0m         \u001b[0;32mtry\u001b[0m\u001b[0;34m:\u001b[0m\u001b[0;34m\u001b[0m\u001b[0;34m\u001b[0m\u001b[0m\n\u001b[0;32m--> 310\u001b[0;31m             \u001b[0mdetails\u001b[0m\u001b[0;34m,\u001b[0m \u001b[0msummary_signature\u001b[0m\u001b[0;34m,\u001b[0m \u001b[0msummary_metadata\u001b[0m \u001b[0;34m=\u001b[0m \u001b[0mnext\u001b[0m\u001b[0;34m(\u001b[0m\u001b[0mself\u001b[0m\u001b[0;34m.\u001b[0m\u001b[0minbox\u001b[0m\u001b[0;34m)\u001b[0m\u001b[0;34m\u001b[0m\u001b[0;34m\u001b[0m\u001b[0m\n\u001b[0m\u001b[1;32m    311\u001b[0m         \u001b[0;32mexcept\u001b[0m \u001b[0;34m(\u001b[0m\u001b[0mIOError\u001b[0m\u001b[0;34m,\u001b[0m \u001b[0mOSError\u001b[0m\u001b[0;34m)\u001b[0m \u001b[0;32mas\u001b[0m \u001b[0merror\u001b[0m\u001b[0;34m:\u001b[0m\u001b[0;34m\u001b[0m\u001b[0;34m\u001b[0m\u001b[0m\n\u001b[1;32m    312\u001b[0m             log.error(\"Failed to read data from connection \"\n",
      "\u001b[0;32m/usr/local/lib/python3.8/site-packages/neo4j/io/_bolt3.py\u001b[0m in \u001b[0;36m__next__\u001b[0;34m(self)\u001b[0m\n\u001b[1;32m    477\u001b[0m \u001b[0;34m\u001b[0m\u001b[0m\n\u001b[1;32m    478\u001b[0m     \u001b[0;32mdef\u001b[0m \u001b[0m__next__\u001b[0m\u001b[0;34m(\u001b[0m\u001b[0mself\u001b[0m\u001b[0;34m)\u001b[0m\u001b[0;34m:\u001b[0m\u001b[0;34m\u001b[0m\u001b[0;34m\u001b[0m\u001b[0m\n\u001b[0;32m--> 479\u001b[0;31m         \u001b[0mtag\u001b[0m\u001b[0;34m,\u001b[0m \u001b[0mfields\u001b[0m \u001b[0;34m=\u001b[0m \u001b[0mself\u001b[0m\u001b[0;34m.\u001b[0m\u001b[0mpop\u001b[0m\u001b[0;34m(\u001b[0m\u001b[0;34m)\u001b[0m\u001b[0;34m\u001b[0m\u001b[0;34m\u001b[0m\u001b[0m\n\u001b[0m\u001b[1;32m    480\u001b[0m         \u001b[0;32mif\u001b[0m \u001b[0mtag\u001b[0m \u001b[0;34m==\u001b[0m \u001b[0;34mb\"\\x71\"\u001b[0m\u001b[0;34m:\u001b[0m\u001b[0;34m\u001b[0m\u001b[0;34m\u001b[0m\u001b[0m\n\u001b[1;32m    481\u001b[0m             \u001b[0;32mreturn\u001b[0m \u001b[0mfields\u001b[0m\u001b[0;34m,\u001b[0m \u001b[0;32mNone\u001b[0m\u001b[0;34m,\u001b[0m \u001b[0;32mNone\u001b[0m\u001b[0;34m\u001b[0m\u001b[0;34m\u001b[0m\u001b[0m\n",
      "\u001b[0;32m/usr/local/lib/python3.8/site-packages/neo4j/io/_courier.py\u001b[0m in \u001b[0;36mpop\u001b[0;34m(self)\u001b[0m\n\u001b[1;32m     64\u001b[0m \u001b[0;34m\u001b[0m\u001b[0m\n\u001b[1;32m     65\u001b[0m     \u001b[0;32mdef\u001b[0m \u001b[0mpop\u001b[0m\u001b[0;34m(\u001b[0m\u001b[0mself\u001b[0m\u001b[0;34m)\u001b[0m\u001b[0;34m:\u001b[0m\u001b[0;34m\u001b[0m\u001b[0;34m\u001b[0m\u001b[0m\n\u001b[0;32m---> 66\u001b[0;31m         \u001b[0;32mreturn\u001b[0m \u001b[0mnext\u001b[0m\u001b[0;34m(\u001b[0m\u001b[0mself\u001b[0m\u001b[0;34m.\u001b[0m\u001b[0m_messages\u001b[0m\u001b[0;34m)\u001b[0m\u001b[0;34m\u001b[0m\u001b[0;34m\u001b[0m\u001b[0m\n\u001b[0m",
      "\u001b[0;31mStopIteration\u001b[0m: "
     ]
    }
   ],
   "source": [
    "query = \"\"\"\n",
    "CALL db.propertyKeys() YIELD propertyKey AS prop\n",
    "MATCH (n)\n",
    "WHERE n[prop] IS NOT NULL\n",
    "RETURN prop, count(n) AS numNodes\n",
    "\"\"\"\n",
    "\n",
    "\n",
    "with driver.session() as session:\n",
    "    result = session.run(query).data()\n",
    "    \n",
    "result"
   ]
  },
  {
   "cell_type": "markdown",
   "id": "respiratory-noise",
   "metadata": {},
   "source": [
    "## Cypher Query Language"
   ]
  },
  {
   "cell_type": "markdown",
   "id": "olive-upgrade",
   "metadata": {},
   "source": [
    " "
   ]
  },
  {
   "cell_type": "markdown",
   "id": "caroline-external",
   "metadata": {},
   "source": [
    "## General Database Summary"
   ]
  },
  {
   "cell_type": "code",
   "execution_count": 19,
   "id": "impossible-listing",
   "metadata": {},
   "outputs": [
    {
     "data": {
      "text/html": [
       "<div>\n",
       "<style scoped>\n",
       "    .dataframe tbody tr th:only-of-type {\n",
       "        vertical-align: middle;\n",
       "    }\n",
       "\n",
       "    .dataframe tbody tr th {\n",
       "        vertical-align: top;\n",
       "    }\n",
       "\n",
       "    .dataframe thead th {\n",
       "        text-align: right;\n",
       "    }\n",
       "</style>\n",
       "<table border=\"1\" class=\"dataframe\">\n",
       "  <thead>\n",
       "    <tr style=\"text-align: right;\">\n",
       "      <th></th>\n",
       "      <th>output</th>\n",
       "    </tr>\n",
       "  </thead>\n",
       "  <tbody>\n",
       "    <tr>\n",
       "      <th>0</th>\n",
       "      <td>Number of Nodes: 46831805</td>\n",
       "    </tr>\n",
       "    <tr>\n",
       "      <th>1</th>\n",
       "      <td>Number of Relationships: 191363660</td>\n",
       "    </tr>\n",
       "    <tr>\n",
       "      <th>2</th>\n",
       "      <td>Number of Labels: 9</td>\n",
       "    </tr>\n",
       "    <tr>\n",
       "      <th>3</th>\n",
       "      <td>Number of Relationships Types: 10</td>\n",
       "    </tr>\n",
       "  </tbody>\n",
       "</table>\n",
       "</div>"
      ],
      "text/plain": [
       "                               output\n",
       "0           Number of Nodes: 46831805\n",
       "1  Number of Relationships: 191363660\n",
       "2                 Number of Labels: 9\n",
       "3   Number of Relationships Types: 10"
      ]
     },
     "execution_count": 19,
     "metadata": {},
     "output_type": "execute_result"
    }
   ],
   "source": [
    "query = \"\"\"\n",
    "match (n) return 'Number of Nodes: ' + count(n) as output UNION\n",
    "match ()-[]->() return 'Number of Relationships: ' + count(*) as output UNION\n",
    "CALL db.labels() YIELD label RETURN 'Number of Labels: ' + count(*) AS output UNION\n",
    "CALL db.relationshipTypes() YIELD relationshipType  RETURN 'Number of Relationships Types: ' + count(*) AS output\n",
    "\"\"\"\n",
    "\n",
    "with driver.session() as session:\n",
    "    result = session.run(query).data()\n",
    "    \n",
    "pd.DataFrame(result)\n"
   ]
  },
  {
   "cell_type": "markdown",
   "id": "adequate-extraction",
   "metadata": {},
   "source": [
    "# Descriptive Analyses"
   ]
  },
  {
   "cell_type": "markdown",
   "id": "operational-planet",
   "metadata": {},
   "source": [
    "## Summarise Node Labels"
   ]
  },
  {
   "cell_type": "code",
   "execution_count": 20,
   "id": "speaking-bridge",
   "metadata": {},
   "outputs": [
    {
     "data": {
      "text/html": [
       "<div>\n",
       "<style scoped>\n",
       "    .dataframe tbody tr th:only-of-type {\n",
       "        vertical-align: middle;\n",
       "    }\n",
       "\n",
       "    .dataframe tbody tr th {\n",
       "        vertical-align: top;\n",
       "    }\n",
       "\n",
       "    .dataframe thead th {\n",
       "        text-align: right;\n",
       "    }\n",
       "</style>\n",
       "<table border=\"1\" class=\"dataframe\">\n",
       "  <thead>\n",
       "    <tr style=\"text-align: right;\">\n",
       "      <th></th>\n",
       "      <th>label</th>\n",
       "      <th>count</th>\n",
       "    </tr>\n",
       "  </thead>\n",
       "  <tbody>\n",
       "    <tr>\n",
       "      <th>7</th>\n",
       "      <td>IsilTerm</td>\n",
       "      <td>611</td>\n",
       "    </tr>\n",
       "    <tr>\n",
       "      <th>4</th>\n",
       "      <td>TopicTerm</td>\n",
       "      <td>212135</td>\n",
       "    </tr>\n",
       "    <tr>\n",
       "      <th>1</th>\n",
       "      <td>GeoName</td>\n",
       "      <td>308197</td>\n",
       "    </tr>\n",
       "    <tr>\n",
       "      <th>5</th>\n",
       "      <td>UniTitle</td>\n",
       "      <td>385300</td>\n",
       "    </tr>\n",
       "    <tr>\n",
       "      <th>6</th>\n",
       "      <td>ChronTerm</td>\n",
       "      <td>537054</td>\n",
       "    </tr>\n",
       "    <tr>\n",
       "      <th>2</th>\n",
       "      <td>MeetName</td>\n",
       "      <td>814044</td>\n",
       "    </tr>\n",
       "    <tr>\n",
       "      <th>0</th>\n",
       "      <td>CorpName</td>\n",
       "      <td>1487711</td>\n",
       "    </tr>\n",
       "    <tr>\n",
       "      <th>3</th>\n",
       "      <td>PerName</td>\n",
       "      <td>5087660</td>\n",
       "    </tr>\n",
       "    <tr>\n",
       "      <th>8</th>\n",
       "      <td>Resource</td>\n",
       "      <td>37999093</td>\n",
       "    </tr>\n",
       "  </tbody>\n",
       "</table>\n",
       "</div>"
      ],
      "text/plain": [
       "       label     count\n",
       "7   IsilTerm       611\n",
       "4  TopicTerm    212135\n",
       "1    GeoName    308197\n",
       "5   UniTitle    385300\n",
       "6  ChronTerm    537054\n",
       "2   MeetName    814044\n",
       "0   CorpName   1487711\n",
       "3    PerName   5087660\n",
       "8   Resource  37999093"
      ]
     },
     "execution_count": 20,
     "metadata": {},
     "output_type": "execute_result"
    }
   ],
   "source": [
    "result = {\"label\": [], \"count\": []}\n",
    "\n",
    "with driver.session() as session:\n",
    "    labels = [row[\"label\"] for row in session.run(\"CALL db.labels()\")]\n",
    "    for label in labels:\n",
    "        query = f\"MATCH (:{label}) RETURN count(*) as count\"\n",
    "        count = session.run(query).single()[\"count\"]\n",
    "        result[\"label\"].append(label)\n",
    "        result[\"count\"].append(count)\n",
    "        \n",
    "node_labels_df = pd.DataFrame(result)\n",
    "node_labels_df.sort_values(by = \"count\")"
   ]
  },
  {
   "cell_type": "markdown",
   "id": "single-valuable",
   "metadata": {},
   "source": [
    "## Summarise Relationship Types\n"
   ]
  },
  {
   "cell_type": "code",
   "execution_count": 21,
   "id": "hispanic-picnic",
   "metadata": {},
   "outputs": [
    {
     "data": {
      "text/html": [
       "<div>\n",
       "<style scoped>\n",
       "    .dataframe tbody tr th:only-of-type {\n",
       "        vertical-align: middle;\n",
       "    }\n",
       "\n",
       "    .dataframe tbody tr th {\n",
       "        vertical-align: top;\n",
       "    }\n",
       "\n",
       "    .dataframe thead th {\n",
       "        text-align: right;\n",
       "    }\n",
       "</style>\n",
       "<table border=\"1\" class=\"dataframe\">\n",
       "  <thead>\n",
       "    <tr style=\"text-align: right;\">\n",
       "      <th></th>\n",
       "      <th>relType</th>\n",
       "      <th>count</th>\n",
       "    </tr>\n",
       "  </thead>\n",
       "  <tbody>\n",
       "    <tr>\n",
       "      <th>8</th>\n",
       "      <td>RelationToUniTitle</td>\n",
       "      <td>128256</td>\n",
       "    </tr>\n",
       "    <tr>\n",
       "      <th>6</th>\n",
       "      <td>RelationToMeetName</td>\n",
       "      <td>422333</td>\n",
       "    </tr>\n",
       "    <tr>\n",
       "      <th>1</th>\n",
       "      <td>RelationToChronTerm</td>\n",
       "      <td>5446841</td>\n",
       "    </tr>\n",
       "    <tr>\n",
       "      <th>2</th>\n",
       "      <td>RelationToCorpName</td>\n",
       "      <td>6728127</td>\n",
       "    </tr>\n",
       "    <tr>\n",
       "      <th>4</th>\n",
       "      <td>RelationToGeoName</td>\n",
       "      <td>6861379</td>\n",
       "    </tr>\n",
       "    <tr>\n",
       "      <th>9</th>\n",
       "      <td>RelationToResource</td>\n",
       "      <td>7389423</td>\n",
       "    </tr>\n",
       "    <tr>\n",
       "      <th>7</th>\n",
       "      <td>RelationToPerName</td>\n",
       "      <td>20857782</td>\n",
       "    </tr>\n",
       "    <tr>\n",
       "      <th>3</th>\n",
       "      <td>RelationToTopicTerm</td>\n",
       "      <td>24068056</td>\n",
       "    </tr>\n",
       "    <tr>\n",
       "      <th>5</th>\n",
       "      <td>SocialRelation</td>\n",
       "      <td>40301595</td>\n",
       "    </tr>\n",
       "    <tr>\n",
       "      <th>0</th>\n",
       "      <td>RelationToIsilTerm</td>\n",
       "      <td>79159868</td>\n",
       "    </tr>\n",
       "  </tbody>\n",
       "</table>\n",
       "</div>"
      ],
      "text/plain": [
       "               relType     count\n",
       "8   RelationToUniTitle    128256\n",
       "6   RelationToMeetName    422333\n",
       "1  RelationToChronTerm   5446841\n",
       "2   RelationToCorpName   6728127\n",
       "4    RelationToGeoName   6861379\n",
       "9   RelationToResource   7389423\n",
       "7    RelationToPerName  20857782\n",
       "3  RelationToTopicTerm  24068056\n",
       "5       SocialRelation  40301595\n",
       "0   RelationToIsilTerm  79159868"
      ]
     },
     "execution_count": 21,
     "metadata": {},
     "output_type": "execute_result"
    }
   ],
   "source": [
    "result = {\"relType\": [], \"count\": []}\n",
    "\n",
    "with driver.session() as session:\n",
    "    rel_types = [row[\"relationshipType\"] for row in session.run(\"CALL db.relationshipTypes()\")]\n",
    "    for rel_type in rel_types:\n",
    "        query = f\"MATCH ()-[:{rel_type}]->() RETURN count(*) as count\"\n",
    "        count = session.run(query).single()[\"count\"]\n",
    "        result[\"relType\"].append(rel_type)\n",
    "        result[\"count\"].append(count)\n",
    "        \n",
    "rel_type_df = pd.DataFrame(result)\n",
    "rel_type_df.sort_values(by = \"count\")"
   ]
  },
  {
   "cell_type": "markdown",
   "id": "lasting-spending",
   "metadata": {},
   "source": [
    "# Complex Queries & Data Preparation"
   ]
  },
  {
   "cell_type": "code",
   "execution_count": null,
   "id": "ultimate-hopkins",
   "metadata": {},
   "outputs": [],
   "source": []
  }
 ],
 "metadata": {
  "kernelspec": {
   "display_name": "Python 3",
   "language": "python",
   "name": "python3"
  },
  "language_info": {
   "codemirror_mode": {
    "name": "ipython",
    "version": 3
   },
   "file_extension": ".py",
   "mimetype": "text/x-python",
   "name": "python",
   "nbconvert_exporter": "python",
   "pygments_lexer": "ipython3",
   "version": "3.8.9"
  },
  "toc": {
   "base_numbering": 1,
   "nav_menu": {},
   "number_sections": true,
   "sideBar": true,
   "skip_h1_title": false,
   "title_cell": "Table of Contents",
   "title_sidebar": "Contents",
   "toc_cell": false,
   "toc_position": {
    "height": "calc(100% - 180px)",
    "left": "10px",
    "top": "150px",
    "width": "384px"
   },
   "toc_section_display": true,
   "toc_window_display": true
  },
  "varInspector": {
   "cols": {
    "lenName": 16,
    "lenType": 16,
    "lenVar": 40
   },
   "kernels_config": {
    "python": {
     "delete_cmd_postfix": "",
     "delete_cmd_prefix": "del ",
     "library": "var_list.py",
     "varRefreshCmd": "print(var_dic_list())"
    },
    "r": {
     "delete_cmd_postfix": ") ",
     "delete_cmd_prefix": "rm(",
     "library": "var_list.r",
     "varRefreshCmd": "cat(var_dic_list()) "
    }
   },
   "position": {
    "height": "343px",
    "left": "1441px",
    "right": "20px",
    "top": "162px",
    "width": "437px"
   },
   "types_to_exclude": [
    "module",
    "function",
    "builtin_function_or_method",
    "instance",
    "_Feature"
   ],
   "window_display": false
  }
 },
 "nbformat": 4,
 "nbformat_minor": 5
}
