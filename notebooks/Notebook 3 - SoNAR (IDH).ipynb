{
 "cells": [
  {
   "cell_type": "code",
   "execution_count": 1,
   "id": "local-jason",
   "metadata": {},
   "outputs": [],
   "source": [
    "### Loading Credentials from local file; \n",
    "### this cell is meant to be deleted before publishing\n",
    "import yaml\n",
    "\n",
    "with open(\"../creds.yml\", 'r') as ymlfile:\n",
    "    cfg = yaml.safe_load(ymlfile)\n",
    "\n",
    "uri = cfg[\"sonar_creds\"][\"uri\"]\n",
    "user = cfg[\"sonar_creds\"][\"user\"]\n",
    "password = cfg[\"sonar_creds\"][\"pass\"]"
   ]
  },
  {
   "cell_type": "markdown",
   "id": "grave-anime",
   "metadata": {},
   "source": [
    "# Project Summary "
   ]
  },
  {
   "cell_type": "markdown",
   "id": "dietary-chick",
   "metadata": {},
   "source": [
    "[SoNAR (IDH)](https://sonar.fh-potsdam.de/) is short for **Interfaces to Data for Historical Social Network Analysis and Research**. The main objective of the project is the examination and evaluation of approaches to build and operate an advanced research technology environment supporting HNA. \n",
    "\n",
    "SoNAR (IDH) is a research project in collaboration of the following institutions:\n",
    "\n",
    "* [Deutsches Forschungszentrum für Künstliche Intelligenz](https://www.dfki.de/)\n",
    "* [Fachhochschule Potsdam](http://uclab.fh-potsdam.de/)\n",
    "* [Humboldt-Universität zu Berlin](https://www.ibi.hu-berlin.de/)\n",
    "* [Staatsbibliothek zu Berlin](https://staatsbibliothek-berlin.de/en/)\n",
    "* [Heinrich-Heine-Universität Düsseldorf](https://www.uniklinik-duesseldorf.de/en/department-of-the-history-philosophy-and-ethics-of-medicine)\n",
    "\n",
    "\n",
    "One of the main elements of the SonAR (IDH) projects is a [Neo4j](https://neo4j.com/) graph database. This database contains the merged data of multiple archives and libraries. \n",
    "See [Chapter 2](#Data-Description) for more details about the structure and the contents of the SonAR (IDH) database."
   ]
  },
  {
   "cell_type": "markdown",
   "id": "immediate-genius",
   "metadata": {},
   "source": [
    "# Data Description\n"
   ]
  },
  {
   "cell_type": "markdown",
   "id": "seven-preserve",
   "metadata": {},
   "source": [
    "The SoNAR (IDH) database consists of nodes and edges. Each of the nodes and edges have additional attributes that provide rich meta information. \n",
    "\n",
    "This data description section provides details about the data sources and overall characteristics of the data. The section is based on the state of the SoNAR (IDH) database during February 2021. \n",
    "\n",
    "More in depth details about the data, the database and the data preparation will get published soon."
   ]
  },
  {
   "cell_type": "markdown",
   "id": "discrete-statistics",
   "metadata": {},
   "source": [
    "## Summary Stats"
   ]
  },
  {
   "cell_type": "markdown",
   "id": "closing-craft",
   "metadata": {},
   "source": [
    "The SoNAR (IDH) database has the following aggregated characteristics:\n",
    "\n",
    "**Nodes Summary**\n",
    "\n",
    "* 9 categories of Nodes\n",
    "* 34.511.952 Nodes\n",
    "\n",
    "|Node Type | Node Count |\n",
    "|---------------|------------|\n",
    "| CorpName      | 1.487.711  |\n",
    "| GeoName       | 308.197    |\n",
    "| MeetName      | 814.044    |\n",
    "| PerName       | 5.087.660  |\n",
    "| TopicTerm     | 212.135    |\n",
    "| UniTitle      | 385.300    |\n",
    "| ChronTerm     | 537.054    |\n",
    "| IsilTerm      | 611        |\n",
    "| Resource      | 25.679.240 |\n",
    "\n",
    "**Edges Summary**\n",
    "\n",
    "* 10 categories of Edges\n",
    "* 98.530.160 Edges\n",
    "\n",
    "\n",
    "| Edge Type       | Edge Count     |\n",
    "|---------------------|------------|\n",
    "| RelationToPerName   | 14.630.465 |\n",
    "| RelationToCorpName  | 5.099.190  |\n",
    "| RelationToMeetName  | 263.180    |\n",
    "| RelationToUniTitle  | 53.998     |\n",
    "| RelationToTopicTerm | 4.951.617  |\n",
    "| RelationToGeoName   | 5.140.556  |\n",
    "| RelationToChronTerm | 5.446.841  |\n",
    "| RelationToIsil      | 55.556.913 |\n",
    "| RelationToResource  | 7.387.400  |\n",
    "| socialRelation      | 40.301.595 |"
   ]
  },
  {
   "cell_type": "markdown",
   "id": "private-wayne",
   "metadata": {},
   "source": [
    "## Data Sources "
   ]
  },
  {
   "cell_type": "markdown",
   "id": "collective-knitting",
   "metadata": {},
   "source": [
    "SoNAR (IDH) combines data from four different data sources. The table below provides a compact overview:\n",
    "\n",
    "\n",
    "|Data Source |  Number of Nodes | Number of Edges <br>(incl. *RelationToIsilTerm*) |\n",
    "|--------|----------| -------- |\n",
    "|[GND (*Integrated Authority File*)](https://www.dnb.de/EN/Professionell/Standardisierung/GND/gnd_node.html)| 8.295.047 | 32.776.628 |\n",
    "|[DNB (*German National Library*)](https://www.dnb.de/EN/Home/home_node.html)|19.384.733| 5.655.859 |\n",
    "|[ZDB (*Zeitschriftendatenbank*)](https://www.zeitschriftendatenbank.de/startseite/)|1.908.334| 43.419.339 |\n",
    "|KPE|4.386.173| 16.678.334 |"
   ]
  },
  {
   "cell_type": "markdown",
   "id": "southeast-devon",
   "metadata": {},
   "source": [
    "# Data Access"
   ]
  },
  {
   "cell_type": "markdown",
   "id": "correct-semiconductor",
   "metadata": {},
   "source": [
    "We will need some specific libraries to work with the SoNAR (IDH) database. Let's start with installing the `neo4j` library.\n",
    "\n",
    "When you are using the curriculum on binder or by running it as a docker container locally, the package is already installed. When you want to interact with the SoNAR (IDH) database independently install the package with the following code line in a new notebook cell:\n",
    "\n",
    "```python\n",
    "!pip install neo4j\n",
    "```"
   ]
  },
  {
   "cell_type": "code",
   "execution_count": 2,
   "id": "hearing-quarter",
   "metadata": {},
   "outputs": [],
   "source": [
    "from neo4j import GraphDatabase\n",
    "\n",
    "driver = GraphDatabase.driver(uri, auth=(user, password))"
   ]
  },
  {
   "cell_type": "markdown",
   "id": "temporal-spanish",
   "metadata": {},
   "source": [
    "With the code above we create a [Neo4j driver object](https://neo4j.com/docs/api/python-driver/current/api.html#driver). This driver stores the connection details for the database. We can use this driver now to send requests to the database."
   ]
  },
  {
   "cell_type": "markdown",
   "id": "treated-average",
   "metadata": {},
   "source": [
    "# Data Exploration"
   ]
  },
  {
   "cell_type": "markdown",
   "id": "fluid-expression",
   "metadata": {},
   "source": [
    "Data exploration is usually the very first thing to do when working with new data. So let's start diving into the SoNAR (IDH) database by exploring it. \n",
    "\n",
    "Whenever we want to retrieve data from the Neo4j database of SoNAR (IDH) we can use a query language called \"**Cypher Query Language**\". Cypher provides a comparably easy to comprehend syntax for requesting data from the database.\n",
    "\n",
    "Throughout this curriculum we will use this Cypher Query Language whenever we directly retrieve data from SoNAR (IDH)."
   ]
  },
  {
   "cell_type": "markdown",
   "id": "decreased-imagination",
   "metadata": {},
   "source": [
    "## Nodes"
   ]
  },
  {
   "cell_type": "markdown",
   "id": "postal-syracuse",
   "metadata": {},
   "source": [
    "### Node Labels"
   ]
  },
  {
   "cell_type": "markdown",
   "id": "pointed-superior",
   "metadata": {},
   "source": [
    "Let's start off with a simple query. Let's request the database to return all [node labels](https://neo4j.com/docs/getting-started/current/graphdb-concepts/#graphdb-labels). Node labels are categories nodes can belong to. You can think of them as entity groups. The SoNAR (IDH) database distinguishes between persons, corporations and more. Let's ask the database it self to return all the labels available. "
   ]
  },
  {
   "cell_type": "code",
   "execution_count": 60,
   "id": "german-medicare",
   "metadata": {},
   "outputs": [
    {
     "data": {
      "text/plain": [
       "[{'label': 'CorpName'},\n",
       " {'label': 'GeoName'},\n",
       " {'label': 'MeetName'},\n",
       " {'label': 'PerName'},\n",
       " {'label': 'TopicTerm'},\n",
       " {'label': 'UniTitle'},\n",
       " {'label': 'ChronTerm'},\n",
       " {'label': 'IsilTerm'},\n",
       " {'label': 'Resource'}]"
      ]
     },
     "execution_count": 60,
     "metadata": {},
     "output_type": "execute_result"
    }
   ],
   "source": [
    "with driver.session() as session:\n",
    "    result = session.run(\"CALL db.labels()\").data()\n",
    "    \n",
    "result"
   ]
  },
  {
   "cell_type": "markdown",
   "id": "rental-heaven",
   "metadata": {},
   "source": [
    "**Code Breakdown:**\n",
    "\n",
    ">The `with` statement is basically used to make the database call as resource effective and concise as possible. There are more advantages of the `with` call but their explanation would exceed the goal of this curriculum. However, an in-depth explanation of the `with` statement can be found [here](https://www.python.org/dev/peps/pep-0343/).\n",
    ">\n",
    ">When we request data from the database we need to establish a connection (`session`). The `driver` object we created earlier stores the connection details. When we use the method `driver.session()` we establish a new connection. This connection is assigned to the object `session` object for the `while` statement.\n",
    ">\n",
    ">The most relevant part of the code for retrieving the data is `\"CALL db.labels()\"`. This part is the actual Cypher query. The `CALL` clause is used to call the `db.labels()` procedure. More details about Neo4j procedures can be found below.\n",
    ">\n",
    ">The result of this code chunk is a list that contains a key-value pair (`dictionary`) per label in the database.  "
   ]
  },
  {
   "cell_type": "markdown",
   "id": "mobile-swiss",
   "metadata": {},
   "source": [
    "Some useful built-in procedures for exploring and describing the database are listed in the table below. You can get a full list of built-in procedures by using the following query: `CALL dbms.procedures()`\n",
    "\n",
    "\n",
    "|Procedure | Description |\n",
    "|---------|----------|\n",
    "|`db.labels()`| List all labels in the database.|\n",
    "|`db.propertyKeys()`|List all property keys in the database.|\n",
    "|`db.relationshipTypes`|List all relationship types in the database. |\n",
    "|`db.schema`| Show the schema of the data. |\n",
    "|`db.stats.retrieve`|Retrieve statistical data about the current database. <br>Valid sections are 'GRAPH COUNTS', 'TOKENS', 'QUERIES', 'META'|"
   ]
  },
  {
   "cell_type": "markdown",
   "id": "nasty-daisy",
   "metadata": {},
   "source": [
    "### Selecting Nodes"
   ]
  },
  {
   "cell_type": "markdown",
   "id": "stopped-valve",
   "metadata": {},
   "source": [
    "You can select nodes by using the `MATCH` statement. Cypher uses `ASCII-art` style syntax to define nodes, relationships and the direction of relationships in queries. \n",
    "\n",
    "Nodes are referred to by using parentheses `()`. Inside the parentheses you can define a node variable. This variable can be used to refer to a specific set of nodes throughout the rest of the query.\n",
    "\n",
    "The example below matches any kind of node and assigns the variable name n `(n)`. We use the `LIMIT` statement to tell the database we only want to have the first 5 results."
   ]
  },
  {
   "cell_type": "code",
   "execution_count": 520,
   "id": "excessive-disease",
   "metadata": {},
   "outputs": [
    {
     "data": {
      "text/plain": [
       "[{'n': {'GenType': 'b',\n",
       "   'DateOriginal': '1951-',\n",
       "   'SpecType': 'kiz',\n",
       "   'VariantName': 'CNS;;;CNS',\n",
       "   'DateApproxBegin': '1951',\n",
       "   'Id': '(DE-588)110-7',\n",
       "   'id': 'Aut110_7',\n",
       "   'Uri': 'http://d-nb.info/gnd/110-7',\n",
       "   'Name': 'Congress of Neurological Surgeons'}},\n",
       " {'n': {'GenType': 'b',\n",
       "   'Id': '(DE-588)191-0',\n",
       "   'id': 'Aut191_0',\n",
       "   'Uri': 'http://d-nb.info/gnd/191-0',\n",
       "   'SubUnit': 'División de Ciencias Matemáticas, Médicas y de la Naturaleza',\n",
       "   'Name': 'Consejo Superior de Investigaciones Científicas'}},\n",
       " {'n': {'GenType': 'b',\n",
       "   'Id': '(DE-588)257-4',\n",
       "   'id': 'Aut257_4',\n",
       "   'SpecType': 'kiz',\n",
       "   'Uri': 'http://d-nb.info/gnd/257-4',\n",
       "   'Name': 'Fondazione Antonio Baselli'}},\n",
       " {'n': {'GenType': 'b',\n",
       "   'Id': '(DE-588)273-2',\n",
       "   'id': 'Aut273_2',\n",
       "   'SpecType': 'wit',\n",
       "   'Uri': 'http://d-nb.info/gnd/273-2',\n",
       "   'Name': 'Copyright Law Symposium'}},\n",
       " {'n': {'GenType': 'b',\n",
       "   'DateOriginal': '1865-',\n",
       "   'VariantName': \"Kornel'skii Universitet;;;Cornell Univ.;;;University;;;Cornell University;;;Cornell University\",\n",
       "   'SpecType': 'kiz',\n",
       "   'OldId': '(DE-588)1088112064;;;(DE-588)1088112544;;;(DE-588)16294577-2;;;(DE-588)16286598-3;;;(DE-588)4223553-4',\n",
       "   'DateApproxBegin': '1865',\n",
       "   'Id': '(DE-588)275-6',\n",
       "   'id': 'Aut275_6',\n",
       "   'Uri': 'http://d-nb.info/gnd/275-6',\n",
       "   'Name': 'Cornell University'}}]"
      ]
     },
     "execution_count": 520,
     "metadata": {},
     "output_type": "execute_result"
    }
   ],
   "source": [
    "query = \"\"\"\n",
    "MATCH (n)\n",
    "RETURN n\n",
    "LIMIT 5\n",
    "\"\"\"\n",
    "\n",
    "with driver.session() as session:\n",
    "    result = session.run(query).data()\n",
    "    \n",
    "result"
   ]
  },
  {
   "cell_type": "markdown",
   "id": "environmental-gospel",
   "metadata": {},
   "source": [
    "### Filtering Nodes"
   ]
  },
  {
   "cell_type": "markdown",
   "id": "strong-crawford",
   "metadata": {},
   "source": [
    "In the next step we want to apply filters inside the query so we have control over the nodes we retrieve from the database. \n",
    "\n",
    "The query below only returns one node of the type `PerName`."
   ]
  },
  {
   "cell_type": "code",
   "execution_count": 521,
   "id": "returning-proportion",
   "metadata": {},
   "outputs": [
    {
     "data": {
      "text/plain": [
       "[{'n': {'GenType': 'p',\n",
       "   'VariantName': 'Lombez, Ambrosius de;;;La Peirie, Ambroise;;;LaPeirie, Ambroise;;;Ambroise;;;Lombez, Ambroise de;;;LaPeyrie;;;Lombez, Ambrosius von',\n",
       "   'SpecType': 'piz',\n",
       "   'Id': '(DE-588)100000096',\n",
       "   'id': 'Aut100000096',\n",
       "   'Uri': 'http://d-nb.info/gnd/100000096',\n",
       "   'Name': 'Ambrosius'}}]"
      ]
     },
     "execution_count": 521,
     "metadata": {},
     "output_type": "execute_result"
    }
   ],
   "source": [
    "query = \"\"\"\n",
    "MATCH (n:PerName)\n",
    "RETURN n\n",
    "LIMIT 1\"\"\"\n",
    "\n",
    "with driver.session() as session:\n",
    "    result = session.run(query).data()\n",
    "    \n",
    "result"
   ]
  },
  {
   "cell_type": "markdown",
   "id": "universal-tribune",
   "metadata": {},
   "source": [
    "**Filtering Nodes by Properties**"
   ]
  },
  {
   "cell_type": "markdown",
   "id": "white-commitment",
   "metadata": {},
   "source": [
    "Now, let's try to find the node of Max Weber, the sociologist and political economist. \n",
    "We can define a filter based on properties of a node. The query below only returns nodes that have \"Weber, Max\" as `Name` property.\n",
    "\n",
    "Also, we return the count of nodes `RETURN count(n)` not the actual nodes. We suspect the name \"Weber, Max\" to be not unique inside the big SoNAR (IDH) database. So we want to check, how many Max Webers we can find.  "
   ]
  },
  {
   "cell_type": "code",
   "execution_count": 143,
   "id": "early-capital",
   "metadata": {},
   "outputs": [],
   "source": [
    "query = \"\"\"\n",
    "MATCH (n:PerName {Name: 'Weber, Max'})\n",
    "RETURN count(n)\n",
    "\"\"\""
   ]
  },
  {
   "cell_type": "code",
   "execution_count": 144,
   "id": "ahead-scoop",
   "metadata": {},
   "outputs": [
    {
     "data": {
      "text/plain": [
       "[{'count(n)': 34}]"
      ]
     },
     "execution_count": 144,
     "metadata": {},
     "output_type": "execute_result"
    }
   ],
   "source": [
    "with driver.session() as session:\n",
    "    result = session.run(query).data()\n",
    "    \n",
    "result"
   ]
  },
  {
   "cell_type": "markdown",
   "id": "overall-prospect",
   "metadata": {},
   "source": [
    "In fact we detected 34 hits in the database. So we need to apply more filters to find the correct Max.\n",
    "\n",
    "Let's start by checking what properties are available for nodes of type `PerName`:"
   ]
  },
  {
   "cell_type": "code",
   "execution_count": 145,
   "id": "abstract-portal",
   "metadata": {},
   "outputs": [
    {
     "data": {
      "text/plain": [
       "[{'label': 'PerName',\n",
       "  'props': ['Uri',\n",
       "   'Name',\n",
       "   'Id',\n",
       "   'VariantName',\n",
       "   'id',\n",
       "   'GenType',\n",
       "   'SpecType',\n",
       "   'DateStrictOriginal',\n",
       "   'DateStrictEnd',\n",
       "   'DateApproxOriginal',\n",
       "   'DateApproxEnd',\n",
       "   'DateStrictBegin',\n",
       "   'Gender',\n",
       "   'DateApproxBegin',\n",
       "   'OldId']}]"
      ]
     },
     "execution_count": 145,
     "metadata": {},
     "output_type": "execute_result"
    }
   ],
   "source": [
    "query = \"\"\"\n",
    "MATCH (n:PerName)\n",
    "WITH LABELS(n) AS labels , KEYS(n) AS keys\n",
    "UNWIND labels AS label\n",
    "UNWIND keys AS key\n",
    "RETURN DISTINCT label, COLLECT(DISTINCT key) AS props\n",
    "ORDER BY label\n",
    "\"\"\"\n",
    "\n",
    "with driver.session() as session:\n",
    "    result = session.run(query).data()\n",
    "    \n",
    "result"
   ]
  },
  {
   "cell_type": "markdown",
   "id": "disabled-indian",
   "metadata": {},
   "source": [
    "We can see that there are several `date` properties for `PerName` nodes. The year of birth is stored in the property called `DateApproxBegin`. \n",
    "So let's apply a date filter. Let's assume we only know that Max Weber was born in the year 1864 and we want to filter based on this information."
   ]
  },
  {
   "cell_type": "code",
   "execution_count": 146,
   "id": "alternate-karen",
   "metadata": {},
   "outputs": [
    {
     "data": {
      "text/plain": [
       "[{'n': {'GenType': 'p',\n",
       "   'DateApproxEnd': '1920',\n",
       "   'DateStrictOriginal': '21.04.1864-14.06.1920',\n",
       "   'VariantName': 'Makesi, Weipei;;;Weber, Karl Emil Maximilian;;;Veber, Maks;;;Veber, M.;;;Weibo, ...;;;Uēbā, Makkusu;;;Wibir, Māks;;;Weibo, Makesi;;;Fībir, Māks;;;Vēbā, Makkusu;;;Ma ke si Wei bo;;;Makesi-Weibo;;;馬克思, 威培;;;فيبر، ماكس;;;マックス・ウェーバー;;;马克斯•韦伯;;;ובר, מקס;;;韦伯, 马克斯',\n",
       "   'SpecType': 'piz',\n",
       "   'DateStrictBegin': '21.04.1864',\n",
       "   'DateStrictEnd': '14.06.1920',\n",
       "   'Gender': '1',\n",
       "   'DateApproxOriginal': '1864-1920',\n",
       "   'Uri': 'http://d-nb.info/gnd/118629743',\n",
       "   'Name': 'Weber, Max',\n",
       "   'DateApproxBegin': '1864',\n",
       "   'Id': '(DE-588)118629743',\n",
       "   'id': 'Aut118629743'}}]"
      ]
     },
     "execution_count": 146,
     "metadata": {},
     "output_type": "execute_result"
    }
   ],
   "source": [
    "query = \"\"\"\n",
    "MATCH (n:PerName)\n",
    "WHERE n.Name = \"Weber, Max\" AND n.DateApproxBegin = \"1864\"\n",
    "RETURN n\n",
    "\"\"\"\n",
    "\n",
    "with driver.session() as session:\n",
    "    result = session.run(query).data()\n",
    "    \n",
    "result"
   ]
  },
  {
   "cell_type": "markdown",
   "id": "fresh-advertising",
   "metadata": {},
   "source": [
    "As a last example, let's assume we only know that the last Name of Max Weber is spelled \"韦伯\" in Chinese, so we need to use this information as a filter. \n",
    "\n",
    "In the query result above, you see a node property called `VariantName`. This variable stores many alternative variants of the name we are looking for. So let's check how we could query the database by searching within this property:"
   ]
  },
  {
   "cell_type": "code",
   "execution_count": 149,
   "id": "environmental-taste",
   "metadata": {},
   "outputs": [
    {
     "data": {
      "text/plain": [
       "[{'n': {'GenType': 'p',\n",
       "   'DateApproxEnd': '1920',\n",
       "   'DateStrictOriginal': '21.04.1864-14.06.1920',\n",
       "   'VariantName': 'Makesi, Weipei;;;Weber, Karl Emil Maximilian;;;Veber, Maks;;;Veber, M.;;;Weibo, ...;;;Uēbā, Makkusu;;;Wibir, Māks;;;Weibo, Makesi;;;Fībir, Māks;;;Vēbā, Makkusu;;;Ma ke si Wei bo;;;Makesi-Weibo;;;馬克思, 威培;;;فيبر، ماكس;;;マックス・ウェーバー;;;马克斯•韦伯;;;ובר, מקס;;;韦伯, 马克斯',\n",
       "   'SpecType': 'piz',\n",
       "   'DateStrictBegin': '21.04.1864',\n",
       "   'DateStrictEnd': '14.06.1920',\n",
       "   'Gender': '1',\n",
       "   'DateApproxOriginal': '1864-1920',\n",
       "   'Uri': 'http://d-nb.info/gnd/118629743',\n",
       "   'Name': 'Weber, Max',\n",
       "   'DateApproxBegin': '1864',\n",
       "   'Id': '(DE-588)118629743',\n",
       "   'id': 'Aut118629743'}},\n",
       " {'n': {'GenType': 'p',\n",
       "   'VariantName': 'Veber, Mattias;;;Weber, Matthias;;;Weibo, Madiyasi;;;Ma di ya si Wei bo;;;Madiyasi-Weibo;;;Ma ti ya si Wei bo;;;Matiyasi-Weibo;;;Weibo, Matiyasi;;;马蒂亚斯•韦伯;;;韦伯, 马蒂亚斯',\n",
       "   'SpecType': 'piz',\n",
       "   'DateApproxBegin': '1967',\n",
       "   'Gender': '1',\n",
       "   'DateApproxOriginal': '1967-',\n",
       "   'Id': '(DE-588)124003303',\n",
       "   'id': 'Aut124003303',\n",
       "   'Uri': 'http://d-nb.info/gnd/124003303',\n",
       "   'Name': 'Weber, Mathias'}},\n",
       " {'n': {'GenType': 'p',\n",
       "   'VariantName': 'Bi de Wei bo;;;Bide-Weibo;;;Veber, Peter;;;Weibo, Bide;;;韦伯彼得;;;韦伯, 彼得',\n",
       "   'SpecType': 'piz',\n",
       "   'OldId': '(DE-588)1018410120',\n",
       "   'DateApproxBegin': '1968',\n",
       "   'Gender': '1',\n",
       "   'DateApproxOriginal': '1968-',\n",
       "   'Id': '(DE-588)124253679',\n",
       "   'id': 'Aut124253679',\n",
       "   'Uri': 'http://d-nb.info/gnd/124253679',\n",
       "   'Name': 'Weber, Peter'}}]"
      ]
     },
     "execution_count": 149,
     "metadata": {},
     "output_type": "execute_result"
    }
   ],
   "source": [
    "query = \"\"\"\n",
    "MATCH (n:PerName)\n",
    "WHERE n.VariantName CONTAINS \"韦伯\"\n",
    "RETURN n\n",
    "\"\"\"\n",
    "\n",
    "with driver.session() as session:\n",
    "    result = session.run(query).data()\n",
    "    \n",
    "result"
   ]
  },
  {
   "cell_type": "markdown",
   "id": "blank-vinyl",
   "metadata": {},
   "source": [
    "## Relationships"
   ]
  },
  {
   "cell_type": "markdown",
   "id": "biological-trading",
   "metadata": {},
   "source": [
    "### Relationships Types"
   ]
  },
  {
   "cell_type": "markdown",
   "id": "derived-wesley",
   "metadata": {},
   "source": [
    "Similar to node labels we can retrieve the categories of the relations inside the database. Every relation must have exactly one relationship type. This type defines the kind or category the relation belongs to. "
   ]
  },
  {
   "cell_type": "code",
   "execution_count": 18,
   "id": "beautiful-michael",
   "metadata": {},
   "outputs": [
    {
     "data": {
      "text/html": [
       "<div>\n",
       "<style scoped>\n",
       "    .dataframe tbody tr th:only-of-type {\n",
       "        vertical-align: middle;\n",
       "    }\n",
       "\n",
       "    .dataframe tbody tr th {\n",
       "        vertical-align: top;\n",
       "    }\n",
       "\n",
       "    .dataframe thead th {\n",
       "        text-align: right;\n",
       "    }\n",
       "</style>\n",
       "<table border=\"1\" class=\"dataframe\">\n",
       "  <thead>\n",
       "    <tr style=\"text-align: right;\">\n",
       "      <th></th>\n",
       "      <th>relationshipType</th>\n",
       "    </tr>\n",
       "  </thead>\n",
       "  <tbody>\n",
       "    <tr>\n",
       "      <th>0</th>\n",
       "      <td>RelationToIsilTerm</td>\n",
       "    </tr>\n",
       "    <tr>\n",
       "      <th>1</th>\n",
       "      <td>RelationToChronTerm</td>\n",
       "    </tr>\n",
       "    <tr>\n",
       "      <th>2</th>\n",
       "      <td>RelationToCorpName</td>\n",
       "    </tr>\n",
       "    <tr>\n",
       "      <th>3</th>\n",
       "      <td>RelationToTopicTerm</td>\n",
       "    </tr>\n",
       "    <tr>\n",
       "      <th>4</th>\n",
       "      <td>RelationToGeoName</td>\n",
       "    </tr>\n",
       "    <tr>\n",
       "      <th>5</th>\n",
       "      <td>SocialRelation</td>\n",
       "    </tr>\n",
       "    <tr>\n",
       "      <th>6</th>\n",
       "      <td>RelationToMeetName</td>\n",
       "    </tr>\n",
       "    <tr>\n",
       "      <th>7</th>\n",
       "      <td>RelationToPerName</td>\n",
       "    </tr>\n",
       "    <tr>\n",
       "      <th>8</th>\n",
       "      <td>RelationToUniTitle</td>\n",
       "    </tr>\n",
       "    <tr>\n",
       "      <th>9</th>\n",
       "      <td>RelationToResource</td>\n",
       "    </tr>\n",
       "  </tbody>\n",
       "</table>\n",
       "</div>"
      ],
      "text/plain": [
       "      relationshipType\n",
       "0   RelationToIsilTerm\n",
       "1  RelationToChronTerm\n",
       "2   RelationToCorpName\n",
       "3  RelationToTopicTerm\n",
       "4    RelationToGeoName\n",
       "5       SocialRelation\n",
       "6   RelationToMeetName\n",
       "7    RelationToPerName\n",
       "8   RelationToUniTitle\n",
       "9   RelationToResource"
      ]
     },
     "execution_count": 18,
     "metadata": {},
     "output_type": "execute_result"
    }
   ],
   "source": [
    "with driver.session() as session:\n",
    "    result = session.run(\"CALL db.relationshipTypes()\").data()\n",
    "\n",
    "    \n",
    "pd.DataFrame(result)"
   ]
  },
  {
   "cell_type": "markdown",
   "id": "parental-webmaster",
   "metadata": {},
   "source": [
    "### Selecting Relationships"
   ]
  },
  {
   "cell_type": "markdown",
   "id": "consecutive-visitor",
   "metadata": {},
   "source": [
    "In the section about nodes we saw that we need to use parenthesis `()` to select nodes. When selecting relationships on the other hand we need to use brackets `[]` instead.\n",
    "\n",
    "Additionally we can not solely query for plain relationships, but we need to define a pattern in which this relationship needs to appear in the database. \n",
    "\n",
    "The most simple relationship pattern we can define is: the relationship needs to be between any kind of two nodes. In the cypher language this would be expressed as:\n",
    ">`()-[r]-()`\n"
   ]
  },
  {
   "cell_type": "code",
   "execution_count": 159,
   "id": "seventh-segment",
   "metadata": {},
   "outputs": [
    {
     "data": {
      "text/plain": [
       "[{'r': ({}, 'RelationToCorpName', {})},\n",
       " {'r': ({}, 'RelationToCorpName', {})},\n",
       " {'r': ({}, 'RelationToCorpName', {})},\n",
       " {'r': ({}, 'RelationToCorpName', {})},\n",
       " {'r': ({}, 'RelationToCorpName', {})}]"
      ]
     },
     "execution_count": 159,
     "metadata": {},
     "output_type": "execute_result"
    }
   ],
   "source": [
    "query = \"\"\"\n",
    "MATCH ()-[r]-()\n",
    "RETURN r\n",
    "LIMIT 5\n",
    "\"\"\"\n",
    "\n",
    "with driver.session() as session:\n",
    "    result = session.run(query).data()\n",
    "\n",
    "    \n",
    "result"
   ]
  },
  {
   "cell_type": "markdown",
   "id": "blank-picnic",
   "metadata": {},
   "source": [
    "### Filtering Relationships"
   ]
  },
  {
   "cell_type": "markdown",
   "id": "incoming-lobby",
   "metadata": {},
   "source": [
    "You can filter relationships in a similar fashion like you can filter nodes. \n",
    "Let's retrieve relationships of the type `SocialRelation`."
   ]
  },
  {
   "cell_type": "code",
   "execution_count": 85,
   "id": "opened-scheme",
   "metadata": {},
   "outputs": [
    {
     "data": {
      "text/plain": [
       "[{'r': ({}, 'SocialRelation', {})},\n",
       " {'r': ({}, 'SocialRelation', {})},\n",
       " {'r': ({}, 'SocialRelation', {})},\n",
       " {'r': ({}, 'SocialRelation', {})},\n",
       " {'r': ({}, 'SocialRelation', {})}]"
      ]
     },
     "execution_count": 85,
     "metadata": {},
     "output_type": "execute_result"
    }
   ],
   "source": [
    "query = \"\"\"\n",
    "MATCH ()-[r:SocialRelation]-()\n",
    "RETURN r\n",
    "LIMIT 5\n",
    "\"\"\"\n",
    "\n",
    "with driver.session() as session:\n",
    "    result = session.run(query).data()\n",
    "\n",
    "    \n",
    "result"
   ]
  },
  {
   "cell_type": "markdown",
   "id": "rational-builder",
   "metadata": {},
   "source": [
    "This result is correct but the output is not very informative. Let's do some deeper exploration of the relationships."
   ]
  },
  {
   "cell_type": "markdown",
   "id": "fuzzy-store",
   "metadata": {},
   "source": [
    "**Filtering Relationships by Properties**"
   ]
  },
  {
   "cell_type": "markdown",
   "id": "latin-spanking",
   "metadata": {},
   "source": [
    "Just as nodes, relationships can have properties that provide meta information about the relation. Let's check the properties of the five relationships we retrieved above:"
   ]
  },
  {
   "cell_type": "code",
   "execution_count": 334,
   "id": "disabled-light",
   "metadata": {},
   "outputs": [
    {
     "data": {
      "text/plain": [
       "[{'properties': {'TypeAddInfo': 'undirected',\n",
       "   'SourceType': 'associatedRelation',\n",
       "   'Source': 'Bib(DE_588)5550944_7'}},\n",
       " {'properties': {'TypeAddInfo': 'undirected',\n",
       "   'SourceType': 'associatedRelation',\n",
       "   'Source': 'Bib(DE_588)5550944_7'}},\n",
       " {'properties': {'TypeAddInfo': 'undirected',\n",
       "   'SourceType': 'associatedRelation',\n",
       "   'Source': 'Bib(DE_588)16249939_5'}},\n",
       " {'properties': {'TypeAddInfo': 'undirected',\n",
       "   'SourceType': 'associatedRelation',\n",
       "   'Source': 'Bib(DE_588)16249939_5'}},\n",
       " {'properties': {'TypeAddInfo': 'undirected',\n",
       "   'SourceType': 'associatedRelation',\n",
       "   'Source': 'BibBVBBV044242543'}}]"
      ]
     },
     "execution_count": 334,
     "metadata": {},
     "output_type": "execute_result"
    }
   ],
   "source": [
    "query = \"\"\"\n",
    "MATCH p = ()-[r:SocialRelation]-()\n",
    "UNWIND relationships(p) as rel\n",
    "RETURN properties(rel) as properties\n",
    "LIMIT 5\n",
    "\"\"\"\n",
    "\n",
    "with driver.session() as session:\n",
    "    result = session.run(query).data()\n",
    "\n",
    "    \n",
    "result"
   ]
  },
  {
   "cell_type": "markdown",
   "id": "enhanced-membership",
   "metadata": {},
   "source": [
    "As we can see, the properties of relationships of the type `SocialRelation` have three different elements: \n",
    "\n",
    "* `TypeAddInfo` - either **directed** or **undirected**\n",
    "* `SourceType` - can take the values: **associatedRelation**, **areCoAuthors**, **areCoEditors**, **affiliatedRelation**, **correspondedRelation**, **knows**\n",
    "* `Source` - **id** of the source"
   ]
  },
  {
   "cell_type": "markdown",
   "id": "noted-scholar",
   "metadata": {},
   "source": [
    "Let's use the properties to filter out people that are connected to each other because they had a **correspondence** with each other."
   ]
  },
  {
   "cell_type": "code",
   "execution_count": 351,
   "id": "phantom-liability",
   "metadata": {},
   "outputs": [
    {
     "data": {
      "text/plain": [
       "[{'n1.Name': 'André, Christian Carl',\n",
       "  'n2.Name': 'Richter, Karl Friedrich Enoch',\n",
       "  'r.SourceType': 'correspondedRelation',\n",
       "  'r.TypeAddInfo': 'directed'},\n",
       " {'n1.Name': 'André, Christian Carl',\n",
       "  'n2.Name': 'Hügel, Elisabeth von',\n",
       "  'r.SourceType': 'correspondedRelation',\n",
       "  'r.TypeAddInfo': 'directed'},\n",
       " {'n1.Name': 'André, Christian Carl',\n",
       "  'n2.Name': 'Sturm, Karl Christian Gottlob',\n",
       "  'r.SourceType': 'correspondedRelation',\n",
       "  'r.TypeAddInfo': 'directed'},\n",
       " {'n1.Name': 'Ring, Friedrich Dominicus',\n",
       "  'n2.Name': 'Pfeffel, Gottlieb Konrad',\n",
       "  'r.SourceType': 'correspondedRelation',\n",
       "  'r.TypeAddInfo': 'directed'},\n",
       " {'n1.Name': 'Bothe, Friedrich Heinrich',\n",
       "  'n2.Name': 'Hauff, Hermann',\n",
       "  'r.SourceType': 'correspondedRelation',\n",
       "  'r.TypeAddInfo': 'directed'}]"
      ]
     },
     "execution_count": 351,
     "metadata": {},
     "output_type": "execute_result"
    }
   ],
   "source": [
    "query = \"\"\"\n",
    "MATCH (n1:PerName)-[r:SocialRelation]-(n2:PerName)\n",
    "WHERE r.SourceType = \"correspondedRelation\"\n",
    "RETURN n1.Name, n2.Name, r.SourceType, r.TypeAddInfo\n",
    "LIMIT 5\n",
    "\"\"\"\n",
    "\n",
    "with driver.session() as session:\n",
    "    result = session.run(query).data()\n",
    "\n",
    "    \n",
    "result"
   ]
  },
  {
   "cell_type": "markdown",
   "id": "mechanical-romania",
   "metadata": {},
   "source": [
    "We can see that all of these relationships have a `TypeAddInfo` of **directed**. Relationships can be directed and undirected. In the SoNAR (IDH) database all correspondences are directed and therefor hold the information whether someone was contacted or contacted someone else. \n",
    "\n",
    "Let's see who received letters from Max Weber. The query below extends the basic `()-[]-()` structure for representing a node-relationship search pattern by an `>`. This arrow defines that we are searching only for directed relationships. So the new pattern scaffolding is `()-[]->()`"
   ]
  },
  {
   "cell_type": "code",
   "execution_count": 353,
   "id": "chemical-animal",
   "metadata": {},
   "outputs": [
    {
     "data": {
      "text/plain": [
       "[{'n1.Name': 'Weber, Max',\n",
       "  'n2.Name': 'Lukács, Georg',\n",
       "  'r.SourceType': 'correspondedRelation',\n",
       "  'r.TypeAddInfo': 'directed'},\n",
       " {'n1.Name': 'Weber, Max',\n",
       "  'n2.Name': 'Susman, Margarete',\n",
       "  'r.SourceType': 'correspondedRelation',\n",
       "  'r.TypeAddInfo': 'directed'},\n",
       " {'n1.Name': 'Weber, Max',\n",
       "  'n2.Name': 'Wolfskehl, Karl',\n",
       "  'r.SourceType': 'correspondedRelation',\n",
       "  'r.TypeAddInfo': 'directed'},\n",
       " {'n1.Name': 'Weber, Max',\n",
       "  'n2.Name': 'Jaspers, Karl',\n",
       "  'r.SourceType': 'correspondedRelation',\n",
       "  'r.TypeAddInfo': 'directed'},\n",
       " {'n1.Name': 'Weber, Max',\n",
       "  'n2.Name': 'Jaffe, Else',\n",
       "  'r.SourceType': 'correspondedRelation',\n",
       "  'r.TypeAddInfo': 'directed'},\n",
       " {'n1.Name': 'Weber, Max',\n",
       "  'n2.Name': 'Ernst, Paul',\n",
       "  'r.SourceType': 'correspondedRelation',\n",
       "  'r.TypeAddInfo': 'directed'},\n",
       " {'n1.Name': 'Weber, Max',\n",
       "  'n2.Name': 'Diederichs, Eugen',\n",
       "  'r.SourceType': 'correspondedRelation',\n",
       "  'r.TypeAddInfo': 'directed'}]"
      ]
     },
     "execution_count": 353,
     "metadata": {},
     "output_type": "execute_result"
    }
   ],
   "source": [
    "query = \"\"\"\n",
    "MATCH (n1:PerName)-[r:SocialRelation]->(n2:PerName)\n",
    "WHERE n1.Name = \"Weber, Max\" AND n1.DateApproxBegin = \"1864\" \n",
    "AND r.SourceType = \"correspondedRelation\"\n",
    "RETURN n1.Name, n2.Name, r.SourceType, r.TypeAddInfo\n",
    "\"\"\"\n",
    "\n",
    "with driver.session() as session:\n",
    "    result = session.run(query).data()\n",
    "    \n",
    "result"
   ]
  },
  {
   "cell_type": "markdown",
   "id": "beginning-southeast",
   "metadata": {},
   "source": [
    "## Summary Cypher Query Language"
   ]
  },
  {
   "cell_type": "markdown",
   "id": "completed-packing",
   "metadata": {},
   "source": [
    "In this section about data exploration we took a quick look into the very basics of the **Cypher Query Language**. Whenever you want to retrieve data directly from the SoNAR (IDH) database, you need to write a Cypher query.\n",
    "\n",
    "A full introduction into this query language would exceed the scope of this curriculum. But the list below provides an overview of good resources for digging deeper into Cypher:\n",
    "\n",
    "* [A quick introduction to Cypher basics by Neo4J](https://neo4j.com/docs/getting-started/current/cypher-intro/)\n",
    "* [The official Neo4j Cypher manual](https://neo4j.com/docs/cypher-manual/current/)\n",
    "* [The Cypher Query Language Developer Guide](https://neo4j.com/developer/cypher/)\n",
    "* [Free Online Courses by the Neo4j GraphAcademy](https://neo4j.com/graphacademy/#_take_a_free_course)\n",
    "\n",
    "\n",
    "The upcoming sections of this curriculum also heavily relies on Cypher, but there won't be any detailed explanation of specific clauses and commands. You can see these cells as code recipes. You can check out the aforementioned resources for a documentation of the applied Cypher clauses. "
   ]
  },
  {
   "cell_type": "markdown",
   "id": "ruled-johns",
   "metadata": {},
   "source": [
    "# Descriptive Analyses"
   ]
  },
  {
   "cell_type": "markdown",
   "id": "abandoned-appointment",
   "metadata": {},
   "source": [
    "## General Database Summaries"
   ]
  },
  {
   "cell_type": "markdown",
   "id": "regional-passage",
   "metadata": {},
   "source": [
    "We can also aggregate values and do more complex calculations with Cypher. Let's create a summary of how many **Nodes**, **Relationships**, **Node Labels** and **Relationship Types** are inside the database."
   ]
  },
  {
   "cell_type": "code",
   "execution_count": 356,
   "id": "collaborative-mouse",
   "metadata": {
    "scrolled": true
   },
   "outputs": [
    {
     "data": {
      "text/plain": [
       "[{'output': 'Number of Nodes: 46831805'},\n",
       " {'output': 'Number of Relationships: 191363660'},\n",
       " {'output': 'Number of Labels: 9'},\n",
       " {'output': 'Number of Relationship Types: 10'}]"
      ]
     },
     "execution_count": 356,
     "metadata": {},
     "output_type": "execute_result"
    }
   ],
   "source": [
    "query = \"\"\"\n",
    "MATCH (n) \n",
    "RETURN 'Number of Nodes: ' + count(n) as output \n",
    "UNION\n",
    "MATCH ()-[]->() \n",
    "RETURN 'Number of Relationships: ' + count(*) as output \n",
    "UNION\n",
    "CALL db.labels() YIELD label \n",
    "RETURN 'Number of Labels: ' + count(*) AS output \n",
    "UNION\n",
    "CALL db.relationshipTypes() YIELD relationshipType  \n",
    "RETURN 'Number of Relationship Types: ' + count(*) AS output\n",
    "\"\"\"\n",
    "\n",
    "with driver.session() as session:\n",
    "    result = session.run(query).data()\n",
    "    \n",
    "result\n"
   ]
  },
  {
   "cell_type": "markdown",
   "id": "assisted-catholic",
   "metadata": {},
   "source": [
    "### Summarise Node Labels"
   ]
  },
  {
   "cell_type": "markdown",
   "id": "gothic-anger",
   "metadata": {},
   "source": [
    "In the next code cell we calculate the count of each node category in the database."
   ]
  },
  {
   "cell_type": "code",
   "execution_count": 21,
   "id": "multiple-domain",
   "metadata": {},
   "outputs": [
    {
     "data": {
      "text/html": [
       "<div>\n",
       "<style scoped>\n",
       "    .dataframe tbody tr th:only-of-type {\n",
       "        vertical-align: middle;\n",
       "    }\n",
       "\n",
       "    .dataframe tbody tr th {\n",
       "        vertical-align: top;\n",
       "    }\n",
       "\n",
       "    .dataframe thead th {\n",
       "        text-align: right;\n",
       "    }\n",
       "</style>\n",
       "<table border=\"1\" class=\"dataframe\">\n",
       "  <thead>\n",
       "    <tr style=\"text-align: right;\">\n",
       "      <th></th>\n",
       "      <th>label</th>\n",
       "      <th>count</th>\n",
       "    </tr>\n",
       "  </thead>\n",
       "  <tbody>\n",
       "    <tr>\n",
       "      <th>7</th>\n",
       "      <td>IsilTerm</td>\n",
       "      <td>611</td>\n",
       "    </tr>\n",
       "    <tr>\n",
       "      <th>4</th>\n",
       "      <td>TopicTerm</td>\n",
       "      <td>212135</td>\n",
       "    </tr>\n",
       "    <tr>\n",
       "      <th>1</th>\n",
       "      <td>GeoName</td>\n",
       "      <td>308197</td>\n",
       "    </tr>\n",
       "    <tr>\n",
       "      <th>5</th>\n",
       "      <td>UniTitle</td>\n",
       "      <td>385300</td>\n",
       "    </tr>\n",
       "    <tr>\n",
       "      <th>6</th>\n",
       "      <td>ChronTerm</td>\n",
       "      <td>537054</td>\n",
       "    </tr>\n",
       "    <tr>\n",
       "      <th>2</th>\n",
       "      <td>MeetName</td>\n",
       "      <td>814044</td>\n",
       "    </tr>\n",
       "    <tr>\n",
       "      <th>0</th>\n",
       "      <td>CorpName</td>\n",
       "      <td>1487711</td>\n",
       "    </tr>\n",
       "    <tr>\n",
       "      <th>3</th>\n",
       "      <td>PerName</td>\n",
       "      <td>5087660</td>\n",
       "    </tr>\n",
       "    <tr>\n",
       "      <th>8</th>\n",
       "      <td>Resource</td>\n",
       "      <td>37999093</td>\n",
       "    </tr>\n",
       "  </tbody>\n",
       "</table>\n",
       "</div>"
      ],
      "text/plain": [
       "       label     count\n",
       "7   IsilTerm       611\n",
       "4  TopicTerm    212135\n",
       "1    GeoName    308197\n",
       "5   UniTitle    385300\n",
       "6  ChronTerm    537054\n",
       "2   MeetName    814044\n",
       "0   CorpName   1487711\n",
       "3    PerName   5087660\n",
       "8   Resource  37999093"
      ]
     },
     "execution_count": 21,
     "metadata": {},
     "output_type": "execute_result"
    }
   ],
   "source": [
    "result = {\"label\": [], \"count\": []}\n",
    "\n",
    "with driver.session() as session:\n",
    "    labels = [row[\"label\"] for row in session.run(\"CALL db.labels()\")]\n",
    "    for label in labels:\n",
    "        query = f\"MATCH (:{label}) RETURN count(*) as count\"\n",
    "        count = session.run(query).single()[\"count\"]\n",
    "        result[\"label\"].append(label)\n",
    "        result[\"count\"].append(count)\n",
    "        \n",
    "node_labels_df = pd.DataFrame(result)\n",
    "node_labels_df.sort_values(by = \"count\")"
   ]
  },
  {
   "cell_type": "markdown",
   "id": "grateful-essay",
   "metadata": {},
   "source": [
    "### Summarise Relationship Types\n"
   ]
  },
  {
   "cell_type": "markdown",
   "id": "likely-mercury",
   "metadata": {},
   "source": [
    "We can do the same count calculation for relationship types too:"
   ]
  },
  {
   "cell_type": "code",
   "execution_count": 22,
   "id": "spread-champagne",
   "metadata": {
    "scrolled": true
   },
   "outputs": [
    {
     "data": {
      "text/html": [
       "<div>\n",
       "<style scoped>\n",
       "    .dataframe tbody tr th:only-of-type {\n",
       "        vertical-align: middle;\n",
       "    }\n",
       "\n",
       "    .dataframe tbody tr th {\n",
       "        vertical-align: top;\n",
       "    }\n",
       "\n",
       "    .dataframe thead th {\n",
       "        text-align: right;\n",
       "    }\n",
       "</style>\n",
       "<table border=\"1\" class=\"dataframe\">\n",
       "  <thead>\n",
       "    <tr style=\"text-align: right;\">\n",
       "      <th></th>\n",
       "      <th>relType</th>\n",
       "      <th>count</th>\n",
       "    </tr>\n",
       "  </thead>\n",
       "  <tbody>\n",
       "    <tr>\n",
       "      <th>8</th>\n",
       "      <td>RelationToUniTitle</td>\n",
       "      <td>128256</td>\n",
       "    </tr>\n",
       "    <tr>\n",
       "      <th>6</th>\n",
       "      <td>RelationToMeetName</td>\n",
       "      <td>422333</td>\n",
       "    </tr>\n",
       "    <tr>\n",
       "      <th>1</th>\n",
       "      <td>RelationToChronTerm</td>\n",
       "      <td>5446841</td>\n",
       "    </tr>\n",
       "    <tr>\n",
       "      <th>2</th>\n",
       "      <td>RelationToCorpName</td>\n",
       "      <td>6728127</td>\n",
       "    </tr>\n",
       "    <tr>\n",
       "      <th>4</th>\n",
       "      <td>RelationToGeoName</td>\n",
       "      <td>6861379</td>\n",
       "    </tr>\n",
       "    <tr>\n",
       "      <th>9</th>\n",
       "      <td>RelationToResource</td>\n",
       "      <td>7389423</td>\n",
       "    </tr>\n",
       "    <tr>\n",
       "      <th>7</th>\n",
       "      <td>RelationToPerName</td>\n",
       "      <td>20857782</td>\n",
       "    </tr>\n",
       "    <tr>\n",
       "      <th>3</th>\n",
       "      <td>RelationToTopicTerm</td>\n",
       "      <td>24068056</td>\n",
       "    </tr>\n",
       "    <tr>\n",
       "      <th>5</th>\n",
       "      <td>SocialRelation</td>\n",
       "      <td>40301595</td>\n",
       "    </tr>\n",
       "    <tr>\n",
       "      <th>0</th>\n",
       "      <td>RelationToIsilTerm</td>\n",
       "      <td>79159868</td>\n",
       "    </tr>\n",
       "  </tbody>\n",
       "</table>\n",
       "</div>"
      ],
      "text/plain": [
       "               relType     count\n",
       "8   RelationToUniTitle    128256\n",
       "6   RelationToMeetName    422333\n",
       "1  RelationToChronTerm   5446841\n",
       "2   RelationToCorpName   6728127\n",
       "4    RelationToGeoName   6861379\n",
       "9   RelationToResource   7389423\n",
       "7    RelationToPerName  20857782\n",
       "3  RelationToTopicTerm  24068056\n",
       "5       SocialRelation  40301595\n",
       "0   RelationToIsilTerm  79159868"
      ]
     },
     "execution_count": 22,
     "metadata": {},
     "output_type": "execute_result"
    }
   ],
   "source": [
    "result = {\"relType\": [], \"count\": []}\n",
    "\n",
    "with driver.session() as session:\n",
    "    rel_types = [row[\"relationshipType\"] for row in session.run(\"CALL db.relationshipTypes()\")]\n",
    "    for rel_type in rel_types:\n",
    "        query = f\"MATCH ()-[:{rel_type}]->() RETURN count(*) as count\"\n",
    "        count = session.run(query).single()[\"count\"]\n",
    "        result[\"relType\"].append(rel_type)\n",
    "        result[\"count\"].append(count)\n",
    "        \n",
    "rel_type_df = pd.DataFrame(result)\n",
    "rel_type_df.sort_values(by = \"count\")"
   ]
  },
  {
   "cell_type": "markdown",
   "id": "therapeutic-lindsay",
   "metadata": {},
   "source": [
    "## Graph Analyses & Algorithms"
   ]
  },
  {
   "cell_type": "markdown",
   "id": "bored-anatomy",
   "metadata": {},
   "source": [
    "### Degree Centrality"
   ]
  },
  {
   "cell_type": "markdown",
   "id": "compact-strike",
   "metadata": {},
   "source": [
    "Centrality algorithms can be used to uncover the roles and importance of nodes in a network. There are many different ways to measure the centrality of a node. The example below uses the **Degree Centrality** as one of the simplest centrality measures. (Needham & Hodler, 2019)\n",
    "\n",
    "Degree centrality simply counts the number of incoming and outgoing relationships from a node. Degree centrality was introduced by Freeman in his paper \"Centrality in social networks conceptual clarification\" (1979).\n",
    "\n",
    "\n",
    "The example below calculates the number of `SocialRelation` for `PerName` nodes and returns the top 10 people with the most social relationships in the SoNAR (IDH) database.\n",
    "\n",
    "More information about Cypher based centrality procedures can be found [here](https://neo4j.com/docs/graph-data-science/current/algorithms/centrality/)."
   ]
  },
  {
   "cell_type": "code",
   "execution_count": 496,
   "id": "stunning-treat",
   "metadata": {
    "scrolled": true
   },
   "outputs": [
    {
     "data": {
      "text/plain": [
       "[{'Name': 'Unseld, Siegfried', 'score': 143347.0},\n",
       " {'Name': 'Zeeh, Burgel', 'score': 76720.0},\n",
       " {'Name': 'Ritzerfeld, Helene', 'score': 64609.0},\n",
       " {'Name': 'Böttiger, Carl August', 'score': 47762.0},\n",
       " {'Name': 'Höllerer, Walter', 'score': 45616.0},\n",
       " {'Name': 'Mozart, Wolfgang Amadeus', 'score': 42590.0},\n",
       " {'Name': 'Hauptmann, Gerhart', 'score': 37309.0},\n",
       " {'Name': 'Goethe, Johann Wolfgang von', 'score': 36265.0},\n",
       " {'Name': 'Francke, Gotthilf August', 'score': 35440.0},\n",
       " {'Name': 'Johnson, Uwe', 'score': 35068.0}]"
      ]
     },
     "execution_count": 496,
     "metadata": {},
     "output_type": "execute_result"
    }
   ],
   "source": [
    "query = \"\"\"\n",
    "CALL gds.alpha.degree.stream({\n",
    "    nodeProjection: \"PerName\",\n",
    "    relationshipProjection: \"SocialRelation\"\n",
    "})\n",
    "YIELD nodeId, score\n",
    "RETURN gds.util.asNode(nodeId).Name AS Name, score\n",
    "ORDER BY score DESC\n",
    "LIMIT 10\n",
    "\"\"\"\n",
    "\n",
    "with driver.session() as session:\n",
    "    result = session.run(query).data()\n",
    "\n",
    "\n",
    "result"
   ]
  },
  {
   "cell_type": "markdown",
   "id": "standard-influence",
   "metadata": {},
   "source": [
    "### Shortest Path"
   ]
  },
  {
   "cell_type": "markdown",
   "id": "prescribed-module",
   "metadata": {},
   "source": [
    "As shown in notebook 2, we can conduct a path finding algorithm to find the shortest path between two nodes. The shortest path algorithm can take weighted relationships into account and is widely applied in navigation systems.\n",
    "\n",
    "Furthermore the detection of shortest paths can provide insights about how close people are to each other and how similar they might be to each other or if they share something in common. (Needham & Hodler, 2019)\n",
    "\n",
    "The example below shows the calculation of the shortest path between John Hume and Marie Curie. The same example was used in notebook 2, but on an alternated subgraph of the SoNAR (IDH) database. This time we run the algorithm over the full database and hence we find a different shortest path.\n",
    "\n",
    "More information on Cypher based path finding algorithm procedures can be found [here](https://neo4j.com/docs/graph-data-science/current/algorithms/pathfinding/)."
   ]
  },
  {
   "cell_type": "code",
   "execution_count": 497,
   "id": "opening-demand",
   "metadata": {
    "scrolled": true
   },
   "outputs": [
    {
     "data": {
      "text/plain": [
       "[{'Name': 'Hume, John'},\n",
       " {'Name': 'Annan, Kofi A.'},\n",
       " {'Name': 'UNESCO'},\n",
       " {'Name': 'Einstein, Albert'},\n",
       " {'Name': 'Skłodowska-Curie, Marie'}]"
      ]
     },
     "execution_count": 497,
     "metadata": {},
     "output_type": "execute_result"
    }
   ],
   "source": [
    "query = \"\"\"\n",
    "MATCH (start:PerName {Name: \"Hume, John\"}),\n",
    "      (end:PerName {Name: \"Skłodowska-Curie, Marie\"})\n",
    "WHERE start.id = \"Aut119444666\"\n",
    "\n",
    "CALL gds.alpha.shortestPath.stream({\n",
    "    startNode: start,\n",
    "    endNode: end,\n",
    "    nodeProjection: \"*\",\n",
    "    relationshipProjection: {\n",
    "    all: {\n",
    "        type: \"SocialRelation\",\n",
    "        orientation: \"UNDIRECTED\"\n",
    "    }\n",
    "}})\n",
    "\n",
    "YIELD nodeId, cost\n",
    "RETURN gds.util.asNode(nodeId).Name AS Name\n",
    "\"\"\"\n",
    "\n",
    "with driver.session() as session:\n",
    "    result = session.run(query).data()\n",
    "\n",
    "\n",
    "result"
   ]
  },
  {
   "cell_type": "markdown",
   "id": "accredited-answer",
   "metadata": {},
   "source": [
    "# Complex Queries & Data Preparation (work in progress..)"
   ]
  },
  {
   "cell_type": "markdown",
   "id": "metropolitan-mobile",
   "metadata": {},
   "source": [
    "In this last chapter of notebook 3 we want to take a look into more complex queries and data processing procedures. The queries in this chapter use concepts and functionalities of the Cypher query language we did not use so far. As mentioned earlier their won't be an in-depth explanation of how the queries are working but there will be links to the documentation of the most important parts. "
   ]
  },
  {
   "cell_type": "markdown",
   "id": "generic-listing",
   "metadata": {},
   "source": [
    "## Analyse Works And Resources by Genre in a Time Range"
   ]
  },
  {
   "cell_type": "markdown",
   "id": "spread-content",
   "metadata": {},
   "source": [
    "For the query below we want to retrieve all resources (`Resource`) and works (`UniTitle`) that are of a specific genre. Furthermore we want to apply a temporal filter, so we only retrieve resources and works created in a give n time span.\n",
    "\n",
    "The query below uses two separate `MATCH` clauses. One for `Resource` nodes and one for `TopicTerm` nodes. The genre filter follows different logics for the two node types and hence we retrieve the nodes separately combine them by using the `UNION` clause. "
   ]
  },
  {
   "cell_type": "code",
   "execution_count": 60,
   "id": "regulation-domain",
   "metadata": {},
   "outputs": [],
   "source": [
    "from neo4j import GraphDatabase\n",
    "import networkx as nx\n",
    "\n",
    "driver = GraphDatabase.driver(uri, auth=(user, password))\n",
    "\n",
    "from_year = \"1900\"\n",
    "to_year = \"1925\"\n",
    "\n",
    "date_pattern = \"([0-9]{4})\"\n",
    "\n",
    "# query scaffolding with placeholders\n",
    "query = \"\"\"\n",
    "MATCH (n:UniTitle)-[r]-(m:Resource)\n",
    "WHERE m.DateApproxBegin =~ \"{date_pattern}\"\n",
    "    AND toInteger(m.DateApproxBegin) >= toInteger({from_year}) \n",
    "    AND toInteger(m.DateApproxBegin) <= toInteger({to_year}) \n",
    "RETURN *\n",
    "\"\"\"\n",
    "\n",
    "# replace placeholders in query sccaffolding\n",
    "query = query.format(from_year=from_year, \n",
    "                     to_year=to_year, \n",
    "                     date_pattern = date_pattern)"
   ]
  },
  {
   "cell_type": "markdown",
   "id": "minor-opposition",
   "metadata": {},
   "source": [
    "This time we use a custom function to ingest the query. We import a function called `to_nx_graph()`. This function is helping us to keep the code slim and clean. The function it self is doing things that we did several times before already. \n",
    "\n",
    "On the one hand it sends the query to the SoNAR (DH) database and ingests the databases reply. \n",
    "On the other hand the function generates a `networkx` Graph object from the returned data. This process is similar to the one used in the chapter \"Case Study: Nobel Laureates\" in notebook 2. \n",
    "\n"
   ]
  },
  {
   "cell_type": "code",
   "execution_count": 61,
   "id": "demanding-address",
   "metadata": {},
   "outputs": [],
   "source": [
    "from helper_functions.helper_fun import to_nx_graph\n",
    "\n",
    "G = to_nx_graph(neo4j_driver = driver, \n",
    "                query = query)"
   ]
  },
  {
   "cell_type": "markdown",
   "id": "proper-apple",
   "metadata": {},
   "source": [
    "This graph object can easily be converted to a data frame and analyzed as tabular data. "
   ]
  },
  {
   "cell_type": "code",
   "execution_count": 62,
   "id": "tribal-dodge",
   "metadata": {},
   "outputs": [
    {
     "data": {
      "text/plain": [
       "Resource    905\n",
       "UniTitle    363\n",
       "Name: type, dtype: int64"
      ]
     },
     "execution_count": 62,
     "metadata": {},
     "output_type": "execute_result"
    }
   ],
   "source": [
    "import pandas as pd\n",
    "graph_df = pd.DataFrame.from_dict(dict(G.nodes(data=True)), orient='index')\n",
    "graph_df[\"type\"].value_counts()"
   ]
  },
  {
   "cell_type": "markdown",
   "id": "female-penny",
   "metadata": {},
   "source": [
    "Also, this graph object can easily be visualized inside Jupyter Notebooks. "
   ]
  },
  {
   "cell_type": "code",
   "execution_count": 65,
   "id": "distinguished-budget",
   "metadata": {},
   "outputs": [
    {
     "data": {
      "text/html": [
       "\n",
       "        <iframe\n",
       "            width=\"100%\"\n",
       "            height=\"750\"\n",
       "            src=\"./html_networks/works_by_genre_net.html\"\n",
       "            frameborder=\"0\"\n",
       "            allowfullscreen\n",
       "        ></iframe>\n",
       "        "
      ],
      "text/plain": [
       "<IPython.lib.display.IFrame at 0x7fb1f8c65d30>"
      ]
     },
     "execution_count": 65,
     "metadata": {},
     "output_type": "execute_result"
    }
   ],
   "source": [
    "from pyvis.network import Network\n",
    "\n",
    "nt = Network('750', '100%', notebook=True)\n",
    "nt.from_nx(G)\n",
    "nt.show('./html_networks/works_by_genre_net.html')"
   ]
  },
  {
   "cell_type": "markdown",
   "id": "textile-turtle",
   "metadata": {},
   "source": [
    "## Analyse Persons by TopicTerm and Time Range"
   ]
  },
  {
   "cell_type": "markdown",
   "id": "senior-fancy",
   "metadata": {},
   "source": [
    "The following example is about analysing persons based on a specific topic term and whether the person was alive during a given time period. \n",
    "\n",
    "The query below filters people that are Sociologists and lived between January 1st, 1900 and January 1st, 1925. Furthermore the query retrieves all connected resources of the persons that meet the filter criteria. "
   ]
  },
  {
   "cell_type": "code",
   "execution_count": 45,
   "id": "broken-shelf",
   "metadata": {},
   "outputs": [],
   "source": [
    "from neo4j import GraphDatabase\n",
    "import networkx as nx\n",
    "\n",
    "driver = GraphDatabase.driver(uri, auth=(user, password))\n",
    "\n",
    "from_date = \"1900-01-01\"\n",
    "to_date = \"1925-01-01\"\n",
    "topic_term = \"Soziolog\"\n",
    "\n",
    "date_pattern = \"([0-9]{2}[.][0-9]{2}[.][0-9]{4})\"\n",
    "\n",
    "# query scaffolding with placeholders\n",
    "query = \"\"\"\n",
    "MATCH (n:PerName)-[r1]-(t:TopicTerm), \n",
    "      (n:PerName)-[r2]-(m:Resource)\n",
    "WHERE n.DateStrictBegin =~ '{date_pattern}' AND n.DateStrictEnd  =~ '{date_pattern}' AND\n",
    "    t.Name CONTAINS \"{topic_term}\"\n",
    "WITH apoc.date.parse(n.DateStrictBegin, \"ms\", \"dd.MM.yyyy\") AS parsed_birth, \n",
    "    apoc.date.parse(n.DateStrictEnd, \"ms\", \"dd.MM.yyyy\") AS parsed_death, \n",
    "    n, m, t, r1, r2\n",
    "WHERE apoc.coll.max([date(datetime({{epochmillis: parsed_birth}})), date(\"{from_date}\")]) <= apoc.coll.min([date(datetime({{epochmillis: parsed_death}})), date(\"{to_date}\")]) \n",
    "RETURN *\n",
    "\"\"\"\n",
    "\n",
    "# replace placeholders in query scaffolding\n",
    "query = query.format(from_date=from_date, \n",
    "                     to_date=to_date, \n",
    "                     date_pattern = date_pattern,\n",
    "                    topic_term = topic_term)"
   ]
  },
  {
   "cell_type": "code",
   "execution_count": 46,
   "id": "advanced-establishment",
   "metadata": {},
   "outputs": [],
   "source": [
    "from helper_functions.helper_fun import to_nx_graph\n",
    "\n",
    "G = to_nx_graph(neo4j_driver = driver, \n",
    "                query = query)"
   ]
  },
  {
   "cell_type": "code",
   "execution_count": 67,
   "id": "stable-lightweight",
   "metadata": {},
   "outputs": [
    {
     "data": {
      "text/plain": [
       "Resource    905\n",
       "UniTitle    363\n",
       "Name: type, dtype: int64"
      ]
     },
     "execution_count": 67,
     "metadata": {},
     "output_type": "execute_result"
    }
   ],
   "source": [
    "import pandas as pd\n",
    "graph_df = pd.DataFrame.from_dict(dict(G.nodes(data=True)), orient='index')\n",
    "graph_df[\"type\"].value_counts()"
   ]
  },
  {
   "cell_type": "code",
   "execution_count": 68,
   "id": "sitting-terror",
   "metadata": {},
   "outputs": [],
   "source": [
    "type_list = []\n",
    "for node in list(G.nodes):\n",
    "    type_list.append(G.nodes[node][\"type\"])\n",
    "    \n",
    "color_map = {\"Resource\": \"red\", \"UniTitle\": \"green\"}\n",
    "\n",
    "color_dict = dict(zip(list(G.nodes), [color_map.get(item, item) for item in type_list]))\n",
    "\n",
    "nx.set_node_attributes(G, color_dict, \"color\")"
   ]
  },
  {
   "cell_type": "code",
   "execution_count": 75,
   "id": "loving-kennedy",
   "metadata": {
    "scrolled": true
   },
   "outputs": [
    {
     "data": {
      "text/html": [
       "\n",
       "        <iframe\n",
       "            width=\"100%\"\n",
       "            height=\"750px\"\n",
       "            src=\"./html_networks/person_by_topic.html\"\n",
       "            frameborder=\"0\"\n",
       "            allowfullscreen\n",
       "        ></iframe>\n",
       "        "
      ],
      "text/plain": [
       "<IPython.lib.display.IFrame at 0x7fb1dfbd28b0>"
      ]
     },
     "execution_count": 75,
     "metadata": {},
     "output_type": "execute_result"
    }
   ],
   "source": [
    "from pyvis.network import Network\n",
    "\n",
    "nt = Network('750px', '100%', notebook=True)\n",
    "nt.from_nx(G)\n",
    "nt.force_atlas_2based(central_gravity=0.05)\n",
    "nt.show('./html_networks/person_by_topic.html')"
   ]
  },
  {
   "cell_type": "markdown",
   "id": "signed-billy",
   "metadata": {},
   "source": [
    "## Retrieve a complex Person centered Network"
   ]
  },
  {
   "cell_type": "code",
   "execution_count": 54,
   "id": "material-thesis",
   "metadata": {},
   "outputs": [],
   "source": [
    "from neo4j import GraphDatabase\n",
    "import networkx as nx\n",
    "\n",
    "driver = GraphDatabase.driver(uri, auth=(user, password))\n",
    "\n",
    "gnd_id = \"(DE-588)118896202\"\n",
    "\n",
    "query = \"\"\"\n",
    "MATCH (main_node:PerName {{Id: \"{gnd_id}\"}})-[r1:RelationToPerName]-(friends)-[r2:RelationToPerName]-(friends_friends),\n",
    " (main_node:PerName {{Id: \"{gnd_id}\"}})-[r3]-(corps:CorpName)\n",
    "RETURN *\n",
    "LIMIT 2000\n",
    "\"\"\"\n",
    "\n",
    "# replace placeholders in query scaffolding\n",
    "query = query.format(gnd_id = gnd_id)"
   ]
  },
  {
   "cell_type": "code",
   "execution_count": 55,
   "id": "smart-tissue",
   "metadata": {},
   "outputs": [],
   "source": [
    "from helper_functions.helper_fun import to_nx_graph\n",
    "\n",
    "G = to_nx_graph(neo4j_driver = driver, \n",
    "                query = query)"
   ]
  },
  {
   "cell_type": "code",
   "execution_count": 57,
   "id": "acoustic-bridges",
   "metadata": {},
   "outputs": [
    {
     "data": {
      "text/plain": [
       "PerName     142\n",
       "Resource    132\n",
       "CorpName      4\n",
       "Name: type, dtype: int64"
      ]
     },
     "execution_count": 57,
     "metadata": {},
     "output_type": "execute_result"
    }
   ],
   "source": [
    "import pandas as pd\n",
    "graph_df = pd.DataFrame.from_dict(dict(G.nodes(data=True)), orient='index')\n",
    "graph_df[\"type\"].value_counts()"
   ]
  },
  {
   "cell_type": "code",
   "execution_count": 58,
   "id": "understanding-raising",
   "metadata": {},
   "outputs": [],
   "source": [
    "type_list = []\n",
    "for node in list(G.nodes):\n",
    "    type_list.append(G.nodes[node][\"type\"])\n",
    "    \n",
    "color_map = {\"PerName\": \"red\", \"CorpName\": \"blue\", \"Resource\": \"green\"}\n",
    "\n",
    "color_dict = dict(zip(list(G.nodes), [color_map.get(item, item) for item in type_list]))\n",
    "\n",
    "nx.set_node_attributes(G, color_dict, \"color\")"
   ]
  },
  {
   "cell_type": "code",
   "execution_count": 59,
   "id": "sporting-lodging",
   "metadata": {},
   "outputs": [
    {
     "data": {
      "text/html": [
       "\n",
       "        <iframe\n",
       "            width=\"100%\"\n",
       "            height=\"750px\"\n",
       "            src=\"./html_networks/person_centered_net.html\"\n",
       "            frameborder=\"0\"\n",
       "            allowfullscreen\n",
       "        ></iframe>\n",
       "        "
      ],
      "text/plain": [
       "<IPython.lib.display.IFrame at 0x7fb1eecc97f0>"
      ]
     },
     "execution_count": 59,
     "metadata": {},
     "output_type": "execute_result"
    }
   ],
   "source": [
    "from pyvis.network import Network\n",
    "\n",
    "nt = Network('750px', '100%', notebook=True)\n",
    "nt.from_nx(G)\n",
    "nt.show('./html_networks/person_centered_net.html')"
   ]
  },
  {
   "cell_type": "markdown",
   "id": "mounted-hayes",
   "metadata": {},
   "source": [
    "# Bibliography"
   ]
  },
  {
   "cell_type": "markdown",
   "id": "unlike-italy",
   "metadata": {},
   "source": [
    "Freeman, L. C. (1978). Centrality in social networks conceptual clarification. Social Networks, 1(3), 215–239. https://doi.org/10.1016/0378-8733(78)90021-7\n",
    "\n",
    "Needham, M. & Hodler, A. (2019). Graph algorithms : practical examples in Apache Spark and Neo4j. Beijing: O'Reilly."
   ]
  },
  {
   "cell_type": "markdown",
   "id": "strategic-vacation",
   "metadata": {},
   "source": [
    "[click](./helper_functions/helper_fun.py)"
   ]
  },
  {
   "cell_type": "code",
   "execution_count": null,
   "id": "wound-parts",
   "metadata": {},
   "outputs": [],
   "source": []
  }
 ],
 "metadata": {
  "kernelspec": {
   "display_name": "Python 3",
   "language": "python",
   "name": "python3"
  },
  "language_info": {
   "codemirror_mode": {
    "name": "ipython",
    "version": 3
   },
   "file_extension": ".py",
   "mimetype": "text/x-python",
   "name": "python",
   "nbconvert_exporter": "python",
   "pygments_lexer": "ipython3",
   "version": "3.8.9"
  },
  "toc": {
   "base_numbering": 1,
   "nav_menu": {},
   "number_sections": true,
   "sideBar": true,
   "skip_h1_title": false,
   "title_cell": "Table of Contents",
   "title_sidebar": "Contents",
   "toc_cell": false,
   "toc_position": {
    "height": "calc(100% - 180px)",
    "left": "10px",
    "top": "150px",
    "width": "326px"
   },
   "toc_section_display": true,
   "toc_window_display": true
  },
  "varInspector": {
   "cols": {
    "lenName": 16,
    "lenType": 16,
    "lenVar": 40
   },
   "kernels_config": {
    "python": {
     "delete_cmd_postfix": "",
     "delete_cmd_prefix": "del ",
     "library": "var_list.py",
     "varRefreshCmd": "print(var_dic_list())"
    },
    "r": {
     "delete_cmd_postfix": ") ",
     "delete_cmd_prefix": "rm(",
     "library": "var_list.r",
     "varRefreshCmd": "cat(var_dic_list()) "
    }
   },
   "position": {
    "height": "343px",
    "left": "1441px",
    "right": "20px",
    "top": "162px",
    "width": "437px"
   },
   "types_to_exclude": [
    "module",
    "function",
    "builtin_function_or_method",
    "instance",
    "_Feature"
   ],
   "window_display": false
  }
 },
 "nbformat": 4,
 "nbformat_minor": 5
}
