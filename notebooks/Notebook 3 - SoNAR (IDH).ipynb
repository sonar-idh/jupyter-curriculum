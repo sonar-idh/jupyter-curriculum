{
 "cells": [
  {
   "cell_type": "code",
   "execution_count": 58,
   "id": "current-china",
   "metadata": {},
   "outputs": [],
   "source": [
    "### Loading Credentials from local file; this cell is meant to be deleted before publishing\n",
    "import yaml\n",
    "\n",
    "with open(\"../creds.yml\", 'r') as ymlfile:\n",
    "    cfg = yaml.safe_load(ymlfile)\n",
    "\n",
    "uri = cfg[\"sonar_creds\"][\"uri\"]\n",
    "user = cfg[\"sonar_creds\"][\"user\"]\n",
    "password = cfg[\"sonar_creds\"][\"pass\"]"
   ]
  },
  {
   "cell_type": "markdown",
   "id": "polished-shaft",
   "metadata": {},
   "source": [
    "# Project Summary \n"
   ]
  },
  {
   "cell_type": "markdown",
   "id": "technical-aviation",
   "metadata": {},
   "source": [
    "## Citing SoNAR (IDH)"
   ]
  },
  {
   "cell_type": "markdown",
   "id": "thousand-governor",
   "metadata": {},
   "source": [
    "# Data Description\n"
   ]
  },
  {
   "cell_type": "markdown",
   "id": "surrounded-village",
   "metadata": {},
   "source": [
    "The SoNAR (IDH) database consists of nodes and edges. Each of the nodes and edges have additional attributes that provide rich meta information. \n",
    "\n",
    "This data description section provides details about the data sources and overall characteristics of the data. The section is based on the state of the SoNAR (IDH) database during February 2021. \n",
    "\n",
    "More in depth details about the data, the database and the data preparation will get published soon. "
   ]
  },
  {
   "cell_type": "markdown",
   "id": "proper-caribbean",
   "metadata": {},
   "source": [
    "## Summary Stats"
   ]
  },
  {
   "cell_type": "markdown",
   "id": "ethical-links",
   "metadata": {},
   "source": [
    "The SoNAR (IDH) database has the following aggregated characteristics:\n",
    "\n",
    "**Nodes Summary**\n",
    "\n",
    "* 9 categories of Nodes\n",
    "* 34.511.952 Nodes\n",
    "\n",
    "|Node Type | Node Count |\n",
    "|---------------|------------|\n",
    "| CorpName      | 1.487.711  |\n",
    "| GeoName       | 308.197    |\n",
    "| MeetName      | 814.044    |\n",
    "| PerName       | 5.087.660  |\n",
    "| TopicTerm     | 212.135    |\n",
    "| UniTitle      | 385.300    |\n",
    "| ChronTerm     | 537.054    |\n",
    "| IsilTerm      | 611        |\n",
    "| Resource      | 25.679.240 |\n",
    "\n",
    "**Edges Summary**\n",
    "\n",
    "* 98.530.160 Edges\n",
    "* 9 categories of Edges\n",
    "\n",
    "\n",
    "| Edge Type       | Edge Count     |\n",
    "|---------------------|------------|\n",
    "| RelationToPerName   | 14.630.465 |\n",
    "| RelationToCorpName  | 5.099.190  |\n",
    "| RelationToMeetName  | 263.180    |\n",
    "| RelationToUniTitle  | 53.998     |\n",
    "| RelationToTopicTerm | 4.951.617  |\n",
    "| RelationToGeoName   | 5.140.556  |\n",
    "| RelationToChronTerm | 5.446.841  |\n",
    "| RelationToIsil      | 55.556.913 |\n",
    "| RelationToResource  | 7.387.400  |\n",
    "| socialRelation      | 40.301.595 |"
   ]
  },
  {
   "cell_type": "markdown",
   "id": "thermal-realtor",
   "metadata": {},
   "source": [
    "## Data Sources "
   ]
  },
  {
   "cell_type": "markdown",
   "id": "gothic-variance",
   "metadata": {},
   "source": [
    "SoNAR (IDH) combines data from four different data sources. The table below provides a compact overview:\n",
    "\n",
    "\n",
    "|Data Source |  Number of Nodes | Number of Edges <br>(incl. *RelationToIsilTerm*) |\n",
    "|--------|----------| -------- |\n",
    "|[GND (*Integrated Authority File*)](https://www.dnb.de/EN/Professionell/Standardisierung/GND/gnd_node.html)| 8.295.047 | 32.776.628 |\n",
    "|[DNB (*German National Library*)](https://www.dnb.de/EN/Home/home_node.html)|19.384.733| 5.655.859 |\n",
    "|[ZDB (*Zeitschriftendatenbank*)](https://www.zeitschriftendatenbank.de/startseite/)|1.908.334| 43.419.339 |\n",
    "|KPE|4.386.173| 16.678.334 |"
   ]
  },
  {
   "cell_type": "markdown",
   "id": "descending-manhattan",
   "metadata": {},
   "source": [
    "# Data Access"
   ]
  },
  {
   "cell_type": "markdown",
   "id": "timely-tsunami",
   "metadata": {},
   "source": [
    "We will need some specific libraries to work with the SoNAR (IDH) database. Let's start with installing the `neo4j` library.\n",
    "\n",
    "When you are using the curriculum on binder or locally or by running it as a docker container locally, the pacckage is already installed. When you want to interact with the SoNAR (IDH) database independently install the package with the following code line in a new notebook cell:\n",
    "\n",
    "```python\n",
    "!pip install neo4j\n",
    "```"
   ]
  },
  {
   "cell_type": "code",
   "execution_count": 350,
   "id": "attended-consumer",
   "metadata": {},
   "outputs": [],
   "source": [
    "from neo4j import GraphDatabase\n",
    "\n",
    "driver = GraphDatabase.driver(uri, auth=(user, password))"
   ]
  },
  {
   "cell_type": "markdown",
   "id": "adjusted-tuning",
   "metadata": {},
   "source": [
    "With the call above we create a [Neo4j driver object](https://neo4j.com/docs/api/python-driver/current/api.html#driver). This driver now stores the connection details for the database. We can use this driver now to send requests to the database for example to request data."
   ]
  },
  {
   "cell_type": "markdown",
   "id": "competent-springfield",
   "metadata": {},
   "source": [
    "# Data Exploration"
   ]
  },
  {
   "cell_type": "markdown",
   "id": "optical-missile",
   "metadata": {},
   "source": [
    "Data exploration is usually the very first thing to do when working with new data. So let's start diving into the SoNAR (IDH) database by exploring it. \n",
    "\n",
    "Whenever we want to retrieve data from the Neo4j database of SoNAR (IDH) we can use a query language called \"Cypher Query Language\". Cypher provides a rather easy to comprehend syntax for requesting data from the database.\n",
    "\n",
    "Throughout this curriculum we will use this Cypher Query Language whenever we directly retrieve data from SoNAR (IDH)."
   ]
  },
  {
   "cell_type": "markdown",
   "id": "expressed-verification",
   "metadata": {},
   "source": [
    "## Nodes"
   ]
  },
  {
   "cell_type": "markdown",
   "id": "selective-hamburg",
   "metadata": {},
   "source": [
    "### Node Labels"
   ]
  },
  {
   "cell_type": "markdown",
   "id": "incredible-standard",
   "metadata": {},
   "source": [
    "Let's start off with a simple query. Let's request the database to return all [node labels](https://neo4j.com/docs/getting-started/current/graphdb-concepts/#graphdb-labels). Node labels are categories the nodes can belong to. You can think of them as entity groups. The SoNAR (IDH) database distinguishes between Persons, Corporations and more. Let's ask the database it self to return all the labels available. "
   ]
  },
  {
   "cell_type": "code",
   "execution_count": 60,
   "id": "uniform-killer",
   "metadata": {},
   "outputs": [
    {
     "data": {
      "text/plain": [
       "[{'label': 'CorpName'},\n",
       " {'label': 'GeoName'},\n",
       " {'label': 'MeetName'},\n",
       " {'label': 'PerName'},\n",
       " {'label': 'TopicTerm'},\n",
       " {'label': 'UniTitle'},\n",
       " {'label': 'ChronTerm'},\n",
       " {'label': 'IsilTerm'},\n",
       " {'label': 'Resource'}]"
      ]
     },
     "execution_count": 60,
     "metadata": {},
     "output_type": "execute_result"
    }
   ],
   "source": [
    "with driver.session() as session:\n",
    "    result = session.run(\"CALL db.labels()\").data()\n",
    "    \n",
    "result"
   ]
  },
  {
   "cell_type": "markdown",
   "id": "related-columbia",
   "metadata": {},
   "source": [
    "**Code Breakdown:**\n",
    "\n",
    ">The `with` statement is basically used to make the database call as resource effective and concise as possible. There are more advantages of the `with` call but their explanation would exceed the goal of this curriculum. However, an in-depth explanation of the `with` statement can be found [here](https://www.python.org/dev/peps/pep-0343/).\n",
    ">\n",
    ">When we request data from the database we need to establish a connection (`session`). The `driver` object we created earlier stores the connection details. When we use the method `driver.session()` we establish a new connection. This connection is assigned to the object `session` object for the `while` statement.\n",
    ">\n",
    ">The most relevant part of the code for retrieving the data is `\"CALL db.labels()\"`. This part is the actual Cypher query. The `CALL` clause is used to call the `db.labels()` procedure. More details about Neo4j procedures can be found below.\n",
    ">\n",
    ">The result of this code chunk is a list that contains a key-value pair (`dictionary`) per label in the database.  "
   ]
  },
  {
   "cell_type": "markdown",
   "id": "delayed-repository",
   "metadata": {},
   "source": [
    "Some useful built-in procedures for exploring and describing the database are listed in the table below. You can get a full list of built-in procedures by using the following query: `CALL dbms.procedures()`\n",
    "\n",
    "\n",
    "|Procedure | Description |\n",
    "|---------|----------|\n",
    "|`db.labels()`| List all labels in the database.|\n",
    "|`db.propertyKeys()`|List all property keys in the database.|\n",
    "|`db.relationshipTypes`|List all relationship types in the database. |\n",
    "|`db.schema`| Show the schema of the data. |\n",
    "|`db.stats.retrieve`|Retrieve statistical data about the current database. <br>Valid sections are 'GRAPH COUNTS', 'TOKENS', 'QUERIES', 'META'|"
   ]
  },
  {
   "cell_type": "markdown",
   "id": "compound-browser",
   "metadata": {},
   "source": [
    "### Selecting Nodes"
   ]
  },
  {
   "cell_type": "markdown",
   "id": "accomplished-pension",
   "metadata": {},
   "source": [
    "You can select nodes by using the `MATCH` statement. Cypher uses `ASCII-art` syntax to define nodes, relationships and the direction of relationships in queries. \n",
    "\n",
    "Nodes are referred to by using parentheses `()`. Inside the parentheses you can define a Node variable. This variable can be used to refer to a specific set of nodes throughout the rest of the query.\n",
    "\n",
    "The example below matches any kind of Node and assigns the variable name n `(n)`. We use the `LIMIT` statement to tell the database we only want to have the first 5 results."
   ]
  },
  {
   "cell_type": "code",
   "execution_count": 138,
   "id": "tropical-bradley",
   "metadata": {},
   "outputs": [],
   "source": [
    "query = \"\"\"\n",
    "MATCH (n)\n",
    "RETURN n\n",
    "LIMIT 5\n",
    "\"\"\""
   ]
  },
  {
   "cell_type": "code",
   "execution_count": 139,
   "id": "regular-might",
   "metadata": {},
   "outputs": [
    {
     "data": {
      "text/plain": [
       "[{'n': {'GenType': 'b',\n",
       "   'DateOriginal': '1951-',\n",
       "   'SpecType': 'kiz',\n",
       "   'VariantName': 'CNS;;;CNS',\n",
       "   'DateApproxBegin': '1951',\n",
       "   'Id': '(DE-588)110-7',\n",
       "   'id': 'Aut110_7',\n",
       "   'Uri': 'http://d-nb.info/gnd/110-7',\n",
       "   'Name': 'Congress of Neurological Surgeons'}},\n",
       " {'n': {'GenType': 'b',\n",
       "   'Id': '(DE-588)191-0',\n",
       "   'id': 'Aut191_0',\n",
       "   'Uri': 'http://d-nb.info/gnd/191-0',\n",
       "   'SubUnit': 'División de Ciencias Matemáticas, Médicas y de la Naturaleza',\n",
       "   'Name': 'Consejo Superior de Investigaciones Científicas'}},\n",
       " {'n': {'GenType': 'b',\n",
       "   'Id': '(DE-588)257-4',\n",
       "   'id': 'Aut257_4',\n",
       "   'SpecType': 'kiz',\n",
       "   'Uri': 'http://d-nb.info/gnd/257-4',\n",
       "   'Name': 'Fondazione Antonio Baselli'}},\n",
       " {'n': {'GenType': 'b',\n",
       "   'Id': '(DE-588)273-2',\n",
       "   'id': 'Aut273_2',\n",
       "   'SpecType': 'wit',\n",
       "   'Uri': 'http://d-nb.info/gnd/273-2',\n",
       "   'Name': 'Copyright Law Symposium'}},\n",
       " {'n': {'GenType': 'b',\n",
       "   'DateOriginal': '1865-',\n",
       "   'VariantName': \"Kornel'skii Universitet;;;Cornell Univ.;;;University;;;Cornell University;;;Cornell University\",\n",
       "   'SpecType': 'kiz',\n",
       "   'OldId': '(DE-588)1088112064;;;(DE-588)1088112544;;;(DE-588)16294577-2;;;(DE-588)16286598-3;;;(DE-588)4223553-4',\n",
       "   'DateApproxBegin': '1865',\n",
       "   'Id': '(DE-588)275-6',\n",
       "   'id': 'Aut275_6',\n",
       "   'Uri': 'http://d-nb.info/gnd/275-6',\n",
       "   'Name': 'Cornell University'}}]"
      ]
     },
     "execution_count": 139,
     "metadata": {},
     "output_type": "execute_result"
    }
   ],
   "source": [
    "import pandas as pd\n",
    "\n",
    "with driver.session() as session:\n",
    "    result = session.run(query).data()\n",
    "    \n",
    "result"
   ]
  },
  {
   "cell_type": "markdown",
   "id": "standing-uganda",
   "metadata": {},
   "source": [
    "### Filtering Nodes"
   ]
  },
  {
   "cell_type": "code",
   "execution_count": 140,
   "id": "level-nelson",
   "metadata": {},
   "outputs": [],
   "source": [
    "query = \"\"\"\n",
    "MATCH (n:PerName)\n",
    "RETURN n\n",
    "LIMIT 1\"\"\""
   ]
  },
  {
   "cell_type": "code",
   "execution_count": 142,
   "id": "correct-holiday",
   "metadata": {},
   "outputs": [
    {
     "data": {
      "text/plain": [
       "[{'n': {'GenType': 'p',\n",
       "   'VariantName': 'Lombez, Ambrosius de;;;La Peirie, Ambroise;;;LaPeirie, Ambroise;;;Ambroise;;;Lombez, Ambroise de;;;LaPeyrie;;;Lombez, Ambrosius von',\n",
       "   'SpecType': 'piz',\n",
       "   'Id': '(DE-588)100000096',\n",
       "   'id': 'Aut100000096',\n",
       "   'Uri': 'http://d-nb.info/gnd/100000096',\n",
       "   'Name': 'Ambrosius'}}]"
      ]
     },
     "execution_count": 142,
     "metadata": {},
     "output_type": "execute_result"
    }
   ],
   "source": [
    "with driver.session() as session:\n",
    "    result = session.run(query).data()\n",
    "    \n",
    "result"
   ]
  },
  {
   "cell_type": "markdown",
   "id": "polar-affiliate",
   "metadata": {},
   "source": [
    "**Filtering Nodes by Properties**"
   ]
  },
  {
   "cell_type": "markdown",
   "id": "modular-frontier",
   "metadata": {},
   "source": [
    "Now, let's try to find the node of Max Weber, the sociologist and political economist. \n",
    "We can define a filter based on properties of a node. The query below only returns nodes that have \"Weber, Max\" as `Name` property.\n",
    "\n",
    "Also, we return the count of nodes `RETURN count(n)` not the actual nodes. We suspect the name \"Weber, Max\" to be not unique inside the big SoNAR (IDH) database. So we want to check, how many Max Webers we can find.  "
   ]
  },
  {
   "cell_type": "code",
   "execution_count": 143,
   "id": "hybrid-climate",
   "metadata": {},
   "outputs": [],
   "source": [
    "query = \"\"\"\n",
    "MATCH (n:PerName {Name: 'Weber, Max'})\n",
    "RETURN count(n)\n",
    "\"\"\""
   ]
  },
  {
   "cell_type": "code",
   "execution_count": 144,
   "id": "organizational-stadium",
   "metadata": {},
   "outputs": [
    {
     "data": {
      "text/plain": [
       "[{'count(n)': 34}]"
      ]
     },
     "execution_count": 144,
     "metadata": {},
     "output_type": "execute_result"
    }
   ],
   "source": [
    "with driver.session() as session:\n",
    "    result = session.run(query).data()\n",
    "    \n",
    "result"
   ]
  },
  {
   "cell_type": "markdown",
   "id": "marked-rebound",
   "metadata": {},
   "source": [
    "In fact we detected 34 hits in the database. So we need to apply more filters to find the correct Max.\n",
    "\n",
    "Let's start by checking what properties are available for nodes of type `PerName`:"
   ]
  },
  {
   "cell_type": "code",
   "execution_count": 145,
   "id": "applicable-interpretation",
   "metadata": {},
   "outputs": [
    {
     "data": {
      "text/plain": [
       "[{'label': 'PerName',\n",
       "  'props': ['Uri',\n",
       "   'Name',\n",
       "   'Id',\n",
       "   'VariantName',\n",
       "   'id',\n",
       "   'GenType',\n",
       "   'SpecType',\n",
       "   'DateStrictOriginal',\n",
       "   'DateStrictEnd',\n",
       "   'DateApproxOriginal',\n",
       "   'DateApproxEnd',\n",
       "   'DateStrictBegin',\n",
       "   'Gender',\n",
       "   'DateApproxBegin',\n",
       "   'OldId']}]"
      ]
     },
     "execution_count": 145,
     "metadata": {},
     "output_type": "execute_result"
    }
   ],
   "source": [
    "query = \"\"\"\n",
    "MATCH (n:PerName)\n",
    "WITH LABELS(n) AS labels , KEYS(n) AS keys\n",
    "UNWIND labels AS label\n",
    "UNWIND keys AS key\n",
    "RETURN DISTINCT label, COLLECT(DISTINCT key) AS props\n",
    "ORDER BY label\n",
    "\"\"\"\n",
    "\n",
    "with driver.session() as session:\n",
    "    result = session.run(query).data()\n",
    "    \n",
    "result"
   ]
  },
  {
   "cell_type": "markdown",
   "id": "proved-exclusion",
   "metadata": {},
   "source": [
    "We can see that there are several `date` properties for `PerName` nodes. The year of birth is stored in the property called `DateApproxBegin`. \n",
    "So let's apply a date filter. Let's assume we only know that Max Weber was born in the year 1864 and we want to filter based on this information."
   ]
  },
  {
   "cell_type": "code",
   "execution_count": 146,
   "id": "sunrise-borough",
   "metadata": {},
   "outputs": [
    {
     "data": {
      "text/plain": [
       "[{'n': {'GenType': 'p',\n",
       "   'DateApproxEnd': '1920',\n",
       "   'DateStrictOriginal': '21.04.1864-14.06.1920',\n",
       "   'VariantName': 'Makesi, Weipei;;;Weber, Karl Emil Maximilian;;;Veber, Maks;;;Veber, M.;;;Weibo, ...;;;Uēbā, Makkusu;;;Wibir, Māks;;;Weibo, Makesi;;;Fībir, Māks;;;Vēbā, Makkusu;;;Ma ke si Wei bo;;;Makesi-Weibo;;;馬克思, 威培;;;فيبر، ماكس;;;マックス・ウェーバー;;;马克斯•韦伯;;;ובר, מקס;;;韦伯, 马克斯',\n",
       "   'SpecType': 'piz',\n",
       "   'DateStrictBegin': '21.04.1864',\n",
       "   'DateStrictEnd': '14.06.1920',\n",
       "   'Gender': '1',\n",
       "   'DateApproxOriginal': '1864-1920',\n",
       "   'Uri': 'http://d-nb.info/gnd/118629743',\n",
       "   'Name': 'Weber, Max',\n",
       "   'DateApproxBegin': '1864',\n",
       "   'Id': '(DE-588)118629743',\n",
       "   'id': 'Aut118629743'}}]"
      ]
     },
     "execution_count": 146,
     "metadata": {},
     "output_type": "execute_result"
    }
   ],
   "source": [
    "query = \"\"\"\n",
    "MATCH (n:PerName)\n",
    "WHERE n.Name = \"Weber, Max\" AND n.DateApproxBegin = \"1864\"\n",
    "RETURN n\n",
    "\"\"\"\n",
    "\n",
    "with driver.session() as session:\n",
    "    result = session.run(query).data()\n",
    "    \n",
    "result"
   ]
  },
  {
   "cell_type": "markdown",
   "id": "associate-museum",
   "metadata": {},
   "source": [
    "As a last example, let's assume we only know that the last Name of Max Weber is spelled \"韦伯\" in Chinese, so we need to use this information as a filter. \n",
    "\n",
    "In the query result above, you see a node property called `VariantName`. This variable stores many alternative variants of the name we are looking for. So let's check how we could query the database by searching within this property:"
   ]
  },
  {
   "cell_type": "code",
   "execution_count": 149,
   "id": "driving-animation",
   "metadata": {},
   "outputs": [
    {
     "data": {
      "text/plain": [
       "[{'n': {'GenType': 'p',\n",
       "   'DateApproxEnd': '1920',\n",
       "   'DateStrictOriginal': '21.04.1864-14.06.1920',\n",
       "   'VariantName': 'Makesi, Weipei;;;Weber, Karl Emil Maximilian;;;Veber, Maks;;;Veber, M.;;;Weibo, ...;;;Uēbā, Makkusu;;;Wibir, Māks;;;Weibo, Makesi;;;Fībir, Māks;;;Vēbā, Makkusu;;;Ma ke si Wei bo;;;Makesi-Weibo;;;馬克思, 威培;;;فيبر، ماكس;;;マックス・ウェーバー;;;马克斯•韦伯;;;ובר, מקס;;;韦伯, 马克斯',\n",
       "   'SpecType': 'piz',\n",
       "   'DateStrictBegin': '21.04.1864',\n",
       "   'DateStrictEnd': '14.06.1920',\n",
       "   'Gender': '1',\n",
       "   'DateApproxOriginal': '1864-1920',\n",
       "   'Uri': 'http://d-nb.info/gnd/118629743',\n",
       "   'Name': 'Weber, Max',\n",
       "   'DateApproxBegin': '1864',\n",
       "   'Id': '(DE-588)118629743',\n",
       "   'id': 'Aut118629743'}},\n",
       " {'n': {'GenType': 'p',\n",
       "   'VariantName': 'Veber, Mattias;;;Weber, Matthias;;;Weibo, Madiyasi;;;Ma di ya si Wei bo;;;Madiyasi-Weibo;;;Ma ti ya si Wei bo;;;Matiyasi-Weibo;;;Weibo, Matiyasi;;;马蒂亚斯•韦伯;;;韦伯, 马蒂亚斯',\n",
       "   'SpecType': 'piz',\n",
       "   'DateApproxBegin': '1967',\n",
       "   'Gender': '1',\n",
       "   'DateApproxOriginal': '1967-',\n",
       "   'Id': '(DE-588)124003303',\n",
       "   'id': 'Aut124003303',\n",
       "   'Uri': 'http://d-nb.info/gnd/124003303',\n",
       "   'Name': 'Weber, Mathias'}},\n",
       " {'n': {'GenType': 'p',\n",
       "   'VariantName': 'Bi de Wei bo;;;Bide-Weibo;;;Veber, Peter;;;Weibo, Bide;;;韦伯彼得;;;韦伯, 彼得',\n",
       "   'SpecType': 'piz',\n",
       "   'OldId': '(DE-588)1018410120',\n",
       "   'DateApproxBegin': '1968',\n",
       "   'Gender': '1',\n",
       "   'DateApproxOriginal': '1968-',\n",
       "   'Id': '(DE-588)124253679',\n",
       "   'id': 'Aut124253679',\n",
       "   'Uri': 'http://d-nb.info/gnd/124253679',\n",
       "   'Name': 'Weber, Peter'}}]"
      ]
     },
     "execution_count": 149,
     "metadata": {},
     "output_type": "execute_result"
    }
   ],
   "source": [
    "query = \"\"\"\n",
    "MATCH (n:PerName)\n",
    "WHERE n.VariantName CONTAINS \"韦伯\"\n",
    "RETURN n\n",
    "\"\"\"\n",
    "\n",
    "with driver.session() as session:\n",
    "    result = session.run(query).data()\n",
    "    \n",
    "result"
   ]
  },
  {
   "cell_type": "markdown",
   "id": "third-archives",
   "metadata": {},
   "source": [
    "## Relationship"
   ]
  },
  {
   "cell_type": "markdown",
   "id": "hundred-tenant",
   "metadata": {},
   "source": [
    "### Relationships Types"
   ]
  },
  {
   "cell_type": "markdown",
   "id": "wrong-career",
   "metadata": {},
   "source": [
    "Similar to node labels we can retrieve the categories of the relations inside the database. Every relation must have exactly one relationship type. This type defines the kind or category the relation belongs to. "
   ]
  },
  {
   "cell_type": "code",
   "execution_count": 18,
   "id": "nonprofit-diagnosis",
   "metadata": {},
   "outputs": [
    {
     "data": {
      "text/html": [
       "<div>\n",
       "<style scoped>\n",
       "    .dataframe tbody tr th:only-of-type {\n",
       "        vertical-align: middle;\n",
       "    }\n",
       "\n",
       "    .dataframe tbody tr th {\n",
       "        vertical-align: top;\n",
       "    }\n",
       "\n",
       "    .dataframe thead th {\n",
       "        text-align: right;\n",
       "    }\n",
       "</style>\n",
       "<table border=\"1\" class=\"dataframe\">\n",
       "  <thead>\n",
       "    <tr style=\"text-align: right;\">\n",
       "      <th></th>\n",
       "      <th>relationshipType</th>\n",
       "    </tr>\n",
       "  </thead>\n",
       "  <tbody>\n",
       "    <tr>\n",
       "      <th>0</th>\n",
       "      <td>RelationToIsilTerm</td>\n",
       "    </tr>\n",
       "    <tr>\n",
       "      <th>1</th>\n",
       "      <td>RelationToChronTerm</td>\n",
       "    </tr>\n",
       "    <tr>\n",
       "      <th>2</th>\n",
       "      <td>RelationToCorpName</td>\n",
       "    </tr>\n",
       "    <tr>\n",
       "      <th>3</th>\n",
       "      <td>RelationToTopicTerm</td>\n",
       "    </tr>\n",
       "    <tr>\n",
       "      <th>4</th>\n",
       "      <td>RelationToGeoName</td>\n",
       "    </tr>\n",
       "    <tr>\n",
       "      <th>5</th>\n",
       "      <td>SocialRelation</td>\n",
       "    </tr>\n",
       "    <tr>\n",
       "      <th>6</th>\n",
       "      <td>RelationToMeetName</td>\n",
       "    </tr>\n",
       "    <tr>\n",
       "      <th>7</th>\n",
       "      <td>RelationToPerName</td>\n",
       "    </tr>\n",
       "    <tr>\n",
       "      <th>8</th>\n",
       "      <td>RelationToUniTitle</td>\n",
       "    </tr>\n",
       "    <tr>\n",
       "      <th>9</th>\n",
       "      <td>RelationToResource</td>\n",
       "    </tr>\n",
       "  </tbody>\n",
       "</table>\n",
       "</div>"
      ],
      "text/plain": [
       "      relationshipType\n",
       "0   RelationToIsilTerm\n",
       "1  RelationToChronTerm\n",
       "2   RelationToCorpName\n",
       "3  RelationToTopicTerm\n",
       "4    RelationToGeoName\n",
       "5       SocialRelation\n",
       "6   RelationToMeetName\n",
       "7    RelationToPerName\n",
       "8   RelationToUniTitle\n",
       "9   RelationToResource"
      ]
     },
     "execution_count": 18,
     "metadata": {},
     "output_type": "execute_result"
    }
   ],
   "source": [
    "with driver.session() as session:\n",
    "    result = session.run(\"CALL db.relationshipTypes()\").data()\n",
    "\n",
    "    \n",
    "pd.DataFrame(result)"
   ]
  },
  {
   "cell_type": "markdown",
   "id": "copyrighted-palestine",
   "metadata": {},
   "source": [
    "### Selecting Relationships"
   ]
  },
  {
   "cell_type": "markdown",
   "id": "colonial-longer",
   "metadata": {},
   "source": [
    "In the section about nodes we saw that we need to use parenthesis (`()`) to select nodes. When selecting relationships on the other hand we need to use brackets (`[]`) instead.\n",
    "\n",
    "Additionally we can not solely query for plain relationships, but we need to define a pattern in which this relationship needs to appear in the database. \n",
    "\n",
    "The most simple relationship pattern we can define is, the relationship needs to be between any kind two nodes. In the cypher language this would be expressed as:\n",
    ">`()-[r]-()`\n"
   ]
  },
  {
   "cell_type": "code",
   "execution_count": 159,
   "id": "worst-leonard",
   "metadata": {},
   "outputs": [
    {
     "data": {
      "text/plain": [
       "[{'r': ({}, 'RelationToCorpName', {})},\n",
       " {'r': ({}, 'RelationToCorpName', {})},\n",
       " {'r': ({}, 'RelationToCorpName', {})},\n",
       " {'r': ({}, 'RelationToCorpName', {})},\n",
       " {'r': ({}, 'RelationToCorpName', {})}]"
      ]
     },
     "execution_count": 159,
     "metadata": {},
     "output_type": "execute_result"
    }
   ],
   "source": [
    "query = \"\"\"\n",
    "MATCH ()-[r]-()\n",
    "RETURN r\n",
    "LIMIT 5\n",
    "\"\"\"\n",
    "\n",
    "with driver.session() as session:\n",
    "    result = session.run(query).data()\n",
    "\n",
    "    \n",
    "result"
   ]
  },
  {
   "cell_type": "markdown",
   "id": "martial-sharing",
   "metadata": {},
   "source": [
    "### Filtering Relationships"
   ]
  },
  {
   "cell_type": "markdown",
   "id": "viral-austin",
   "metadata": {},
   "source": [
    "You can filter relationships in a similar fashion like you can filter nodes. \n",
    "Let's retrieve relationships of the type `SocialRelation`."
   ]
  },
  {
   "cell_type": "code",
   "execution_count": 346,
   "id": "stuck-privacy",
   "metadata": {},
   "outputs": [],
   "source": [
    "from neo4j import GraphDatabase\n",
    "\n",
    "driver = GraphDatabase.driver(uri, auth=(user, password))"
   ]
  },
  {
   "cell_type": "code",
   "execution_count": 299,
   "id": "romance-bridges",
   "metadata": {},
   "outputs": [
    {
     "data": {
      "text/plain": [
       "[{'r': ({}, 'SocialRelation', {})},\n",
       " {'r': ({}, 'SocialRelation', {})},\n",
       " {'r': ({}, 'SocialRelation', {})},\n",
       " {'r': ({}, 'SocialRelation', {})},\n",
       " {'r': ({}, 'SocialRelation', {})}]"
      ]
     },
     "execution_count": 299,
     "metadata": {},
     "output_type": "execute_result"
    }
   ],
   "source": [
    "query = \"\"\"\n",
    "MATCH ()-[r:SocialRelation]-()\n",
    "RETURN r\n",
    "LIMIT 5\n",
    "\"\"\"\n",
    "\n",
    "with driver.session() as session:\n",
    "    result = session.run(query).data()\n",
    "\n",
    "    \n",
    "result"
   ]
  },
  {
   "cell_type": "markdown",
   "id": "insured-panama",
   "metadata": {},
   "source": [
    "**Filtering Relationships by Properties**"
   ]
  },
  {
   "cell_type": "code",
   "execution_count": 334,
   "id": "infinite-walnut",
   "metadata": {},
   "outputs": [
    {
     "data": {
      "text/plain": [
       "[{'properties': {'TypeAddInfo': 'undirected',\n",
       "   'SourceType': 'associatedRelation',\n",
       "   'Source': 'Bib(DE_588)5550944_7'}},\n",
       " {'properties': {'TypeAddInfo': 'undirected',\n",
       "   'SourceType': 'associatedRelation',\n",
       "   'Source': 'Bib(DE_588)5550944_7'}},\n",
       " {'properties': {'TypeAddInfo': 'undirected',\n",
       "   'SourceType': 'associatedRelation',\n",
       "   'Source': 'Bib(DE_588)16249939_5'}},\n",
       " {'properties': {'TypeAddInfo': 'undirected',\n",
       "   'SourceType': 'associatedRelation',\n",
       "   'Source': 'Bib(DE_588)16249939_5'}},\n",
       " {'properties': {'TypeAddInfo': 'undirected',\n",
       "   'SourceType': 'associatedRelation',\n",
       "   'Source': 'BibBVBBV044242543'}}]"
      ]
     },
     "execution_count": 334,
     "metadata": {},
     "output_type": "execute_result"
    }
   ],
   "source": [
    "query = \"\"\"\n",
    "MATCH p = ()-[r:SocialRelation]-()\n",
    "UNWIND relationships(p) as rel\n",
    "RETURN properties(rel) as properties\n",
    "LIMIT 5\n",
    "\"\"\"\n",
    "\n",
    "with driver.session() as session:\n",
    "    result = session.run(query).data()\n",
    "\n",
    "    \n",
    "result"
   ]
  },
  {
   "cell_type": "markdown",
   "id": "killing-powder",
   "metadata": {},
   "source": [
    "In fact, the properties of relationships of the type `SocialRelation` have three different elements: \n",
    "\n",
    "* `TypeAddInfo` - either **directed** or **undirected**\n",
    "* `SourceType` - can take the values: **associatedRelation**, **areCoAuthors**, **areCoEditors**, **affiliatedRelation**, **correspondedRelation**, **knows**\n",
    "* `Source` - **id** of the source"
   ]
  },
  {
   "cell_type": "markdown",
   "id": "static-association",
   "metadata": {},
   "source": [
    "Let's retrieve some people that are connected to each other because they had a correspondence with each other."
   ]
  },
  {
   "cell_type": "code",
   "execution_count": 351,
   "id": "framed-spotlight",
   "metadata": {},
   "outputs": [
    {
     "data": {
      "text/plain": [
       "[{'n1.Name': 'André, Christian Carl',\n",
       "  'n2.Name': 'Richter, Karl Friedrich Enoch',\n",
       "  'r.SourceType': 'correspondedRelation',\n",
       "  'r.TypeAddInfo': 'directed'},\n",
       " {'n1.Name': 'André, Christian Carl',\n",
       "  'n2.Name': 'Hügel, Elisabeth von',\n",
       "  'r.SourceType': 'correspondedRelation',\n",
       "  'r.TypeAddInfo': 'directed'},\n",
       " {'n1.Name': 'André, Christian Carl',\n",
       "  'n2.Name': 'Sturm, Karl Christian Gottlob',\n",
       "  'r.SourceType': 'correspondedRelation',\n",
       "  'r.TypeAddInfo': 'directed'},\n",
       " {'n1.Name': 'Ring, Friedrich Dominicus',\n",
       "  'n2.Name': 'Pfeffel, Gottlieb Konrad',\n",
       "  'r.SourceType': 'correspondedRelation',\n",
       "  'r.TypeAddInfo': 'directed'},\n",
       " {'n1.Name': 'Bothe, Friedrich Heinrich',\n",
       "  'n2.Name': 'Hauff, Hermann',\n",
       "  'r.SourceType': 'correspondedRelation',\n",
       "  'r.TypeAddInfo': 'directed'}]"
      ]
     },
     "execution_count": 351,
     "metadata": {},
     "output_type": "execute_result"
    }
   ],
   "source": [
    "query = \"\"\"\n",
    "MATCH (n1:PerName)-[r:SocialRelation]-(n2:PerName)\n",
    "WHERE r.SourceType = \"correspondedRelation\"\n",
    "RETURN n1.Name, n2.Name, r.SourceType, r.TypeAddInfo\n",
    "LIMIT 5\n",
    "\"\"\"\n",
    "\n",
    "with driver.session() as session:\n",
    "    result = session.run(query).data()\n",
    "\n",
    "    \n",
    "result"
   ]
  },
  {
   "cell_type": "markdown",
   "id": "plastic-matrix",
   "metadata": {},
   "source": [
    "We can see that all of these relationships have a `TypeAddInfo` of **directed**. Relationships can be directed and undirected. In the SoNAR (IDH) database all correspondences are directed and therefor hold the information whether someone was contacted or contacted someone else. \n",
    "\n",
    "Let's see who received letters from Max Weber. The query below extends the basic `()-[]-()` structure for representing a node-relationship search pattern by an `>`. This arrow defines that we are searching only for directed relationships. So the new pattern scaffold is `()-[]->()`"
   ]
  },
  {
   "cell_type": "code",
   "execution_count": 353,
   "id": "western-sector",
   "metadata": {},
   "outputs": [
    {
     "data": {
      "text/plain": [
       "[{'n1.Name': 'Weber, Max',\n",
       "  'n2.Name': 'Lukács, Georg',\n",
       "  'r.SourceType': 'correspondedRelation',\n",
       "  'r.TypeAddInfo': 'directed'},\n",
       " {'n1.Name': 'Weber, Max',\n",
       "  'n2.Name': 'Susman, Margarete',\n",
       "  'r.SourceType': 'correspondedRelation',\n",
       "  'r.TypeAddInfo': 'directed'},\n",
       " {'n1.Name': 'Weber, Max',\n",
       "  'n2.Name': 'Wolfskehl, Karl',\n",
       "  'r.SourceType': 'correspondedRelation',\n",
       "  'r.TypeAddInfo': 'directed'},\n",
       " {'n1.Name': 'Weber, Max',\n",
       "  'n2.Name': 'Jaspers, Karl',\n",
       "  'r.SourceType': 'correspondedRelation',\n",
       "  'r.TypeAddInfo': 'directed'},\n",
       " {'n1.Name': 'Weber, Max',\n",
       "  'n2.Name': 'Jaffe, Else',\n",
       "  'r.SourceType': 'correspondedRelation',\n",
       "  'r.TypeAddInfo': 'directed'},\n",
       " {'n1.Name': 'Weber, Max',\n",
       "  'n2.Name': 'Ernst, Paul',\n",
       "  'r.SourceType': 'correspondedRelation',\n",
       "  'r.TypeAddInfo': 'directed'},\n",
       " {'n1.Name': 'Weber, Max',\n",
       "  'n2.Name': 'Diederichs, Eugen',\n",
       "  'r.SourceType': 'correspondedRelation',\n",
       "  'r.TypeAddInfo': 'directed'}]"
      ]
     },
     "execution_count": 353,
     "metadata": {},
     "output_type": "execute_result"
    }
   ],
   "source": [
    "query = \"\"\"\n",
    "MATCH (n1:PerName)-[r:SocialRelation]->(n2:PerName)\n",
    "WHERE n1.Name = \"Weber, Max\" AND n1.DateApproxBegin = \"1864\" \n",
    "AND r.SourceType = \"correspondedRelation\"\n",
    "RETURN n1.Name, n2.Name, r.SourceType, r.TypeAddInfo\n",
    "\"\"\"\n",
    "\n",
    "with driver.session() as session:\n",
    "    result = session.run(query).data()\n",
    "    \n",
    "result"
   ]
  },
  {
   "cell_type": "markdown",
   "id": "superb-settlement",
   "metadata": {},
   "source": [
    "## Summary Cypher Query Language"
   ]
  },
  {
   "cell_type": "markdown",
   "id": "comparative-honduras",
   "metadata": {},
   "source": [
    " "
   ]
  },
  {
   "cell_type": "markdown",
   "id": "handed-recipient",
   "metadata": {},
   "source": [
    "# Descriptive Analyses"
   ]
  },
  {
   "cell_type": "markdown",
   "id": "golden-botswana",
   "metadata": {},
   "source": [
    "## General Database Summary"
   ]
  },
  {
   "cell_type": "code",
   "execution_count": 20,
   "id": "collect-blade",
   "metadata": {
    "scrolled": true
   },
   "outputs": [
    {
     "data": {
      "text/html": [
       "<div>\n",
       "<style scoped>\n",
       "    .dataframe tbody tr th:only-of-type {\n",
       "        vertical-align: middle;\n",
       "    }\n",
       "\n",
       "    .dataframe tbody tr th {\n",
       "        vertical-align: top;\n",
       "    }\n",
       "\n",
       "    .dataframe thead th {\n",
       "        text-align: right;\n",
       "    }\n",
       "</style>\n",
       "<table border=\"1\" class=\"dataframe\">\n",
       "  <thead>\n",
       "    <tr style=\"text-align: right;\">\n",
       "      <th></th>\n",
       "      <th>output</th>\n",
       "    </tr>\n",
       "  </thead>\n",
       "  <tbody>\n",
       "    <tr>\n",
       "      <th>0</th>\n",
       "      <td>Number of Nodes: 46831805</td>\n",
       "    </tr>\n",
       "    <tr>\n",
       "      <th>1</th>\n",
       "      <td>Number of Relationships: 191363660</td>\n",
       "    </tr>\n",
       "    <tr>\n",
       "      <th>2</th>\n",
       "      <td>Number of Labels: 9</td>\n",
       "    </tr>\n",
       "    <tr>\n",
       "      <th>3</th>\n",
       "      <td>Number of Relationship Types: 10</td>\n",
       "    </tr>\n",
       "  </tbody>\n",
       "</table>\n",
       "</div>"
      ],
      "text/plain": [
       "                               output\n",
       "0           Number of Nodes: 46831805\n",
       "1  Number of Relationships: 191363660\n",
       "2                 Number of Labels: 9\n",
       "3    Number of Relationship Types: 10"
      ]
     },
     "execution_count": 20,
     "metadata": {},
     "output_type": "execute_result"
    }
   ],
   "source": [
    "query = \"\"\"\n",
    "match (n) return 'Number of Nodes: ' + count(n) as output UNION\n",
    "match ()-[]->() return 'Number of Relationships: ' + count(*) as output UNION\n",
    "CALL db.labels() YIELD label RETURN 'Number of Labels: ' + count(*) AS output UNION\n",
    "CALL db.relationshipTypes() YIELD relationshipType  RETURN 'Number of Relationship Types: ' + count(*) AS output\n",
    "\"\"\"\n",
    "\n",
    "with driver.session() as session:\n",
    "    result = session.run(query).data()\n",
    "    \n",
    "pd.DataFrame(result)\n"
   ]
  },
  {
   "cell_type": "markdown",
   "id": "loaded-filing",
   "metadata": {},
   "source": [
    "## Summarise Node Labels"
   ]
  },
  {
   "cell_type": "code",
   "execution_count": 21,
   "id": "respected-pursuit",
   "metadata": {},
   "outputs": [
    {
     "data": {
      "text/html": [
       "<div>\n",
       "<style scoped>\n",
       "    .dataframe tbody tr th:only-of-type {\n",
       "        vertical-align: middle;\n",
       "    }\n",
       "\n",
       "    .dataframe tbody tr th {\n",
       "        vertical-align: top;\n",
       "    }\n",
       "\n",
       "    .dataframe thead th {\n",
       "        text-align: right;\n",
       "    }\n",
       "</style>\n",
       "<table border=\"1\" class=\"dataframe\">\n",
       "  <thead>\n",
       "    <tr style=\"text-align: right;\">\n",
       "      <th></th>\n",
       "      <th>label</th>\n",
       "      <th>count</th>\n",
       "    </tr>\n",
       "  </thead>\n",
       "  <tbody>\n",
       "    <tr>\n",
       "      <th>7</th>\n",
       "      <td>IsilTerm</td>\n",
       "      <td>611</td>\n",
       "    </tr>\n",
       "    <tr>\n",
       "      <th>4</th>\n",
       "      <td>TopicTerm</td>\n",
       "      <td>212135</td>\n",
       "    </tr>\n",
       "    <tr>\n",
       "      <th>1</th>\n",
       "      <td>GeoName</td>\n",
       "      <td>308197</td>\n",
       "    </tr>\n",
       "    <tr>\n",
       "      <th>5</th>\n",
       "      <td>UniTitle</td>\n",
       "      <td>385300</td>\n",
       "    </tr>\n",
       "    <tr>\n",
       "      <th>6</th>\n",
       "      <td>ChronTerm</td>\n",
       "      <td>537054</td>\n",
       "    </tr>\n",
       "    <tr>\n",
       "      <th>2</th>\n",
       "      <td>MeetName</td>\n",
       "      <td>814044</td>\n",
       "    </tr>\n",
       "    <tr>\n",
       "      <th>0</th>\n",
       "      <td>CorpName</td>\n",
       "      <td>1487711</td>\n",
       "    </tr>\n",
       "    <tr>\n",
       "      <th>3</th>\n",
       "      <td>PerName</td>\n",
       "      <td>5087660</td>\n",
       "    </tr>\n",
       "    <tr>\n",
       "      <th>8</th>\n",
       "      <td>Resource</td>\n",
       "      <td>37999093</td>\n",
       "    </tr>\n",
       "  </tbody>\n",
       "</table>\n",
       "</div>"
      ],
      "text/plain": [
       "       label     count\n",
       "7   IsilTerm       611\n",
       "4  TopicTerm    212135\n",
       "1    GeoName    308197\n",
       "5   UniTitle    385300\n",
       "6  ChronTerm    537054\n",
       "2   MeetName    814044\n",
       "0   CorpName   1487711\n",
       "3    PerName   5087660\n",
       "8   Resource  37999093"
      ]
     },
     "execution_count": 21,
     "metadata": {},
     "output_type": "execute_result"
    }
   ],
   "source": [
    "result = {\"label\": [], \"count\": []}\n",
    "\n",
    "with driver.session() as session:\n",
    "    labels = [row[\"label\"] for row in session.run(\"CALL db.labels()\")]\n",
    "    for label in labels:\n",
    "        query = f\"MATCH (:{label}) RETURN count(*) as count\"\n",
    "        count = session.run(query).single()[\"count\"]\n",
    "        result[\"label\"].append(label)\n",
    "        result[\"count\"].append(count)\n",
    "        \n",
    "node_labels_df = pd.DataFrame(result)\n",
    "node_labels_df.sort_values(by = \"count\")"
   ]
  },
  {
   "cell_type": "markdown",
   "id": "outside-congress",
   "metadata": {},
   "source": [
    "## Summarise Relationship Types\n"
   ]
  },
  {
   "cell_type": "code",
   "execution_count": 22,
   "id": "flying-interface",
   "metadata": {},
   "outputs": [
    {
     "data": {
      "text/html": [
       "<div>\n",
       "<style scoped>\n",
       "    .dataframe tbody tr th:only-of-type {\n",
       "        vertical-align: middle;\n",
       "    }\n",
       "\n",
       "    .dataframe tbody tr th {\n",
       "        vertical-align: top;\n",
       "    }\n",
       "\n",
       "    .dataframe thead th {\n",
       "        text-align: right;\n",
       "    }\n",
       "</style>\n",
       "<table border=\"1\" class=\"dataframe\">\n",
       "  <thead>\n",
       "    <tr style=\"text-align: right;\">\n",
       "      <th></th>\n",
       "      <th>relType</th>\n",
       "      <th>count</th>\n",
       "    </tr>\n",
       "  </thead>\n",
       "  <tbody>\n",
       "    <tr>\n",
       "      <th>8</th>\n",
       "      <td>RelationToUniTitle</td>\n",
       "      <td>128256</td>\n",
       "    </tr>\n",
       "    <tr>\n",
       "      <th>6</th>\n",
       "      <td>RelationToMeetName</td>\n",
       "      <td>422333</td>\n",
       "    </tr>\n",
       "    <tr>\n",
       "      <th>1</th>\n",
       "      <td>RelationToChronTerm</td>\n",
       "      <td>5446841</td>\n",
       "    </tr>\n",
       "    <tr>\n",
       "      <th>2</th>\n",
       "      <td>RelationToCorpName</td>\n",
       "      <td>6728127</td>\n",
       "    </tr>\n",
       "    <tr>\n",
       "      <th>4</th>\n",
       "      <td>RelationToGeoName</td>\n",
       "      <td>6861379</td>\n",
       "    </tr>\n",
       "    <tr>\n",
       "      <th>9</th>\n",
       "      <td>RelationToResource</td>\n",
       "      <td>7389423</td>\n",
       "    </tr>\n",
       "    <tr>\n",
       "      <th>7</th>\n",
       "      <td>RelationToPerName</td>\n",
       "      <td>20857782</td>\n",
       "    </tr>\n",
       "    <tr>\n",
       "      <th>3</th>\n",
       "      <td>RelationToTopicTerm</td>\n",
       "      <td>24068056</td>\n",
       "    </tr>\n",
       "    <tr>\n",
       "      <th>5</th>\n",
       "      <td>SocialRelation</td>\n",
       "      <td>40301595</td>\n",
       "    </tr>\n",
       "    <tr>\n",
       "      <th>0</th>\n",
       "      <td>RelationToIsilTerm</td>\n",
       "      <td>79159868</td>\n",
       "    </tr>\n",
       "  </tbody>\n",
       "</table>\n",
       "</div>"
      ],
      "text/plain": [
       "               relType     count\n",
       "8   RelationToUniTitle    128256\n",
       "6   RelationToMeetName    422333\n",
       "1  RelationToChronTerm   5446841\n",
       "2   RelationToCorpName   6728127\n",
       "4    RelationToGeoName   6861379\n",
       "9   RelationToResource   7389423\n",
       "7    RelationToPerName  20857782\n",
       "3  RelationToTopicTerm  24068056\n",
       "5       SocialRelation  40301595\n",
       "0   RelationToIsilTerm  79159868"
      ]
     },
     "execution_count": 22,
     "metadata": {},
     "output_type": "execute_result"
    }
   ],
   "source": [
    "result = {\"relType\": [], \"count\": []}\n",
    "\n",
    "with driver.session() as session:\n",
    "    rel_types = [row[\"relationshipType\"] for row in session.run(\"CALL db.relationshipTypes()\")]\n",
    "    for rel_type in rel_types:\n",
    "        query = f\"MATCH ()-[:{rel_type}]->() RETURN count(*) as count\"\n",
    "        count = session.run(query).single()[\"count\"]\n",
    "        result[\"relType\"].append(rel_type)\n",
    "        result[\"count\"].append(count)\n",
    "        \n",
    "rel_type_df = pd.DataFrame(result)\n",
    "rel_type_df.sort_values(by = \"count\")"
   ]
  },
  {
   "cell_type": "markdown",
   "id": "automatic-paint",
   "metadata": {},
   "source": [
    "### Shortest Path"
   ]
  },
  {
   "cell_type": "code",
   "execution_count": null,
   "id": "moved-resolution",
   "metadata": {},
   "outputs": [],
   "source": []
  },
  {
   "cell_type": "markdown",
   "id": "numerous-accused",
   "metadata": {},
   "source": [
    "# Complex Queries & Data Preparation"
   ]
  },
  {
   "cell_type": "code",
   "execution_count": null,
   "id": "altered-wilderness",
   "metadata": {},
   "outputs": [],
   "source": []
  }
 ],
 "metadata": {
  "kernelspec": {
   "display_name": "Python 3",
   "language": "python",
   "name": "python3"
  },
  "language_info": {
   "codemirror_mode": {
    "name": "ipython",
    "version": 3
   },
   "file_extension": ".py",
   "mimetype": "text/x-python",
   "name": "python",
   "nbconvert_exporter": "python",
   "pygments_lexer": "ipython3",
   "version": "3.8.9"
  },
  "toc": {
   "base_numbering": 1,
   "nav_menu": {},
   "number_sections": true,
   "sideBar": true,
   "skip_h1_title": false,
   "title_cell": "Table of Contents",
   "title_sidebar": "Contents",
   "toc_cell": false,
   "toc_position": {
    "height": "calc(100% - 180px)",
    "left": "10px",
    "top": "150px",
    "width": "384px"
   },
   "toc_section_display": true,
   "toc_window_display": true
  },
  "varInspector": {
   "cols": {
    "lenName": 16,
    "lenType": 16,
    "lenVar": 40
   },
   "kernels_config": {
    "python": {
     "delete_cmd_postfix": "",
     "delete_cmd_prefix": "del ",
     "library": "var_list.py",
     "varRefreshCmd": "print(var_dic_list())"
    },
    "r": {
     "delete_cmd_postfix": ") ",
     "delete_cmd_prefix": "rm(",
     "library": "var_list.r",
     "varRefreshCmd": "cat(var_dic_list()) "
    }
   },
   "position": {
    "height": "343px",
    "left": "1441px",
    "right": "20px",
    "top": "162px",
    "width": "437px"
   },
   "types_to_exclude": [
    "module",
    "function",
    "builtin_function_or_method",
    "instance",
    "_Feature"
   ],
   "window_display": false
  }
 },
 "nbformat": 4,
 "nbformat_minor": 5
}
