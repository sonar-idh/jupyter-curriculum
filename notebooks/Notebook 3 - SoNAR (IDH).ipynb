{
 "cells": [
  {
   "cell_type": "code",
   "execution_count": 15,
   "id": "african-stockholm",
   "metadata": {},
   "outputs": [],
   "source": [
    "### Loading Credentials from local file; \n",
    "### this cell is meant to be deleted before publishing\n",
    "import yaml\n",
    "\n",
    "with open(\"../creds.yml\", 'r') as ymlfile:\n",
    "    cfg = yaml.safe_load(ymlfile)\n",
    "\n",
    "uri = cfg[\"sonar_creds\"][\"uri\"]\n",
    "user = cfg[\"sonar_creds\"][\"user\"]\n",
    "password = cfg[\"sonar_creds\"][\"pass\"]"
   ]
  },
  {
   "cell_type": "markdown",
   "id": "given-harvard",
   "metadata": {},
   "source": [
    "# Project Summary "
   ]
  },
  {
   "cell_type": "markdown",
   "id": "wanted-decline",
   "metadata": {},
   "source": [
    "[SoNAR (IDH)](https://sonar.fh-potsdam.de/) is short for **Interfaces to Data for Historical Social Network Analysis and Research**. The main objective of the project is the examination and evaluation of approaches to build and operate an advanced research technology environment supporting HNA. \n",
    "\n",
    "SoNAR (IDH) is a research project in collaboration of the following institutions:\n",
    "\n",
    "* [Deutsches Forschungszentrum für Künstliche Intelligenz](https://www.dfki.de/)\n",
    "* [Fachhochschule Potsdam](http://uclab.fh-potsdam.de/)\n",
    "* [Humboldt-Universität zu Berlin](https://www.ibi.hu-berlin.de/)\n",
    "* [Staatsbibliothek zu Berlin](https://staatsbibliothek-berlin.de/en/)\n",
    "* [Heinrich-Heine-Universität Düsseldorf](https://www.uniklinik-duesseldorf.de/en/department-of-the-history-philosophy-and-ethics-of-medicine)\n",
    "\n",
    "\n",
    "One of the main elements of the SonAR (IDH) projects is a [Neo4j](https://neo4j.com/) graph database. This database contains the merged data of multiple archives and libraries. \n",
    "See [Chapter 2](#Data-Description) for more details about the structure and the contents of the SonAR (IDH) database."
   ]
  },
  {
   "cell_type": "markdown",
   "id": "primary-fetish",
   "metadata": {},
   "source": [
    "# Data Description\n"
   ]
  },
  {
   "cell_type": "markdown",
   "id": "actual-maryland",
   "metadata": {},
   "source": [
    "The SoNAR (IDH) database consists of nodes and edges. Each of the nodes and edges have additional properties that provide rich meta information. \n",
    "\n",
    "This data description section provides details about the data sources and overall characteristics of the data. The section is based on the state of the SoNAR (IDH) database during February 2021. \n",
    "\n",
    "More in depth details about the data, the database and the data preparation will get published soon. A diagram of the database schema can be found [here](https://camo.githubusercontent.com/9262db5eb53360acb5ccc2249ff97b4b7d82ee9199bdcb8563980f16b9d7cc95/68747470733a2f2f7472656c6c6f2d6174746163686d656e74732e73332e616d617a6f6e6177732e636f6d2f3564323530353865393136326235363762383630313439662f3565336331336262363037323836353631636335366635372f62646664383838363964376633656465616663366232633130326361666663342f556d6c4d6f64656c2e737667).\n",
    "\n",
    "\n",
    "<div class=\"alert alert-block alert-info\">\n",
    "<b>Hint:</b> Nodes, edges and the respective properties where retrieved from different data sources. Edges of the type <code>SocialRelation</code> however, are implicit edges and were derived based on <code>Resources</code>.</div>"
   ]
  },
  {
   "cell_type": "markdown",
   "id": "expanded-spring",
   "metadata": {},
   "source": [
    "## Summary Stats"
   ]
  },
  {
   "cell_type": "markdown",
   "id": "invisible-jaguar",
   "metadata": {},
   "source": [
    "The SoNAR (IDH) database has the following aggregated characteristics:\n",
    "\n",
    "**Nodes Summary**\n",
    "\n",
    "* 9 categories of Nodes\n",
    "* 34.511.952 Nodes\n",
    "\n",
    "|Node Type | Node Count |\n",
    "|---------------|------------|\n",
    "| CorpName      | 1.487.711  |\n",
    "| GeoName       | 308.197    |\n",
    "| MeetName      | 814.044    |\n",
    "| PerName       | 5.087.660  |\n",
    "| TopicTerm     | 212.135    |\n",
    "| UniTitle      | 385.300    |\n",
    "| ChronTerm     | 537.054    |\n",
    "| IsilTerm      | 611        |\n",
    "| Resource      | 25.679.240 |\n",
    "\n",
    "**Edges Summary**\n",
    "\n",
    "* 10 categories of Edges\n",
    "* 98.530.160 Edges\n",
    "\n",
    "\n",
    "| Edge Type       | Edge Count     |\n",
    "|---------------------|------------|\n",
    "| RelationToPerName   | 14.630.465 |\n",
    "| RelationToCorpName  | 5.099.190  |\n",
    "| RelationToMeetName  | 263.180    |\n",
    "| RelationToUniTitle  | 53.998     |\n",
    "| RelationToTopicTerm | 4.951.617  |\n",
    "| RelationToGeoName   | 5.140.556  |\n",
    "| RelationToChronTerm | 5.446.841  |\n",
    "| RelationToIsil      | 55.556.913 |\n",
    "| RelationToResource  | 7.387.400  |\n",
    "| SocialRelation      | 40.301.595 |"
   ]
  },
  {
   "cell_type": "markdown",
   "id": "annual-toyota",
   "metadata": {},
   "source": [
    "## Data Sources "
   ]
  },
  {
   "cell_type": "markdown",
   "id": "equivalent-arthur",
   "metadata": {},
   "source": [
    "SoNAR (IDH) combines data from four different data sources. The table below provides a compact overview:\n",
    "\n",
    "\n",
    "|Data Source |  Number of Nodes | Number of Edges <br>(incl. *RelationToIsilTerm*) |\n",
    "|--------|----------| -------- |\n",
    "|[GND (*Integrated Authority File*)](https://www.dnb.de/EN/Professionell/Standardisierung/GND/gnd_node.html)| 8.295.047 | 32.776.628 |\n",
    "|[DNB (*German National Library*)](https://www.dnb.de/EN/Home/home_node.html)|19.384.733| 5.655.859 |\n",
    "|[ZDB (*Zeitschriftendatenbank*)](https://www.zeitschriftendatenbank.de/startseite/)|1.908.334| 43.419.339 |\n",
    "|KPE|4.386.173| 16.678.334 |\n"
   ]
  },
  {
   "cell_type": "markdown",
   "id": "animal-falls",
   "metadata": {},
   "source": [
    "# Data Access"
   ]
  },
  {
   "cell_type": "markdown",
   "id": "dietary-awareness",
   "metadata": {},
   "source": [
    "We will need some specific libraries to work with the SoNAR (IDH) database. Let's start with installing the `neo4j` library.\n",
    "\n",
    "When you are using the curriculum on binder or by running it as a docker container locally, the package is already installed. When you want to interact with the SoNAR (IDH) database independently install the package with the following code line in a new notebook cell:\n",
    "\n",
    "```python\n",
    "!pip install neo4j\n",
    "```"
   ]
  },
  {
   "cell_type": "code",
   "execution_count": 17,
   "id": "expanded-carbon",
   "metadata": {},
   "outputs": [],
   "source": [
    "from neo4j import GraphDatabase\n",
    "\n",
    "driver = GraphDatabase.driver(uri, auth=(user, password))"
   ]
  },
  {
   "cell_type": "markdown",
   "id": "brief-kingston",
   "metadata": {},
   "source": [
    "With the code above we create a [Neo4j driver object](https://neo4j.com/docs/api/python-driver/current/api.html#driver). This driver stores the connection details for the database. We can use this driver now to send requests to the database."
   ]
  },
  {
   "cell_type": "markdown",
   "id": "veterinary-bidding",
   "metadata": {},
   "source": [
    "# Data Exploration"
   ]
  },
  {
   "cell_type": "markdown",
   "id": "linear-paris",
   "metadata": {},
   "source": [
    "Data exploration is usually the very first thing to do when working with new data. So let's start diving into the SoNAR (IDH) database by exploring it. \n",
    "\n",
    "Whenever we want to retrieve data from the Neo4j database of SoNAR (IDH) we can use a query language called \"**Cypher Query Language**\". Cypher provides a comparably easy to comprehend syntax for requesting data from the database. Furthermore Cypher provides an extensive set of tools for applying graph algorithms, data science methods and data wrangling procedures. \n",
    "\n",
    "Throughout this curriculum we will use this Cypher Query Language whenever we directly retrieve data from SoNAR (IDH).\n",
    "A more in-depth introduction to Cypher can be found [here](https://neo4j.com/docs/getting-started/current/cypher-intro/). More external resources are listed in the [Cypher summary chapter](#Summary-Cypher-Query-Language)."
   ]
  },
  {
   "cell_type": "markdown",
   "id": "assisted-fence",
   "metadata": {},
   "source": [
    "## Nodes"
   ]
  },
  {
   "cell_type": "markdown",
   "id": "bridal-folks",
   "metadata": {},
   "source": [
    "### Node Labels"
   ]
  },
  {
   "cell_type": "markdown",
   "id": "agricultural-arizona",
   "metadata": {},
   "source": [
    "Let's start off with a simple query. Let's request the database to return all [node labels](https://neo4j.com/docs/getting-started/current/graphdb-concepts/#graphdb-labels). Node labels are categories nodes can belong to. You can think of them as entity groups. The SoNAR (IDH) database distinguishes between persons, corporations and more. Let's ask the database to return all the labels available. "
   ]
  },
  {
   "cell_type": "code",
   "execution_count": 16,
   "id": "closing-interface",
   "metadata": {},
   "outputs": [
    {
     "name": "stderr",
     "output_type": "stream",
     "text": [
      "Failed to write data to connection IPv4Address(('h2918680.stratoserver.net', 7687)) (IPv4Address(('85.214.119.41', 7687))); (\"32; 'Broken pipe'\")\n",
      "Failed to write data to connection IPv4Address(('h2918680.stratoserver.net', 7687)) (IPv4Address(('85.214.119.41', 7687))); (\"32; 'Broken pipe'\")\n"
     ]
    },
    {
     "ename": "BrokenPipeError",
     "evalue": "[Errno 32] Broken pipe",
     "output_type": "error",
     "traceback": [
      "\u001b[0;31m---------------------------------------------------------------------------\u001b[0m",
      "\u001b[0;31mBrokenPipeError\u001b[0m                           Traceback (most recent call last)",
      "\u001b[0;32m<ipython-input-16-664343b4ce84>\u001b[0m in \u001b[0;36m<module>\u001b[0;34m\u001b[0m\n\u001b[1;32m      1\u001b[0m \u001b[0;32mwith\u001b[0m \u001b[0mdriver\u001b[0m\u001b[0;34m.\u001b[0m\u001b[0msession\u001b[0m\u001b[0;34m(\u001b[0m\u001b[0;34m)\u001b[0m \u001b[0;32mas\u001b[0m \u001b[0msession\u001b[0m\u001b[0;34m:\u001b[0m\u001b[0;34m\u001b[0m\u001b[0;34m\u001b[0m\u001b[0m\n\u001b[0;32m----> 2\u001b[0;31m     \u001b[0mresult\u001b[0m \u001b[0;34m=\u001b[0m \u001b[0msession\u001b[0m\u001b[0;34m.\u001b[0m\u001b[0mrun\u001b[0m\u001b[0;34m(\u001b[0m\u001b[0;34m\"CALL db.labels()\"\u001b[0m\u001b[0;34m)\u001b[0m\u001b[0;34m.\u001b[0m\u001b[0mdata\u001b[0m\u001b[0;34m(\u001b[0m\u001b[0;34m)\u001b[0m\u001b[0;34m\u001b[0m\u001b[0;34m\u001b[0m\u001b[0m\n\u001b[0m\u001b[1;32m      3\u001b[0m \u001b[0;34m\u001b[0m\u001b[0m\n",
      "\u001b[0;32m/usr/local/lib/python3.8/site-packages/neo4j/work/simple.py\u001b[0m in \u001b[0;36mrun\u001b[0;34m(self, query, parameters, **kwparameters)\u001b[0m\n\u001b[1;32m    216\u001b[0m         \u001b[0mself\u001b[0m\u001b[0;34m.\u001b[0m\u001b[0m_autoResult\u001b[0m \u001b[0;34m=\u001b[0m \u001b[0mResult\u001b[0m\u001b[0;34m(\u001b[0m\u001b[0mcx\u001b[0m\u001b[0;34m,\u001b[0m \u001b[0mhydrant\u001b[0m\u001b[0;34m,\u001b[0m \u001b[0mself\u001b[0m\u001b[0;34m.\u001b[0m\u001b[0m_config\u001b[0m\u001b[0;34m.\u001b[0m\u001b[0mfetch_size\u001b[0m\u001b[0;34m,\u001b[0m \u001b[0mself\u001b[0m\u001b[0;34m.\u001b[0m\u001b[0m_result_closed\u001b[0m\u001b[0;34m)\u001b[0m\u001b[0;34m\u001b[0m\u001b[0;34m\u001b[0m\u001b[0m\n\u001b[0;32m--> 217\u001b[0;31m         \u001b[0mself\u001b[0m\u001b[0;34m.\u001b[0m\u001b[0m_autoResult\u001b[0m\u001b[0;34m.\u001b[0m\u001b[0m_run\u001b[0m\u001b[0;34m(\u001b[0m\u001b[0mquery\u001b[0m\u001b[0;34m,\u001b[0m \u001b[0mparameters\u001b[0m\u001b[0;34m,\u001b[0m \u001b[0mself\u001b[0m\u001b[0;34m.\u001b[0m\u001b[0m_config\u001b[0m\u001b[0;34m.\u001b[0m\u001b[0mdatabase\u001b[0m\u001b[0;34m,\u001b[0m \u001b[0mself\u001b[0m\u001b[0;34m.\u001b[0m\u001b[0m_config\u001b[0m\u001b[0;34m.\u001b[0m\u001b[0mdefault_access_mode\u001b[0m\u001b[0;34m,\u001b[0m \u001b[0mself\u001b[0m\u001b[0;34m.\u001b[0m\u001b[0m_bookmarks\u001b[0m\u001b[0;34m,\u001b[0m \u001b[0;34m**\u001b[0m\u001b[0mkwparameters\u001b[0m\u001b[0;34m)\u001b[0m\u001b[0;34m\u001b[0m\u001b[0;34m\u001b[0m\u001b[0m\n\u001b[0m\u001b[1;32m    218\u001b[0m \u001b[0;34m\u001b[0m\u001b[0m\n",
      "\u001b[0;32m/usr/local/lib/python3.8/site-packages/neo4j/work/result.py\u001b[0m in \u001b[0;36m_run\u001b[0;34m(self, query, parameters, db, access_mode, bookmarks, **kwparameters)\u001b[0m\n\u001b[1;32m     99\u001b[0m         \u001b[0mself\u001b[0m\u001b[0;34m.\u001b[0m\u001b[0m_pull\u001b[0m\u001b[0;34m(\u001b[0m\u001b[0;34m)\u001b[0m\u001b[0;34m\u001b[0m\u001b[0;34m\u001b[0m\u001b[0m\n\u001b[0;32m--> 100\u001b[0;31m         \u001b[0mself\u001b[0m\u001b[0;34m.\u001b[0m\u001b[0m_connection\u001b[0m\u001b[0;34m.\u001b[0m\u001b[0msend_all\u001b[0m\u001b[0;34m(\u001b[0m\u001b[0;34m)\u001b[0m\u001b[0;34m\u001b[0m\u001b[0;34m\u001b[0m\u001b[0m\n\u001b[0m\u001b[1;32m    101\u001b[0m         \u001b[0mself\u001b[0m\u001b[0;34m.\u001b[0m\u001b[0m_attach\u001b[0m\u001b[0;34m(\u001b[0m\u001b[0;34m)\u001b[0m\u001b[0;34m\u001b[0m\u001b[0;34m\u001b[0m\u001b[0m\n",
      "\u001b[0;32m/usr/local/lib/python3.8/site-packages/neo4j/io/_bolt3.py\u001b[0m in \u001b[0;36msend_all\u001b[0;34m(self)\u001b[0m\n\u001b[1;32m    279\u001b[0m         \u001b[0;32mtry\u001b[0m\u001b[0;34m:\u001b[0m\u001b[0;34m\u001b[0m\u001b[0;34m\u001b[0m\u001b[0m\n\u001b[0;32m--> 280\u001b[0;31m             \u001b[0mself\u001b[0m\u001b[0;34m.\u001b[0m\u001b[0m_send_all\u001b[0m\u001b[0;34m(\u001b[0m\u001b[0;34m)\u001b[0m\u001b[0;34m\u001b[0m\u001b[0;34m\u001b[0m\u001b[0m\n\u001b[0m\u001b[1;32m    281\u001b[0m         \u001b[0;32mexcept\u001b[0m \u001b[0;34m(\u001b[0m\u001b[0mIOError\u001b[0m\u001b[0;34m,\u001b[0m \u001b[0mOSError\u001b[0m\u001b[0;34m)\u001b[0m \u001b[0;32mas\u001b[0m \u001b[0merror\u001b[0m\u001b[0;34m:\u001b[0m\u001b[0;34m\u001b[0m\u001b[0;34m\u001b[0m\u001b[0m\n",
      "\u001b[0;32m/usr/local/lib/python3.8/site-packages/neo4j/io/_bolt3.py\u001b[0m in \u001b[0;36m_send_all\u001b[0;34m(self)\u001b[0m\n\u001b[1;32m    264\u001b[0m         \u001b[0;32mif\u001b[0m \u001b[0mdata\u001b[0m\u001b[0;34m:\u001b[0m\u001b[0;34m\u001b[0m\u001b[0;34m\u001b[0m\u001b[0m\n\u001b[0;32m--> 265\u001b[0;31m             \u001b[0mself\u001b[0m\u001b[0;34m.\u001b[0m\u001b[0msocket\u001b[0m\u001b[0;34m.\u001b[0m\u001b[0msendall\u001b[0m\u001b[0;34m(\u001b[0m\u001b[0mdata\u001b[0m\u001b[0;34m)\u001b[0m\u001b[0;34m\u001b[0m\u001b[0;34m\u001b[0m\u001b[0m\n\u001b[0m\u001b[1;32m    266\u001b[0m             \u001b[0mself\u001b[0m\u001b[0;34m.\u001b[0m\u001b[0moutbox\u001b[0m\u001b[0;34m.\u001b[0m\u001b[0mclear\u001b[0m\u001b[0;34m(\u001b[0m\u001b[0;34m)\u001b[0m\u001b[0;34m\u001b[0m\u001b[0;34m\u001b[0m\u001b[0m\n",
      "\u001b[0;32m/usr/local/lib/python3.8/ssl.py\u001b[0m in \u001b[0;36msendall\u001b[0;34m(self, data, flags)\u001b[0m\n\u001b[1;32m   1203\u001b[0m                 \u001b[0;32mwhile\u001b[0m \u001b[0mcount\u001b[0m \u001b[0;34m<\u001b[0m \u001b[0mamount\u001b[0m\u001b[0;34m:\u001b[0m\u001b[0;34m\u001b[0m\u001b[0;34m\u001b[0m\u001b[0m\n\u001b[0;32m-> 1204\u001b[0;31m                     \u001b[0mv\u001b[0m \u001b[0;34m=\u001b[0m \u001b[0mself\u001b[0m\u001b[0;34m.\u001b[0m\u001b[0msend\u001b[0m\u001b[0;34m(\u001b[0m\u001b[0mbyte_view\u001b[0m\u001b[0;34m[\u001b[0m\u001b[0mcount\u001b[0m\u001b[0;34m:\u001b[0m\u001b[0;34m]\u001b[0m\u001b[0;34m)\u001b[0m\u001b[0;34m\u001b[0m\u001b[0;34m\u001b[0m\u001b[0m\n\u001b[0m\u001b[1;32m   1205\u001b[0m                     \u001b[0mcount\u001b[0m \u001b[0;34m+=\u001b[0m \u001b[0mv\u001b[0m\u001b[0;34m\u001b[0m\u001b[0;34m\u001b[0m\u001b[0m\n",
      "\u001b[0;32m/usr/local/lib/python3.8/ssl.py\u001b[0m in \u001b[0;36msend\u001b[0;34m(self, data, flags)\u001b[0m\n\u001b[1;32m   1172\u001b[0m                     self.__class__)\n\u001b[0;32m-> 1173\u001b[0;31m             \u001b[0;32mreturn\u001b[0m \u001b[0mself\u001b[0m\u001b[0;34m.\u001b[0m\u001b[0m_sslobj\u001b[0m\u001b[0;34m.\u001b[0m\u001b[0mwrite\u001b[0m\u001b[0;34m(\u001b[0m\u001b[0mdata\u001b[0m\u001b[0;34m)\u001b[0m\u001b[0;34m\u001b[0m\u001b[0;34m\u001b[0m\u001b[0m\n\u001b[0m\u001b[1;32m   1174\u001b[0m         \u001b[0;32melse\u001b[0m\u001b[0;34m:\u001b[0m\u001b[0;34m\u001b[0m\u001b[0;34m\u001b[0m\u001b[0m\n",
      "\u001b[0;31mBrokenPipeError\u001b[0m: [Errno 32] Broken pipe",
      "\nDuring handling of the above exception, another exception occurred:\n",
      "\u001b[0;31mBrokenPipeError\u001b[0m                           Traceback (most recent call last)",
      "\u001b[0;32m<ipython-input-16-664343b4ce84>\u001b[0m in \u001b[0;36m<module>\u001b[0;34m\u001b[0m\n\u001b[1;32m      1\u001b[0m \u001b[0;32mwith\u001b[0m \u001b[0mdriver\u001b[0m\u001b[0;34m.\u001b[0m\u001b[0msession\u001b[0m\u001b[0;34m(\u001b[0m\u001b[0;34m)\u001b[0m \u001b[0;32mas\u001b[0m \u001b[0msession\u001b[0m\u001b[0;34m:\u001b[0m\u001b[0;34m\u001b[0m\u001b[0;34m\u001b[0m\u001b[0m\n\u001b[0;32m----> 2\u001b[0;31m     \u001b[0mresult\u001b[0m \u001b[0;34m=\u001b[0m \u001b[0msession\u001b[0m\u001b[0;34m.\u001b[0m\u001b[0mrun\u001b[0m\u001b[0;34m(\u001b[0m\u001b[0;34m\"CALL db.labels()\"\u001b[0m\u001b[0;34m)\u001b[0m\u001b[0;34m.\u001b[0m\u001b[0mdata\u001b[0m\u001b[0;34m(\u001b[0m\u001b[0;34m)\u001b[0m\u001b[0;34m\u001b[0m\u001b[0;34m\u001b[0m\u001b[0m\n\u001b[0m\u001b[1;32m      3\u001b[0m \u001b[0;34m\u001b[0m\u001b[0m\n\u001b[1;32m      4\u001b[0m \u001b[0mresult\u001b[0m\u001b[0;34m\u001b[0m\u001b[0;34m\u001b[0m\u001b[0m\n",
      "\u001b[0;32m/usr/local/lib/python3.8/site-packages/neo4j/work/simple.py\u001b[0m in \u001b[0;36m__exit__\u001b[0;34m(self, exception_type, exception_value, traceback)\u001b[0m\n\u001b[1;32m    103\u001b[0m         \u001b[0;32mif\u001b[0m \u001b[0mexception_type\u001b[0m\u001b[0;34m:\u001b[0m\u001b[0;34m\u001b[0m\u001b[0;34m\u001b[0m\u001b[0m\n\u001b[1;32m    104\u001b[0m             \u001b[0mself\u001b[0m\u001b[0;34m.\u001b[0m\u001b[0m_state_failed\u001b[0m \u001b[0;34m=\u001b[0m \u001b[0;32mTrue\u001b[0m\u001b[0;34m\u001b[0m\u001b[0;34m\u001b[0m\u001b[0m\n\u001b[0;32m--> 105\u001b[0;31m         \u001b[0mself\u001b[0m\u001b[0;34m.\u001b[0m\u001b[0mclose\u001b[0m\u001b[0;34m(\u001b[0m\u001b[0;34m)\u001b[0m\u001b[0;34m\u001b[0m\u001b[0;34m\u001b[0m\u001b[0m\n\u001b[0m\u001b[1;32m    106\u001b[0m \u001b[0;34m\u001b[0m\u001b[0m\n\u001b[1;32m    107\u001b[0m     \u001b[0;32mdef\u001b[0m \u001b[0m_connect\u001b[0m\u001b[0;34m(\u001b[0m\u001b[0mself\u001b[0m\u001b[0;34m,\u001b[0m \u001b[0maccess_mode\u001b[0m\u001b[0;34m,\u001b[0m \u001b[0mdatabase\u001b[0m\u001b[0;34m)\u001b[0m\u001b[0;34m:\u001b[0m\u001b[0;34m\u001b[0m\u001b[0;34m\u001b[0m\u001b[0m\n",
      "\u001b[0;32m/usr/local/lib/python3.8/site-packages/neo4j/work/simple.py\u001b[0m in \u001b[0;36mclose\u001b[0;34m(self)\u001b[0m\n\u001b[1;32m    152\u001b[0m             \u001b[0;32mtry\u001b[0m\u001b[0;34m:\u001b[0m\u001b[0;34m\u001b[0m\u001b[0;34m\u001b[0m\u001b[0m\n\u001b[1;32m    153\u001b[0m                 \u001b[0;32mif\u001b[0m \u001b[0mself\u001b[0m\u001b[0;34m.\u001b[0m\u001b[0m_connection\u001b[0m\u001b[0;34m:\u001b[0m\u001b[0;34m\u001b[0m\u001b[0;34m\u001b[0m\u001b[0m\n\u001b[0;32m--> 154\u001b[0;31m                     \u001b[0mself\u001b[0m\u001b[0;34m.\u001b[0m\u001b[0m_connection\u001b[0m\u001b[0;34m.\u001b[0m\u001b[0msend_all\u001b[0m\u001b[0;34m(\u001b[0m\u001b[0;34m)\u001b[0m\u001b[0;34m\u001b[0m\u001b[0;34m\u001b[0m\u001b[0m\n\u001b[0m\u001b[1;32m    155\u001b[0m                     \u001b[0mself\u001b[0m\u001b[0;34m.\u001b[0m\u001b[0m_connection\u001b[0m\u001b[0;34m.\u001b[0m\u001b[0mfetch_all\u001b[0m\u001b[0;34m(\u001b[0m\u001b[0;34m)\u001b[0m\u001b[0;34m\u001b[0m\u001b[0;34m\u001b[0m\u001b[0m\n\u001b[1;32m    156\u001b[0m                     \u001b[0;31m# TODO: Investigate potential non graceful close states\u001b[0m\u001b[0;34m\u001b[0m\u001b[0;34m\u001b[0m\u001b[0;34m\u001b[0m\u001b[0m\n",
      "\u001b[0;32m/usr/local/lib/python3.8/site-packages/neo4j/io/_bolt3.py\u001b[0m in \u001b[0;36msend_all\u001b[0;34m(self)\u001b[0m\n\u001b[1;32m    278\u001b[0m \u001b[0;34m\u001b[0m\u001b[0m\n\u001b[1;32m    279\u001b[0m         \u001b[0;32mtry\u001b[0m\u001b[0;34m:\u001b[0m\u001b[0;34m\u001b[0m\u001b[0;34m\u001b[0m\u001b[0m\n\u001b[0;32m--> 280\u001b[0;31m             \u001b[0mself\u001b[0m\u001b[0;34m.\u001b[0m\u001b[0m_send_all\u001b[0m\u001b[0;34m(\u001b[0m\u001b[0;34m)\u001b[0m\u001b[0;34m\u001b[0m\u001b[0;34m\u001b[0m\u001b[0m\n\u001b[0m\u001b[1;32m    281\u001b[0m         \u001b[0;32mexcept\u001b[0m \u001b[0;34m(\u001b[0m\u001b[0mIOError\u001b[0m\u001b[0;34m,\u001b[0m \u001b[0mOSError\u001b[0m\u001b[0;34m)\u001b[0m \u001b[0;32mas\u001b[0m \u001b[0merror\u001b[0m\u001b[0;34m:\u001b[0m\u001b[0;34m\u001b[0m\u001b[0;34m\u001b[0m\u001b[0m\n\u001b[1;32m    282\u001b[0m             log.error(\"Failed to write data to connection \"\n",
      "\u001b[0;32m/usr/local/lib/python3.8/site-packages/neo4j/io/_bolt3.py\u001b[0m in \u001b[0;36m_send_all\u001b[0;34m(self)\u001b[0m\n\u001b[1;32m    263\u001b[0m         \u001b[0mdata\u001b[0m \u001b[0;34m=\u001b[0m \u001b[0mself\u001b[0m\u001b[0;34m.\u001b[0m\u001b[0moutbox\u001b[0m\u001b[0;34m.\u001b[0m\u001b[0mview\u001b[0m\u001b[0;34m(\u001b[0m\u001b[0;34m)\u001b[0m\u001b[0;34m\u001b[0m\u001b[0;34m\u001b[0m\u001b[0m\n\u001b[1;32m    264\u001b[0m         \u001b[0;32mif\u001b[0m \u001b[0mdata\u001b[0m\u001b[0;34m:\u001b[0m\u001b[0;34m\u001b[0m\u001b[0;34m\u001b[0m\u001b[0m\n\u001b[0;32m--> 265\u001b[0;31m             \u001b[0mself\u001b[0m\u001b[0;34m.\u001b[0m\u001b[0msocket\u001b[0m\u001b[0;34m.\u001b[0m\u001b[0msendall\u001b[0m\u001b[0;34m(\u001b[0m\u001b[0mdata\u001b[0m\u001b[0;34m)\u001b[0m\u001b[0;34m\u001b[0m\u001b[0;34m\u001b[0m\u001b[0m\n\u001b[0m\u001b[1;32m    266\u001b[0m             \u001b[0mself\u001b[0m\u001b[0;34m.\u001b[0m\u001b[0moutbox\u001b[0m\u001b[0;34m.\u001b[0m\u001b[0mclear\u001b[0m\u001b[0;34m(\u001b[0m\u001b[0;34m)\u001b[0m\u001b[0;34m\u001b[0m\u001b[0;34m\u001b[0m\u001b[0m\n\u001b[1;32m    267\u001b[0m \u001b[0;34m\u001b[0m\u001b[0m\n",
      "\u001b[0;32m/usr/local/lib/python3.8/ssl.py\u001b[0m in \u001b[0;36msendall\u001b[0;34m(self, data, flags)\u001b[0m\n\u001b[1;32m   1202\u001b[0m                 \u001b[0mamount\u001b[0m \u001b[0;34m=\u001b[0m \u001b[0mlen\u001b[0m\u001b[0;34m(\u001b[0m\u001b[0mbyte_view\u001b[0m\u001b[0;34m)\u001b[0m\u001b[0;34m\u001b[0m\u001b[0;34m\u001b[0m\u001b[0m\n\u001b[1;32m   1203\u001b[0m                 \u001b[0;32mwhile\u001b[0m \u001b[0mcount\u001b[0m \u001b[0;34m<\u001b[0m \u001b[0mamount\u001b[0m\u001b[0;34m:\u001b[0m\u001b[0;34m\u001b[0m\u001b[0;34m\u001b[0m\u001b[0m\n\u001b[0;32m-> 1204\u001b[0;31m                     \u001b[0mv\u001b[0m \u001b[0;34m=\u001b[0m \u001b[0mself\u001b[0m\u001b[0;34m.\u001b[0m\u001b[0msend\u001b[0m\u001b[0;34m(\u001b[0m\u001b[0mbyte_view\u001b[0m\u001b[0;34m[\u001b[0m\u001b[0mcount\u001b[0m\u001b[0;34m:\u001b[0m\u001b[0;34m]\u001b[0m\u001b[0;34m)\u001b[0m\u001b[0;34m\u001b[0m\u001b[0;34m\u001b[0m\u001b[0m\n\u001b[0m\u001b[1;32m   1205\u001b[0m                     \u001b[0mcount\u001b[0m \u001b[0;34m+=\u001b[0m \u001b[0mv\u001b[0m\u001b[0;34m\u001b[0m\u001b[0;34m\u001b[0m\u001b[0m\n\u001b[1;32m   1206\u001b[0m         \u001b[0;32melse\u001b[0m\u001b[0;34m:\u001b[0m\u001b[0;34m\u001b[0m\u001b[0;34m\u001b[0m\u001b[0m\n",
      "\u001b[0;32m/usr/local/lib/python3.8/ssl.py\u001b[0m in \u001b[0;36msend\u001b[0;34m(self, data, flags)\u001b[0m\n\u001b[1;32m   1171\u001b[0m                     \u001b[0;34m\"non-zero flags not allowed in calls to send() on %s\"\u001b[0m \u001b[0;34m%\u001b[0m\u001b[0;34m\u001b[0m\u001b[0;34m\u001b[0m\u001b[0m\n\u001b[1;32m   1172\u001b[0m                     self.__class__)\n\u001b[0;32m-> 1173\u001b[0;31m             \u001b[0;32mreturn\u001b[0m \u001b[0mself\u001b[0m\u001b[0;34m.\u001b[0m\u001b[0m_sslobj\u001b[0m\u001b[0;34m.\u001b[0m\u001b[0mwrite\u001b[0m\u001b[0;34m(\u001b[0m\u001b[0mdata\u001b[0m\u001b[0;34m)\u001b[0m\u001b[0;34m\u001b[0m\u001b[0;34m\u001b[0m\u001b[0m\n\u001b[0m\u001b[1;32m   1174\u001b[0m         \u001b[0;32melse\u001b[0m\u001b[0;34m:\u001b[0m\u001b[0;34m\u001b[0m\u001b[0;34m\u001b[0m\u001b[0m\n\u001b[1;32m   1175\u001b[0m             \u001b[0;32mreturn\u001b[0m \u001b[0msuper\u001b[0m\u001b[0;34m(\u001b[0m\u001b[0;34m)\u001b[0m\u001b[0;34m.\u001b[0m\u001b[0msend\u001b[0m\u001b[0;34m(\u001b[0m\u001b[0mdata\u001b[0m\u001b[0;34m,\u001b[0m \u001b[0mflags\u001b[0m\u001b[0;34m)\u001b[0m\u001b[0;34m\u001b[0m\u001b[0;34m\u001b[0m\u001b[0m\n",
      "\u001b[0;31mBrokenPipeError\u001b[0m: [Errno 32] Broken pipe"
     ]
    }
   ],
   "source": [
    "with driver.session() as session:\n",
    "    result = session.run(\"CALL db.labels()\").data()\n",
    "    \n",
    "result"
   ]
  },
  {
   "cell_type": "markdown",
   "id": "brave-update",
   "metadata": {},
   "source": [
    "**Code Breakdown:**\n",
    "\n",
    ">The `with` statement is basically used to make the database call as resource effective and concise as possible. There are more advantages of the `with` call but their explanation would exceed the goal of this curriculum. However, an in-depth explanation of the `with` statement can be found [here](https://www.python.org/dev/peps/pep-0343/).\n",
    ">\n",
    ">When we request data from the database we need to establish a connection (`session`). The `driver` object we created earlier stores the connection details. When we use the method `driver.session()` we establish a new connection. This connection is assigned to the object `session` object for the `while` statement.\n",
    ">\n",
    ">The most relevant part of the code for retrieving the data is `\"CALL db.labels()\"`. This part is the actual Cypher query. The `CALL` clause is used to call the `db.labels()` procedure. More details about Neo4j procedures can be found below.\n",
    ">\n",
    ">The result of this code chunk is a list that contains a key-value pair (`dictionary`) per label in the database.  \n",
    "\n",
    "\n",
    "\n",
    "<div class=\"alert alert-block alert-info\">\n",
    "<b>Hint:</b> Some parts of the pieces of code used in this curriculum might seem a little confusing for beginners. Most of the code chunks in this curriculum are written to work as \"recipes\" - even if you do not understand the code in every detail, you can easily adjust the code to your specific use case by doing small changes. \n",
    "Don't feel discouraged when you feel lost and just try to follow along the explanations. \n",
    "</div>"
   ]
  },
  {
   "cell_type": "markdown",
   "id": "nasty-stuff",
   "metadata": {},
   "source": [
    "Some useful built-in procedures for exploring and describing the database are listed in the table below. You can get a full list of built-in procedures by using the following query: `CALL dbms.procedures()`\n",
    "\n",
    "\n",
    "|Procedure | Description |\n",
    "|---------|----------|\n",
    "|`db.labels()`| List all labels in the database.|\n",
    "|`db.propertyKeys()`|List all property keys in the database.|\n",
    "|`db.relationshipTypes()`|List all relationship types in the database. |\n",
    "|`db.schema()`| Show the schema of the data. |\n",
    "|`db.stats.retrieve()`|Retrieve statistical data about the current database. <br>Valid sections are 'GRAPH COUNTS', 'TOKENS', 'QUERIES', 'META'|"
   ]
  },
  {
   "cell_type": "markdown",
   "id": "expanded-cassette",
   "metadata": {},
   "source": [
    "**📝 Exercise**\n",
    "\n",
    "Now, try one of the other methods listed in the table above by following the same procedure we used with the `db.labels()` call."
   ]
  },
  {
   "cell_type": "code",
   "execution_count": null,
   "id": "offensive-stylus",
   "metadata": {},
   "outputs": [],
   "source": []
  },
  {
   "cell_type": "markdown",
   "id": "impressed-fellowship",
   "metadata": {},
   "source": [
    "### Selecting Nodes"
   ]
  },
  {
   "cell_type": "markdown",
   "id": "buried-cuisine",
   "metadata": {},
   "source": [
    "You can select nodes by using the `MATCH` statement. Cypher uses `ASCII-art` style syntax to define nodes, relationships and the direction of relationships in queries. \n",
    "\n",
    "Nodes are referred to by using parentheses `()`. Inside the parentheses you can define a node variable. This variable can be used to refer to a specific set of nodes throughout the rest of the query.\n",
    "\n",
    "The example below matches any kind of node and assigns the variable name n `(n)`. We use the `LIMIT` statement to tell the database we only want to have the first 5 results. The number of results can drastically increase the response time of the database, so the `LIMIT` statement oftentimes can be handy if you want to test a query or if you suspect too many results. \n",
    "\n",
    "The `RETURN` statement defines what the database returns after your query was evaluated. You can be very specific in this statement in case you only want to retrieve certain aspects of the query results."
   ]
  },
  {
   "cell_type": "code",
   "execution_count": 5,
   "id": "martial-onion",
   "metadata": {},
   "outputs": [
    {
     "data": {
      "text/plain": [
       "[{'n': {'GenType': 'b',\n",
       "   'DateOriginal': '1951-',\n",
       "   'SpecType': 'kiz',\n",
       "   'VariantName': 'CNS;;;CNS',\n",
       "   'DateApproxBegin': '1951',\n",
       "   'Id': '(DE-588)110-7',\n",
       "   'id': 'Aut110_7',\n",
       "   'Uri': 'http://d-nb.info/gnd/110-7',\n",
       "   'Name': 'Congress of Neurological Surgeons'}},\n",
       " {'n': {'GenType': 'b',\n",
       "   'Id': '(DE-588)191-0',\n",
       "   'id': 'Aut191_0',\n",
       "   'Uri': 'http://d-nb.info/gnd/191-0',\n",
       "   'SubUnit': 'División de Ciencias Matemáticas, Médicas y de la Naturaleza',\n",
       "   'Name': 'Consejo Superior de Investigaciones Científicas'}},\n",
       " {'n': {'GenType': 'b',\n",
       "   'Id': '(DE-588)257-4',\n",
       "   'id': 'Aut257_4',\n",
       "   'SpecType': 'kiz',\n",
       "   'Uri': 'http://d-nb.info/gnd/257-4',\n",
       "   'Name': 'Fondazione Antonio Baselli'}},\n",
       " {'n': {'GenType': 'b',\n",
       "   'Id': '(DE-588)273-2',\n",
       "   'id': 'Aut273_2',\n",
       "   'SpecType': 'wit',\n",
       "   'Uri': 'http://d-nb.info/gnd/273-2',\n",
       "   'Name': 'Copyright Law Symposium'}},\n",
       " {'n': {'GenType': 'b',\n",
       "   'DateOriginal': '1865-',\n",
       "   'VariantName': \"Kornel'skii Universitet;;;Cornell Univ.;;;University;;;Cornell University;;;Cornell University\",\n",
       "   'SpecType': 'kiz',\n",
       "   'OldId': '(DE-588)1088112064;;;(DE-588)1088112544;;;(DE-588)16294577-2;;;(DE-588)16286598-3;;;(DE-588)4223553-4',\n",
       "   'DateApproxBegin': '1865',\n",
       "   'Id': '(DE-588)275-6',\n",
       "   'id': 'Aut275_6',\n",
       "   'Uri': 'http://d-nb.info/gnd/275-6',\n",
       "   'Name': 'Cornell University'}}]"
      ]
     },
     "execution_count": 5,
     "metadata": {},
     "output_type": "execute_result"
    }
   ],
   "source": [
    "# define query\n",
    "query = \"\"\"\n",
    "MATCH (n)\n",
    "RETURN n\n",
    "LIMIT 5\n",
    "\"\"\"\n",
    "\n",
    "# send query to database\n",
    "with driver.session() as session:\n",
    "    result = session.run(query).data()\n",
    "\n",
    "# print result\n",
    "result"
   ]
  },
  {
   "cell_type": "markdown",
   "id": "heavy-feedback",
   "metadata": {},
   "source": [
    "The output above is produced by calling the `.data()` method of the [Neo4j Python Driver](https://neo4j.com/docs/api/python-driver/current/api.html). This method returns the result of our query as a list of dictionaries. This result type is quite versatile since we can further manipulate the output to our liking by applying filters or transforming the result to different formats (e.g. Pandas data frame). \n",
    "\n",
    "\n",
    "<div class=\"alert alert-block alert-info\">\n",
    "    <b>Hint:</b> We are using triple quotes <code>\"\"\" ... \"\"\"</code> for the query to tell Python we are writing a character string over multiple lines. We are doing this so the query looks tidy and well structured. You also could write the full query in one line - but this results in bad readability and makes debugging more difficult.\n",
    "</div>"
   ]
  },
  {
   "cell_type": "markdown",
   "id": "broad-pound",
   "metadata": {},
   "source": [
    "### Filtering Nodes"
   ]
  },
  {
   "cell_type": "markdown",
   "id": "fundamental-geometry",
   "metadata": {},
   "source": [
    "In the next step we want to apply filters inside the query so we have control over the nodes we retrieve from the database. \n",
    "\n",
    "The query below only returns one node of the type `PerName` without specifying which exact node we want to retrieve."
   ]
  },
  {
   "cell_type": "code",
   "execution_count": 6,
   "id": "intended-homework",
   "metadata": {},
   "outputs": [
    {
     "data": {
      "text/plain": [
       "[{'n': {'GenType': 'p',\n",
       "   'VariantName': 'Lombez, Ambrosius de;;;La Peirie, Ambroise;;;LaPeirie, Ambroise;;;Ambroise;;;Lombez, Ambroise de;;;LaPeyrie;;;Lombez, Ambrosius von',\n",
       "   'SpecType': 'piz',\n",
       "   'Id': '(DE-588)100000096',\n",
       "   'id': 'Aut100000096',\n",
       "   'Uri': 'http://d-nb.info/gnd/100000096',\n",
       "   'Name': 'Ambrosius'}}]"
      ]
     },
     "execution_count": 6,
     "metadata": {},
     "output_type": "execute_result"
    }
   ],
   "source": [
    "# define query\n",
    "query = \"\"\"\n",
    "MATCH (n:PerName)\n",
    "RETURN n\n",
    "LIMIT 1\"\"\"\n",
    "\n",
    "# send query to database\n",
    "with driver.session() as session:\n",
    "    result = session.run(query).data()\n",
    "\n",
    "# print result    \n",
    "result"
   ]
  },
  {
   "cell_type": "markdown",
   "id": "reserved-tunnel",
   "metadata": {},
   "source": [
    "**Filtering Nodes by Properties**"
   ]
  },
  {
   "cell_type": "markdown",
   "id": "arbitrary-deputy",
   "metadata": {},
   "source": [
    "Now, let's try to find a specific person. Let's try to find the node of Max Weber, the sociologist and political economist. \n",
    "We can define a filter based on properties of a node. The query below only returns nodes that have \"Weber, Max\" as `Name` property. The names in SoNAR are based on their GND entry and follow the order `name, first name`. You can check out GND entries on https://portal.dnb.de/.\n",
    "\n",
    "We suspect the name \"Weber, Max\" to be not unique inside the big SoNAR (IDH) database. So we want to check, how many Max Webers we can find. For that, we return the count of nodes (`RETURN count(n)`) and not the actual nodes. "
   ]
  },
  {
   "cell_type": "code",
   "execution_count": 7,
   "id": "elegant-salvation",
   "metadata": {},
   "outputs": [],
   "source": [
    "query = \"\"\"\n",
    "MATCH (n:PerName {Name: 'Weber, Max'})\n",
    "RETURN count(n)\n",
    "\"\"\"\n",
    "\n",
    "with driver.session() as session:\n",
    "    result = session.run(query).data()\n",
    "    \n",
    "result"
   ]
  },
  {
   "cell_type": "markdown",
   "id": "ethical-investment",
   "metadata": {},
   "source": [
    "In fact we detected 34 hits in the database. So we need to apply more filters to find the correct Max.\n",
    "\n",
    "Let's start by checking what properties are available for nodes of type `PerName`:"
   ]
  },
  {
   "cell_type": "code",
   "execution_count": 9,
   "id": "rational-native",
   "metadata": {},
   "outputs": [
    {
     "data": {
      "text/plain": [
       "[{'label': 'PerName',\n",
       "  'props': ['Uri',\n",
       "   'Name',\n",
       "   'Id',\n",
       "   'VariantName',\n",
       "   'id',\n",
       "   'GenType',\n",
       "   'SpecType',\n",
       "   'DateStrictOriginal',\n",
       "   'DateStrictEnd',\n",
       "   'DateApproxOriginal',\n",
       "   'DateApproxEnd',\n",
       "   'DateStrictBegin',\n",
       "   'Gender',\n",
       "   'DateApproxBegin',\n",
       "   'OldId']}]"
      ]
     },
     "execution_count": 9,
     "metadata": {},
     "output_type": "execute_result"
    }
   ],
   "source": [
    "query = \"\"\"\n",
    "MATCH (n:PerName)\n",
    "WITH LABELS(n) AS labels , KEYS(n) AS keys\n",
    "UNWIND labels AS label\n",
    "UNWIND keys AS key\n",
    "RETURN DISTINCT label, COLLECT(DISTINCT key) AS props\n",
    "ORDER BY label\n",
    "\"\"\"\n",
    "\n",
    "with driver.session() as session:\n",
    "    result = session.run(query).data()\n",
    "    \n",
    "result"
   ]
  },
  {
   "cell_type": "markdown",
   "id": "waiting-passenger",
   "metadata": {},
   "source": [
    "Before we take a look at the output, let's talk about the query real quick:\n",
    "\n",
    "In this query we use two Cypher list functions (`LABELS()` and `KEYS()`). These functions return a list of the element they are applied on (`KEYS(n)` returns all property names of the nodes captured in `n` as a list). The `UNWIND` clause \n",
    "is used to expand the created lists back to individual rows. Finally we match the distinct labels (we only include `PerName` nodes in this query) with a list of distinct properties that belong to `PerName` nodes.\n",
    "\n",
    "Here you can find the documentation for the applied functions and clauses:\n",
    "\n",
    "* [`LABELS()` & `KEYS()`](https://neo4j.com/docs/cypher-manual/current/functions/list/#functions-keys)\n",
    "* [`UNWIND`](https://neo4j.com/docs/cypher-manual/current/clauses/unwind/)\n",
    "* [`DIStINCT`](https://neo4j.com/docs/cypher-manual/current/clauses/return/#return-unique-results)\n",
    "* [`COLLECT()`](https://neo4j.com/docs/cypher-manual/current/functions/aggregating/#functions-collect)\n",
    "\n",
    "Now, let's take a look at the result:\n",
    "\n",
    "We can see that there are several `date` properties for `PerName` nodes. The year of birth is stored in the property called `DateApproxBegin`. \n",
    "So let's apply a date filter. Let's assume we only know that Max Weber was born in the year 1864 and we want to filter based on this information."
   ]
  },
  {
   "cell_type": "code",
   "execution_count": 10,
   "id": "bizarre-specialist",
   "metadata": {},
   "outputs": [
    {
     "data": {
      "text/plain": [
       "[{'n': {'GenType': 'p',\n",
       "   'DateApproxEnd': '1920',\n",
       "   'DateStrictOriginal': '21.04.1864-14.06.1920',\n",
       "   'VariantName': 'Makesi, Weipei;;;Weber, Karl Emil Maximilian;;;Veber, Maks;;;Veber, M.;;;Weibo, ...;;;Uēbā, Makkusu;;;Wibir, Māks;;;Weibo, Makesi;;;Fībir, Māks;;;Vēbā, Makkusu;;;Ma ke si Wei bo;;;Makesi-Weibo;;;馬克思, 威培;;;فيبر، ماكس;;;マックス・ウェーバー;;;马克斯•韦伯;;;ובר, מקס;;;韦伯, 马克斯',\n",
       "   'SpecType': 'piz',\n",
       "   'DateStrictBegin': '21.04.1864',\n",
       "   'DateStrictEnd': '14.06.1920',\n",
       "   'Gender': '1',\n",
       "   'DateApproxOriginal': '1864-1920',\n",
       "   'Uri': 'http://d-nb.info/gnd/118629743',\n",
       "   'Name': 'Weber, Max',\n",
       "   'DateApproxBegin': '1864',\n",
       "   'Id': '(DE-588)118629743',\n",
       "   'id': 'Aut118629743'}}]"
      ]
     },
     "execution_count": 10,
     "metadata": {},
     "output_type": "execute_result"
    }
   ],
   "source": [
    "query = \"\"\"\n",
    "MATCH (n:PerName)\n",
    "WHERE n.Name = \"Weber, Max\" AND n.DateApproxBegin = \"1864\"\n",
    "RETURN n\n",
    "\"\"\"\n",
    "\n",
    "with driver.session() as session:\n",
    "    result = session.run(query).data()\n",
    "    \n",
    "result"
   ]
  },
  {
   "cell_type": "markdown",
   "id": "joined-johnston",
   "metadata": {},
   "source": [
    "In the query above we used a `WHERE` clause to apply a filter. You can define multiple conditions inside a filter, eg. by concatenating multiple logical conditions with `AND`, `OR` or `XOR`. See this [documentation page](https://neo4j.com/docs/cypher-manual/current/clauses/where/#boolean-operations) for more details.\n",
    "\n",
    "\n",
    "As a last example, let's assume we only know that the last Name of Max Weber is spelled \"韦伯\" in Chinese, so we need to use this information as a filter. \n",
    "\n",
    "In the query result above, you see a node property called `VariantName`. This variable stores many alternative variants of the name we are looking for. So let's check how we could query the database by searching within this property by using the `CONTAINS` operator (click [here](https://neo4j.com/docs/cypher-manual/current/clauses/where/#match-string-contains) for more details):"
   ]
  },
  {
   "cell_type": "code",
   "execution_count": 11,
   "id": "canadian-default",
   "metadata": {},
   "outputs": [
    {
     "data": {
      "text/plain": [
       "[{'n': {'GenType': 'p',\n",
       "   'DateApproxEnd': '1920',\n",
       "   'DateStrictOriginal': '21.04.1864-14.06.1920',\n",
       "   'VariantName': 'Makesi, Weipei;;;Weber, Karl Emil Maximilian;;;Veber, Maks;;;Veber, M.;;;Weibo, ...;;;Uēbā, Makkusu;;;Wibir, Māks;;;Weibo, Makesi;;;Fībir, Māks;;;Vēbā, Makkusu;;;Ma ke si Wei bo;;;Makesi-Weibo;;;馬克思, 威培;;;فيبر، ماكس;;;マックス・ウェーバー;;;马克斯•韦伯;;;ובר, מקס;;;韦伯, 马克斯',\n",
       "   'SpecType': 'piz',\n",
       "   'DateStrictBegin': '21.04.1864',\n",
       "   'DateStrictEnd': '14.06.1920',\n",
       "   'Gender': '1',\n",
       "   'DateApproxOriginal': '1864-1920',\n",
       "   'Uri': 'http://d-nb.info/gnd/118629743',\n",
       "   'Name': 'Weber, Max',\n",
       "   'DateApproxBegin': '1864',\n",
       "   'Id': '(DE-588)118629743',\n",
       "   'id': 'Aut118629743'}},\n",
       " {'n': {'GenType': 'p',\n",
       "   'VariantName': 'Veber, Mattias;;;Weber, Matthias;;;Weibo, Madiyasi;;;Ma di ya si Wei bo;;;Madiyasi-Weibo;;;Ma ti ya si Wei bo;;;Matiyasi-Weibo;;;Weibo, Matiyasi;;;马蒂亚斯•韦伯;;;韦伯, 马蒂亚斯',\n",
       "   'SpecType': 'piz',\n",
       "   'DateApproxBegin': '1967',\n",
       "   'Gender': '1',\n",
       "   'DateApproxOriginal': '1967-',\n",
       "   'Id': '(DE-588)124003303',\n",
       "   'id': 'Aut124003303',\n",
       "   'Uri': 'http://d-nb.info/gnd/124003303',\n",
       "   'Name': 'Weber, Mathias'}},\n",
       " {'n': {'GenType': 'p',\n",
       "   'VariantName': 'Bi de Wei bo;;;Bide-Weibo;;;Veber, Peter;;;Weibo, Bide;;;韦伯彼得;;;韦伯, 彼得',\n",
       "   'SpecType': 'piz',\n",
       "   'OldId': '(DE-588)1018410120',\n",
       "   'DateApproxBegin': '1968',\n",
       "   'Gender': '1',\n",
       "   'DateApproxOriginal': '1968-',\n",
       "   'Id': '(DE-588)124253679',\n",
       "   'id': 'Aut124253679',\n",
       "   'Uri': 'http://d-nb.info/gnd/124253679',\n",
       "   'Name': 'Weber, Peter'}}]"
      ]
     },
     "execution_count": 11,
     "metadata": {},
     "output_type": "execute_result"
    }
   ],
   "source": [
    "query = \"\"\"\n",
    "MATCH (n:PerName)\n",
    "WHERE n.VariantName CONTAINS \"韦伯\"\n",
    "RETURN n\n",
    "\"\"\"\n",
    "\n",
    "with driver.session() as session:\n",
    "    result = session.run(query).data()\n",
    "    \n",
    "result"
   ]
  },
  {
   "cell_type": "markdown",
   "id": "multiple-possible",
   "metadata": {},
   "source": [
    "<div class=\"alert alert-block alert-info\">\n",
    "    <b>Hint:</b> The most reliable way to select specific nodes of the SoNAR (IDH) database is by using the <code>Id</code> property. The <code>Id</code> property is a combination of the ISIL (International Standard Identifier for Libraries and Related Organisations) and the GND-ID. <br>\n",
    "    The <code>Id</code> of Max Weber is <code>(DE-588)1018410120</code>. <code>DE-588</code> is the ISIL code of the <a href=\"https://sigel.staatsbibliothek-berlin.de/suche/?isil=DE-588\">GND (Gemeinsame Normdatei)</a> and <code>1018410120</code> is the <a href=\"https://portal.dnb.de/opac.htm?method=simpleSearch&cqlMode=true&query=nid%3D124003303\">GND-ID of Max Weber.</a>\n",
    "</div>"
   ]
  },
  {
   "cell_type": "markdown",
   "id": "biological-carry",
   "metadata": {},
   "source": [
    "## Relationships"
   ]
  },
  {
   "cell_type": "markdown",
   "id": "contained-soviet",
   "metadata": {},
   "source": [
    "### Relationships Types"
   ]
  },
  {
   "cell_type": "markdown",
   "id": "starting-balance",
   "metadata": {},
   "source": [
    "Similar to node labels we can retrieve the categories of the relations inside the database. Every relation must have exactly one relationship type. This type defines the kind or category the relation belongs to. "
   ]
  },
  {
   "cell_type": "code",
   "execution_count": 15,
   "id": "leading-thumb",
   "metadata": {},
   "outputs": [
    {
     "data": {
      "text/plain": [
       "[{'relationshipType': 'RelationToIsilTerm'},\n",
       " {'relationshipType': 'RelationToChronTerm'},\n",
       " {'relationshipType': 'RelationToCorpName'},\n",
       " {'relationshipType': 'RelationToTopicTerm'},\n",
       " {'relationshipType': 'RelationToGeoName'},\n",
       " {'relationshipType': 'SocialRelation'},\n",
       " {'relationshipType': 'RelationToMeetName'},\n",
       " {'relationshipType': 'RelationToPerName'},\n",
       " {'relationshipType': 'RelationToUniTitle'},\n",
       " {'relationshipType': 'RelationToResource'}]"
      ]
     },
     "execution_count": 15,
     "metadata": {},
     "output_type": "execute_result"
    }
   ],
   "source": [
    "with driver.session() as session:\n",
    "    result = session.run(\"CALL db.relationshipTypes()\").data()\n",
    "\n",
    "    \n",
    "result"
   ]
  },
  {
   "cell_type": "markdown",
   "id": "fatty-overall",
   "metadata": {},
   "source": [
    "### Selecting Relationships"
   ]
  },
  {
   "cell_type": "markdown",
   "id": "accredited-procurement",
   "metadata": {},
   "source": [
    "In the section about nodes we saw that we need to use parenthesis `()` to select nodes. When selecting relationships on the other hand we need to use brackets `[]` instead.\n",
    "\n",
    "Additionally we can not solely query for plain relationships, but we need to define a pattern in which this relationship needs to appear in the database. \n",
    "\n",
    "The most simple relationship pattern we can define is: the relationship needs to be between any kind of two nodes. In the cypher language this would be expressed as:\n",
    ">`()-[r]-()`\n"
   ]
  },
  {
   "cell_type": "code",
   "execution_count": 20,
   "id": "overhead-short",
   "metadata": {},
   "outputs": [
    {
     "data": {
      "text/plain": [
       "[{'r': ({}, 'RelationToCorpName', {})},\n",
       " {'r': ({}, 'RelationToCorpName', {})},\n",
       " {'r': ({}, 'RelationToCorpName', {})},\n",
       " {'r': ({}, 'RelationToCorpName', {})},\n",
       " {'r': ({}, 'RelationToCorpName', {})}]"
      ]
     },
     "execution_count": 20,
     "metadata": {},
     "output_type": "execute_result"
    }
   ],
   "source": [
    "query = \"\"\"\n",
    "MATCH ()-[r]-()\n",
    "RETURN r\n",
    "LIMIT 5\n",
    "\"\"\"\n",
    "\n",
    "with driver.session() as session:\n",
    "    result = session.run(query).data()\n",
    "\n",
    "    \n",
    "result"
   ]
  },
  {
   "cell_type": "markdown",
   "id": "civic-syntax",
   "metadata": {},
   "source": [
    "### Filtering Relationships"
   ]
  },
  {
   "cell_type": "markdown",
   "id": "piano-immune",
   "metadata": {},
   "source": [
    "You can filter relationships in a similar fashion like you can filter nodes. \n",
    "Let's retrieve relationships of the type `SocialRelation`."
   ]
  },
  {
   "cell_type": "code",
   "execution_count": 21,
   "id": "decimal-minneapolis",
   "metadata": {},
   "outputs": [
    {
     "data": {
      "text/plain": [
       "[{'r': ({}, 'SocialRelation', {})},\n",
       " {'r': ({}, 'SocialRelation', {})},\n",
       " {'r': ({}, 'SocialRelation', {})},\n",
       " {'r': ({}, 'SocialRelation', {})},\n",
       " {'r': ({}, 'SocialRelation', {})}]"
      ]
     },
     "execution_count": 21,
     "metadata": {},
     "output_type": "execute_result"
    }
   ],
   "source": [
    "query = \"\"\"\n",
    "MATCH ()-[r:SocialRelation]-()\n",
    "RETURN r\n",
    "LIMIT 5\n",
    "\"\"\"\n",
    "\n",
    "with driver.session() as session:\n",
    "    result = session.run(query).data()\n",
    "\n",
    "    \n",
    "result"
   ]
  },
  {
   "cell_type": "markdown",
   "id": "aging-christopher",
   "metadata": {},
   "source": [
    "This result is correct but the output is not very informative. Let's do some deeper exploration of the relationships."
   ]
  },
  {
   "cell_type": "markdown",
   "id": "creative-mouth",
   "metadata": {},
   "source": [
    "**Filtering Relationships by Properties**"
   ]
  },
  {
   "cell_type": "markdown",
   "id": "tracked-pontiac",
   "metadata": {},
   "source": [
    "Just as nodes, relationships can have properties that provide meta information about the relation. Let's check the properties of the five relationships we retrieved above:"
   ]
  },
  {
   "cell_type": "code",
   "execution_count": 22,
   "id": "monthly-pittsburgh",
   "metadata": {},
   "outputs": [
    {
     "data": {
      "text/plain": [
       "[{'properties': {'TypeAddInfo': 'undirected',\n",
       "   'SourceType': 'associatedRelation',\n",
       "   'Source': 'Bib(DE_588)5550944_7'}},\n",
       " {'properties': {'TypeAddInfo': 'undirected',\n",
       "   'SourceType': 'associatedRelation',\n",
       "   'Source': 'Bib(DE_588)5550944_7'}},\n",
       " {'properties': {'TypeAddInfo': 'undirected',\n",
       "   'SourceType': 'associatedRelation',\n",
       "   'Source': 'Bib(DE_588)16249939_5'}},\n",
       " {'properties': {'TypeAddInfo': 'undirected',\n",
       "   'SourceType': 'associatedRelation',\n",
       "   'Source': 'Bib(DE_588)16249939_5'}},\n",
       " {'properties': {'TypeAddInfo': 'undirected',\n",
       "   'SourceType': 'associatedRelation',\n",
       "   'Source': 'BibBVBBV044242543'}}]"
      ]
     },
     "execution_count": 22,
     "metadata": {},
     "output_type": "execute_result"
    }
   ],
   "source": [
    "query = \"\"\"\n",
    "MATCH p = ()-[r:SocialRelation]-()\n",
    "UNWIND relationships(p) as rel\n",
    "RETURN properties(rel) as properties\n",
    "LIMIT 5\n",
    "\"\"\"\n",
    "\n",
    "with driver.session() as session:\n",
    "    result = session.run(query).data()\n",
    "\n",
    "    \n",
    "result"
   ]
  },
  {
   "cell_type": "markdown",
   "id": "digital-welding",
   "metadata": {},
   "source": [
    "As we can see, the properties of relationships of the type `SocialRelation` have three different elements: \n",
    "\n",
    "* `TypeAddInfo` - either **directed** or **undirected**\n",
    "* `SourceType` - can take the values: **associatedRelation**, **areCoAuthors**, **areCoEditors**, **affiliatedRelation**, **correspondedRelation**, **knows**\n",
    "* `Source` - **id** of the source\n",
    "\n",
    "\n",
    "<div class=\"alert alert-block alert-info\">\n",
    "    <b>Hint:</b> As mentioned earlier, <code>SocialRelation</code>-nodes are derived from <code>Resource</code>-nodes. The <code>Source</code> property of a <code>SocialRelation</code> is the <code>id</code> of the corresponding <code>Resource</code>\n",
    "</div>"
   ]
  },
  {
   "cell_type": "markdown",
   "id": "floppy-living",
   "metadata": {},
   "source": [
    "Let's use the properties to filter out people that are connected to each other because they had a **correspondence** with each other."
   ]
  },
  {
   "cell_type": "code",
   "execution_count": 18,
   "id": "quick-jaguar",
   "metadata": {},
   "outputs": [
    {
     "data": {
      "text/plain": [
       "[{'n1.Name': 'André, Christian Carl',\n",
       "  'n2.Name': 'Richter, Karl Friedrich Enoch',\n",
       "  'r.SourceType': 'correspondedRelation',\n",
       "  'r.TypeAddInfo': 'directed'},\n",
       " {'n1.Name': 'André, Christian Carl',\n",
       "  'n2.Name': 'Hügel, Elisabeth von',\n",
       "  'r.SourceType': 'correspondedRelation',\n",
       "  'r.TypeAddInfo': 'directed'},\n",
       " {'n1.Name': 'André, Christian Carl',\n",
       "  'n2.Name': 'Sturm, Karl Christian Gottlob',\n",
       "  'r.SourceType': 'correspondedRelation',\n",
       "  'r.TypeAddInfo': 'directed'},\n",
       " {'n1.Name': 'Ring, Friedrich Dominicus',\n",
       "  'n2.Name': 'Pfeffel, Gottlieb Konrad',\n",
       "  'r.SourceType': 'correspondedRelation',\n",
       "  'r.TypeAddInfo': 'directed'},\n",
       " {'n1.Name': 'Bothe, Friedrich Heinrich',\n",
       "  'n2.Name': 'Hauff, Hermann',\n",
       "  'r.SourceType': 'correspondedRelation',\n",
       "  'r.TypeAddInfo': 'directed'}]"
      ]
     },
     "execution_count": 18,
     "metadata": {},
     "output_type": "execute_result"
    }
   ],
   "source": [
    "# in the RETURN clause we define specifically what elements we want to retrieve, this way the output is easier to read\n",
    "query = \"\"\"\n",
    "MATCH (n1:PerName)-[r:SocialRelation]-(n2:PerName)\n",
    "WHERE r.SourceType = \"correspondedRelation\"\n",
    "RETURN n1.Name, n2.Name, r.SourceType, r.TypeAddInfo\n",
    "LIMIT 5\n",
    "\"\"\"\n",
    "\n",
    "with driver.session() as session:\n",
    "    result = session.run(query).data()\n",
    "\n",
    "    \n",
    "result"
   ]
  },
  {
   "cell_type": "markdown",
   "id": "impossible-music",
   "metadata": {},
   "source": [
    "We can see that all of these relationships have a `TypeAddInfo` of **directed**. Relationships can be directed and undirected. In the SoNAR (IDH) database all correspondences are directed and therefor hold the information whether someone was contacted or contacted someone else. \n",
    "\n",
    "Let's see who received letters from Max Weber. The query below extends the basic `()-[]-()` structure for representing a node-relationship search pattern by an `>`. This arrow defines that we are searching only for directed relationships. So the new pattern scaffolding is `()-[]->()`"
   ]
  },
  {
   "cell_type": "code",
   "execution_count": 24,
   "id": "restricted-williams",
   "metadata": {},
   "outputs": [
    {
     "data": {
      "text/plain": [
       "[{'n1.Name': 'Weber, Max',\n",
       "  'n2.Name': 'Lukács, Georg',\n",
       "  'r.SourceType': 'correspondedRelation',\n",
       "  'r.TypeAddInfo': 'directed'},\n",
       " {'n1.Name': 'Weber, Max',\n",
       "  'n2.Name': 'Susman, Margarete',\n",
       "  'r.SourceType': 'correspondedRelation',\n",
       "  'r.TypeAddInfo': 'directed'},\n",
       " {'n1.Name': 'Weber, Max',\n",
       "  'n2.Name': 'Wolfskehl, Karl',\n",
       "  'r.SourceType': 'correspondedRelation',\n",
       "  'r.TypeAddInfo': 'directed'},\n",
       " {'n1.Name': 'Weber, Max',\n",
       "  'n2.Name': 'Jaspers, Karl',\n",
       "  'r.SourceType': 'correspondedRelation',\n",
       "  'r.TypeAddInfo': 'directed'},\n",
       " {'n1.Name': 'Weber, Max',\n",
       "  'n2.Name': 'Jaffe, Else',\n",
       "  'r.SourceType': 'correspondedRelation',\n",
       "  'r.TypeAddInfo': 'directed'},\n",
       " {'n1.Name': 'Weber, Max',\n",
       "  'n2.Name': 'Ernst, Paul',\n",
       "  'r.SourceType': 'correspondedRelation',\n",
       "  'r.TypeAddInfo': 'directed'},\n",
       " {'n1.Name': 'Weber, Max',\n",
       "  'n2.Name': 'Diederichs, Eugen',\n",
       "  'r.SourceType': 'correspondedRelation',\n",
       "  'r.TypeAddInfo': 'directed'}]"
      ]
     },
     "execution_count": 24,
     "metadata": {},
     "output_type": "execute_result"
    }
   ],
   "source": [
    "query = \"\"\"\n",
    "MATCH (n1:PerName)-[r:SocialRelation]->(n2:PerName)\n",
    "WHERE n1.Name = \"Weber, Max\" AND n1.DateApproxBegin = \"1864\" \n",
    "AND r.SourceType = \"correspondedRelation\"\n",
    "RETURN n1.Name, n2.Name, r.SourceType, r.TypeAddInfo\n",
    "\"\"\"\n",
    "\n",
    "with driver.session() as session:\n",
    "    result = session.run(query).data()\n",
    "    \n",
    "result"
   ]
  },
  {
   "cell_type": "markdown",
   "id": "refined-incentive",
   "metadata": {},
   "source": [
    "So far we only focused on retrieving textual outputs from our queries. But of course we can visualize networks too. The code block below gives a quick example of how we can visualize the query output as a network. \n",
    "\n",
    "You can find a more in-depth explanation of how this works in the chapter [Complex Queries & Data Preparation](#Complex-Queries-&-Data-Preparation).\n",
    "\n",
    "In the code below we are going to use a custom written function. This function is stored in another python file and hence we can load it as if it would be an own library."
   ]
  },
  {
   "cell_type": "code",
   "execution_count": 34,
   "id": "orange-lebanon",
   "metadata": {},
   "outputs": [],
   "source": [
    "from helper_functions.helper_fun import to_nx_graph\n",
    "\n",
    "driver = GraphDatabase.driver(uri, auth=(user, password))\n",
    "\n",
    "query = \"\"\"\n",
    "MATCH (n1:PerName)-[r:SocialRelation]->(n2:PerName)\n",
    "WHERE n1.Name = \"Weber, Max\" AND n1.DateApproxBegin = \"1864\" \n",
    "AND r.SourceType = \"correspondedRelation\"\n",
    "RETURN n1.Name, n2.Name, r.SourceType, r.TypeAddInfo\n",
    "\"\"\"\n",
    "\n",
    "G = to_nx_graph(neo4j_driver = driver, \n",
    "                query = query)"
   ]
  },
  {
   "cell_type": "code",
   "execution_count": 35,
   "id": "widespread-twist",
   "metadata": {},
   "outputs": [
    {
     "data": {
      "text/html": [
       "\n",
       "        <iframe\n",
       "            width=\"100%\"\n",
       "            height=\"500\"\n",
       "            src=\"./html_networks/test.html\"\n",
       "            frameborder=\"0\"\n",
       "            allowfullscreen\n",
       "        ></iframe>\n",
       "        "
      ],
      "text/plain": [
       "<IPython.lib.display.IFrame at 0x7fc027937640>"
      ]
     },
     "execution_count": 35,
     "metadata": {},
     "output_type": "execute_result"
    }
   ],
   "source": [
    "from pyvis.network import Network\n",
    "\n",
    "nt = Network('500', '100%', notebook=True)\n",
    "nt.repulsion()\n",
    "nt.from_nx(G)\n",
    "nt.show('./html_networks/test.html')"
   ]
  },
  {
   "cell_type": "markdown",
   "id": "least-apparel",
   "metadata": {},
   "source": [
    "## Summary Cypher Query Language"
   ]
  },
  {
   "cell_type": "markdown",
   "id": "deluxe-nomination",
   "metadata": {},
   "source": [
    "In this section about data exploration we took a quick look into the very basics of the **Cypher Query Language**. Whenever you want to retrieve data directly from the SoNAR (IDH) database, you need to write a Cypher query.\n",
    "\n",
    "A full introduction into this query language would exceed the scope of this curriculum. But the list below provides an overview of good resources for digging deeper into Cypher:\n",
    "\n",
    "* [A quick introduction to Cypher basics by Neo4J](https://neo4j.com/docs/getting-started/current/cypher-intro/)\n",
    "* [The official Neo4j Cypher manual](https://neo4j.com/docs/cypher-manual/current/)\n",
    "* [The Cypher Query Language Developer Guide](https://neo4j.com/developer/cypher/)\n",
    "* [Free Online Courses by the Neo4j GraphAcademy](https://neo4j.com/graphacademy/#_take_a_free_course)\n",
    "\n",
    "\n",
    "The upcoming sections of this curriculum also heavily relies on Cypher, but there won't be any detailed explanation of specific clauses and commands. You can see these cells as code recipes. You can check out the aforementioned resources for a documentation of the applied Cypher clauses. "
   ]
  },
  {
   "cell_type": "markdown",
   "id": "creative-welsh",
   "metadata": {},
   "source": [
    "# Descriptive Analyses"
   ]
  },
  {
   "cell_type": "markdown",
   "id": "significant-saint",
   "metadata": {},
   "source": [
    "## General Database Summaries"
   ]
  },
  {
   "cell_type": "markdown",
   "id": "complex-universe",
   "metadata": {},
   "source": [
    "We can also aggregate values and do more complex calculations with Cypher. Let's create a summary of how many **Nodes**, **Relationships**, **Node Labels** and **Relationship Types** are inside the database."
   ]
  },
  {
   "cell_type": "code",
   "execution_count": 25,
   "id": "damaged-finder",
   "metadata": {
    "scrolled": true
   },
   "outputs": [
    {
     "data": {
      "text/plain": [
       "[{'output': 'Number of Nodes: 46831805'},\n",
       " {'output': 'Number of Relationships: 191363660'},\n",
       " {'output': 'Number of Labels: 9'},\n",
       " {'output': 'Number of Relationship Types: 10'}]"
      ]
     },
     "execution_count": 25,
     "metadata": {},
     "output_type": "execute_result"
    }
   ],
   "source": [
    "query = \"\"\"\n",
    "MATCH (n) \n",
    "RETURN 'Number of Nodes: ' + count(n) as output \n",
    "UNION\n",
    "MATCH ()-[]->() \n",
    "RETURN 'Number of Relationships: ' + count(*) as output \n",
    "UNION\n",
    "CALL db.labels() YIELD label \n",
    "RETURN 'Number of Labels: ' + count(*) AS output \n",
    "UNION\n",
    "CALL db.relationshipTypes() YIELD relationshipType  \n",
    "RETURN 'Number of Relationship Types: ' + count(*) AS output\n",
    "\"\"\"\n",
    "\n",
    "with driver.session() as session:\n",
    "    result = session.run(query).data()\n",
    "    \n",
    "result\n"
   ]
  },
  {
   "cell_type": "markdown",
   "id": "silver-monkey",
   "metadata": {},
   "source": [
    "### Summarise Node Labels"
   ]
  },
  {
   "cell_type": "markdown",
   "id": "perfect-profile",
   "metadata": {},
   "source": [
    "In the next code cell we calculate the count of each node category in the database."
   ]
  },
  {
   "cell_type": "code",
   "execution_count": 27,
   "id": "outer-penetration",
   "metadata": {},
   "outputs": [
    {
     "data": {
      "text/html": [
       "<div>\n",
       "<style scoped>\n",
       "    .dataframe tbody tr th:only-of-type {\n",
       "        vertical-align: middle;\n",
       "    }\n",
       "\n",
       "    .dataframe tbody tr th {\n",
       "        vertical-align: top;\n",
       "    }\n",
       "\n",
       "    .dataframe thead th {\n",
       "        text-align: right;\n",
       "    }\n",
       "</style>\n",
       "<table border=\"1\" class=\"dataframe\">\n",
       "  <thead>\n",
       "    <tr style=\"text-align: right;\">\n",
       "      <th></th>\n",
       "      <th>label</th>\n",
       "      <th>count</th>\n",
       "    </tr>\n",
       "  </thead>\n",
       "  <tbody>\n",
       "    <tr>\n",
       "      <th>7</th>\n",
       "      <td>IsilTerm</td>\n",
       "      <td>611</td>\n",
       "    </tr>\n",
       "    <tr>\n",
       "      <th>4</th>\n",
       "      <td>TopicTerm</td>\n",
       "      <td>212135</td>\n",
       "    </tr>\n",
       "    <tr>\n",
       "      <th>1</th>\n",
       "      <td>GeoName</td>\n",
       "      <td>308197</td>\n",
       "    </tr>\n",
       "    <tr>\n",
       "      <th>5</th>\n",
       "      <td>UniTitle</td>\n",
       "      <td>385300</td>\n",
       "    </tr>\n",
       "    <tr>\n",
       "      <th>6</th>\n",
       "      <td>ChronTerm</td>\n",
       "      <td>537054</td>\n",
       "    </tr>\n",
       "    <tr>\n",
       "      <th>2</th>\n",
       "      <td>MeetName</td>\n",
       "      <td>814044</td>\n",
       "    </tr>\n",
       "    <tr>\n",
       "      <th>0</th>\n",
       "      <td>CorpName</td>\n",
       "      <td>1487711</td>\n",
       "    </tr>\n",
       "    <tr>\n",
       "      <th>3</th>\n",
       "      <td>PerName</td>\n",
       "      <td>5087660</td>\n",
       "    </tr>\n",
       "    <tr>\n",
       "      <th>8</th>\n",
       "      <td>Resource</td>\n",
       "      <td>37999093</td>\n",
       "    </tr>\n",
       "  </tbody>\n",
       "</table>\n",
       "</div>"
      ],
      "text/plain": [
       "       label     count\n",
       "7   IsilTerm       611\n",
       "4  TopicTerm    212135\n",
       "1    GeoName    308197\n",
       "5   UniTitle    385300\n",
       "6  ChronTerm    537054\n",
       "2   MeetName    814044\n",
       "0   CorpName   1487711\n",
       "3    PerName   5087660\n",
       "8   Resource  37999093"
      ]
     },
     "execution_count": 27,
     "metadata": {},
     "output_type": "execute_result"
    }
   ],
   "source": [
    "import pandas as pd\n",
    "\n",
    "result = {\"label\": [], \"count\": []}\n",
    "\n",
    "with driver.session() as session:\n",
    "    labels = [row[\"label\"] for row in session.run(\"CALL db.labels()\")]\n",
    "    for label in labels:\n",
    "        query = f\"MATCH (:{label}) RETURN count(*) as count\"\n",
    "        count = session.run(query).single()[\"count\"]\n",
    "        result[\"label\"].append(label)\n",
    "        result[\"count\"].append(count)\n",
    "        \n",
    "node_labels_df = pd.DataFrame(result)\n",
    "node_labels_df.sort_values(by = \"count\")"
   ]
  },
  {
   "cell_type": "markdown",
   "id": "express-beginning",
   "metadata": {},
   "source": [
    "### Summarise Relationship Types\n"
   ]
  },
  {
   "cell_type": "markdown",
   "id": "promising-corrections",
   "metadata": {},
   "source": [
    "We can do the same count calculation for relationship types too:"
   ]
  },
  {
   "cell_type": "code",
   "execution_count": 28,
   "id": "applicable-chapter",
   "metadata": {
    "scrolled": true
   },
   "outputs": [
    {
     "data": {
      "text/html": [
       "<div>\n",
       "<style scoped>\n",
       "    .dataframe tbody tr th:only-of-type {\n",
       "        vertical-align: middle;\n",
       "    }\n",
       "\n",
       "    .dataframe tbody tr th {\n",
       "        vertical-align: top;\n",
       "    }\n",
       "\n",
       "    .dataframe thead th {\n",
       "        text-align: right;\n",
       "    }\n",
       "</style>\n",
       "<table border=\"1\" class=\"dataframe\">\n",
       "  <thead>\n",
       "    <tr style=\"text-align: right;\">\n",
       "      <th></th>\n",
       "      <th>relType</th>\n",
       "      <th>count</th>\n",
       "    </tr>\n",
       "  </thead>\n",
       "  <tbody>\n",
       "    <tr>\n",
       "      <th>8</th>\n",
       "      <td>RelationToUniTitle</td>\n",
       "      <td>128256</td>\n",
       "    </tr>\n",
       "    <tr>\n",
       "      <th>6</th>\n",
       "      <td>RelationToMeetName</td>\n",
       "      <td>422333</td>\n",
       "    </tr>\n",
       "    <tr>\n",
       "      <th>1</th>\n",
       "      <td>RelationToChronTerm</td>\n",
       "      <td>5446841</td>\n",
       "    </tr>\n",
       "    <tr>\n",
       "      <th>2</th>\n",
       "      <td>RelationToCorpName</td>\n",
       "      <td>6728127</td>\n",
       "    </tr>\n",
       "    <tr>\n",
       "      <th>4</th>\n",
       "      <td>RelationToGeoName</td>\n",
       "      <td>6861379</td>\n",
       "    </tr>\n",
       "    <tr>\n",
       "      <th>9</th>\n",
       "      <td>RelationToResource</td>\n",
       "      <td>7389423</td>\n",
       "    </tr>\n",
       "    <tr>\n",
       "      <th>7</th>\n",
       "      <td>RelationToPerName</td>\n",
       "      <td>20857782</td>\n",
       "    </tr>\n",
       "    <tr>\n",
       "      <th>3</th>\n",
       "      <td>RelationToTopicTerm</td>\n",
       "      <td>24068056</td>\n",
       "    </tr>\n",
       "    <tr>\n",
       "      <th>5</th>\n",
       "      <td>SocialRelation</td>\n",
       "      <td>40301595</td>\n",
       "    </tr>\n",
       "    <tr>\n",
       "      <th>0</th>\n",
       "      <td>RelationToIsilTerm</td>\n",
       "      <td>79159868</td>\n",
       "    </tr>\n",
       "  </tbody>\n",
       "</table>\n",
       "</div>"
      ],
      "text/plain": [
       "               relType     count\n",
       "8   RelationToUniTitle    128256\n",
       "6   RelationToMeetName    422333\n",
       "1  RelationToChronTerm   5446841\n",
       "2   RelationToCorpName   6728127\n",
       "4    RelationToGeoName   6861379\n",
       "9   RelationToResource   7389423\n",
       "7    RelationToPerName  20857782\n",
       "3  RelationToTopicTerm  24068056\n",
       "5       SocialRelation  40301595\n",
       "0   RelationToIsilTerm  79159868"
      ]
     },
     "execution_count": 28,
     "metadata": {},
     "output_type": "execute_result"
    }
   ],
   "source": [
    "import pandas as pd\n",
    "\n",
    "result = {\"relType\": [], \"count\": []}\n",
    "\n",
    "with driver.session() as session:\n",
    "    rel_types = [row[\"relationshipType\"] for row in session.run(\"CALL db.relationshipTypes()\")]\n",
    "    for rel_type in rel_types:\n",
    "        query = f\"MATCH ()-[:{rel_type}]->() RETURN count(*) as count\"\n",
    "        count = session.run(query).single()[\"count\"]\n",
    "        result[\"relType\"].append(rel_type)\n",
    "        result[\"count\"].append(count)\n",
    "        \n",
    "rel_type_df = pd.DataFrame(result)\n",
    "rel_type_df.sort_values(by = \"count\")"
   ]
  },
  {
   "cell_type": "markdown",
   "id": "appropriate-sponsorship",
   "metadata": {},
   "source": [
    "## Graph Analyses & Algorithms"
   ]
  },
  {
   "cell_type": "markdown",
   "id": "killing-houston",
   "metadata": {},
   "source": [
    "### Degree Centrality"
   ]
  },
  {
   "cell_type": "markdown",
   "id": "empirical-dollar",
   "metadata": {},
   "source": [
    "Centrality algorithms can be used to uncover the roles and importance of nodes in a network. There are many different ways to measure the centrality of a node. The example below uses the **Degree Centrality** as one of the simplest centrality measures. (Needham & Hodler, 2019)\n",
    "\n",
    "Degree centrality simply counts the number of incoming and outgoing relationships from a node. Degree centrality was introduced by Freeman in his paper \"Centrality in social networks conceptual clarification\" (1979).\n",
    "\n",
    "\n",
    "The example below calculates the number of `SocialRelation` for `PerName` nodes and returns the top 10 people with the most social relationships in the SoNAR (IDH) database.\n",
    "\n",
    "More information about Cypher based centrality procedures can be found [here](https://neo4j.com/docs/graph-data-science/current/algorithms/centrality/)."
   ]
  },
  {
   "cell_type": "code",
   "execution_count": 14,
   "id": "existing-lottery",
   "metadata": {
    "scrolled": true
   },
   "outputs": [
    {
     "name": "stderr",
     "output_type": "stream",
     "text": [
      "Failed to write data to connection IPv4Address(('h2918680.stratoserver.net', 7687)) (IPv4Address(('85.214.119.41', 7687))); (\"32; 'Broken pipe'\")\n",
      "Failed to write data to connection IPv4Address(('h2918680.stratoserver.net', 7687)) (IPv4Address(('85.214.119.41', 7687))); (\"32; 'Broken pipe'\")\n"
     ]
    },
    {
     "ename": "BrokenPipeError",
     "evalue": "[Errno 32] Broken pipe",
     "output_type": "error",
     "traceback": [
      "\u001b[0;31m---------------------------------------------------------------------------\u001b[0m",
      "\u001b[0;31mBrokenPipeError\u001b[0m                           Traceback (most recent call last)",
      "\u001b[0;32m<ipython-input-14-f5f78e579b64>\u001b[0m in \u001b[0;36m<module>\u001b[0;34m\u001b[0m\n\u001b[1;32m     16\u001b[0m \u001b[0;32mwith\u001b[0m \u001b[0mdriver\u001b[0m\u001b[0;34m.\u001b[0m\u001b[0msession\u001b[0m\u001b[0;34m(\u001b[0m\u001b[0;34m)\u001b[0m \u001b[0;32mas\u001b[0m \u001b[0msession\u001b[0m\u001b[0;34m:\u001b[0m\u001b[0;34m\u001b[0m\u001b[0;34m\u001b[0m\u001b[0m\n\u001b[0;32m---> 17\u001b[0;31m     \u001b[0mresult\u001b[0m \u001b[0;34m=\u001b[0m \u001b[0msession\u001b[0m\u001b[0;34m.\u001b[0m\u001b[0mrun\u001b[0m\u001b[0;34m(\u001b[0m\u001b[0mquery\u001b[0m\u001b[0;34m)\u001b[0m\u001b[0;34m.\u001b[0m\u001b[0mdata\u001b[0m\u001b[0;34m(\u001b[0m\u001b[0;34m)\u001b[0m\u001b[0;34m\u001b[0m\u001b[0;34m\u001b[0m\u001b[0m\n\u001b[0m\u001b[1;32m     18\u001b[0m \u001b[0;34m\u001b[0m\u001b[0m\n",
      "\u001b[0;32m/usr/local/lib/python3.8/site-packages/neo4j/work/simple.py\u001b[0m in \u001b[0;36mrun\u001b[0;34m(self, query, parameters, **kwparameters)\u001b[0m\n\u001b[1;32m    216\u001b[0m         \u001b[0mself\u001b[0m\u001b[0;34m.\u001b[0m\u001b[0m_autoResult\u001b[0m \u001b[0;34m=\u001b[0m \u001b[0mResult\u001b[0m\u001b[0;34m(\u001b[0m\u001b[0mcx\u001b[0m\u001b[0;34m,\u001b[0m \u001b[0mhydrant\u001b[0m\u001b[0;34m,\u001b[0m \u001b[0mself\u001b[0m\u001b[0;34m.\u001b[0m\u001b[0m_config\u001b[0m\u001b[0;34m.\u001b[0m\u001b[0mfetch_size\u001b[0m\u001b[0;34m,\u001b[0m \u001b[0mself\u001b[0m\u001b[0;34m.\u001b[0m\u001b[0m_result_closed\u001b[0m\u001b[0;34m)\u001b[0m\u001b[0;34m\u001b[0m\u001b[0;34m\u001b[0m\u001b[0m\n\u001b[0;32m--> 217\u001b[0;31m         \u001b[0mself\u001b[0m\u001b[0;34m.\u001b[0m\u001b[0m_autoResult\u001b[0m\u001b[0;34m.\u001b[0m\u001b[0m_run\u001b[0m\u001b[0;34m(\u001b[0m\u001b[0mquery\u001b[0m\u001b[0;34m,\u001b[0m \u001b[0mparameters\u001b[0m\u001b[0;34m,\u001b[0m \u001b[0mself\u001b[0m\u001b[0;34m.\u001b[0m\u001b[0m_config\u001b[0m\u001b[0;34m.\u001b[0m\u001b[0mdatabase\u001b[0m\u001b[0;34m,\u001b[0m \u001b[0mself\u001b[0m\u001b[0;34m.\u001b[0m\u001b[0m_config\u001b[0m\u001b[0;34m.\u001b[0m\u001b[0mdefault_access_mode\u001b[0m\u001b[0;34m,\u001b[0m \u001b[0mself\u001b[0m\u001b[0;34m.\u001b[0m\u001b[0m_bookmarks\u001b[0m\u001b[0;34m,\u001b[0m \u001b[0;34m**\u001b[0m\u001b[0mkwparameters\u001b[0m\u001b[0;34m)\u001b[0m\u001b[0;34m\u001b[0m\u001b[0;34m\u001b[0m\u001b[0m\n\u001b[0m\u001b[1;32m    218\u001b[0m \u001b[0;34m\u001b[0m\u001b[0m\n",
      "\u001b[0;32m/usr/local/lib/python3.8/site-packages/neo4j/work/result.py\u001b[0m in \u001b[0;36m_run\u001b[0;34m(self, query, parameters, db, access_mode, bookmarks, **kwparameters)\u001b[0m\n\u001b[1;32m     99\u001b[0m         \u001b[0mself\u001b[0m\u001b[0;34m.\u001b[0m\u001b[0m_pull\u001b[0m\u001b[0;34m(\u001b[0m\u001b[0;34m)\u001b[0m\u001b[0;34m\u001b[0m\u001b[0;34m\u001b[0m\u001b[0m\n\u001b[0;32m--> 100\u001b[0;31m         \u001b[0mself\u001b[0m\u001b[0;34m.\u001b[0m\u001b[0m_connection\u001b[0m\u001b[0;34m.\u001b[0m\u001b[0msend_all\u001b[0m\u001b[0;34m(\u001b[0m\u001b[0;34m)\u001b[0m\u001b[0;34m\u001b[0m\u001b[0;34m\u001b[0m\u001b[0m\n\u001b[0m\u001b[1;32m    101\u001b[0m         \u001b[0mself\u001b[0m\u001b[0;34m.\u001b[0m\u001b[0m_attach\u001b[0m\u001b[0;34m(\u001b[0m\u001b[0;34m)\u001b[0m\u001b[0;34m\u001b[0m\u001b[0;34m\u001b[0m\u001b[0m\n",
      "\u001b[0;32m/usr/local/lib/python3.8/site-packages/neo4j/io/_bolt3.py\u001b[0m in \u001b[0;36msend_all\u001b[0;34m(self)\u001b[0m\n\u001b[1;32m    279\u001b[0m         \u001b[0;32mtry\u001b[0m\u001b[0;34m:\u001b[0m\u001b[0;34m\u001b[0m\u001b[0;34m\u001b[0m\u001b[0m\n\u001b[0;32m--> 280\u001b[0;31m             \u001b[0mself\u001b[0m\u001b[0;34m.\u001b[0m\u001b[0m_send_all\u001b[0m\u001b[0;34m(\u001b[0m\u001b[0;34m)\u001b[0m\u001b[0;34m\u001b[0m\u001b[0;34m\u001b[0m\u001b[0m\n\u001b[0m\u001b[1;32m    281\u001b[0m         \u001b[0;32mexcept\u001b[0m \u001b[0;34m(\u001b[0m\u001b[0mIOError\u001b[0m\u001b[0;34m,\u001b[0m \u001b[0mOSError\u001b[0m\u001b[0;34m)\u001b[0m \u001b[0;32mas\u001b[0m \u001b[0merror\u001b[0m\u001b[0;34m:\u001b[0m\u001b[0;34m\u001b[0m\u001b[0;34m\u001b[0m\u001b[0m\n",
      "\u001b[0;32m/usr/local/lib/python3.8/site-packages/neo4j/io/_bolt3.py\u001b[0m in \u001b[0;36m_send_all\u001b[0;34m(self)\u001b[0m\n\u001b[1;32m    264\u001b[0m         \u001b[0;32mif\u001b[0m \u001b[0mdata\u001b[0m\u001b[0;34m:\u001b[0m\u001b[0;34m\u001b[0m\u001b[0;34m\u001b[0m\u001b[0m\n\u001b[0;32m--> 265\u001b[0;31m             \u001b[0mself\u001b[0m\u001b[0;34m.\u001b[0m\u001b[0msocket\u001b[0m\u001b[0;34m.\u001b[0m\u001b[0msendall\u001b[0m\u001b[0;34m(\u001b[0m\u001b[0mdata\u001b[0m\u001b[0;34m)\u001b[0m\u001b[0;34m\u001b[0m\u001b[0;34m\u001b[0m\u001b[0m\n\u001b[0m\u001b[1;32m    266\u001b[0m             \u001b[0mself\u001b[0m\u001b[0;34m.\u001b[0m\u001b[0moutbox\u001b[0m\u001b[0;34m.\u001b[0m\u001b[0mclear\u001b[0m\u001b[0;34m(\u001b[0m\u001b[0;34m)\u001b[0m\u001b[0;34m\u001b[0m\u001b[0;34m\u001b[0m\u001b[0m\n",
      "\u001b[0;32m/usr/local/lib/python3.8/ssl.py\u001b[0m in \u001b[0;36msendall\u001b[0;34m(self, data, flags)\u001b[0m\n\u001b[1;32m   1203\u001b[0m                 \u001b[0;32mwhile\u001b[0m \u001b[0mcount\u001b[0m \u001b[0;34m<\u001b[0m \u001b[0mamount\u001b[0m\u001b[0;34m:\u001b[0m\u001b[0;34m\u001b[0m\u001b[0;34m\u001b[0m\u001b[0m\n\u001b[0;32m-> 1204\u001b[0;31m                     \u001b[0mv\u001b[0m \u001b[0;34m=\u001b[0m \u001b[0mself\u001b[0m\u001b[0;34m.\u001b[0m\u001b[0msend\u001b[0m\u001b[0;34m(\u001b[0m\u001b[0mbyte_view\u001b[0m\u001b[0;34m[\u001b[0m\u001b[0mcount\u001b[0m\u001b[0;34m:\u001b[0m\u001b[0;34m]\u001b[0m\u001b[0;34m)\u001b[0m\u001b[0;34m\u001b[0m\u001b[0;34m\u001b[0m\u001b[0m\n\u001b[0m\u001b[1;32m   1205\u001b[0m                     \u001b[0mcount\u001b[0m \u001b[0;34m+=\u001b[0m \u001b[0mv\u001b[0m\u001b[0;34m\u001b[0m\u001b[0;34m\u001b[0m\u001b[0m\n",
      "\u001b[0;32m/usr/local/lib/python3.8/ssl.py\u001b[0m in \u001b[0;36msend\u001b[0;34m(self, data, flags)\u001b[0m\n\u001b[1;32m   1172\u001b[0m                     self.__class__)\n\u001b[0;32m-> 1173\u001b[0;31m             \u001b[0;32mreturn\u001b[0m \u001b[0mself\u001b[0m\u001b[0;34m.\u001b[0m\u001b[0m_sslobj\u001b[0m\u001b[0;34m.\u001b[0m\u001b[0mwrite\u001b[0m\u001b[0;34m(\u001b[0m\u001b[0mdata\u001b[0m\u001b[0;34m)\u001b[0m\u001b[0;34m\u001b[0m\u001b[0;34m\u001b[0m\u001b[0m\n\u001b[0m\u001b[1;32m   1174\u001b[0m         \u001b[0;32melse\u001b[0m\u001b[0;34m:\u001b[0m\u001b[0;34m\u001b[0m\u001b[0;34m\u001b[0m\u001b[0m\n",
      "\u001b[0;31mBrokenPipeError\u001b[0m: [Errno 32] Broken pipe",
      "\nDuring handling of the above exception, another exception occurred:\n",
      "\u001b[0;31mBrokenPipeError\u001b[0m                           Traceback (most recent call last)",
      "\u001b[0;32m<ipython-input-14-f5f78e579b64>\u001b[0m in \u001b[0;36m<module>\u001b[0;34m\u001b[0m\n\u001b[1;32m     15\u001b[0m \u001b[0;34m\u001b[0m\u001b[0m\n\u001b[1;32m     16\u001b[0m \u001b[0;32mwith\u001b[0m \u001b[0mdriver\u001b[0m\u001b[0;34m.\u001b[0m\u001b[0msession\u001b[0m\u001b[0;34m(\u001b[0m\u001b[0;34m)\u001b[0m \u001b[0;32mas\u001b[0m \u001b[0msession\u001b[0m\u001b[0;34m:\u001b[0m\u001b[0;34m\u001b[0m\u001b[0;34m\u001b[0m\u001b[0m\n\u001b[0;32m---> 17\u001b[0;31m     \u001b[0mresult\u001b[0m \u001b[0;34m=\u001b[0m \u001b[0msession\u001b[0m\u001b[0;34m.\u001b[0m\u001b[0mrun\u001b[0m\u001b[0;34m(\u001b[0m\u001b[0mquery\u001b[0m\u001b[0;34m)\u001b[0m\u001b[0;34m.\u001b[0m\u001b[0mdata\u001b[0m\u001b[0;34m(\u001b[0m\u001b[0;34m)\u001b[0m\u001b[0;34m\u001b[0m\u001b[0;34m\u001b[0m\u001b[0m\n\u001b[0m\u001b[1;32m     18\u001b[0m \u001b[0;34m\u001b[0m\u001b[0m\n\u001b[1;32m     19\u001b[0m \u001b[0;34m\u001b[0m\u001b[0m\n",
      "\u001b[0;32m/usr/local/lib/python3.8/site-packages/neo4j/work/simple.py\u001b[0m in \u001b[0;36m__exit__\u001b[0;34m(self, exception_type, exception_value, traceback)\u001b[0m\n\u001b[1;32m    103\u001b[0m         \u001b[0;32mif\u001b[0m \u001b[0mexception_type\u001b[0m\u001b[0;34m:\u001b[0m\u001b[0;34m\u001b[0m\u001b[0;34m\u001b[0m\u001b[0m\n\u001b[1;32m    104\u001b[0m             \u001b[0mself\u001b[0m\u001b[0;34m.\u001b[0m\u001b[0m_state_failed\u001b[0m \u001b[0;34m=\u001b[0m \u001b[0;32mTrue\u001b[0m\u001b[0;34m\u001b[0m\u001b[0;34m\u001b[0m\u001b[0m\n\u001b[0;32m--> 105\u001b[0;31m         \u001b[0mself\u001b[0m\u001b[0;34m.\u001b[0m\u001b[0mclose\u001b[0m\u001b[0;34m(\u001b[0m\u001b[0;34m)\u001b[0m\u001b[0;34m\u001b[0m\u001b[0;34m\u001b[0m\u001b[0m\n\u001b[0m\u001b[1;32m    106\u001b[0m \u001b[0;34m\u001b[0m\u001b[0m\n\u001b[1;32m    107\u001b[0m     \u001b[0;32mdef\u001b[0m \u001b[0m_connect\u001b[0m\u001b[0;34m(\u001b[0m\u001b[0mself\u001b[0m\u001b[0;34m,\u001b[0m \u001b[0maccess_mode\u001b[0m\u001b[0;34m,\u001b[0m \u001b[0mdatabase\u001b[0m\u001b[0;34m)\u001b[0m\u001b[0;34m:\u001b[0m\u001b[0;34m\u001b[0m\u001b[0;34m\u001b[0m\u001b[0m\n",
      "\u001b[0;32m/usr/local/lib/python3.8/site-packages/neo4j/work/simple.py\u001b[0m in \u001b[0;36mclose\u001b[0;34m(self)\u001b[0m\n\u001b[1;32m    152\u001b[0m             \u001b[0;32mtry\u001b[0m\u001b[0;34m:\u001b[0m\u001b[0;34m\u001b[0m\u001b[0;34m\u001b[0m\u001b[0m\n\u001b[1;32m    153\u001b[0m                 \u001b[0;32mif\u001b[0m \u001b[0mself\u001b[0m\u001b[0;34m.\u001b[0m\u001b[0m_connection\u001b[0m\u001b[0;34m:\u001b[0m\u001b[0;34m\u001b[0m\u001b[0;34m\u001b[0m\u001b[0m\n\u001b[0;32m--> 154\u001b[0;31m                     \u001b[0mself\u001b[0m\u001b[0;34m.\u001b[0m\u001b[0m_connection\u001b[0m\u001b[0;34m.\u001b[0m\u001b[0msend_all\u001b[0m\u001b[0;34m(\u001b[0m\u001b[0;34m)\u001b[0m\u001b[0;34m\u001b[0m\u001b[0;34m\u001b[0m\u001b[0m\n\u001b[0m\u001b[1;32m    155\u001b[0m                     \u001b[0mself\u001b[0m\u001b[0;34m.\u001b[0m\u001b[0m_connection\u001b[0m\u001b[0;34m.\u001b[0m\u001b[0mfetch_all\u001b[0m\u001b[0;34m(\u001b[0m\u001b[0;34m)\u001b[0m\u001b[0;34m\u001b[0m\u001b[0;34m\u001b[0m\u001b[0m\n\u001b[1;32m    156\u001b[0m                     \u001b[0;31m# TODO: Investigate potential non graceful close states\u001b[0m\u001b[0;34m\u001b[0m\u001b[0;34m\u001b[0m\u001b[0;34m\u001b[0m\u001b[0m\n",
      "\u001b[0;32m/usr/local/lib/python3.8/site-packages/neo4j/io/_bolt3.py\u001b[0m in \u001b[0;36msend_all\u001b[0;34m(self)\u001b[0m\n\u001b[1;32m    278\u001b[0m \u001b[0;34m\u001b[0m\u001b[0m\n\u001b[1;32m    279\u001b[0m         \u001b[0;32mtry\u001b[0m\u001b[0;34m:\u001b[0m\u001b[0;34m\u001b[0m\u001b[0;34m\u001b[0m\u001b[0m\n\u001b[0;32m--> 280\u001b[0;31m             \u001b[0mself\u001b[0m\u001b[0;34m.\u001b[0m\u001b[0m_send_all\u001b[0m\u001b[0;34m(\u001b[0m\u001b[0;34m)\u001b[0m\u001b[0;34m\u001b[0m\u001b[0;34m\u001b[0m\u001b[0m\n\u001b[0m\u001b[1;32m    281\u001b[0m         \u001b[0;32mexcept\u001b[0m \u001b[0;34m(\u001b[0m\u001b[0mIOError\u001b[0m\u001b[0;34m,\u001b[0m \u001b[0mOSError\u001b[0m\u001b[0;34m)\u001b[0m \u001b[0;32mas\u001b[0m \u001b[0merror\u001b[0m\u001b[0;34m:\u001b[0m\u001b[0;34m\u001b[0m\u001b[0;34m\u001b[0m\u001b[0m\n\u001b[1;32m    282\u001b[0m             log.error(\"Failed to write data to connection \"\n",
      "\u001b[0;32m/usr/local/lib/python3.8/site-packages/neo4j/io/_bolt3.py\u001b[0m in \u001b[0;36m_send_all\u001b[0;34m(self)\u001b[0m\n\u001b[1;32m    263\u001b[0m         \u001b[0mdata\u001b[0m \u001b[0;34m=\u001b[0m \u001b[0mself\u001b[0m\u001b[0;34m.\u001b[0m\u001b[0moutbox\u001b[0m\u001b[0;34m.\u001b[0m\u001b[0mview\u001b[0m\u001b[0;34m(\u001b[0m\u001b[0;34m)\u001b[0m\u001b[0;34m\u001b[0m\u001b[0;34m\u001b[0m\u001b[0m\n\u001b[1;32m    264\u001b[0m         \u001b[0;32mif\u001b[0m \u001b[0mdata\u001b[0m\u001b[0;34m:\u001b[0m\u001b[0;34m\u001b[0m\u001b[0;34m\u001b[0m\u001b[0m\n\u001b[0;32m--> 265\u001b[0;31m             \u001b[0mself\u001b[0m\u001b[0;34m.\u001b[0m\u001b[0msocket\u001b[0m\u001b[0;34m.\u001b[0m\u001b[0msendall\u001b[0m\u001b[0;34m(\u001b[0m\u001b[0mdata\u001b[0m\u001b[0;34m)\u001b[0m\u001b[0;34m\u001b[0m\u001b[0;34m\u001b[0m\u001b[0m\n\u001b[0m\u001b[1;32m    266\u001b[0m             \u001b[0mself\u001b[0m\u001b[0;34m.\u001b[0m\u001b[0moutbox\u001b[0m\u001b[0;34m.\u001b[0m\u001b[0mclear\u001b[0m\u001b[0;34m(\u001b[0m\u001b[0;34m)\u001b[0m\u001b[0;34m\u001b[0m\u001b[0;34m\u001b[0m\u001b[0m\n\u001b[1;32m    267\u001b[0m \u001b[0;34m\u001b[0m\u001b[0m\n",
      "\u001b[0;32m/usr/local/lib/python3.8/ssl.py\u001b[0m in \u001b[0;36msendall\u001b[0;34m(self, data, flags)\u001b[0m\n\u001b[1;32m   1202\u001b[0m                 \u001b[0mamount\u001b[0m \u001b[0;34m=\u001b[0m \u001b[0mlen\u001b[0m\u001b[0;34m(\u001b[0m\u001b[0mbyte_view\u001b[0m\u001b[0;34m)\u001b[0m\u001b[0;34m\u001b[0m\u001b[0;34m\u001b[0m\u001b[0m\n\u001b[1;32m   1203\u001b[0m                 \u001b[0;32mwhile\u001b[0m \u001b[0mcount\u001b[0m \u001b[0;34m<\u001b[0m \u001b[0mamount\u001b[0m\u001b[0;34m:\u001b[0m\u001b[0;34m\u001b[0m\u001b[0;34m\u001b[0m\u001b[0m\n\u001b[0;32m-> 1204\u001b[0;31m                     \u001b[0mv\u001b[0m \u001b[0;34m=\u001b[0m \u001b[0mself\u001b[0m\u001b[0;34m.\u001b[0m\u001b[0msend\u001b[0m\u001b[0;34m(\u001b[0m\u001b[0mbyte_view\u001b[0m\u001b[0;34m[\u001b[0m\u001b[0mcount\u001b[0m\u001b[0;34m:\u001b[0m\u001b[0;34m]\u001b[0m\u001b[0;34m)\u001b[0m\u001b[0;34m\u001b[0m\u001b[0;34m\u001b[0m\u001b[0m\n\u001b[0m\u001b[1;32m   1205\u001b[0m                     \u001b[0mcount\u001b[0m \u001b[0;34m+=\u001b[0m \u001b[0mv\u001b[0m\u001b[0;34m\u001b[0m\u001b[0;34m\u001b[0m\u001b[0m\n\u001b[1;32m   1206\u001b[0m         \u001b[0;32melse\u001b[0m\u001b[0;34m:\u001b[0m\u001b[0;34m\u001b[0m\u001b[0;34m\u001b[0m\u001b[0m\n",
      "\u001b[0;32m/usr/local/lib/python3.8/ssl.py\u001b[0m in \u001b[0;36msend\u001b[0;34m(self, data, flags)\u001b[0m\n\u001b[1;32m   1171\u001b[0m                     \u001b[0;34m\"non-zero flags not allowed in calls to send() on %s\"\u001b[0m \u001b[0;34m%\u001b[0m\u001b[0;34m\u001b[0m\u001b[0;34m\u001b[0m\u001b[0m\n\u001b[1;32m   1172\u001b[0m                     self.__class__)\n\u001b[0;32m-> 1173\u001b[0;31m             \u001b[0;32mreturn\u001b[0m \u001b[0mself\u001b[0m\u001b[0;34m.\u001b[0m\u001b[0m_sslobj\u001b[0m\u001b[0;34m.\u001b[0m\u001b[0mwrite\u001b[0m\u001b[0;34m(\u001b[0m\u001b[0mdata\u001b[0m\u001b[0;34m)\u001b[0m\u001b[0;34m\u001b[0m\u001b[0;34m\u001b[0m\u001b[0m\n\u001b[0m\u001b[1;32m   1174\u001b[0m         \u001b[0;32melse\u001b[0m\u001b[0;34m:\u001b[0m\u001b[0;34m\u001b[0m\u001b[0;34m\u001b[0m\u001b[0m\n\u001b[1;32m   1175\u001b[0m             \u001b[0;32mreturn\u001b[0m \u001b[0msuper\u001b[0m\u001b[0;34m(\u001b[0m\u001b[0;34m)\u001b[0m\u001b[0;34m.\u001b[0m\u001b[0msend\u001b[0m\u001b[0;34m(\u001b[0m\u001b[0mdata\u001b[0m\u001b[0;34m,\u001b[0m \u001b[0mflags\u001b[0m\u001b[0;34m)\u001b[0m\u001b[0;34m\u001b[0m\u001b[0;34m\u001b[0m\u001b[0m\n",
      "\u001b[0;31mBrokenPipeError\u001b[0m: [Errno 32] Broken pipe"
     ]
    }
   ],
   "source": [
    "# In the query below we use the build-in degree centrality procedure of Neo4j. \n",
    "# We define a \"node projection\" and a \"relationship projection\", to narrow down the degree centrality calculation\n",
    "# to a specific subset of nodes and edges. \n",
    "# More details can be found by following the link mentioned in the text above.\n",
    "query = \"\"\"\n",
    "CALL gds.alpha.degree.stream({\n",
    "    nodeProjection: \"PerName\",\n",
    "    relationshipProjection: \"SocialRelation\"\n",
    "})\n",
    "YIELD nodeId, score\n",
    "RETURN gds.util.asNode(nodeId).Name AS Name, score\n",
    "ORDER BY score DESC\n",
    "LIMIT 10\n",
    "\"\"\"\n",
    "\n",
    "with driver.session() as session:\n",
    "    result = session.run(query).data()\n",
    "\n",
    "\n",
    "result"
   ]
  },
  {
   "cell_type": "markdown",
   "id": "awful-aruba",
   "metadata": {},
   "source": [
    "### Shortest Path"
   ]
  },
  {
   "cell_type": "markdown",
   "id": "vital-campbell",
   "metadata": {},
   "source": [
    "As shown in notebook 2, we can conduct a path finding algorithm to find the shortest path between two nodes. The shortest path algorithm can take weighted relationships into account and is widely applied in navigation systems.\n",
    "\n",
    "Furthermore the detection of shortest paths can provide insights about how close people are to each other and how similar they might be to each other or if they share something in common. (Needham & Hodler, 2019)\n",
    "\n",
    "The example below shows the calculation of the shortest path between John Hume and Marie Curie. The same example was used in notebook 2, but on an alternated subgraph of the SoNAR (IDH) database. This time we run the algorithm over the full database and hence we find a different shortest path.\n",
    "\n",
    "More information on Cypher based path finding algorithm procedures can be found [here](https://neo4j.com/docs/graph-data-science/current/algorithms/pathfinding/)."
   ]
  },
  {
   "cell_type": "code",
   "execution_count": 61,
   "id": "arctic-currency",
   "metadata": {
    "scrolled": true
   },
   "outputs": [
    {
     "data": {
      "text/plain": [
       "[{'Name': 'Hume, John'},\n",
       " {'Name': 'Annan, Kofi A.'},\n",
       " {'Name': 'UNESCO'},\n",
       " {'Name': 'Einstein, Albert'},\n",
       " {'Name': 'Skłodowska-Curie, Marie'}]"
      ]
     },
     "execution_count": 61,
     "metadata": {},
     "output_type": "execute_result"
    }
   ],
   "source": [
    "query = \"\"\"\n",
    "MATCH (start:PerName {Name: \"Hume, John\"}),\n",
    "      (end:PerName {Name: \"Skłodowska-Curie, Marie\"})\n",
    "WHERE start.id = \"Aut119444666\"\n",
    "\n",
    "CALL gds.alpha.shortestPath.stream({\n",
    "    startNode: start,\n",
    "    endNode: end,\n",
    "    nodeProjection: \"*\",\n",
    "    relationshipProjection: {\n",
    "    all: {\n",
    "        type: \"SocialRelation\",\n",
    "        orientation: \"UNDIRECTED\"\n",
    "    }\n",
    "}})\n",
    "\n",
    "YIELD nodeId, cost\n",
    "RETURN gds.util.asNode(nodeId).Name AS Name\n",
    "\"\"\"\n",
    "\n",
    "with driver.session() as session:\n",
    "    result = session.run(query).data()\n",
    "\n",
    "\n",
    "result"
   ]
  },
  {
   "cell_type": "markdown",
   "id": "rising-sodium",
   "metadata": {},
   "source": [
    "# Complex Queries & Data Preparation"
   ]
  },
  {
   "cell_type": "markdown",
   "id": "passing-grove",
   "metadata": {},
   "source": [
    "In this last chapter of notebook 3 we want to take a look into more complex queries and data processing procedures. The queries in this chapter use concepts and functionalities of the Cypher query language we did not use so far. As mentioned earlier there won't be an in-depth explanation of how the queries are working but there will be links to the documentation of the most important parts. "
   ]
  },
  {
   "cell_type": "markdown",
   "id": "talented-pledge",
   "metadata": {},
   "source": [
    "## Analyse Works And Resources by Genre in a Time Range"
   ]
  },
  {
   "cell_type": "markdown",
   "id": "sublime-pillow",
   "metadata": {},
   "source": [
    "For the query below we want to retrieve all resources (`Resource`) and related works (`UniTitle`). Furthermore we  apply a temporal filter, so we only retrieve resources and works created in a given time span."
   ]
  },
  {
   "cell_type": "code",
   "execution_count": 35,
   "id": "competitive-mathematics",
   "metadata": {},
   "outputs": [],
   "source": [
    "from neo4j import GraphDatabase\n",
    "import networkx as nx\n",
    "\n",
    "driver = GraphDatabase.driver(uri, auth=(user, password))\n",
    "\n",
    "from_year = \"1900\"\n",
    "to_year = \"1925\"\n",
    "\n",
    "date_pattern = \"([0-9]{4})\"\n",
    "\n",
    "# query scaffolding with placeholders\n",
    "query = \"\"\"\n",
    "MATCH (n:UniTitle)-[r]-(m:Resource)\n",
    "WHERE m.DateApproxBegin =~ \"{date_pattern}\"\n",
    "    AND toInteger(m.DateApproxBegin) >= toInteger({from_year}) \n",
    "    AND toInteger(m.DateApproxBegin) <= toInteger({to_year}) \n",
    "RETURN *\n",
    "\"\"\"\n",
    "\n",
    "# replace placeholders in query sccaffolding\n",
    "query = query.format(from_year=from_year, \n",
    "                     to_year=to_year,\n",
    "                     date_pattern = date_pattern)"
   ]
  },
  {
   "cell_type": "markdown",
   "id": "extended-illustration",
   "metadata": {},
   "source": [
    "The query above uses the following elements to construct the database request:\n",
    "\n",
    " - **Regular Expressions** are used to select only correct year formats. Click [here](https://neo4j.com/docs/cypher-manual/current/clauses/where/#matching-using-regular-expressions) for more details on matching with Cypher using regular expressions.\n",
    " \n",
    " - **Scalar Functions** to convert string values to integer values. Click [here](https://neo4j.com/docs/cypher-manual/current/functions/scalar/#functions-tointeger) for more details.\n",
    " - The **Python string format() method** to replace placeholders inside a character string in Python. Click [here](https://www.w3schools.com/python/ref_string_format.asp) for more details."
   ]
  },
  {
   "cell_type": "markdown",
   "id": "unsigned-vocabulary",
   "metadata": {},
   "source": [
    "In the next step, we use a custom function to process the query. We import a function called `to_nx_graph()`. This function is helping us to keep the code slim and clean. The function itself is doing things we did several times before already:\n",
    "\n",
    "On the one hand it sends the query to the SoNAR (DH) database and ingests the databases reply. \n",
    "On the other hand the function generates a `networkx` Graph object from the returned data. This process is similar to the one used in the chapter \"Case Study: Nobel Laureates\" in notebook 2. \n",
    "\n",
    "Click [here](../notebooks/helper_functions/helper_fun.py) to see the source code of this helper function."
   ]
  },
  {
   "cell_type": "code",
   "execution_count": 36,
   "id": "thermal-drama",
   "metadata": {},
   "outputs": [],
   "source": [
    "from helper_functions.helper_fun import to_nx_graph\n",
    "\n",
    "G = to_nx_graph(neo4j_driver = driver, \n",
    "                query = query)"
   ]
  },
  {
   "cell_type": "markdown",
   "id": "previous-coral",
   "metadata": {},
   "source": [
    "This graph object can easily be converted to a data frame and analyzed as tabular data. "
   ]
  },
  {
   "cell_type": "code",
   "execution_count": 37,
   "id": "loving-prescription",
   "metadata": {},
   "outputs": [
    {
     "data": {
      "text/plain": [
       "Resource    905\n",
       "UniTitle    363\n",
       "Name: type, dtype: int64"
      ]
     },
     "execution_count": 37,
     "metadata": {},
     "output_type": "execute_result"
    }
   ],
   "source": [
    "import pandas as pd\n",
    "graph_df = pd.DataFrame.from_dict(dict(G.nodes(data=True)), orient='index')\n",
    "graph_df[\"type\"].value_counts()"
   ]
  },
  {
   "cell_type": "markdown",
   "id": "resistant-principle",
   "metadata": {},
   "source": [
    "In the next step we prepare the visualisation of the graph. We can define different colors for the nodes. Let's color the nodes by their type. "
   ]
  },
  {
   "cell_type": "code",
   "execution_count": 38,
   "id": "about-driving",
   "metadata": {},
   "outputs": [],
   "source": [
    "type_list = []\n",
    "for node in list(G.nodes):\n",
    "    type_list.append(G.nodes[node][\"type\"])\n",
    "    \n",
    "color_map = {\"Resource\": \"red\", \"UniTitle\": \"green\"}\n",
    "\n",
    "color_dict = dict(zip(list(G.nodes), [color_map.get(item, item) for item in type_list]))\n",
    "\n",
    "nx.set_node_attributes(G, color_dict, \"color\")"
   ]
  },
  {
   "cell_type": "markdown",
   "id": "insured-bidding",
   "metadata": {},
   "source": [
    "Now, we visualise the Graph inside the Jupyter Notebook using the [`pyvis` package](https://pyvis.readthedocs.io/en/latest/index.html)."
   ]
  },
  {
   "cell_type": "code",
   "execution_count": 40,
   "id": "minute-program",
   "metadata": {
    "scrolled": true
   },
   "outputs": [
    {
     "data": {
      "text/html": [
       "\n",
       "        <iframe\n",
       "            width=\"100%\"\n",
       "            height=\"750\"\n",
       "            src=\"./html_networks/works_in_time_range.html\"\n",
       "            frameborder=\"0\"\n",
       "            allowfullscreen\n",
       "        ></iframe>\n",
       "        "
      ],
      "text/plain": [
       "<IPython.lib.display.IFrame at 0x7fa863fedaf0>"
      ]
     },
     "execution_count": 40,
     "metadata": {},
     "output_type": "execute_result"
    }
   ],
   "source": [
    "from pyvis.network import Network\n",
    "\n",
    "nt = Network('750', '100%', notebook=True)\n",
    "nt.repulsion()\n",
    "nt.from_nx(G)\n",
    "nt.show('./html_networks/works_in_time_range.html')"
   ]
  },
  {
   "cell_type": "markdown",
   "id": "polished-effect",
   "metadata": {},
   "source": [
    "## Analyse Persons by TopicTerm and Time Range"
   ]
  },
  {
   "cell_type": "markdown",
   "id": "national-parker",
   "metadata": {},
   "source": [
    "The following example is about analysing persons based on a specific topic term and whether the person was alive during a given time period. \n",
    "\n",
    "The query below filters people that were Sociologists and were alive between January 1st, 1900 and January 1st, 1925. Furthermore the query retrieves all connected resources of the persons that meet the filter criteria. "
   ]
  },
  {
   "cell_type": "code",
   "execution_count": 63,
   "id": "timely-ceramic",
   "metadata": {},
   "outputs": [],
   "source": [
    "from neo4j import GraphDatabase\n",
    "import networkx as nx\n",
    "\n",
    "driver = GraphDatabase.driver(uri, auth=(user, password))\n",
    "\n",
    "from_date = \"1900-01-01\"\n",
    "to_date = \"1925-01-01\"\n",
    "topic_term = \"Soziolog\"\n",
    "\n",
    "date_pattern = \"([0-9]{2}[.][0-9]{2}[.][0-9]{4})\"\n",
    "\n",
    "# query scaffolding with placeholders\n",
    "query = \"\"\"\n",
    "MATCH (n:PerName)-[r1]-(t:TopicTerm), \n",
    "      (n:PerName)-[r2]-(m:Resource)\n",
    "WHERE n.DateStrictBegin =~ '{date_pattern}' AND n.DateStrictEnd  =~ '{date_pattern}' AND\n",
    "    t.Name CONTAINS \"{topic_term}\"\n",
    "WITH apoc.date.parse(n.DateStrictBegin, \"ms\", \"dd.MM.yyyy\") AS parsed_birth, \n",
    "    apoc.date.parse(n.DateStrictEnd, \"ms\", \"dd.MM.yyyy\") AS parsed_death, \n",
    "    n, m, t, r1, r2\n",
    "WHERE apoc.coll.max([date(datetime({{epochmillis: parsed_birth}})), date(\"{from_date}\")]) <= apoc.coll.min([date(datetime({{epochmillis: parsed_death}})), date(\"{to_date}\")]) \n",
    "RETURN *\n",
    "LIMIT 2000\n",
    "\"\"\"\n",
    "\n",
    "# replace placeholders in query scaffolding\n",
    "query = query.format(from_date=from_date, \n",
    "                     to_date=to_date, \n",
    "                     date_pattern = date_pattern,\n",
    "                    topic_term = topic_term)"
   ]
  },
  {
   "cell_type": "markdown",
   "id": "yellow-humidity",
   "metadata": {},
   "source": [
    "The query above uses the following new elements to construct the database request:\n",
    "\n",
    "- APOC procedures are used to parse actual date and time variables. APOC procedures are predefined Cypher functions that make processing data easier. A full user guide for the build-in APOC procedures can be found [here](https://neo4j.com/labs/apoc/4.1/). An introduction to working with dates using the Cypher language can be found [here](https://neo4j.com/developer/cypher/dates-datetimes-durations/).\n",
    "- The Cypher `WITH` clause is used to chain together new variables with the rest of the query. More details on the `WITH` clause can be found [here](https://neo4j.com/docs/cypher-manual/current/clauses/with/)"
   ]
  },
  {
   "cell_type": "markdown",
   "id": "diverse-institution",
   "metadata": {},
   "source": [
    "In the next step we call the custom function `to_nx_graph()` again and convert the graph to a data frame."
   ]
  },
  {
   "cell_type": "code",
   "execution_count": 64,
   "id": "laughing-acting",
   "metadata": {},
   "outputs": [],
   "source": [
    "from helper_functions.helper_fun import to_nx_graph\n",
    "\n",
    "G = to_nx_graph(neo4j_driver = driver, \n",
    "                query = query)"
   ]
  },
  {
   "cell_type": "code",
   "execution_count": 65,
   "id": "educated-setting",
   "metadata": {},
   "outputs": [
    {
     "data": {
      "text/plain": [
       "Resource     1980\n",
       "PerName       126\n",
       "TopicTerm       1\n",
       "Name: type, dtype: int64"
      ]
     },
     "execution_count": 65,
     "metadata": {},
     "output_type": "execute_result"
    }
   ],
   "source": [
    "import pandas as pd\n",
    "graph_df = pd.DataFrame.from_dict(dict(G.nodes(data=True)), orient='index')\n",
    "graph_df[\"type\"].value_counts()"
   ]
  },
  {
   "cell_type": "code",
   "execution_count": 67,
   "id": "mathematical-nursing",
   "metadata": {},
   "outputs": [],
   "source": [
    "type_list = []\n",
    "for node in list(G.nodes):\n",
    "    type_list.append(G.nodes[node][\"type\"])\n",
    "    \n",
    "color_map = {\"Resource\": \"red\", \"TopicTerm\": \"green\", \"PerName\": \"yellow\"}\n",
    "\n",
    "color_dict = dict(zip(list(G.nodes), [color_map.get(item, item) for item in type_list]))\n",
    "\n",
    "nx.set_node_attributes(G, color_dict, \"color\")"
   ]
  },
  {
   "cell_type": "code",
   "execution_count": 68,
   "id": "competent-fifth",
   "metadata": {
    "scrolled": true
   },
   "outputs": [
    {
     "data": {
      "text/html": [
       "\n",
       "        <iframe\n",
       "            width=\"100%\"\n",
       "            height=\"750px\"\n",
       "            src=\"./html_networks/person_by_topic.html\"\n",
       "            frameborder=\"0\"\n",
       "            allowfullscreen\n",
       "        ></iframe>\n",
       "        "
      ],
      "text/plain": [
       "<IPython.lib.display.IFrame at 0x7fa85e56e6a0>"
      ]
     },
     "execution_count": 68,
     "metadata": {},
     "output_type": "execute_result"
    }
   ],
   "source": [
    "from pyvis.network import Network\n",
    "\n",
    "nt = Network('750px', '100%', notebook=True)\n",
    "nt.from_nx(G)\n",
    "nt.repulsion()\n",
    "nt.show('./html_networks/person_by_topic.html')"
   ]
  },
  {
   "cell_type": "markdown",
   "id": "centered-ecuador",
   "metadata": {},
   "source": [
    "## Retrieve a complex Person centered Network"
   ]
  },
  {
   "cell_type": "markdown",
   "id": "congressional-equivalent",
   "metadata": {},
   "source": [
    "The last example uses the same procedures as before. This time a complex network that is centered around one person is retrieved. The GND-ID can be used to filter for a specific person. The example below uses the GND-ID of [Nathan Zuntz](https://portal.dnb.de/opac.htm?method=moveDown&currentResultId=%22118896202%22%26any&categoryId=persons)."
   ]
  },
  {
   "cell_type": "code",
   "execution_count": 69,
   "id": "unauthorized-tours",
   "metadata": {},
   "outputs": [],
   "source": [
    "from neo4j import GraphDatabase\n",
    "import networkx as nx\n",
    "\n",
    "driver = GraphDatabase.driver(uri, auth=(user, password))\n",
    "\n",
    "gnd_id = \"(DE-588)118896202\"\n",
    "\n",
    "query = \"\"\"\n",
    "MATCH (main_node:PerName {{Id: \"{gnd_id}\"}})-[r1:RelationToPerName]-(friends)-[r2:RelationToPerName]-(friends_friends),\n",
    " (main_node:PerName {{Id: \"{gnd_id}\"}})-[r3]-(corps:CorpName)\n",
    "RETURN *\n",
    "\"\"\"\n",
    "\n",
    "# replace placeholders in query scaffolding\n",
    "query = query.format(gnd_id = gnd_id)"
   ]
  },
  {
   "cell_type": "code",
   "execution_count": 70,
   "id": "arabic-sleeping",
   "metadata": {},
   "outputs": [],
   "source": [
    "from helper_functions.helper_fun import to_nx_graph\n",
    "\n",
    "G = to_nx_graph(neo4j_driver = driver, \n",
    "                query = query)"
   ]
  },
  {
   "cell_type": "code",
   "execution_count": 71,
   "id": "hundred-haiti",
   "metadata": {},
   "outputs": [
    {
     "data": {
      "text/plain": [
       "PerName     142\n",
       "Resource    132\n",
       "CorpName     15\n",
       "Name: type, dtype: int64"
      ]
     },
     "execution_count": 71,
     "metadata": {},
     "output_type": "execute_result"
    }
   ],
   "source": [
    "import pandas as pd\n",
    "graph_df = pd.DataFrame.from_dict(dict(G.nodes(data=True)), orient='index')\n",
    "graph_df[\"type\"].value_counts()"
   ]
  },
  {
   "cell_type": "code",
   "execution_count": 72,
   "id": "surprised-testing",
   "metadata": {},
   "outputs": [],
   "source": [
    "type_list = []\n",
    "for node in list(G.nodes):\n",
    "    type_list.append(G.nodes[node][\"type\"])\n",
    "    \n",
    "color_map = {\"PerName\": \"red\", \"CorpName\": \"blue\", \"Resource\": \"green\"}\n",
    "\n",
    "color_dict = dict(zip(list(G.nodes), [color_map.get(item, item) for item in type_list]))\n",
    "\n",
    "nx.set_node_attributes(G, color_dict, \"color\")"
   ]
  },
  {
   "cell_type": "code",
   "execution_count": 73,
   "id": "super-london",
   "metadata": {},
   "outputs": [
    {
     "data": {
      "text/html": [
       "\n",
       "        <iframe\n",
       "            width=\"100%\"\n",
       "            height=\"750px\"\n",
       "            src=\"./html_networks/person_centered_net.html\"\n",
       "            frameborder=\"0\"\n",
       "            allowfullscreen\n",
       "        ></iframe>\n",
       "        "
      ],
      "text/plain": [
       "<IPython.lib.display.IFrame at 0x7fa861bd12e0>"
      ]
     },
     "execution_count": 73,
     "metadata": {},
     "output_type": "execute_result"
    }
   ],
   "source": [
    "from pyvis.network import Network\n",
    "\n",
    "nt = Network('750px', '100%', notebook=True)\n",
    "nt.from_nx(G)\n",
    "nt.show('./html_networks/person_centered_net.html')"
   ]
  },
  {
   "cell_type": "markdown",
   "id": "automatic-value",
   "metadata": {},
   "source": [
    "# Bibliography"
   ]
  },
  {
   "cell_type": "markdown",
   "id": "joint-digit",
   "metadata": {},
   "source": [
    "Freeman, L. C. (1978). Centrality in social networks conceptual clarification. Social Networks, 1(3), 215–239. https://doi.org/10.1016/0378-8733(78)90021-7\n",
    "\n",
    "Needham, M. & Hodler, A. (2019). Graph algorithms : practical examples in Apache Spark and Neo4j. Beijing: O'Reilly."
   ]
  }
 ],
 "metadata": {
  "kernelspec": {
   "display_name": "Python 3",
   "language": "python",
   "name": "python3"
  },
  "language_info": {
   "codemirror_mode": {
    "name": "ipython",
    "version": 3
   },
   "file_extension": ".py",
   "mimetype": "text/x-python",
   "name": "python",
   "nbconvert_exporter": "python",
   "pygments_lexer": "ipython3",
   "version": "3.8.9"
  },
  "toc": {
   "base_numbering": 1,
   "nav_menu": {},
   "number_sections": true,
   "sideBar": true,
   "skip_h1_title": false,
   "title_cell": "Table of Contents",
   "title_sidebar": "Contents",
   "toc_cell": false,
   "toc_position": {
    "height": "calc(100% - 180px)",
    "left": "10px",
    "top": "150px",
    "width": "326px"
   },
   "toc_section_display": true,
   "toc_window_display": true
  },
  "varInspector": {
   "cols": {
    "lenName": 16,
    "lenType": 16,
    "lenVar": 40
   },
   "kernels_config": {
    "python": {
     "delete_cmd_postfix": "",
     "delete_cmd_prefix": "del ",
     "library": "var_list.py",
     "varRefreshCmd": "print(var_dic_list())"
    },
    "r": {
     "delete_cmd_postfix": ") ",
     "delete_cmd_prefix": "rm(",
     "library": "var_list.r",
     "varRefreshCmd": "cat(var_dic_list()) "
    }
   },
   "position": {
    "height": "343px",
    "left": "1441px",
    "right": "20px",
    "top": "162px",
    "width": "437px"
   },
   "types_to_exclude": [
    "module",
    "function",
    "builtin_function_or_method",
    "instance",
    "_Feature"
   ],
   "window_display": false
  }
 },
 "nbformat": 4,
 "nbformat_minor": 5
}
