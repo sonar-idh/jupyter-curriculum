{
 "cells": [
  {
   "cell_type": "markdown",
   "id": "assisted-camcorder",
   "metadata": {},
   "source": [
    "<font size = \"20\"> SoNAR (IDH) </font>\n",
    "\n",
    "<font size = \"12\"> Interfaces to Data for Historical Social Network Analysis and Research </font>"
   ]
  },
  {
   "cell_type": "markdown",
   "id": "announced-amendment",
   "metadata": {},
   "source": [
    "<font size = \"12\">Notebook 1:  Jupyter and Python</font>"
   ]
  },
  {
   "cell_type": "markdown",
   "id": "hairy-yield",
   "metadata": {},
   "source": [
    "This curriculum serves as a guide and introductory resource into using the SoNAR (IDH) network database with the help of python and jupyter noteboks.\n",
    "\n",
    "This first notebooks provides a high-level overview of the basic functionality of jupyter notebooks as well as a quick introduction to basic python. All following notebooks will build up upon the fundamentals explained in this notebook"
   ]
  },
  {
   "cell_type": "markdown",
   "id": "weekly-advisory",
   "metadata": {},
   "source": [
    "# Jupyter Notebooks"
   ]
  },
  {
   "cell_type": "markdown",
   "id": "choice-manhattan",
   "metadata": {},
   "source": [
    "This curriculum uses Jupyter Notebooks to document and explain "
   ]
  },
  {
   "cell_type": "markdown",
   "id": "entitled-freedom",
   "metadata": {},
   "source": [
    "## Project Jupyter"
   ]
  },
  {
   "cell_type": "markdown",
   "id": "hollywood-tongue",
   "metadata": {},
   "source": [
    "## Operating Jupyter"
   ]
  },
  {
   "cell_type": "markdown",
   "id": "narrative-arrest",
   "metadata": {},
   "source": [
    "### Dashboard"
   ]
  },
  {
   "cell_type": "markdown",
   "id": "racial-literacy",
   "metadata": {},
   "source": [
    "![](../images/01_dashboard.png)\n",
    "\n",
    "\n",
    "\n",
    "The Jupyter dashboard is your welcome screen to your project. The picture above depicts how this welcome screen for the SoNAR Jupyter curriculum looks like. \n",
    "The dashboard enables you to administer and manage the project by creating new files, browsing your project directory, checking installed and running kernels and many things more. \n",
    "\n",
    "In this curriculum we will only use a small fraction of the possibilities of Jupyter. The most crucial things you need to know about the dashboard are the following four elements:\n",
    "\n",
    "**1. Create a new notebook**\n",
    "\n",
    ">This is the launcher window of Jupyter. Click on the \"Python 3\" icon to create a new, empty notebook. Te only kernel installed in this SoNAR Curriculum project is a Python 3.8 kernel. This is why you can only select Python 3 for your notebook. \n",
    "You can create a new notebook if you want to try something out on your own or iff you want to write your own code in a notebook. Please remember that the notebooks you create new won't be saved when you run this project on binder. However, you can download a notebook you write yourself and use it outside this project.\n",
    "\n",
    "**2. Browse the files**\n",
    "\n",
    ">You can find a file browser on the left hand side of the dashboard. This file browser enables you to manage (e.g. open, delete, rename) the files in the current project. Inside the `notebooks` folder you can find all the notebooks that are part of the SoNAR Jupyter curriculum. \n",
    "When you right-click a file you have many options to manage teh respective file - you also can download the file to your own machine if you like. \n",
    "The other files in this project are not necessarily important for you - they provide some setup information about the project itself, so it is reproducable on any machine. When you just want to follow along the curriculum you do not need to care about these files.\n",
    "\n",
    "**3. The browser ribbon**\n",
    ">Click on the blue button to open up the launcher window again (see 1. Create a new notebook).\n",
    "The folder button next to it creates a new empty folder at the current path of the browser window.\n",
    "The upwards arrow opens up an upload prompt. Use this function if you want to upload a file from your local machine to the project (e.g. a dataset you want to use).\n",
    "The curly arrow at the very right is a refresh button for the file browser. Use this button in case some changes in the files and folders are not shown yet in the file browser\n",
    "\n",
    "**4. The tabs ribbon**\n",
    ">On the very left hand side of the Jupyter dashboard you can find a ribbon that switches between different tools. The default tab selection in the afore mentioned file browser. \n",
    "The tab underneath let's you manage all open notebooks and kernels.\n",
    "The third tab is a table of content. Using this tab when following along this curriculum is highly recommended sicnce it provides an overview and a navigation for the notebook you are using. \n",
    "The last tab is used for managing Jupyter extensions. This tab is not needed for the curriculum. "
   ]
  },
  {
   "cell_type": "markdown",
   "id": "obvious-officer",
   "metadata": {},
   "source": [
    "### Notebooks\n",
    "\n",
    "**The Toolbar**\n",
    "\n",
    "![](../images/02_notebook.png)\n",
    "\n",
    "\n",
    "Category                     | Data Types\n",
    ":-------------:               | :----------------------:\n",
    "![](../images/02-0_save.png)     | Save the current state of the notebook\n",
    "![](../images/02-1_insert_cell.png)              | Save the current state of the notebook\n",
    "![](../images/02-1_insert_cell.png)              | Save the current state of the notebook\n",
    "![](../images/02-2_cut.png)              | Save the current state of the notebook\n",
    "![](../images/02-3_copy_cell.png)              | Save the current state of the notebook\n",
    "![](../images/02-4_paste_cell.png)              | Save the current state of the notebook\n",
    "![](../images/02-5_run_cell.png)              | Save the current state of the notebook\n",
    "![](../images/02-6_stop_cell.png)              | Save the current state of the notebook\n",
    "![](../images/02-7_restart_kernel.png)              | Save the current state of the notebook\n",
    "![](../images/02-8_restart_and_rerun.png)              | Save the current state of the notebook\n",
    "![](../images/02-9_select_cell_type.png)              | Save the current state of the notebook\n",
    "\n",
    "\n",
    "**The Code Cells**\n",
    "\n",
    "![](../images/03_notebook.png)"
   ]
  },
  {
   "cell_type": "markdown",
   "id": "egyptian-continent",
   "metadata": {},
   "source": [
    "# Python "
   ]
  },
  {
   "cell_type": "markdown",
   "id": "through-lodging",
   "metadata": {},
   "source": [
    "## Arithmetic & Logical Operators\n",
    "\n",
    "Some very basic commands you need to know when coding with Python are arithmetic operators. You can use these operators to execute basic calculations. See the table below for an overview about the base operators Python provides\n",
    "\n",
    "Operator                    | Description\n",
    "-------------               | ---------------------------------------------------------------------------:\n",
    "`+`               | addition\n",
    "`-`               | subtraction\n",
    "`*`               | multiplication\n",
    "`/`               | division\n",
    "`**`         | exponentiation\n",
    "`%`              | modulo operator (returns the remainder)\n",
    "`//`             | integer division (drops the remainder)\n",
    "\n",
    "Additionally Python also provides a set of logical and comparision operators. See table below:\n",
    "\n",
    "Operator                    | Description\n",
    "-------------               | ---------------------------------------------------------------------------:\n",
    "`<`               | less than\n",
    "`<=`              | less than or equal to\n",
    "`>`               | greater than\n",
    "`>=`              | greater than or equal to\n",
    "`==`              | equal \n",
    "`!=`              | not equal\n",
    "`not`              | not x\n",
    "`or`             | x OR y\n",
    "`and`           | x AND y\n",
    "\n",
    "\n",
    "Let's use these operators:\n"
   ]
  },
  {
   "cell_type": "code",
   "execution_count": 62,
   "id": "liberal-companion",
   "metadata": {},
   "outputs": [
    {
     "name": "stdout",
     "output_type": "stream",
     "text": [
      "2\n"
     ]
    }
   ],
   "source": [
    "# When placing a hastag (#) in an executable cell infront of some text, you are adding a code comment\n",
    "# Code comments are not executed, they are just a comment from the developer\n",
    "\n",
    "# example 1: calculating a sum\n",
    "1+1"
   ]
  },
  {
   "cell_type": "code",
   "execution_count": 64,
   "id": "forced-chapel",
   "metadata": {},
   "outputs": [
    {
     "data": {
      "text/plain": [
       "14"
      ]
     },
     "execution_count": 64,
     "metadata": {},
     "output_type": "execute_result"
    }
   ],
   "source": [
    "# example 2: multiplying two numbers\n",
    "2*7"
   ]
  },
  {
   "cell_type": "code",
   "execution_count": 65,
   "id": "split-grade",
   "metadata": {},
   "outputs": [
    {
     "data": {
      "text/plain": [
       "True"
      ]
     },
     "execution_count": 65,
     "metadata": {},
     "output_type": "execute_result"
    }
   ],
   "source": [
    "# example 3: check wether 2*7 is greater than 1+1\n",
    "2*7 > 1+1"
   ]
  },
  {
   "cell_type": "code",
   "execution_count": 63,
   "id": "grateful-vietnam",
   "metadata": {},
   "outputs": [
    {
     "data": {
      "text/plain": [
       "False"
      ]
     },
     "execution_count": 63,
     "metadata": {},
     "output_type": "execute_result"
    }
   ],
   "source": [
    "# example 4: check wether 2*7 is 14 and 1+1 is 3 (both needs to be true, otherwise the result will be 'False')\n",
    "2*7 == 14 and 1+1 == 3"
   ]
  },
  {
   "cell_type": "markdown",
   "id": "animated-visit",
   "metadata": {},
   "source": [
    "## Data Types\n",
    "\n",
    "In the previous section, numbers where used to calculate things. However, Python can handle a variety of other data types as well. \n",
    "In this section we check out three of the most important categories of data types Python can handle. This list is not exhaustive though. You can find a complete overview of data types Python natively supports [here](https://www.w3schools.com/python/python_datatypes.asp).\n",
    "\n",
    "We will cover three categories of data types in this section, namely:\n",
    "\n",
    "Category                     | Data Types\n",
    ":-------------:               | :----------------------:\n",
    "`Text Type`     | `str`\n",
    "`Numeric Types`              | `int`, `float`\n",
    "`Sequence & Mapping Types`    | `list`, `range`, `dict`"
   ]
  },
  {
   "cell_type": "markdown",
   "id": "improving-presentation",
   "metadata": {},
   "source": [
    "### Text Type"
   ]
  },
  {
   "cell_type": "markdown",
   "id": "filled-calgary",
   "metadata": {},
   "source": [
    "The text type is used for character input. Whenever you want to work with character strings (words & text) Python uses the text type for doing so. The differentiation bewteen different types is crucial since there are operations that are meaningful for text but not for numbers (e.g. capitalizing letters, splitting at line breaks).\n",
    "\n",
    "In the following example we will assign a text to a variable. Afterwards we gonna \"ask\" Python about the data type of this variable.  \n",
    "\n",
    "We use the following sentence: \n",
    ">Ada Lovelace was an English mathematician and writer, chiefly known for her work on Charles Babbage's proposed mechanical general-purpose computer, the Analytical Engine\n",
    "\n",
    "*Text taken from: https://en.wikipedia.org/wiki/Ada_Lovelace*\n",
    "\n",
    "\n",
    "<div class=\"alert alert-block alert-info\">\n",
    "<b>Hint:</b> When you want to assign text to a variable, make sure your text is wrapped inside quotation marks</div>\n"
   ]
  },
  {
   "cell_type": "code",
   "execution_count": 52,
   "id": "clear-judgment",
   "metadata": {},
   "outputs": [],
   "source": [
    "# We create a variable called 'ada_description'. \n",
    "# By using the \"=\" sign, we assign the character string on the right side to the new variable\n",
    "ada_description = \"Ada Lovelace was an English mathematician and writer, chiefly known for her work on Charles Babbage's proposed mechanical general-purpose computer, the Analytical Engine\""
   ]
  },
  {
   "cell_type": "markdown",
   "id": "mental-hospital",
   "metadata": {},
   "source": [
    "There is no output of the cell above because we only assign something to a variable. This does not produce any output, we just created a new variable. \n",
    "We can print the content of the variable by using the `print()` function mentioned earlier. We also can just type the variable name into a new cell and Jupyter will show us what's in the variable:"
   ]
  },
  {
   "cell_type": "code",
   "execution_count": 54,
   "id": "alike-measurement",
   "metadata": {},
   "outputs": [
    {
     "data": {
      "text/plain": [
       "\"Ada Lovelace was an English mathematician and writer, chiefly known for her work on Charles Babbage's proposed mechanical general-purpose computer, the Analytical Engine\""
      ]
     },
     "execution_count": 54,
     "metadata": {},
     "output_type": "execute_result"
    }
   ],
   "source": [
    "ada_description"
   ]
  },
  {
   "cell_type": "markdown",
   "id": "impaired-authority",
   "metadata": {},
   "source": [
    "Let's check the data type of `ada_description` by using a function called `type()`"
   ]
  },
  {
   "cell_type": "code",
   "execution_count": 51,
   "id": "virtual-conservation",
   "metadata": {},
   "outputs": [
    {
     "data": {
      "text/plain": [
       "str"
      ]
     },
     "execution_count": 51,
     "metadata": {},
     "output_type": "execute_result"
    }
   ],
   "source": [
    "type(ada_description)"
   ]
  },
  {
   "cell_type": "markdown",
   "id": "disabled-chosen",
   "metadata": {},
   "source": [
    "Python returns `str` as the type of `ada_description`. This means that there is text stored inside the `ada_description` object. \n",
    "\n"
   ]
  },
  {
   "cell_type": "markdown",
   "id": "living-brush",
   "metadata": {},
   "source": [
    "### Numeric Types"
   ]
  },
  {
   "cell_type": "markdown",
   "id": "dominant-voluntary",
   "metadata": {},
   "source": [
    "**Integers**\n",
    "\n",
    "Integers are whole numbers. Whenever you want to work with numbers without fractions."
   ]
  },
  {
   "cell_type": "code",
   "execution_count": 76,
   "id": "assisted-worry",
   "metadata": {},
   "outputs": [
    {
     "name": "stdout",
     "output_type": "stream",
     "text": [
      "-46\n"
     ]
    },
    {
     "data": {
      "text/plain": [
       "int"
      ]
     },
     "execution_count": 76,
     "metadata": {},
     "output_type": "execute_result"
    }
   ],
   "source": [
    "number_1 = -46\n",
    "\n",
    "print(number_1)\n",
    "type(age_1)"
   ]
  },
  {
   "cell_type": "markdown",
   "id": "discrete-ensemble",
   "metadata": {},
   "source": [
    "**Float**\n",
    "\n",
    "Floating point real values represent real numbers and are written with a decimal point."
   ]
  },
  {
   "cell_type": "code",
   "execution_count": 74,
   "id": "iraqi-marathon",
   "metadata": {},
   "outputs": [
    {
     "name": "stdout",
     "output_type": "stream",
     "text": [
      "12.876\n"
     ]
    },
    {
     "data": {
      "text/plain": [
       "float"
      ]
     },
     "execution_count": 74,
     "metadata": {},
     "output_type": "execute_result"
    }
   ],
   "source": [
    "number_2 = 12.876\n",
    "\n",
    "print(number_2)\n",
    "type(number_2)"
   ]
  },
  {
   "cell_type": "markdown",
   "id": "cosmetic-portrait",
   "metadata": {},
   "source": [
    "### Sequence & Mapping Types"
   ]
  },
  {
   "cell_type": "markdown",
   "id": "diverse-module",
   "metadata": {},
   "source": [
    "**Lists**"
   ]
  },
  {
   "cell_type": "code",
   "execution_count": 75,
   "id": "municipal-testimony",
   "metadata": {},
   "outputs": [
    {
     "name": "stdout",
     "output_type": "stream",
     "text": [
      "[1, '2', 3.5, '6']\n"
     ]
    },
    {
     "data": {
      "text/plain": [
       "list"
      ]
     },
     "execution_count": 75,
     "metadata": {},
     "output_type": "execute_result"
    }
   ],
   "source": [
    "sequence_1 = list([1, \"2\", 3.5, \"6\"])\n",
    "\n",
    "print(sequence_1)\n",
    "type(sequence_1)"
   ]
  },
  {
   "cell_type": "markdown",
   "id": "religious-china",
   "metadata": {},
   "source": [
    "**Ranges**"
   ]
  },
  {
   "cell_type": "code",
   "execution_count": 77,
   "id": "front-graph",
   "metadata": {},
   "outputs": [
    {
     "name": "stdout",
     "output_type": "stream",
     "text": [
      "range(0, 100)\n"
     ]
    },
    {
     "data": {
      "text/plain": [
       "range"
      ]
     },
     "execution_count": 77,
     "metadata": {},
     "output_type": "execute_result"
    }
   ],
   "source": [
    "sequence_2 = range(0, 100)\n",
    "\n",
    "print(sequence_2)\n",
    "type(sequence_2)"
   ]
  },
  {
   "cell_type": "markdown",
   "id": "spanish-meeting",
   "metadata": {},
   "source": [
    "**Dictionaries**"
   ]
  },
  {
   "cell_type": "code",
   "execution_count": 86,
   "id": "amber-bouquet",
   "metadata": {},
   "outputs": [
    {
     "name": "stdout",
     "output_type": "stream",
     "text": [
      "{'ada': 'female', 'alan': 'male'}\n"
     ]
    },
    {
     "data": {
      "text/plain": [
       "dict"
      ]
     },
     "execution_count": 86,
     "metadata": {},
     "output_type": "execute_result"
    }
   ],
   "source": [
    "mapping_1 = dict({\"ada\": \"female\",\n",
    "                  \"alan\": \"male\"})\n",
    "\n",
    "print(mapping_1)\n",
    "type(mapping_1)"
   ]
  },
  {
   "cell_type": "markdown",
   "id": "usual-canyon",
   "metadata": {},
   "source": [
    "## Loops & If/Else Statements"
   ]
  },
  {
   "cell_type": "code",
   "execution_count": null,
   "id": "sustained-summit",
   "metadata": {},
   "outputs": [],
   "source": []
  },
  {
   "cell_type": "markdown",
   "id": "mighty-seattle",
   "metadata": {},
   "source": [
    "## Functions"
   ]
  },
  {
   "cell_type": "markdown",
   "id": "complimentary-isaac",
   "metadata": {},
   "source": [
    "## Libraries"
   ]
  },
  {
   "cell_type": "markdown",
   "id": "atmospheric-philosophy",
   "metadata": {},
   "source": [
    "## Data Frames (with Pandas)"
   ]
  },
  {
   "cell_type": "markdown",
   "id": "electrical-entrepreneur",
   "metadata": {},
   "source": [
    "## Indexing"
   ]
  },
  {
   "cell_type": "markdown",
   "id": "bottom-bidder",
   "metadata": {},
   "source": [
    "## Loading and Exporting Data"
   ]
  }
 ],
 "metadata": {
  "kernelspec": {
   "display_name": "Python 3",
   "language": "python",
   "name": "python3"
  },
  "language_info": {
   "codemirror_mode": {
    "name": "ipython",
    "version": 3
   },
   "file_extension": ".py",
   "mimetype": "text/x-python",
   "name": "python",
   "nbconvert_exporter": "python",
   "pygments_lexer": "ipython3",
   "version": "3.8.8"
  },
  "toc-autonumbering": true,
  "toc-showcode": false
 },
 "nbformat": 4,
 "nbformat_minor": 5
}
