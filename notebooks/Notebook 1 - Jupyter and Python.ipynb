{
 "cells": [
  {
   "cell_type": "markdown",
   "id": "standard-injection",
   "metadata": {},
   "source": [
    "<font size = \"20\"> SoNAR (IDH) </font>\n",
    "\n",
    "<font size = \"12\"> Interfaces to Data for Historical Social Network Analysis and Research </font>"
   ]
  },
  {
   "cell_type": "markdown",
   "id": "jewish-montgomery",
   "metadata": {},
   "source": [
    "<font size = \"12\">Notebook 1:  Jupyter and Python</font>"
   ]
  },
  {
   "cell_type": "markdown",
   "id": "motivated-orlando",
   "metadata": {},
   "source": [
    "This curriculum serves as a guide and introductory resource into using the SoNAR (IDH) network database with the help of python and jupyter noteboks.\n",
    "\n",
    "This first notebooks provides a high-level overview of the basic functionality of jupyter notebooks as well as a quick introduction to basic python. All following notebooks will build up upon the fundamentals explained in this notebook"
   ]
  },
  {
   "cell_type": "markdown",
   "id": "mysterious-joining",
   "metadata": {},
   "source": [
    "# Jupyter Notebooks"
   ]
  },
  {
   "cell_type": "markdown",
   "id": "transparent-sweden",
   "metadata": {},
   "source": [
    "This curriculum uses Jupyter Notebooks to document and explain "
   ]
  },
  {
   "cell_type": "markdown",
   "id": "married-species",
   "metadata": {},
   "source": [
    "## Project Jupyter"
   ]
  },
  {
   "cell_type": "markdown",
   "id": "bored-chamber",
   "metadata": {},
   "source": [
    "## Operating Jupyter"
   ]
  },
  {
   "cell_type": "markdown",
   "id": "combined-surrey",
   "metadata": {},
   "source": [
    "### Dashboard"
   ]
  },
  {
   "cell_type": "markdown",
   "id": "correct-edinburgh",
   "metadata": {},
   "source": [
    "![](../images/01_dashboard.png)\n",
    "\n",
    "\n",
    "\n",
    "The Jupyter dashboard is your welcome screen to your project. The picture above depicts how this welcome screen for the SoNAR Jupyter curriculum looks like. \n",
    "The dashboard enables you to administer and manage the project by creating new files, browsing your project directory, checking installed and running kernels and many things more. \n",
    "\n",
    "In this curriculum we will only use a small fraction of the possibilities of Jupyter. The most crucial things you need to know about the dashboard are the following four elements:\n",
    "\n",
    "**1. Create a new notebook**\n",
    "\n",
    ">This is the launcher window of Jupyter. Click on the \"Python 3\" icon to create a new, empty notebook. Te only kernel installed in this SoNAR Curriculum project is a Python 3.8 kernel. This is why you can only select Python 3 for your notebook. \n",
    "You can create a new notebook if you want to try something out on your own or iff you want to write your own code in a notebook. Please remember that the notebooks you create new won't be saved when you run this project on binder. However, you can download a notebook you write yourself and use it outside this project.\n",
    "\n",
    "**2. Browse the files**\n",
    "\n",
    ">You can find a file browser on the left hand side of the dashboard. This file browser enables you to manage (e.g. open, delete, rename) the files in the current project. Inside the `notebooks` folder you can find all the notebooks that are part of the SoNAR Jupyter curriculum. \n",
    "When you right-click a file you have many options to manage teh respective file - you also can download the file to your own machine if you like. \n",
    "The other files in this project are not necessarily important for you - they provide some setup information about the project itself, so it is reproducable on any machine. When you just want to follow along the curriculum you do not need to care about these files.\n",
    "\n",
    "**3. The browser ribbon**\n",
    ">Click on the blue button to open up the launcher window again (see 1. Create a new notebook).\n",
    "The folder button next to it creates a new empty folder at the current path of the browser window.\n",
    "The upwards arrow opens up an upload prompt. Use this function if you want to upload a file from your local machine to the project (e.g. a dataset you want to use).\n",
    "The curly arrow at the very right is a refresh button for the file browser. Use this button in case some changes in the files and folders are not shown yet in the file browser\n",
    "\n",
    "**4. The tabs ribbon**\n",
    ">On the very left hand side of the Jupyter dashboard you can find a ribbon that switches between different tools. The default tab selection in the afore mentioned file browser. \n",
    "The tab underneath let's you manage all open notebooks and kernels.\n",
    "The third tab is a table of content. Using this tab when following along this curriculum is highly recommended sicnce it provides an overview and a navigation for the notebook you are using. \n",
    "The last tab is used for managing Jupyter extensions. This tab is not needed for the curriculum. "
   ]
  },
  {
   "cell_type": "code",
   "execution_count": null,
   "id": "domestic-beach",
   "metadata": {},
   "outputs": [],
   "source": []
  },
  {
   "cell_type": "markdown",
   "id": "surgical-position",
   "metadata": {},
   "source": [
    "### Notebooks"
   ]
  },
  {
   "cell_type": "markdown",
   "id": "expected-nigeria",
   "metadata": {},
   "source": [
    "# Python "
   ]
  },
  {
   "cell_type": "markdown",
   "id": "necessary-dietary",
   "metadata": {},
   "source": [
    "## Arithmetic & Logical Operators\n",
    "\n",
    "Some very basic commands you need to know when coding with Python are arithmetic operators. You can use these operators to execute basic calculations. See the table below for an overview about the base operators Python provides\n",
    "\n",
    "Operator                    | Description\n",
    "-------------               | ---------------------------------------------------------------------------:\n",
    "`+`               | addition\n",
    "`-`               | subtraction\n",
    "`*`               | multiplication\n",
    "`/`               | division\n",
    "`**`         | exponentiation\n",
    "`%`              | modulo operator (returns the remainder)\n",
    "`//`             | integer division (drops the remainder)\n",
    "\n",
    "Additionally Python also provides a set of logical and comparision operators. See table below:\n",
    "\n",
    "Operator                    | Description\n",
    "-------------               | ---------------------------------------------------------------------------:\n",
    "`<`               | less than\n",
    "`<=`              | less than or equal to\n",
    "`>`               | greater than\n",
    "`>=`              | greater than or equal to\n",
    "`==`              | equal \n",
    "`!=`              | not equal\n",
    "`not`              | not x\n",
    "`or`             | x OR y\n",
    "`and`           | x AND y\n",
    "\n",
    "\n",
    "Let's use these operators:\n"
   ]
  },
  {
   "cell_type": "code",
   "execution_count": 38,
   "id": "renewable-flood",
   "metadata": {},
   "outputs": [
    {
     "name": "stdout",
     "output_type": "stream",
     "text": [
      "2\n",
      "14\n",
      "True\n",
      "False\n"
     ]
    }
   ],
   "source": [
    "# When placing a hastag (#) in an executable cell infront of some text, you are adding a code comment\n",
    "# Code comments are not executed, they are just a comment from the developer\n",
    "\n",
    "\n",
    "# Following examples use the function 'print()' to print the evaluation of our code beneath the cell. \n",
    "# This print function is not always needed to see the output of a cell. \n",
    "#But without the print command the cell would only return the last evaluated calculation\n",
    "\n",
    "# example 1: calculating a sum\n",
    "print(1+1)\n",
    "\n",
    "# example 2: multiplying two numbers\n",
    "print(2*7)\n",
    "\n",
    "# example 3: check wether 2*7 is greater than 1+1\n",
    "print(2*7 > 1+1)\n",
    "\n",
    "# example 4: check wether 2*7 is 14 and 1+1 is 3 (both needs to be true, otherwise the result will be 'False')\n",
    "print(2*7 == 14 and 1+1 == 3)"
   ]
  },
  {
   "cell_type": "markdown",
   "id": "unlike-excellence",
   "metadata": {},
   "source": [
    "## Data Types"
   ]
  },
  {
   "cell_type": "code",
   "execution_count": null,
   "id": "catholic-variety",
   "metadata": {},
   "outputs": [],
   "source": []
  },
  {
   "cell_type": "markdown",
   "id": "broke-contamination",
   "metadata": {},
   "source": [
    "## Loops & If/Else Statements"
   ]
  },
  {
   "cell_type": "markdown",
   "id": "central-apparatus",
   "metadata": {},
   "source": [
    "## Functions"
   ]
  },
  {
   "cell_type": "markdown",
   "id": "descending-dream",
   "metadata": {},
   "source": [
    "## Libraries"
   ]
  },
  {
   "cell_type": "markdown",
   "id": "corresponding-regular",
   "metadata": {},
   "source": [
    "## Data Frames (with Pandas)"
   ]
  },
  {
   "cell_type": "markdown",
   "id": "nominated-secretary",
   "metadata": {},
   "source": [
    "## Indexing"
   ]
  },
  {
   "cell_type": "markdown",
   "id": "ready-standard",
   "metadata": {},
   "source": [
    "## Loading and Exporting Data"
   ]
  },
  {
   "cell_type": "code",
   "execution_count": 42,
   "id": "painful-authentication",
   "metadata": {},
   "outputs": [],
   "source": [
    "!pip freeze > ../requirements.txt"
   ]
  },
  {
   "cell_type": "code",
   "execution_count": null,
   "id": "steady-minutes",
   "metadata": {},
   "outputs": [],
   "source": []
  }
 ],
 "metadata": {
  "kernelspec": {
   "display_name": "Python 3",
   "language": "python",
   "name": "python3"
  },
  "language_info": {
   "codemirror_mode": {
    "name": "ipython",
    "version": 3
   },
   "file_extension": ".py",
   "mimetype": "text/x-python",
   "name": "python",
   "nbconvert_exporter": "python",
   "pygments_lexer": "ipython3",
   "version": "3.8.8"
  },
  "toc-autonumbering": true,
  "toc-showcode": false
 },
 "nbformat": 4,
 "nbformat_minor": 5
}
