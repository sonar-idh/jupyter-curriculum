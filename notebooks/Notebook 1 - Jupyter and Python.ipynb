{
 "cells": [
  {
   "cell_type": "markdown",
   "id": "cognitive-ethiopia",
   "metadata": {},
   "source": [
    "<font size = \"20\"> SoNAR (IDH) </font>\n",
    "\n",
    "<font size = \"12\"> Interfaces to Data for Historical Social Network Analysis and Research </font>"
   ]
  },
  {
   "cell_type": "markdown",
   "id": "smoking-citation",
   "metadata": {},
   "source": [
    "<font size = \"12\">Notebook 1:  Jupyter and Python</font>"
   ]
  },
  {
   "cell_type": "markdown",
   "id": "floating-leader",
   "metadata": {},
   "source": [
    "This curriculum serves as a guide and introductory resource into using the SoNAR (IDH) network database with the help of python and Jupyter notebooks.\n",
    "\n",
    "This curriculum uses [Jupyter](http://jupyter.org/) Notebooks to document and explain how to do historical network analyses with SoNAR (IDH). \n",
    "This first notebooks provides a high-level overview of the basic functionality of Jupyter notebooks as well as a quick introduction to basic python. All following notebooks will build up upon the fundamentals explained in this notebook."
   ]
  },
  {
   "cell_type": "markdown",
   "id": "involved-blackberry",
   "metadata": {
    "tags": []
   },
   "source": [
    "# Jupyter Notebooks"
   ]
  },
  {
   "cell_type": "markdown",
   "id": "exact-clerk",
   "metadata": {},
   "source": [
    "Jupyter Notebooks are basically a kind of code editor you can use inside your web browser. This means you can write, edit and run code and from your browser, the code is immediately interpreted and the results are visible directly under the executed code. \n",
    "\n",
    "What makes Jupyter notebooks so versatile is that you can mix code blocks and text blocks within the same document and thus create interactive, transparent and reproducible documentations or guides. "
   ]
  },
  {
   "cell_type": "markdown",
   "id": "generic-associate",
   "metadata": {},
   "source": [
    "## Project Jupyter"
   ]
  },
  {
   "cell_type": "markdown",
   "id": "excessive-twenty",
   "metadata": {},
   "source": [
    "[Project Jupyter](https://jupyter.org/) is the name of the non-profit and open-source project that develops the Jupyter notebook technology this curriculum is based on. \n",
    "\n",
    "Project Jupyter is maintained and developed by a big community with a focus on making scientific computing accessible, easy and free. \n",
    "\n",
    "The name Jupyter is derived from the names of the three programming languages **Ju**lia, **Pyt**hon and **R**. The main objective of Jupyter is supporting interactive data science and scientific computing across all programming languages. All notebooks in this curriculum use a Python kernel."
   ]
  },
  {
   "cell_type": "markdown",
   "id": "educated-orlando",
   "metadata": {},
   "source": [
    "## Operating Jupyter\n",
    "\n",
    "At first we are going to take a look into the Jupyter interface we will use throughout this curriculum. To be precise `JupyterLab` will be used, which is an environment that includes the aforementioned notebooks as well as an environment to easily operate and interact with the notebooks.  "
   ]
  },
  {
   "cell_type": "markdown",
   "id": "strange-military",
   "metadata": {},
   "source": [
    "### Dashboard"
   ]
  },
  {
   "cell_type": "markdown",
   "id": "developmental-input",
   "metadata": {},
   "source": [
    "The Jupyter dashboard is your welcome screen to your project. The picture beneath depicts how this welcome screen for the SoNAR (IDH) Jupyter curriculum looks like. \n",
    "The dashboard enables you to administer and manage the project by creating new files, browsing your project directory, checking installed and running kernels and many things more. \n"
   ]
  },
  {
   "cell_type": "markdown",
   "id": "persistent-mining",
   "metadata": {},
   "source": [
    "<center>\n",
    "    \n",
    "        <img src=\"../images/01_dashboard.png\", width=\"600\">\n",
    "    \n",
    "</center>"
   ]
  },
  {
   "cell_type": "markdown",
   "id": "sixth-gamma",
   "metadata": {},
   "source": [
    "In this curriculum we will only use a small fraction of the possibilities of Jupyter. The most crucial things you need to know about the dashboard are the following elements:"
   ]
  },
  {
   "cell_type": "markdown",
   "id": "horizontal-scientist",
   "metadata": {},
   "source": [
    "**Left Sidebar** \n",
    "\n",
    "\n",
    "<center>\n",
    "        <img src=\"../images/01-1_sidebar.png\" alt=\"Dashboard\" style=\"hight: 100px;\"/>\n",
    "</center>\n",
    "\n",
    "\n",
    "1. File Browser\n",
    "\n",
    ">The default tab that is active in the left sidebar is the file browser tab. This file browser enables you to manage (e.g. open, delete, rename) the files in the current project. Inside the `notebooks` folder you can find all the notebooks that are part of the SoNAR Jupyter curriculum. <br>\n",
    "When you right-click a file you have many options to manage the respective file - you also can download the file to your own machine if you like. \n",
    "The other files in this project are not necessarily important for you - they provide some setup information about the project itself, so it is reproducible on any machine. When you just want to follow along the curriculum you do not need to care about these files. <br>\n",
    ">At the very top of the file browser tab you can find the browser ribbon. \n",
    "Click on the blue button to open up the launcher window <br>\n",
    "The folder button next to it creates a new empty folder at the current path of the browser window. <br>\n",
    "The upwards arrow opens up an upload prompt. Use this function if you want to upload a file from your local machine to the project (e.g. a dataset you want to use). <br>\n",
    "The curly arrow at the very right is a refresh button for the file browser. Use this button in case some changes in the files and folders are not shown in the file browser yet.\n",
    "\n",
    "2. Kernel Manager\n",
    "\n",
    ">Jupyter uses `Kernels` to execute code. A Kernel is basically a programming language that is called whenever you ask Jupyter to interpret code you wrote. The curriculum uses a `Python 3.8` kernel. You can use the kernel manager to take a look at how many active kernels are running and you can shut down kernels from here.\n",
    "\n",
    "<div class=\"alert alert-block alert-info\">\n",
    "<b>Hint:</b>When simply following along this curriculum you won't need to care about the running kernels. You do not need to pay much attention to this tab.</div>\n",
    "\n",
    "3. Table of Contents\n",
    "\n",
    ">For every notebook in this curriculum you can find a table of content to easily navigate the sections of the notebooks. Using this tab when following along this curriculum is highly recommended since it provides an overview and a navigation for the notebook you are reading.\n",
    "\n",
    "<div class=\"alert alert-block alert-info\">\n",
    "<b>Hint:</b>Remember to activate this tab when reading a notebook to easily navigate the content.</div>\n",
    "\n",
    "4. Extensions\n",
    "\n",
    ">You can use extensions to add more functionality to your Jupyter environment. The setup of this curriculum already took care of all extensions needed. Hence you do not need to care about his tab when following along this curriculum. \n",
    "\n",
    "\n"
   ]
  },
  {
   "cell_type": "markdown",
   "id": "timely-latter",
   "metadata": {},
   "source": [
    "### Notebooks\n",
    "\n",
    "Jupyter notebooks are documents that combine live runnable code with narrative text (Markdown), equations, images, interactive visualizations and other rich output.\n",
    "\n",
    "\n",
    "**Create a new Notebook**\n",
    "\n",
    "From the launcher tab, choose `Python`to create a new notebook\n",
    "\n",
    "\n"
   ]
  },
  {
   "cell_type": "markdown",
   "id": "light-simpson",
   "metadata": {},
   "source": [
    "**The Toolbar**\n",
    "\n",
    "When you open up a notebook you can see the toolbar at the very top of the notebook. This is what the toolbar can do for you:\n",
    "\n",
    "\n",
    "<center>\n",
    "    <img src=\"../images/02_notebook.png\" alt=\"Toolbar\" style=\"width: 400px;\"/>\n",
    "</center>"
   ]
  },
  {
   "cell_type": "markdown",
   "id": "indoor-button",
   "metadata": {},
   "source": [
    "\n",
    "Category                     | Data Types\n",
    ":-------------:               | :----------------------\n",
    "![](../images/02-0_save.png)     | Save the current state of the notebook\n",
    "![](../images/02-1_insert_cell.png)              | Insert a new cell below the current selection\n",
    "![](../images/02-2_cut.png)              | Cut the selected cell\n",
    "![](../images/02-3_copy_cell.png)              | Copy the selected cell\n",
    "![](../images/02-4_paste_cell.png)              | Paste the copied or cut cell\n",
    "![](../images/02-5_run_cell.png)              | Run the selected cell\n",
    "![](../images/02-6_stop_cell.png)              | Stop the execution of the selected cell\n",
    "![](../images/02-7_restart_kernel.png)              | Restart the kernel of the notebook\n",
    "![](../images/02-8_restart_and_rerun.png)              | Restart the kernel and execute all code cells chronologically \n",
    "![](../images/02-9_select_cell_type.png)              | Select the cell type (Code, Markdown, Raw)\n",
    "\n"
   ]
  },
  {
   "cell_type": "markdown",
   "id": "industrial-feelings",
   "metadata": {},
   "source": [
    "#### The Cells\n",
    "\n",
    "Jupyter Notebooks basically consist of cells that are arranged vertically. Every text you read so far is written inside a cell. When you double click any image or text in this notebook, the respective cell will jump into \"edit mode\" and you can change the contents to your liking. When you hit the `run-button` in the toolbar (<img src=\"../images/02-5_run_cell.png\" alt=\"Toolbar\" style=\"height: 20px;\"/>) after you are done editing, the cell will be executed and it jumps back to what is called the \"command mode\".\n",
    "\n",
    "<div class=\"alert alert-block alert-info\">\n",
    "<b>Hint:</b>You can only edit cells when you are using the notebook in an interactive environment (either a local setup or on binder). </div>\n",
    "\n",
    "There are two relevant cell types Jupyter Notebooks provide. The first one being `code` and the second one is `markdown`. Here is how they differ from each other:"
   ]
  },
  {
   "cell_type": "markdown",
   "id": "backed-processor",
   "metadata": {},
   "source": [
    "**Code Cell**\n",
    "\n",
    "Code cells let you write and execute programming code. Make sure you select the `Code`cell type in the cell type drop down you find in the toolbar.\n",
    "\n",
    "When you type code in a code cell and hit on the run button in the toolbar, the code is executed and the output of the code is beneath the code cell: \n",
    "\n",
    "<center>\n",
    "    <img src=\"../images/03-1_code_cell.png\" alt=\"Toolbar\" style=\"width: 400px;\"/>\n",
    "</center>\n",
    "\n",
    "Executed code will be held in the memory of the `kernel`. When you assign a value to a variable in one cell, you can use this variable in another cell."
   ]
  },
  {
   "cell_type": "markdown",
   "id": "hollow-internship",
   "metadata": {},
   "source": [
    "**Markdown Cell**\n",
    "\n",
    "`Markdown`is a markup language for creating formatted text. `Markdown` has a very simple syntax you can use for formatting text, tables or lists. You can also embed images, `HTML` blocks and other media formats with `Markdown`.\n",
    "\n",
    "A quick example of how `markdown`works can be found in the images beneath. The left hand side shows the markdown syntax during editing mode of a cell. The right hand side shows the executed `markdown` cell after you hit the run button."
   ]
  },
  {
   "cell_type": "markdown",
   "id": "joint-effort",
   "metadata": {},
   "source": [
    "raw markdown | rendered markdown\n",
    "- | - \n",
    "![](../images/03-2_markdown1.png) | ![rendered_markdown](../images/03-2_markdown2.png)\n",
    "\n",
    "\n",
    "A good overview of how `markdown` in Jupyter notebooks works can be found [here](https://medium.com/analytics-vidhya/the-ultimate-markdown-guide-for-jupyter-notebook-d5e5abf728fd)"
   ]
  },
  {
   "cell_type": "markdown",
   "id": "signed-fitness",
   "metadata": {},
   "source": [
    "# Python "
   ]
  },
  {
   "cell_type": "markdown",
   "id": "appointed-conservation",
   "metadata": {},
   "source": [
    "## Arithmetic & Logical Operators\n",
    "\n",
    "Some very basic commands you need to know when coding with Python are arithmetic operators. You can use these operators to execute basic calculations. See the table below for an overview about the base operators Python provides\n",
    "\n",
    "Operator                    | Description\n",
    "-------------               | ---------------------------------------------------------------------------:\n",
    "`+`               | addition\n",
    "`-`               | subtraction\n",
    "`*`               | multiplication\n",
    "`/`               | division\n",
    "`**`         | exponentiation\n",
    "`%`              | modulo operator (returns the remainder)\n",
    "`//`             | integer division (drops the remainder)\n",
    "\n",
    "Additionally Python also provides a set of logical and comparison operators. See table below:\n",
    "\n",
    "Operator                    | Description\n",
    "-------------               | ---------------------------------------------------------------------------:\n",
    "`<`               | less than\n",
    "`<=`              | less than or equal to\n",
    "`>`               | greater than\n",
    "`>=`              | greater than or equal to\n",
    "`==`              | equal \n",
    "`!=`              | not equal\n",
    "`not`              | not x\n",
    "`or`             | x OR y\n",
    "`and`           | x AND y"
   ]
  },
  {
   "cell_type": "markdown",
   "id": "widespread-approach",
   "metadata": {},
   "source": [
    "Let's use these operators:\n",
    "\n",
    "<div class=\"alert alert-block alert-info\">\n",
    "<b>Hint:</b> Remember that you execute code by either hitting the run button in the notebook toolbar or by using the keyboard shortcut <code>shift + enter</code> </div>"
   ]
  },
  {
   "cell_type": "markdown",
   "id": "extreme-sport",
   "metadata": {},
   "source": [
    "Calculate `1+1`:"
   ]
  },
  {
   "cell_type": "code",
   "execution_count": 15,
   "id": "changing-messaging",
   "metadata": {},
   "outputs": [
    {
     "data": {
      "text/plain": [
       "2"
      ]
     },
     "execution_count": 15,
     "metadata": {},
     "output_type": "execute_result"
    }
   ],
   "source": [
    "1+1"
   ]
  },
  {
   "cell_type": "markdown",
   "id": "organizational-acrobat",
   "metadata": {},
   "source": [
    "Calculate `2*7`:"
   ]
  },
  {
   "cell_type": "code",
   "execution_count": 17,
   "id": "pointed-surveillance",
   "metadata": {},
   "outputs": [
    {
     "data": {
      "text/plain": [
       "14"
      ]
     },
     "execution_count": 17,
     "metadata": {},
     "output_type": "execute_result"
    }
   ],
   "source": [
    "2*7"
   ]
  },
  {
   "cell_type": "markdown",
   "id": "critical-filename",
   "metadata": {},
   "source": [
    "<div class=\"alert alert-block alert-info\">\n",
    "    <b>Hint:</b> You can assign values to a variable by using the <code>=</code> sign.</div>\n"
   ]
  },
  {
   "cell_type": "markdown",
   "id": "spectacular-fashion",
   "metadata": {},
   "source": [
    "1. Assign `1+1` to `variable1` and `2*7` to `variable2` <br>\n",
    "2. Calculate `variable1 - variable2`"
   ]
  },
  {
   "cell_type": "code",
   "execution_count": 21,
   "id": "affecting-nursery",
   "metadata": {},
   "outputs": [
    {
     "data": {
      "text/plain": [
       "-12"
      ]
     },
     "execution_count": 21,
     "metadata": {},
     "output_type": "execute_result"
    }
   ],
   "source": [
    "variable1 = 1+1\n",
    "variable2 = 2*7\n",
    "\n",
    "variable1 - variable2"
   ]
  },
  {
   "cell_type": "markdown",
   "id": "august-baking",
   "metadata": {},
   "source": [
    "Check whether `variable2` is greater than `variable1`"
   ]
  },
  {
   "cell_type": "code",
   "execution_count": 22,
   "id": "cloudy-encoding",
   "metadata": {},
   "outputs": [
    {
     "data": {
      "text/plain": [
       "True"
      ]
     },
     "execution_count": 22,
     "metadata": {},
     "output_type": "execute_result"
    }
   ],
   "source": [
    "variable2 > variable1"
   ]
  },
  {
   "cell_type": "markdown",
   "id": "handled-dividend",
   "metadata": {},
   "source": [
    "Check whether `variable2` is `14` and `variable1` is `3` (both conditions must be correct to be `true`, otherwise the condition is `false`)"
   ]
  },
  {
   "cell_type": "code",
   "execution_count": 20,
   "id": "tired-agriculture",
   "metadata": {},
   "outputs": [
    {
     "data": {
      "text/plain": [
       "False"
      ]
     },
     "execution_count": 20,
     "metadata": {},
     "output_type": "execute_result"
    }
   ],
   "source": [
    "variable2 == 14 and variable1 == 3"
   ]
  },
  {
   "cell_type": "markdown",
   "id": "neural-museum",
   "metadata": {},
   "source": [
    "## Data Types\n",
    "\n",
    "In the previous section, numbers where used to calculate things. However, Python can handle a variety of other data types as well. \n",
    "In this section we check out three of the most important categories of data types Python can handle. This list is not exhaustive though. You can find a complete overview of data types Python natively supports [here](https://www.w3schools.com/python/python_datatypes.asp).\n",
    "\n",
    "We will cover three categories of data types in this section, namely:\n",
    "\n",
    "Category                     | Data Types\n",
    ":-------------:               | :----------------------:\n",
    "`Text Type`     | `str`\n",
    "`Numeric Types`              | `int`, `float`\n",
    "`Sequence & Mapping Types`    | `list`, `range`, `dict`"
   ]
  },
  {
   "cell_type": "markdown",
   "id": "boring-testimony",
   "metadata": {},
   "source": [
    "### Text Type"
   ]
  },
  {
   "cell_type": "markdown",
   "id": "simple-soldier",
   "metadata": {},
   "source": [
    "The text type is used for character input. Whenever you want to work with character strings (words & text) Python uses the text type for doing so. The differentiation between different types is crucial since there are operations that are meaningful for text but not for numbers (e.g. capitalizing letters, splitting at line breaks).\n",
    "\n",
    "In the following example we will assign a text to a variable. Afterwards we gonna \"ask\" Python about the data type of this variable.  \n",
    "\n",
    "We use the following sentence: \n",
    ">Ada Lovelace was an English mathematician and writer, chiefly known for her work on Charles Babbage's proposed mechanical general-purpose computer, the Analytical Engine\n",
    "\n",
    "*Text taken from: https://en.wikipedia.org/wiki/Ada_Lovelace*\n",
    "\n",
    "\n",
    "<div class=\"alert alert-block alert-info\">\n",
    "<b>Hint:</b> When you want to assign text to a variable, make sure your text is wrapped inside quotation marks</div>\n"
   ]
  },
  {
   "cell_type": "code",
   "execution_count": 23,
   "id": "practical-rouge",
   "metadata": {},
   "outputs": [],
   "source": [
    "# We create a variable called 'ada_description'. \n",
    "# By using the \"=\" sign, we assign the character string on the right side to the new variable\n",
    "ada_description = \"Ada Lovelace was an English mathematician and writer, chiefly known for her work on Charles Babbage's proposed mechanical general-purpose computer, the Analytical Engine\""
   ]
  },
  {
   "cell_type": "markdown",
   "id": "minimal-dragon",
   "metadata": {},
   "source": [
    "There is no output of the cell above because we only assign something to a variable. This does not produce any output, we just created a new variable. \n",
    "We can print the content of the variable by using the `print()` function mentioned earlier. We also can just type the variable name into a new cell and Jupyter will show us what's in the variable:"
   ]
  },
  {
   "cell_type": "code",
   "execution_count": 8,
   "id": "solar-bridal",
   "metadata": {},
   "outputs": [
    {
     "data": {
      "text/plain": [
       "\"Ada Lovelace was an English mathematician and writer, chiefly known for her work on Charles Babbage's proposed mechanical general-purpose computer, the Analytical Engine\""
      ]
     },
     "execution_count": 8,
     "metadata": {},
     "output_type": "execute_result"
    }
   ],
   "source": [
    "ada_description"
   ]
  },
  {
   "cell_type": "markdown",
   "id": "mediterranean-withdrawal",
   "metadata": {},
   "source": [
    "Let's check the data type of `ada_description` by using a function called `type()`"
   ]
  },
  {
   "cell_type": "code",
   "execution_count": 9,
   "id": "qualified-opinion",
   "metadata": {},
   "outputs": [
    {
     "data": {
      "text/plain": [
       "str"
      ]
     },
     "execution_count": 9,
     "metadata": {},
     "output_type": "execute_result"
    }
   ],
   "source": [
    "type(ada_description)"
   ]
  },
  {
   "cell_type": "markdown",
   "id": "intense-sector",
   "metadata": {},
   "source": [
    "Python returns `str` as the type of `ada_description`. This means that there is text stored inside the `ada_description` object. \n",
    "\n"
   ]
  },
  {
   "cell_type": "markdown",
   "id": "military-custom",
   "metadata": {},
   "source": [
    "### Numeric Types"
   ]
  },
  {
   "cell_type": "markdown",
   "id": "ethical-nicaragua",
   "metadata": {},
   "source": [
    "**Integers**\n",
    "\n",
    "Integers are whole numbers. Whenever you want to work with numbers without fractions."
   ]
  },
  {
   "cell_type": "code",
   "execution_count": 76,
   "id": "extra-aviation",
   "metadata": {},
   "outputs": [
    {
     "name": "stdout",
     "output_type": "stream",
     "text": [
      "-46\n"
     ]
    },
    {
     "data": {
      "text/plain": [
       "int"
      ]
     },
     "execution_count": 76,
     "metadata": {},
     "output_type": "execute_result"
    }
   ],
   "source": [
    "number_1 = -46\n",
    "\n",
    "print(number_1)\n",
    "type(age_1)"
   ]
  },
  {
   "cell_type": "markdown",
   "id": "manual-scoop",
   "metadata": {},
   "source": [
    "**Float**\n",
    "\n",
    "Floating point real values represent real numbers and are written with a decimal point."
   ]
  },
  {
   "cell_type": "code",
   "execution_count": 74,
   "id": "cathedral-airline",
   "metadata": {},
   "outputs": [
    {
     "name": "stdout",
     "output_type": "stream",
     "text": [
      "12.876\n"
     ]
    },
    {
     "data": {
      "text/plain": [
       "float"
      ]
     },
     "execution_count": 74,
     "metadata": {},
     "output_type": "execute_result"
    }
   ],
   "source": [
    "number_2 = 12.876\n",
    "\n",
    "print(number_2)\n",
    "type(number_2)"
   ]
  },
  {
   "cell_type": "markdown",
   "id": "placed-investigator",
   "metadata": {},
   "source": [
    "### Sequence & Mapping Types"
   ]
  },
  {
   "cell_type": "markdown",
   "id": "amazing-invasion",
   "metadata": {},
   "source": [
    "**Lists**"
   ]
  },
  {
   "cell_type": "code",
   "execution_count": 75,
   "id": "loving-theology",
   "metadata": {},
   "outputs": [
    {
     "name": "stdout",
     "output_type": "stream",
     "text": [
      "[1, '2', 3.5, '6']\n"
     ]
    },
    {
     "data": {
      "text/plain": [
       "list"
      ]
     },
     "execution_count": 75,
     "metadata": {},
     "output_type": "execute_result"
    }
   ],
   "source": [
    "sequence_1 = list([1, \"2\", 3.5, \"6\"])\n",
    "\n",
    "print(sequence_1)\n",
    "type(sequence_1)"
   ]
  },
  {
   "cell_type": "markdown",
   "id": "scenic-yeast",
   "metadata": {},
   "source": [
    "**Ranges**"
   ]
  },
  {
   "cell_type": "code",
   "execution_count": 77,
   "id": "hired-southwest",
   "metadata": {},
   "outputs": [
    {
     "name": "stdout",
     "output_type": "stream",
     "text": [
      "range(0, 100)\n"
     ]
    },
    {
     "data": {
      "text/plain": [
       "range"
      ]
     },
     "execution_count": 77,
     "metadata": {},
     "output_type": "execute_result"
    }
   ],
   "source": [
    "sequence_2 = range(0, 100)\n",
    "\n",
    "print(sequence_2)\n",
    "type(sequence_2)"
   ]
  },
  {
   "cell_type": "markdown",
   "id": "baking-slide",
   "metadata": {},
   "source": [
    "**Dictionaries**"
   ]
  },
  {
   "cell_type": "code",
   "execution_count": 86,
   "id": "beginning-civilian",
   "metadata": {},
   "outputs": [
    {
     "name": "stdout",
     "output_type": "stream",
     "text": [
      "{'ada': 'female', 'alan': 'male'}\n"
     ]
    },
    {
     "data": {
      "text/plain": [
       "dict"
      ]
     },
     "execution_count": 86,
     "metadata": {},
     "output_type": "execute_result"
    }
   ],
   "source": [
    "mapping_1 = dict({\"ada\": \"female\",\n",
    "                  \"alan\": \"male\"})\n",
    "\n",
    "print(mapping_1)\n",
    "type(mapping_1)"
   ]
  },
  {
   "cell_type": "markdown",
   "id": "municipal-needle",
   "metadata": {},
   "source": [
    "## Loops & If/Else Statements"
   ]
  },
  {
   "cell_type": "markdown",
   "id": "steady-consent",
   "metadata": {},
   "source": [
    "### Loops \n",
    "\n",
    "Loops can be used to execute statements a desired number of times. This can be very helpful in reducing the amount of coded needed for a specific task.\n",
    "\n",
    "#### For Loops\n",
    "\n",
    "Let's start with a simple example. At first we create a list of five names. Afterwards we create a loop that outputs a personal greeting to each name:"
   ]
  },
  {
   "cell_type": "code",
   "execution_count": 5,
   "id": "romantic-harrison",
   "metadata": {},
   "outputs": [
    {
     "name": "stdout",
     "output_type": "stream",
     "text": [
      "Hi Ada !\n",
      "Hi Cornélie !\n",
      "Hi Stanisław !\n",
      "Hi Mathew !\n",
      "Hi Liss !\n"
     ]
    }
   ],
   "source": [
    "names = list([\"Ada\", \"Cornélie\", \"Stanisław\", \"Mathew\", \"Liss\"])\n",
    "\n",
    "for name in names:\n",
    "    print(\"Hi\", name, \"!\")"
   ]
  },
  {
   "cell_type": "markdown",
   "id": "encouraging-spice",
   "metadata": {},
   "source": [
    "Let's break that down:\n",
    "\n",
    "Part of Command                     | Meaning\n",
    ":-------------:               | :----------------------:\n",
    "`for name in names:`     | We ask Python to do something for each element `name` in the variable `names`. \n",
    "`print(\"Hi\", name, \"!\")` | Here we tell Python to print the word `Hi` along with the respective <br> `name` element of the `names` list and a `!` afterwards."
   ]
  },
  {
   "cell_type": "markdown",
   "id": "fabulous-process",
   "metadata": {},
   "source": [
    "We can also loop over `ranges`. Let's create a `range` from `0` to `5` and do some simple calculation and print meaningful outputs:\n"
   ]
  },
  {
   "cell_type": "code",
   "execution_count": 33,
   "id": "posted-income",
   "metadata": {},
   "outputs": [
    {
     "name": "stdout",
     "output_type": "stream",
     "text": [
      "Current number is 0\n",
      "Let's devide it by 3\n",
      "0 devided by 3 is 0.0\n",
      "\n",
      "Current number is 1\n",
      "Let's devide it by 3\n",
      "1 devided by 3 is 0.3333333333333333\n",
      "\n",
      "Current number is 2\n",
      "Let's devide it by 3\n",
      "2 devided by 3 is 0.6666666666666666\n",
      "\n",
      "Current number is 3\n",
      "Let's devide it by 3\n",
      "3 devided by 3 is 1.0\n",
      "\n",
      "Current number is 4\n",
      "Let's devide it by 3\n",
      "4 devided by 3 is 1.3333333333333333\n",
      "\n"
     ]
    }
   ],
   "source": [
    "example_range = range(0,5)\n",
    "\n",
    "for i in example_range:\n",
    "    print(\"Current number is\", i)\n",
    "    print(\"Let's devide it by 3\")\n",
    "    print(i, \"devided by 3 is\", i/3)\n",
    "    print(\"\")"
   ]
  },
  {
   "cell_type": "markdown",
   "id": "wired-champagne",
   "metadata": {},
   "source": [
    "#### While Loops\n",
    "\n",
    "Another kind of loop you can do is the `while loop`. \n",
    "\n",
    "The `while loop` works conditionally. This means you can define a condition and as long as this condition is true, the loop proceeds.\n",
    "\n",
    "Let's tell Python to count up from zero until it reaches `4`"
   ]
  },
  {
   "cell_type": "code",
   "execution_count": 47,
   "id": "valued-agenda",
   "metadata": {},
   "outputs": [
    {
     "name": "stdout",
     "output_type": "stream",
     "text": [
      "0\n",
      "1\n",
      "2\n",
      "3\n"
     ]
    }
   ],
   "source": [
    "count_variable = 0\n",
    "\n",
    "while count_variable < 4:\n",
    "    print(count_variable)\n",
    "    count_variable += 1\n"
   ]
  },
  {
   "cell_type": "markdown",
   "id": "certain-festival",
   "metadata": {},
   "source": [
    "### If ... Else Statements\n",
    "\n",
    "There are many more scenarios in which you need to define conditions for your code to run than `while loops`. In this case you can use `If/Else statements `\n",
    "`If/Else statements` let you run any code conditionally. With if else statements you can define what code Python should when a condition is true and what should happen when the condition is not true. \n",
    "\n",
    "Let's use the names list again from the for loop example above. \n",
    "\n",
    "This time we only want to great every second person. This means we need to embed an `If/Else` statement within the `for loop`"
   ]
  },
  {
   "cell_type": "code",
   "execution_count": 2,
   "id": "miniature-detection",
   "metadata": {
    "tags": []
   },
   "outputs": [
    {
     "name": "stdout",
     "output_type": "stream",
     "text": [
      "Hi Ada !\n",
      "No greeting for Cornélie\n",
      "Hi Stanisław !\n",
      "No greeting for Mathew\n",
      "Hi Liss !\n"
     ]
    }
   ],
   "source": [
    "names = list([\"Ada\", \"Cornélie\", \"Stanisław\", \"Mathew\", \"Liss\"])\n",
    "count_variable = 0\n",
    "\n",
    "for name in names:\n",
    "    if (count_variable % 2) == 0:\n",
    "        print(\"Hi\", name, \"!\")\n",
    "        count_variable += 1\n",
    "    else:\n",
    "        print(\"No greeting for\", name)\n",
    "        count_variable += 1"
   ]
  },
  {
   "cell_type": "markdown",
   "id": "architectural-density",
   "metadata": {
    "tags": []
   },
   "source": [
    "Let's break that down:\n",
    "\n",
    "Part of Command                     | Meaning\n",
    ":-------------:               | :----------------------:\n",
    "`if (count_variable % 2) == 0:`     | We check whether the iteration the `for loop` is in currently, is an even number.\n",
    "`else` | The `else` part off the code defines what happens, when the iteration the `for loop` is in, <br> is not even. In this case we do not want to greet the respective person."
   ]
  },
  {
   "cell_type": "markdown",
   "id": "welsh-hands",
   "metadata": {
    "tags": []
   },
   "source": [
    "## Functions"
   ]
  },
  {
   "cell_type": "markdown",
   "id": "illegal-seattle",
   "metadata": {
    "tags": []
   },
   "source": [
    "Generally speaking, functions in Python are blocks of code that only run, when they are called. Functions always follow the pattern: \n",
    ">`function_name(arguments)`\n",
    "\n",
    "We already used some of the built-in functions of Python like `print()`, `list()` or `range()`. \n",
    "\n",
    "However, you can not only use function already existing in Python but you also can write your own functions.\n",
    "\n",
    "Let's write a small function and see how it works, afterwards."
   ]
  },
  {
   "cell_type": "code",
   "execution_count": 6,
   "id": "fancy-minimum",
   "metadata": {},
   "outputs": [
    {
     "data": {
      "text/plain": [
       "'Hello Everyone, how are you?'"
      ]
     },
     "execution_count": 6,
     "metadata": {},
     "output_type": "execute_result"
    }
   ],
   "source": [
    "def hello(to=\"Everyone\"): #optional argument, as default value is set\n",
    "    return \"Hello {}, how are you?\".format(to)\n",
    "\n",
    "hello()"
   ]
  },
  {
   "cell_type": "markdown",
   "id": "substantial-compact",
   "metadata": {},
   "source": [
    "At first, let's quikly summarise what happened in the previous code block. <br>\n",
    "We wrote a function that is called `hello()`. This function has one argument called `to`and the default value of this argument is `Everyone`. The function itself inserts this argument into a character string so the final return value of the function is \"`Hello Everyone, how are you?`\"\n",
    "\n",
    "Now, let's have a more detailed view at what happened:\n",
    "\n",
    "**1. `def`**\n",
    "\n",
    "When you want to create a new function you need to use `def` to let Python know you want to *define* a new function. \n",
    "\n",
    "**2. `hello(to='Everyone'):`**\n",
    "\n",
    "This part of the code defines the function name (`hello()`) as well as the argument it digests (`to=\"Everyone\"`). <br>\n",
    "An argument is any kind of data or information you want to pass on from outside thhe function into the function. It is not mandatory to use any arguments, nor is it mandatory to define a default value for an argument. <br>\n",
    "\n",
    "In the example above we defined a default value for the `to=` argument. This means that when calling the function it is not necessary to define the `to=` argument unless you want to use another value than the default `Everyone`.\n",
    "\n",
    "**3. `return \"Hello {}, how are you?\".format(to)`**\n",
    "\n",
    "This is the logic of the function. `return` defines what the function is supposed to return. In this case it is returning a character string called `Hello {}, how are you?`. <br>Right after the character string there is `.format(to)`. This is called a `method`. As discussed in [Section 2.2.1](#text-type) there are different things you can do with variables in dependance of the respective data type or class. Character strings in Python have plenty different methods (a kind of sub-function that only works for character strings). One of these methods is `format()`. `format()` can be used to replace a placeholder in a character string with a specified value. <br>\n",
    "\n",
    "Inside the return string `\"Hello {}, how are you?\"` there are curly brackets (`{}`) - this is the placeholder `format()` replaces with the specified value that is passed as an argument into `format()`. In the examle above we pass the argument `to` into `format()` - `to` has the deafult value `Everyone` und thus the resulting string that our function returns when calling `hello()` is `Hello Everyone, how are you?`\n",
    "\n",
    "\n",
    "<div class=\"alert alert-block alert-info\">\n",
    "    <b>Hint: What is the difference between a <code>method</code> and a <code>function</code>?</b> <br>\n",
    "    A <code>method</code> is a function that is bound to an object. A <code>function</code> is not bound and might be applied to any object. <code>Method</code>s are called by attaching a <code>.</code> to the object name, followed by the <code>method</code> name: <code>object_name.method_name(argument)</code<\n",
    "\n",
    "</div>\n"
   ]
  },
  {
   "cell_type": "markdown",
   "id": "adapted-nicaragua",
   "metadata": {
    "tags": []
   },
   "source": [
    "## Libraries"
   ]
  },
  {
   "cell_type": "markdown",
   "id": "promotional-judges",
   "metadata": {},
   "source": [
    "So far we only used the base functionality of Python. But you also can extend Python by using additional packages/libraries. Throughout this curriculum we will use quite a variety of different libraries.\n",
    "\n",
    "Since Python is an open-source programming language, there are thousands of libraries written by the Python community. This means whenever you face an issue you want to solve with Python, the likelihood is rather high that there is a library that is exactly made for solving your specific problem. \n",
    "\n",
    "The installation of new libraries is very easy. You just need to run `pip install PACKAGE_NAME` from your command line. \n",
    "\n",
    "<div class=\"alert alert-block alert-info\">\n",
    "<b>Hint:</b> When you want to install a new package from within a Jupyter notebook, you need to put a <code>!</code> at the beginning of the code cell, to inform Jupyter about your intention to run the command as a terminal command and not as a Python command.</div>\n",
    "\n"
   ]
  },
  {
   "cell_type": "markdown",
   "id": "received-affect",
   "metadata": {},
   "source": [
    "Let's try that out by installing a package called `pandas` - `pandas` is the most popular Python library for working with tabular data."
   ]
  },
  {
   "cell_type": "code",
   "execution_count": 2,
   "id": "unable-white",
   "metadata": {},
   "outputs": [
    {
     "name": "stdout",
     "output_type": "stream",
     "text": [
      "Collecting pandas\n",
      "  Downloading pandas-1.2.3-cp38-cp38-manylinux1_x86_64.whl (9.7 MB)\n",
      "\u001b[K     |████████████████████████████████| 9.7 MB 2.2 MB/s eta 0:00:01\n",
      "\u001b[?25hRequirement already satisfied: python-dateutil>=2.7.3 in /usr/local/lib/python3.8/site-packages (from pandas) (2.8.1)\n",
      "Collecting numpy>=1.16.5\n",
      "  Downloading numpy-1.20.1-cp38-cp38-manylinux2010_x86_64.whl (15.4 MB)\n",
      "\u001b[K     |████████████████████████████████| 15.4 MB 22.6 MB/s eta 0:00:01\n",
      "\u001b[?25hRequirement already satisfied: pytz>=2017.3 in /usr/local/lib/python3.8/site-packages (from pandas) (2021.1)\n",
      "Requirement already satisfied: six>=1.5 in /usr/local/lib/python3.8/site-packages (from python-dateutil>=2.7.3->pandas) (1.15.0)\n",
      "Installing collected packages: numpy, pandas\n",
      "Successfully installed numpy-1.20.1 pandas-1.2.3\n"
     ]
    }
   ],
   "source": [
    "!pip install pandas"
   ]
  },
  {
   "cell_type": "markdown",
   "id": "insured-telephone",
   "metadata": {},
   "source": [
    "After seccussfully installing `pandas`we can load the library in a code cell and use it in our code. \n",
    "\n",
    "You can import libraries to your project by using the `library` call. Additionally you have some option when loading libraries. You can define a new name under which the library should be available in your project. And you also can select just a subsection of the full library in case you do not need every functionality inside the library. \n",
    "\n",
    "Usually when using `pandas` there is a convention to abbreviate the library name to `pd`. So whenever you load the library and you want to stick to the convention you would load it as:"
   ]
  },
  {
   "cell_type": "code",
   "execution_count": 1,
   "id": "swedish-discretion",
   "metadata": {},
   "outputs": [],
   "source": [
    "import pandas as pd"
   ]
  },
  {
   "cell_type": "markdown",
   "id": "later-reception",
   "metadata": {},
   "source": [
    "## Data Frames (with Pandas)"
   ]
  },
  {
   "cell_type": "markdown",
   "id": "worse-cowboy",
   "metadata": {},
   "source": [
    "Scientific computing often involves tabular data representation. The advantage of tabular data representation is the clear structure. This data structure is often referred to as `data frame` or `data table`. The terminology around data frames differs slightly, depending on the scientific field. <br>\n",
    "\n",
    "This table provides a quick overview of different terms for the same concepts:\n",
    "\n",
    "Element                     | Term\n",
    ":-------------:               | :----------------------:\n",
    "Column      | Feaure, Variable, Dimension\n",
    "Row | Instance, Observation\n",
    "Cell | Value, Data Point, Datum\n",
    "\n",
    "\n",
    "Key advantages of `pandas data frames`:\n",
    "* Manage and analyse data\n",
    "* Well suited for working with relational and labled data (e.g.: Excel, CSV, SQL Tables)"
   ]
  },
  {
   "cell_type": "markdown",
   "id": "optimum-extra",
   "metadata": {},
   "source": [
    "Let's create an example data frame with `pandas`. At first we create a `dictionary` that contains our data structure. Afterwards we transform the `dictionary` into a `pandas data frame`.\n",
    "\n",
    "This is the example table we want to create: \n",
    "\n",
    "name            | birth_year | gender | \n",
    ":-------------: | :--------: | :------:\n",
    "Ada             | 1815       | female\n",
    "Cornélie        | 1965       | female\n",
    "Stanisław       | 1987       | male\n",
    "Mathew          | 1896       | male\n",
    "Liss            | 1976       | non-binary"
   ]
  },
  {
   "cell_type": "code",
   "execution_count": 2,
   "id": "disturbed-extraction",
   "metadata": {},
   "outputs": [
    {
     "data": {
      "text/html": [
       "<div>\n",
       "<style scoped>\n",
       "    .dataframe tbody tr th:only-of-type {\n",
       "        vertical-align: middle;\n",
       "    }\n",
       "\n",
       "    .dataframe tbody tr th {\n",
       "        vertical-align: top;\n",
       "    }\n",
       "\n",
       "    .dataframe thead th {\n",
       "        text-align: right;\n",
       "    }\n",
       "</style>\n",
       "<table border=\"1\" class=\"dataframe\">\n",
       "  <thead>\n",
       "    <tr style=\"text-align: right;\">\n",
       "      <th></th>\n",
       "      <th>name</th>\n",
       "      <th>birth_year</th>\n",
       "      <th>gender</th>\n",
       "    </tr>\n",
       "  </thead>\n",
       "  <tbody>\n",
       "    <tr>\n",
       "      <th>0</th>\n",
       "      <td>Ada</td>\n",
       "      <td>1815</td>\n",
       "      <td>female</td>\n",
       "    </tr>\n",
       "    <tr>\n",
       "      <th>1</th>\n",
       "      <td>Cornélie</td>\n",
       "      <td>1965</td>\n",
       "      <td>female</td>\n",
       "    </tr>\n",
       "    <tr>\n",
       "      <th>2</th>\n",
       "      <td>Stanisław</td>\n",
       "      <td>1987</td>\n",
       "      <td>male</td>\n",
       "    </tr>\n",
       "    <tr>\n",
       "      <th>3</th>\n",
       "      <td>Mathew</td>\n",
       "      <td>1896</td>\n",
       "      <td>male</td>\n",
       "    </tr>\n",
       "    <tr>\n",
       "      <th>4</th>\n",
       "      <td>Liss</td>\n",
       "      <td>1976</td>\n",
       "      <td>non-binary</td>\n",
       "    </tr>\n",
       "  </tbody>\n",
       "</table>\n",
       "</div>"
      ],
      "text/plain": [
       "        name  birth_year      gender\n",
       "0        Ada        1815      female\n",
       "1   Cornélie        1965      female\n",
       "2  Stanisław        1987        male\n",
       "3     Mathew        1896        male\n",
       "4       Liss        1976  non-binary"
      ]
     },
     "execution_count": 2,
     "metadata": {},
     "output_type": "execute_result"
    }
   ],
   "source": [
    "data_dict = dict({\"name\": [\"Ada\", \"Cornélie\", \"Stanisław\", \"Mathew\", \"Liss\"],\n",
    "                 \"birth_year\": [1815, 1965, 1987, 1896, 1976],\n",
    "                 \"gender\": [\"female\", \"female\", \"male\", \"male\", \"non-binary\"]})\n",
    "\n",
    "data_frame = pd.DataFrame(data = data_dict)\n",
    "\n",
    "data_frame"
   ]
  },
  {
   "cell_type": "markdown",
   "id": "discrete-chile",
   "metadata": {},
   "source": [
    "This `pandas data frame` has some very convenient `methods` helping us to get an understanding what's in the data."
   ]
  },
  {
   "cell_type": "markdown",
   "id": "gothic-voluntary",
   "metadata": {},
   "source": [
    "### Summarise data"
   ]
  },
  {
   "cell_type": "markdown",
   "id": "enclosed-preservation",
   "metadata": {},
   "source": [
    "Let's get a description of the data: "
   ]
  },
  {
   "cell_type": "code",
   "execution_count": 9,
   "id": "medical-momentum",
   "metadata": {},
   "outputs": [
    {
     "data": {
      "text/html": [
       "<div>\n",
       "<style scoped>\n",
       "    .dataframe tbody tr th:only-of-type {\n",
       "        vertical-align: middle;\n",
       "    }\n",
       "\n",
       "    .dataframe tbody tr th {\n",
       "        vertical-align: top;\n",
       "    }\n",
       "\n",
       "    .dataframe thead th {\n",
       "        text-align: right;\n",
       "    }\n",
       "</style>\n",
       "<table border=\"1\" class=\"dataframe\">\n",
       "  <thead>\n",
       "    <tr style=\"text-align: right;\">\n",
       "      <th></th>\n",
       "      <th>birth_year</th>\n",
       "    </tr>\n",
       "  </thead>\n",
       "  <tbody>\n",
       "    <tr>\n",
       "      <th>count</th>\n",
       "      <td>5.000000</td>\n",
       "    </tr>\n",
       "    <tr>\n",
       "      <th>mean</th>\n",
       "      <td>1927.800000</td>\n",
       "    </tr>\n",
       "    <tr>\n",
       "      <th>std</th>\n",
       "      <td>72.365047</td>\n",
       "    </tr>\n",
       "    <tr>\n",
       "      <th>min</th>\n",
       "      <td>1815.000000</td>\n",
       "    </tr>\n",
       "    <tr>\n",
       "      <th>25%</th>\n",
       "      <td>1896.000000</td>\n",
       "    </tr>\n",
       "    <tr>\n",
       "      <th>50%</th>\n",
       "      <td>1965.000000</td>\n",
       "    </tr>\n",
       "    <tr>\n",
       "      <th>75%</th>\n",
       "      <td>1976.000000</td>\n",
       "    </tr>\n",
       "    <tr>\n",
       "      <th>max</th>\n",
       "      <td>1987.000000</td>\n",
       "    </tr>\n",
       "  </tbody>\n",
       "</table>\n",
       "</div>"
      ],
      "text/plain": [
       "        birth_year\n",
       "count     5.000000\n",
       "mean   1927.800000\n",
       "std      72.365047\n",
       "min    1815.000000\n",
       "25%    1896.000000\n",
       "50%    1965.000000\n",
       "75%    1976.000000\n",
       "max    1987.000000"
      ]
     },
     "execution_count": 9,
     "metadata": {},
     "output_type": "execute_result"
    }
   ],
   "source": [
    "data_frame.describe()"
   ]
  },
  {
   "cell_type": "code",
   "execution_count": 10,
   "id": "average-gravity",
   "metadata": {},
   "outputs": [
    {
     "name": "stdout",
     "output_type": "stream",
     "text": [
      "<class 'pandas.core.frame.DataFrame'>\n",
      "RangeIndex: 5 entries, 0 to 4\n",
      "Data columns (total 3 columns):\n",
      " #   Column      Non-Null Count  Dtype \n",
      "---  ------      --------------  ----- \n",
      " 0   name        5 non-null      object\n",
      " 1   birth_year  5 non-null      int64 \n",
      " 2   gender      5 non-null      object\n",
      "dtypes: int64(1), object(2)\n",
      "memory usage: 248.0+ bytes\n"
     ]
    }
   ],
   "source": [
    "data_frame.info()"
   ]
  },
  {
   "cell_type": "code",
   "execution_count": 13,
   "id": "closing-oklahoma",
   "metadata": {},
   "outputs": [
    {
     "data": {
      "text/plain": [
       "name       birth_year  gender    \n",
       "Ada        1815        female        1\n",
       "Cornélie   1965        female        1\n",
       "Liss       1976        non-binary    1\n",
       "Mathew     1896        male          1\n",
       "Stanisław  1987        male          1\n",
       "dtype: int64"
      ]
     },
     "execution_count": 13,
     "metadata": {},
     "output_type": "execute_result"
    }
   ],
   "source": [
    "data_frame.value_counts()"
   ]
  },
  {
   "cell_type": "code",
   "execution_count": 24,
   "id": "gross-postcard",
   "metadata": {},
   "outputs": [
    {
     "data": {
      "text/html": [
       "<div>\n",
       "<style scoped>\n",
       "    .dataframe tbody tr th:only-of-type {\n",
       "        vertical-align: middle;\n",
       "    }\n",
       "\n",
       "    .dataframe tbody tr th {\n",
       "        vertical-align: top;\n",
       "    }\n",
       "\n",
       "    .dataframe thead th {\n",
       "        text-align: right;\n",
       "    }\n",
       "</style>\n",
       "<table border=\"1\" class=\"dataframe\">\n",
       "  <thead>\n",
       "    <tr style=\"text-align: right;\">\n",
       "      <th></th>\n",
       "      <th>name</th>\n",
       "      <th>birth_year</th>\n",
       "    </tr>\n",
       "    <tr>\n",
       "      <th>gender</th>\n",
       "      <th></th>\n",
       "      <th></th>\n",
       "    </tr>\n",
       "  </thead>\n",
       "  <tbody>\n",
       "    <tr>\n",
       "      <th>female</th>\n",
       "      <td>2</td>\n",
       "      <td>2</td>\n",
       "    </tr>\n",
       "    <tr>\n",
       "      <th>male</th>\n",
       "      <td>2</td>\n",
       "      <td>2</td>\n",
       "    </tr>\n",
       "    <tr>\n",
       "      <th>non-binary</th>\n",
       "      <td>1</td>\n",
       "      <td>1</td>\n",
       "    </tr>\n",
       "  </tbody>\n",
       "</table>\n",
       "</div>"
      ],
      "text/plain": [
       "            name  birth_year\n",
       "gender                      \n",
       "female         2           2\n",
       "male           2           2\n",
       "non-binary     1           1"
      ]
     },
     "execution_count": 24,
     "metadata": {},
     "output_type": "execute_result"
    }
   ],
   "source": [
    "data_frame.groupby(\"gender\").count()"
   ]
  },
  {
   "cell_type": "markdown",
   "id": "amateur-advisory",
   "metadata": {},
   "source": [
    "### Sort and arrange data"
   ]
  },
  {
   "cell_type": "code",
   "execution_count": 11,
   "id": "racial-paraguay",
   "metadata": {},
   "outputs": [
    {
     "data": {
      "text/html": [
       "<div>\n",
       "<style scoped>\n",
       "    .dataframe tbody tr th:only-of-type {\n",
       "        vertical-align: middle;\n",
       "    }\n",
       "\n",
       "    .dataframe tbody tr th {\n",
       "        vertical-align: top;\n",
       "    }\n",
       "\n",
       "    .dataframe thead th {\n",
       "        text-align: right;\n",
       "    }\n",
       "</style>\n",
       "<table border=\"1\" class=\"dataframe\">\n",
       "  <thead>\n",
       "    <tr style=\"text-align: right;\">\n",
       "      <th></th>\n",
       "      <th>name</th>\n",
       "      <th>birth_year</th>\n",
       "      <th>gender</th>\n",
       "    </tr>\n",
       "  </thead>\n",
       "  <tbody>\n",
       "    <tr>\n",
       "      <th>2</th>\n",
       "      <td>Stanisław</td>\n",
       "      <td>1987</td>\n",
       "      <td>male</td>\n",
       "    </tr>\n",
       "    <tr>\n",
       "      <th>4</th>\n",
       "      <td>Liss</td>\n",
       "      <td>1976</td>\n",
       "      <td>non-binary</td>\n",
       "    </tr>\n",
       "    <tr>\n",
       "      <th>1</th>\n",
       "      <td>Cornélie</td>\n",
       "      <td>1965</td>\n",
       "      <td>female</td>\n",
       "    </tr>\n",
       "    <tr>\n",
       "      <th>3</th>\n",
       "      <td>Mathew</td>\n",
       "      <td>1896</td>\n",
       "      <td>male</td>\n",
       "    </tr>\n",
       "    <tr>\n",
       "      <th>0</th>\n",
       "      <td>Ada</td>\n",
       "      <td>1815</td>\n",
       "      <td>female</td>\n",
       "    </tr>\n",
       "  </tbody>\n",
       "</table>\n",
       "</div>"
      ],
      "text/plain": [
       "        name  birth_year      gender\n",
       "2  Stanisław        1987        male\n",
       "4       Liss        1976  non-binary\n",
       "1   Cornélie        1965      female\n",
       "3     Mathew        1896        male\n",
       "0        Ada        1815      female"
      ]
     },
     "execution_count": 11,
     "metadata": {},
     "output_type": "execute_result"
    }
   ],
   "source": [
    "data_frame.sort_values(by = 'birth_year', ascending = False)"
   ]
  },
  {
   "cell_type": "markdown",
   "id": "fossil-replacement",
   "metadata": {},
   "source": [
    "### Transform data"
   ]
  },
  {
   "cell_type": "code",
   "execution_count": 15,
   "id": "necessary-desktop",
   "metadata": {},
   "outputs": [
    {
     "data": {
      "text/html": [
       "<div>\n",
       "<style scoped>\n",
       "    .dataframe tbody tr th:only-of-type {\n",
       "        vertical-align: middle;\n",
       "    }\n",
       "\n",
       "    .dataframe tbody tr th {\n",
       "        vertical-align: top;\n",
       "    }\n",
       "\n",
       "    .dataframe thead th {\n",
       "        text-align: right;\n",
       "    }\n",
       "</style>\n",
       "<table border=\"1\" class=\"dataframe\">\n",
       "  <thead>\n",
       "    <tr style=\"text-align: right;\">\n",
       "      <th></th>\n",
       "      <th>name</th>\n",
       "      <th>birth_year</th>\n",
       "      <th>gender</th>\n",
       "    </tr>\n",
       "  </thead>\n",
       "  <tbody>\n",
       "    <tr>\n",
       "      <th>0</th>\n",
       "      <td>Ada</td>\n",
       "      <td>1815</td>\n",
       "      <td>female</td>\n",
       "    </tr>\n",
       "    <tr>\n",
       "      <th>1</th>\n",
       "      <td>Cornélie</td>\n",
       "      <td>1965</td>\n",
       "      <td>female</td>\n",
       "    </tr>\n",
       "    <tr>\n",
       "      <th>2</th>\n",
       "      <td>Stanisław</td>\n",
       "      <td>1987</td>\n",
       "      <td>male</td>\n",
       "    </tr>\n",
       "    <tr>\n",
       "      <th>3</th>\n",
       "      <td>Mathew</td>\n",
       "      <td>1896</td>\n",
       "      <td>male</td>\n",
       "    </tr>\n",
       "    <tr>\n",
       "      <th>4</th>\n",
       "      <td>Liss</td>\n",
       "      <td>1976</td>\n",
       "      <td>non-binary</td>\n",
       "    </tr>\n",
       "  </tbody>\n",
       "</table>\n",
       "</div>"
      ],
      "text/plain": [
       "        name  birth_year      gender\n",
       "0        Ada        1815      female\n",
       "1   Cornélie        1965      female\n",
       "2  Stanisław        1987        male\n",
       "3     Mathew        1896        male\n",
       "4       Liss        1976  non-binary"
      ]
     },
     "execution_count": 15,
     "metadata": {},
     "output_type": "execute_result"
    }
   ],
   "source": [
    "data_frame.rename(columns={\"name\": \"first_name\"})"
   ]
  },
  {
   "cell_type": "code",
   "execution_count": 19,
   "id": "federal-naples",
   "metadata": {},
   "outputs": [
    {
     "data": {
      "text/html": [
       "<div>\n",
       "<style scoped>\n",
       "    .dataframe tbody tr th:only-of-type {\n",
       "        vertical-align: middle;\n",
       "    }\n",
       "\n",
       "    .dataframe tbody tr th {\n",
       "        vertical-align: top;\n",
       "    }\n",
       "\n",
       "    .dataframe thead th {\n",
       "        text-align: right;\n",
       "    }\n",
       "</style>\n",
       "<table border=\"1\" class=\"dataframe\">\n",
       "  <thead>\n",
       "    <tr style=\"text-align: right;\">\n",
       "      <th></th>\n",
       "      <th>name</th>\n",
       "      <th>birth_year</th>\n",
       "      <th>gender</th>\n",
       "      <th>age</th>\n",
       "    </tr>\n",
       "  </thead>\n",
       "  <tbody>\n",
       "    <tr>\n",
       "      <th>0</th>\n",
       "      <td>Ada</td>\n",
       "      <td>1815</td>\n",
       "      <td>female</td>\n",
       "      <td>205</td>\n",
       "    </tr>\n",
       "    <tr>\n",
       "      <th>1</th>\n",
       "      <td>Cornélie</td>\n",
       "      <td>1965</td>\n",
       "      <td>female</td>\n",
       "      <td>55</td>\n",
       "    </tr>\n",
       "    <tr>\n",
       "      <th>2</th>\n",
       "      <td>Stanisław</td>\n",
       "      <td>1987</td>\n",
       "      <td>male</td>\n",
       "      <td>33</td>\n",
       "    </tr>\n",
       "    <tr>\n",
       "      <th>3</th>\n",
       "      <td>Mathew</td>\n",
       "      <td>1896</td>\n",
       "      <td>male</td>\n",
       "      <td>124</td>\n",
       "    </tr>\n",
       "    <tr>\n",
       "      <th>4</th>\n",
       "      <td>Liss</td>\n",
       "      <td>1976</td>\n",
       "      <td>non-binary</td>\n",
       "      <td>44</td>\n",
       "    </tr>\n",
       "  </tbody>\n",
       "</table>\n",
       "</div>"
      ],
      "text/plain": [
       "        name  birth_year      gender  age\n",
       "0        Ada        1815      female  205\n",
       "1   Cornélie        1965      female   55\n",
       "2  Stanisław        1987        male   33\n",
       "3     Mathew        1896        male  124\n",
       "4       Liss        1976  non-binary   44"
      ]
     },
     "execution_count": 19,
     "metadata": {},
     "output_type": "execute_result"
    }
   ],
   "source": [
    "data_frame.assign(age = 2020-data_frame[\"birth_year\"])"
   ]
  },
  {
   "cell_type": "markdown",
   "id": "successful-place",
   "metadata": {},
   "source": [
    "### Query & filter data"
   ]
  },
  {
   "cell_type": "code",
   "execution_count": 31,
   "id": "honest-china",
   "metadata": {},
   "outputs": [
    {
     "data": {
      "text/html": [
       "<div>\n",
       "<style scoped>\n",
       "    .dataframe tbody tr th:only-of-type {\n",
       "        vertical-align: middle;\n",
       "    }\n",
       "\n",
       "    .dataframe tbody tr th {\n",
       "        vertical-align: top;\n",
       "    }\n",
       "\n",
       "    .dataframe thead th {\n",
       "        text-align: right;\n",
       "    }\n",
       "</style>\n",
       "<table border=\"1\" class=\"dataframe\">\n",
       "  <thead>\n",
       "    <tr style=\"text-align: right;\">\n",
       "      <th></th>\n",
       "      <th>name</th>\n",
       "      <th>gender</th>\n",
       "    </tr>\n",
       "  </thead>\n",
       "  <tbody>\n",
       "    <tr>\n",
       "      <th>0</th>\n",
       "      <td>Ada</td>\n",
       "      <td>female</td>\n",
       "    </tr>\n",
       "    <tr>\n",
       "      <th>1</th>\n",
       "      <td>Cornélie</td>\n",
       "      <td>female</td>\n",
       "    </tr>\n",
       "    <tr>\n",
       "      <th>2</th>\n",
       "      <td>Stanisław</td>\n",
       "      <td>male</td>\n",
       "    </tr>\n",
       "    <tr>\n",
       "      <th>3</th>\n",
       "      <td>Mathew</td>\n",
       "      <td>male</td>\n",
       "    </tr>\n",
       "    <tr>\n",
       "      <th>4</th>\n",
       "      <td>Liss</td>\n",
       "      <td>non-binary</td>\n",
       "    </tr>\n",
       "  </tbody>\n",
       "</table>\n",
       "</div>"
      ],
      "text/plain": [
       "        name      gender\n",
       "0        Ada      female\n",
       "1   Cornélie      female\n",
       "2  Stanisław        male\n",
       "3     Mathew        male\n",
       "4       Liss  non-binary"
      ]
     },
     "execution_count": 31,
     "metadata": {},
     "output_type": "execute_result"
    }
   ],
   "source": [
    "data_frame[[\"name\", \"gender\"]]"
   ]
  },
  {
   "cell_type": "code",
   "execution_count": 40,
   "id": "interior-greensboro",
   "metadata": {},
   "outputs": [
    {
     "data": {
      "text/html": [
       "<div>\n",
       "<style scoped>\n",
       "    .dataframe tbody tr th:only-of-type {\n",
       "        vertical-align: middle;\n",
       "    }\n",
       "\n",
       "    .dataframe tbody tr th {\n",
       "        vertical-align: top;\n",
       "    }\n",
       "\n",
       "    .dataframe thead th {\n",
       "        text-align: right;\n",
       "    }\n",
       "</style>\n",
       "<table border=\"1\" class=\"dataframe\">\n",
       "  <thead>\n",
       "    <tr style=\"text-align: right;\">\n",
       "      <th></th>\n",
       "      <th>name</th>\n",
       "      <th>birth_year</th>\n",
       "      <th>gender</th>\n",
       "    </tr>\n",
       "  </thead>\n",
       "  <tbody>\n",
       "    <tr>\n",
       "      <th>3</th>\n",
       "      <td>Mathew</td>\n",
       "      <td>1896</td>\n",
       "      <td>male</td>\n",
       "    </tr>\n",
       "  </tbody>\n",
       "</table>\n",
       "</div>"
      ],
      "text/plain": [
       "     name  birth_year gender\n",
       "3  Mathew        1896   male"
      ]
     },
     "execution_count": 40,
     "metadata": {},
     "output_type": "execute_result"
    }
   ],
   "source": [
    "data_frame.iloc[[3]]"
   ]
  },
  {
   "cell_type": "code",
   "execution_count": 32,
   "id": "broken-valley",
   "metadata": {},
   "outputs": [
    {
     "data": {
      "text/html": [
       "<div>\n",
       "<style scoped>\n",
       "    .dataframe tbody tr th:only-of-type {\n",
       "        vertical-align: middle;\n",
       "    }\n",
       "\n",
       "    .dataframe tbody tr th {\n",
       "        vertical-align: top;\n",
       "    }\n",
       "\n",
       "    .dataframe thead th {\n",
       "        text-align: right;\n",
       "    }\n",
       "</style>\n",
       "<table border=\"1\" class=\"dataframe\">\n",
       "  <thead>\n",
       "    <tr style=\"text-align: right;\">\n",
       "      <th></th>\n",
       "      <th>gender</th>\n",
       "    </tr>\n",
       "  </thead>\n",
       "  <tbody>\n",
       "    <tr>\n",
       "      <th>0</th>\n",
       "      <td>female</td>\n",
       "    </tr>\n",
       "    <tr>\n",
       "      <th>2</th>\n",
       "      <td>male</td>\n",
       "    </tr>\n",
       "    <tr>\n",
       "      <th>4</th>\n",
       "      <td>non-binary</td>\n",
       "    </tr>\n",
       "  </tbody>\n",
       "</table>\n",
       "</div>"
      ],
      "text/plain": [
       "       gender\n",
       "0      female\n",
       "2        male\n",
       "4  non-binary"
      ]
     },
     "execution_count": 32,
     "metadata": {},
     "output_type": "execute_result"
    }
   ],
   "source": [
    "data_frame[[\"gender\"]].drop_duplicates()"
   ]
  },
  {
   "cell_type": "code",
   "execution_count": 35,
   "id": "preliminary-cleanup",
   "metadata": {},
   "outputs": [
    {
     "data": {
      "text/html": [
       "<div>\n",
       "<style scoped>\n",
       "    .dataframe tbody tr th:only-of-type {\n",
       "        vertical-align: middle;\n",
       "    }\n",
       "\n",
       "    .dataframe tbody tr th {\n",
       "        vertical-align: top;\n",
       "    }\n",
       "\n",
       "    .dataframe thead th {\n",
       "        text-align: right;\n",
       "    }\n",
       "</style>\n",
       "<table border=\"1\" class=\"dataframe\">\n",
       "  <thead>\n",
       "    <tr style=\"text-align: right;\">\n",
       "      <th></th>\n",
       "      <th>name</th>\n",
       "      <th>birth_year</th>\n",
       "      <th>gender</th>\n",
       "    </tr>\n",
       "  </thead>\n",
       "  <tbody>\n",
       "    <tr>\n",
       "      <th>0</th>\n",
       "      <td>Ada</td>\n",
       "      <td>1815</td>\n",
       "      <td>female</td>\n",
       "    </tr>\n",
       "    <tr>\n",
       "      <th>1</th>\n",
       "      <td>Cornélie</td>\n",
       "      <td>1965</td>\n",
       "      <td>female</td>\n",
       "    </tr>\n",
       "    <tr>\n",
       "      <th>4</th>\n",
       "      <td>Liss</td>\n",
       "      <td>1976</td>\n",
       "      <td>non-binary</td>\n",
       "    </tr>\n",
       "  </tbody>\n",
       "</table>\n",
       "</div>"
      ],
      "text/plain": [
       "       name  birth_year      gender\n",
       "0       Ada        1815      female\n",
       "1  Cornélie        1965      female\n",
       "4      Liss        1976  non-binary"
      ]
     },
     "execution_count": 35,
     "metadata": {},
     "output_type": "execute_result"
    }
   ],
   "source": [
    "data_frame.query(\"gender == 'female' | gender == 'non-binary' & birth_year > 1900\")"
   ]
  },
  {
   "cell_type": "code",
   "execution_count": 37,
   "id": "banner-stamp",
   "metadata": {},
   "outputs": [
    {
     "data": {
      "text/html": [
       "<div>\n",
       "<style scoped>\n",
       "    .dataframe tbody tr th:only-of-type {\n",
       "        vertical-align: middle;\n",
       "    }\n",
       "\n",
       "    .dataframe tbody tr th {\n",
       "        vertical-align: top;\n",
       "    }\n",
       "\n",
       "    .dataframe thead th {\n",
       "        text-align: right;\n",
       "    }\n",
       "</style>\n",
       "<table border=\"1\" class=\"dataframe\">\n",
       "  <thead>\n",
       "    <tr style=\"text-align: right;\">\n",
       "      <th></th>\n",
       "      <th>name</th>\n",
       "      <th>birth_year</th>\n",
       "      <th>gender</th>\n",
       "    </tr>\n",
       "  </thead>\n",
       "  <tbody>\n",
       "    <tr>\n",
       "      <th>2</th>\n",
       "      <td>Stanisław</td>\n",
       "      <td>1987</td>\n",
       "      <td>male</td>\n",
       "    </tr>\n",
       "    <tr>\n",
       "      <th>4</th>\n",
       "      <td>Liss</td>\n",
       "      <td>1976</td>\n",
       "      <td>non-binary</td>\n",
       "    </tr>\n",
       "    <tr>\n",
       "      <th>1</th>\n",
       "      <td>Cornélie</td>\n",
       "      <td>1965</td>\n",
       "      <td>female</td>\n",
       "    </tr>\n",
       "  </tbody>\n",
       "</table>\n",
       "</div>"
      ],
      "text/plain": [
       "        name  birth_year      gender\n",
       "2  Stanisław        1987        male\n",
       "4       Liss        1976  non-binary\n",
       "1   Cornélie        1965      female"
      ]
     },
     "execution_count": 37,
     "metadata": {},
     "output_type": "execute_result"
    }
   ],
   "source": [
    "data_frame.sample(n=3)"
   ]
  },
  {
   "cell_type": "markdown",
   "id": "promising-sender",
   "metadata": {},
   "source": [
    "### Export and import data"
   ]
  },
  {
   "cell_type": "code",
   "execution_count": 45,
   "id": "compressed-alert",
   "metadata": {},
   "outputs": [],
   "source": [
    "data_frame.to_csv(\"./example_export.csv\", index = False)"
   ]
  },
  {
   "cell_type": "code",
   "execution_count": 46,
   "id": "viral-oracle",
   "metadata": {},
   "outputs": [
    {
     "data": {
      "text/html": [
       "<div>\n",
       "<style scoped>\n",
       "    .dataframe tbody tr th:only-of-type {\n",
       "        vertical-align: middle;\n",
       "    }\n",
       "\n",
       "    .dataframe tbody tr th {\n",
       "        vertical-align: top;\n",
       "    }\n",
       "\n",
       "    .dataframe thead th {\n",
       "        text-align: right;\n",
       "    }\n",
       "</style>\n",
       "<table border=\"1\" class=\"dataframe\">\n",
       "  <thead>\n",
       "    <tr style=\"text-align: right;\">\n",
       "      <th></th>\n",
       "      <th>name</th>\n",
       "      <th>birth_year</th>\n",
       "      <th>gender</th>\n",
       "    </tr>\n",
       "  </thead>\n",
       "  <tbody>\n",
       "    <tr>\n",
       "      <th>0</th>\n",
       "      <td>Ada</td>\n",
       "      <td>1815</td>\n",
       "      <td>female</td>\n",
       "    </tr>\n",
       "    <tr>\n",
       "      <th>1</th>\n",
       "      <td>Cornélie</td>\n",
       "      <td>1965</td>\n",
       "      <td>female</td>\n",
       "    </tr>\n",
       "    <tr>\n",
       "      <th>2</th>\n",
       "      <td>Stanisław</td>\n",
       "      <td>1987</td>\n",
       "      <td>male</td>\n",
       "    </tr>\n",
       "    <tr>\n",
       "      <th>3</th>\n",
       "      <td>Mathew</td>\n",
       "      <td>1896</td>\n",
       "      <td>male</td>\n",
       "    </tr>\n",
       "    <tr>\n",
       "      <th>4</th>\n",
       "      <td>Liss</td>\n",
       "      <td>1976</td>\n",
       "      <td>non-binary</td>\n",
       "    </tr>\n",
       "  </tbody>\n",
       "</table>\n",
       "</div>"
      ],
      "text/plain": [
       "        name  birth_year      gender\n",
       "0        Ada        1815      female\n",
       "1   Cornélie        1965      female\n",
       "2  Stanisław        1987        male\n",
       "3     Mathew        1896        male\n",
       "4       Liss        1976  non-binary"
      ]
     },
     "execution_count": 46,
     "metadata": {},
     "output_type": "execute_result"
    }
   ],
   "source": [
    "example_import = pd.read_csv(\"./example_export.csv\")\n",
    "example_import"
   ]
  }
 ],
 "metadata": {
  "kernelspec": {
   "display_name": "Python 3",
   "language": "python",
   "name": "python3"
  },
  "language_info": {
   "codemirror_mode": {
    "name": "ipython",
    "version": 3
   },
   "file_extension": ".py",
   "mimetype": "text/x-python",
   "name": "python",
   "nbconvert_exporter": "python",
   "pygments_lexer": "ipython3",
   "version": "3.8.8"
  },
  "toc-autonumbering": true,
  "toc-showcode": false,
  "toc-showmarkdowntxt": false,
  "toc-showtags": false
 },
 "nbformat": 4,
 "nbformat_minor": 5
}
