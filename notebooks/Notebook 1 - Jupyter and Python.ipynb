{
 "cells": [
  {
   "cell_type": "markdown",
   "id": "practical-image",
   "metadata": {},
   "source": [
    "<font size = \"20\"> SoNAR (IDH) </font>\n",
    "\n",
    "<font size = \"12\"> Interfaces to Data for Historical Social Network Analysis and Research </font>"
   ]
  },
  {
   "cell_type": "markdown",
   "id": "voluntary-tomato",
   "metadata": {},
   "source": [
    "<font size = \"12\">Notebook 1:  Jupyter and Python</font>"
   ]
  },
  {
   "cell_type": "markdown",
   "id": "august-processing",
   "metadata": {},
   "source": [
    "This curriculum serves as a guide and introductory resource into using the SoNAR (IDH) network database with the help of python and Jupyter notebooks.\n",
    "\n",
    "This curriculum uses [Jupyter](http://jupyter.org/) Notebooks to document and explain how to do historical network analyses with SoNAR (IDH). \n",
    "This first notebooks provides a high-level overview of the basic functionality of Jupyter notebooks as well as a quick introduction to basic python. All following notebooks will build up upon the fundamentals explained in this notebook."
   ]
  },
  {
   "cell_type": "markdown",
   "id": "metallic-utilization",
   "metadata": {
    "tags": []
   },
   "source": [
    "# Jupyter Notebooks"
   ]
  },
  {
   "cell_type": "markdown",
   "id": "statewide-being",
   "metadata": {},
   "source": [
    "Jupyter Notebooks are basically a kind of code editor you can use inside your web browser. This means you can write, edit and run code and from your browser, the code is immediately interpreted and the results are visible directly under the executed code. \n",
    "\n",
    "What makes Jupyter notebooks so versatile is that you can mix code blocks and text blocks within the same document and thus create interactive, transparent and reproducible documentations or guides. "
   ]
  },
  {
   "cell_type": "markdown",
   "id": "statutory-scotland",
   "metadata": {},
   "source": [
    "## Project Jupyter"
   ]
  },
  {
   "cell_type": "markdown",
   "id": "fatal-search",
   "metadata": {},
   "source": [
    "[Project Jupyter](https://jupyter.org/) is the name of the non-profit and open-source project that develops the Jupyter notebook technology this curriculum is based on. \n",
    "\n",
    "Project Jupyter is maintained and developed by a big community with a focus on making scientific computing accessible, easy and free. \n",
    "\n",
    "The name Jupyter is derived from the names of the three programming languages **Ju**lia, **Pyt**hon and **R**. The main objective of Jupyter is supporting interactive data science and scientific computing across all programming languages. All notebooks in this curriculum use a Python kernel."
   ]
  },
  {
   "cell_type": "markdown",
   "id": "beginning-dallas",
   "metadata": {},
   "source": [
    "## Operating Jupyter\n",
    "\n",
    "At first we are going to take a look into the Jupyter interface we will use throughout this curriculum. To be precise `JupyterLab` will be used, which is an environment that includes the aforementioned notebooks as well as an environment to easily operate and interact with the notebooks.  "
   ]
  },
  {
   "cell_type": "markdown",
   "id": "sonic-bookmark",
   "metadata": {},
   "source": [
    "### Dashboard"
   ]
  },
  {
   "cell_type": "markdown",
   "id": "demanding-poster",
   "metadata": {},
   "source": [
    "The Jupyter dashboard is your welcome screen to your project. The picture beneath depicts how this welcome screen for the SoNAR (IDH) Jupyter curriculum looks like. \n",
    "The dashboard enables you to administer and manage the project by creating new files, browsing your project directory, checking installed and running kernels and many things more. \n"
   ]
  },
  {
   "cell_type": "markdown",
   "id": "objective-landing",
   "metadata": {},
   "source": [
    "<center>\n",
    "    \n",
    "        <img src=\"../images/01_dashboard.png\" alt=\"Dashboard\" style=\"width: 600px;\"/>\n",
    "    \n",
    "</center>"
   ]
  },
  {
   "cell_type": "markdown",
   "id": "inclusive-keyboard",
   "metadata": {},
   "source": [
    "In this curriculum we will only use a small fraction of the possibilities of Jupyter. The most crucial things you need to know about the dashboard are the following elements:"
   ]
  },
  {
   "cell_type": "markdown",
   "id": "complete-strip",
   "metadata": {},
   "source": [
    "**Left Sidebar** \n",
    "\n",
    "\n",
    "<center>\n",
    "        <img src=\"../images/01-1_sidebar.png\" alt=\"Dashboard\" style=\"hight: 100px;\"/>\n",
    "</center>\n",
    "\n",
    "\n",
    "1. File Browser\n",
    "\n",
    ">The default tab that is active in the left sidebar is the file browser tab. This file browser enables you to manage (e.g. open, delete, rename) the files in the current project. Inside the `notebooks` folder you can find all the notebooks that are part of the SoNAR Jupyter curriculum. <br>\n",
    "When you right-click a file you have many options to manage the respective file - you also can download the file to your own machine if you like. \n",
    "The other files in this project are not necessarily important for you - they provide some setup information about the project itself, so it is reproducible on any machine. When you just want to follow along the curriculum you do not need to care about these files. <br>\n",
    ">At the very top of the file browser tab you can find the browser ribbon. \n",
    "Click on the blue button to open up the launcher window <br>\n",
    "The folder button next to it creates a new empty folder at the current path of the browser window. <br>\n",
    "The upwards arrow opens up an upload prompt. Use this function if you want to upload a file from your local machine to the project (e.g. a dataset you want to use). <br>\n",
    "The curly arrow at the very right is a refresh button for the file browser. Use this button in case some changes in the files and folders are not shown in the file browser yet.\n",
    "\n",
    "2. Kernel Manager\n",
    "\n",
    ">Jupyter uses `Kernels` to execute code. A Kernel is basically a programming language that is called whenever you ask Jupyter to interpret code you wrote. The curriculum uses a `Python 3.8` kernel. You can use the kernel manager to take a look at how many active kernels are running and you can shut down kernels from here.\n",
    "\n",
    "<div class=\"alert alert-block alert-info\">\n",
    "<b>Hint:</b>When simply following along this curriculum you won't need to care about the running kernels. You do not need to pay much attention to this tab.</div>\n",
    "\n",
    "3. Table of Contents\n",
    "\n",
    ">For every notebook in this curriculum you can find a table of content to easily navigate the sections of the notebooks. Using this tab when following along this curriculum is highly recommended since it provides an overview and a navigation for the notebook you are reading.\n",
    "\n",
    "<div class=\"alert alert-block alert-info\">\n",
    "<b>Hint:</b>Remember to activate this tab when reading a notebook to easily navigate the content.</div>\n",
    "\n",
    "4. Extensions\n",
    "\n",
    ">You can use extensions to add more functionality to your Jupyter environment. The setup of this curriculum already took care of all extensions needed. Hence you do not need to care about his tab when following along this curriculum. \n",
    "\n",
    "\n"
   ]
  },
  {
   "cell_type": "markdown",
   "id": "headed-bolivia",
   "metadata": {},
   "source": [
    "### Notebooks\n",
    "\n",
    "Jupyter notebooks are documents that combine live runnable code with narrative text (Markdown), equations, images, interactive visualizations and other rich output.\n",
    "\n",
    "\n",
    "**Create a new Notebook**\n",
    "\n",
    "From the launcher tab, choose `Python`to create a new notebook\n",
    "\n",
    "\n"
   ]
  },
  {
   "cell_type": "code",
   "execution_count": null,
   "id": "familiar-addiction",
   "metadata": {},
   "outputs": [],
   "source": []
  },
  {
   "cell_type": "markdown",
   "id": "alpha-classic",
   "metadata": {},
   "source": [
    "**The Toolbar**\n",
    "\n",
    "When you open up a notebook you can see the toolbar at the very top of the notebook. This is what the toolbar can do for you:\n",
    "\n",
    "\n",
    "<center>\n",
    "    <img src=\"../images/02_notebook.png\" alt=\"Toolbar\" style=\"width: 400px;\"/>\n",
    "</center>"
   ]
  },
  {
   "cell_type": "markdown",
   "id": "respiratory-rhythm",
   "metadata": {},
   "source": [
    "\n",
    "Category                     | Data Types\n",
    ":-------------:               | :----------------------\n",
    "![](../images/02-0_save.png)     | Save the current state of the notebook\n",
    "![](../images/02-1_insert_cell.png)              | Insert a new cell below the current selection\n",
    "![](../images/02-2_cut.png)              | Cut the selected cell\n",
    "![](../images/02-3_copy_cell.png)              | Copy the selected cell\n",
    "![](../images/02-4_paste_cell.png)              | Paste the copied or cut cell\n",
    "![](../images/02-5_run_cell.png)              | Run the selected cell\n",
    "![](../images/02-6_stop_cell.png)              | Stop the execution of the selected cell\n",
    "![](../images/02-7_restart_kernel.png)              | Restart the kernel of the notebook\n",
    "![](../images/02-8_restart_and_rerun.png)              | Restart the kernel and execute all code cells chronologically \n",
    "![](../images/02-9_select_cell_type.png)              | Select the cell type (Code, Markdown, Raw)\n",
    "\n"
   ]
  },
  {
   "cell_type": "markdown",
   "id": "broadband-locator",
   "metadata": {},
   "source": [
    "**The Cells**\n",
    "\n",
    "Jupyter Notebooks basically consist of cells that are arranged vertically. Every text you read so far is written inside a cell. When you double click any image or text in this notebook, the respective cell will jump into \"edit mode\" and you can change the contents to your liking. When you hit the `run-button` in the toolbar (<img src=\"../images/02-5_run_cell.png\" alt=\"Toolbar\" style=\"height: 20px;\"/>) after you are done editing, the cell will be executed and it jumps back to what is called the \"command mode\".\n",
    "\n",
    "<div class=\"alert alert-block alert-info\">\n",
    "<b>Hint:</b>You can only edit cells when you are using the notebook in an interactive environment (either a local setup or on binder). </div>\n",
    "\n"
   ]
  },
  {
   "cell_type": "markdown",
   "id": "confident-struggle",
   "metadata": {},
   "source": [
    "# Python "
   ]
  },
  {
   "cell_type": "markdown",
   "id": "cleared-treatment",
   "metadata": {},
   "source": [
    "## Arithmetic & Logical Operators\n",
    "\n",
    "Some very basic commands you need to know when coding with Python are arithmetic operators. You can use these operators to execute basic calculations. See the table below for an overview about the base operators Python provides\n",
    "\n",
    "Operator                    | Description\n",
    "-------------               | ---------------------------------------------------------------------------:\n",
    "`+`               | addition\n",
    "`-`               | subtraction\n",
    "`*`               | multiplication\n",
    "`/`               | division\n",
    "`**`         | exponentiation\n",
    "`%`              | modulo operator (returns the remainder)\n",
    "`//`             | integer division (drops the remainder)\n",
    "\n",
    "Additionally Python also provides a set of logical and comparison operators. See table below:\n",
    "\n",
    "Operator                    | Description\n",
    "-------------               | ---------------------------------------------------------------------------:\n",
    "`<`               | less than\n",
    "`<=`              | less than or equal to\n",
    "`>`               | greater than\n",
    "`>=`              | greater than or equal to\n",
    "`==`              | equal \n",
    "`!=`              | not equal\n",
    "`not`              | not x\n",
    "`or`             | x OR y\n",
    "`and`           | x AND y"
   ]
  },
  {
   "cell_type": "markdown",
   "id": "innocent-stomach",
   "metadata": {},
   "source": [
    "Let's use these operators:\n",
    "\n",
    "<div class=\"alert alert-block alert-info\">\n",
    "<b>Hint:</b> Remember that you execute code by either hitting the run button in the notebook toolbar or by using the keyboard shortcut <code>shift + enter</code> </div>"
   ]
  },
  {
   "cell_type": "markdown",
   "id": "adult-calvin",
   "metadata": {},
   "source": [
    "Calculate `1+1`:"
   ]
  },
  {
   "cell_type": "code",
   "execution_count": 15,
   "id": "automotive-optics",
   "metadata": {},
   "outputs": [
    {
     "data": {
      "text/plain": [
       "2"
      ]
     },
     "execution_count": 15,
     "metadata": {},
     "output_type": "execute_result"
    }
   ],
   "source": [
    "1+1"
   ]
  },
  {
   "cell_type": "markdown",
   "id": "identified-norfolk",
   "metadata": {},
   "source": [
    "Calculate `2*7`:"
   ]
  },
  {
   "cell_type": "code",
   "execution_count": 17,
   "id": "changing-surgeon",
   "metadata": {},
   "outputs": [
    {
     "data": {
      "text/plain": [
       "14"
      ]
     },
     "execution_count": 17,
     "metadata": {},
     "output_type": "execute_result"
    }
   ],
   "source": [
    "2*7"
   ]
  },
  {
   "cell_type": "markdown",
   "id": "ultimate-estimate",
   "metadata": {},
   "source": [
    "<div class=\"alert alert-block alert-info\">\n",
    "    <b>Hint:</b> You can assign values to a variable by using the <code>=</code> sign.</div>\n"
   ]
  },
  {
   "cell_type": "markdown",
   "id": "wicked-ready",
   "metadata": {},
   "source": [
    "1. Assign `1+1` to `variable1` and `2*7` to `variable2` <br>\n",
    "2. Calculate `variable1 - variable2`"
   ]
  },
  {
   "cell_type": "code",
   "execution_count": 21,
   "id": "turkish-merchandise",
   "metadata": {},
   "outputs": [
    {
     "data": {
      "text/plain": [
       "-12"
      ]
     },
     "execution_count": 21,
     "metadata": {},
     "output_type": "execute_result"
    }
   ],
   "source": [
    "variable1 = 1+1\n",
    "variable2 = 2*7\n",
    "\n",
    "variable1 - variable2"
   ]
  },
  {
   "cell_type": "markdown",
   "id": "unlikely-chaos",
   "metadata": {},
   "source": [
    "Check whether `variable2` is greater than `variable1`"
   ]
  },
  {
   "cell_type": "code",
   "execution_count": 22,
   "id": "negative-symbol",
   "metadata": {},
   "outputs": [
    {
     "data": {
      "text/plain": [
       "True"
      ]
     },
     "execution_count": 22,
     "metadata": {},
     "output_type": "execute_result"
    }
   ],
   "source": [
    "variable2 > variable1"
   ]
  },
  {
   "cell_type": "markdown",
   "id": "disciplinary-circuit",
   "metadata": {},
   "source": [
    "Check whether `variable2` is `14` and `variable1` is `3` (both conditions must be correct to be `true`, otherwise the condition is `false`)"
   ]
  },
  {
   "cell_type": "code",
   "execution_count": 20,
   "id": "adjusted-serbia",
   "metadata": {},
   "outputs": [
    {
     "data": {
      "text/plain": [
       "False"
      ]
     },
     "execution_count": 20,
     "metadata": {},
     "output_type": "execute_result"
    }
   ],
   "source": [
    "variable2 == 14 and variable1 == 3"
   ]
  },
  {
   "cell_type": "markdown",
   "id": "comparative-occupation",
   "metadata": {},
   "source": [
    "## Data Types\n",
    "\n",
    "In the previous section, numbers where used to calculate things. However, Python can handle a variety of other data types as well. \n",
    "In this section we check out three of the most important categories of data types Python can handle. This list is not exhaustive though. You can find a complete overview of data types Python natively supports [here](https://www.w3schools.com/python/python_datatypes.asp).\n",
    "\n",
    "We will cover three categories of data types in this section, namely:\n",
    "\n",
    "Category                     | Data Types\n",
    ":-------------:               | :----------------------:\n",
    "`Text Type`     | `str`\n",
    "`Numeric Types`              | `int`, `float`\n",
    "`Sequence & Mapping Types`    | `list`, `range`, `dict`"
   ]
  },
  {
   "cell_type": "markdown",
   "id": "champion-sphere",
   "metadata": {},
   "source": [
    "### Text Type"
   ]
  },
  {
   "cell_type": "markdown",
   "id": "accepted-victorian",
   "metadata": {},
   "source": [
    "The text type is used for character input. Whenever you want to work with character strings (words & text) Python uses the text type for doing so. The differentiation between different types is crucial since there are operations that are meaningful for text but not for numbers (e.g. capitalizing letters, splitting at line breaks).\n",
    "\n",
    "In the following example we will assign a text to a variable. Afterwards we gonna \"ask\" Python about the data type of this variable.  \n",
    "\n",
    "We use the following sentence: \n",
    ">Ada Lovelace was an English mathematician and writer, chiefly known for her work on Charles Babbage's proposed mechanical general-purpose computer, the Analytical Engine\n",
    "\n",
    "*Text taken from: https://en.wikipedia.org/wiki/Ada_Lovelace*\n",
    "\n",
    "\n",
    "<div class=\"alert alert-block alert-info\">\n",
    "<b>Hint:</b> When you want to assign text to a variable, make sure your text is wrapped inside quotation marks</div>\n"
   ]
  },
  {
   "cell_type": "code",
   "execution_count": 23,
   "id": "sophisticated-canon",
   "metadata": {},
   "outputs": [],
   "source": [
    "# We create a variable called 'ada_description'. \n",
    "# By using the \"=\" sign, we assign the character string on the right side to the new variable\n",
    "ada_description = \"Ada Lovelace was an English mathematician and writer, chiefly known for her work on Charles Babbage's proposed mechanical general-purpose computer, the Analytical Engine\""
   ]
  },
  {
   "cell_type": "markdown",
   "id": "neutral-doubt",
   "metadata": {},
   "source": [
    "There is no output of the cell above because we only assign something to a variable. This does not produce any output, we just created a new variable. \n",
    "We can print the content of the variable by using the `print()` function mentioned earlier. We also can just type the variable name into a new cell and Jupyter will show us what's in the variable:"
   ]
  },
  {
   "cell_type": "code",
   "execution_count": 8,
   "id": "placed-injury",
   "metadata": {},
   "outputs": [
    {
     "data": {
      "text/plain": [
       "\"Ada Lovelace was an English mathematician and writer, chiefly known for her work on Charles Babbage's proposed mechanical general-purpose computer, the Analytical Engine\""
      ]
     },
     "execution_count": 8,
     "metadata": {},
     "output_type": "execute_result"
    }
   ],
   "source": [
    "ada_description"
   ]
  },
  {
   "cell_type": "markdown",
   "id": "streaming-sapphire",
   "metadata": {},
   "source": [
    "Let's check the data type of `ada_description` by using a function called `type()`"
   ]
  },
  {
   "cell_type": "code",
   "execution_count": 9,
   "id": "aggressive-quilt",
   "metadata": {},
   "outputs": [
    {
     "data": {
      "text/plain": [
       "str"
      ]
     },
     "execution_count": 9,
     "metadata": {},
     "output_type": "execute_result"
    }
   ],
   "source": [
    "type(ada_description)"
   ]
  },
  {
   "cell_type": "markdown",
   "id": "fifty-silly",
   "metadata": {},
   "source": [
    "Python returns `str` as the type of `ada_description`. This means that there is text stored inside the `ada_description` object. \n",
    "\n"
   ]
  },
  {
   "cell_type": "markdown",
   "id": "regional-syracuse",
   "metadata": {},
   "source": [
    "### Numeric Types"
   ]
  },
  {
   "cell_type": "markdown",
   "id": "interstate-admission",
   "metadata": {},
   "source": [
    "**Integers**\n",
    "\n",
    "Integers are whole numbers. Whenever you want to work with numbers without fractions."
   ]
  },
  {
   "cell_type": "code",
   "execution_count": 76,
   "id": "earlier-blond",
   "metadata": {},
   "outputs": [
    {
     "name": "stdout",
     "output_type": "stream",
     "text": [
      "-46\n"
     ]
    },
    {
     "data": {
      "text/plain": [
       "int"
      ]
     },
     "execution_count": 76,
     "metadata": {},
     "output_type": "execute_result"
    }
   ],
   "source": [
    "number_1 = -46\n",
    "\n",
    "print(number_1)\n",
    "type(age_1)"
   ]
  },
  {
   "cell_type": "markdown",
   "id": "modified-article",
   "metadata": {},
   "source": [
    "**Float**\n",
    "\n",
    "Floating point real values represent real numbers and are written with a decimal point."
   ]
  },
  {
   "cell_type": "code",
   "execution_count": 74,
   "id": "julian-benchmark",
   "metadata": {},
   "outputs": [
    {
     "name": "stdout",
     "output_type": "stream",
     "text": [
      "12.876\n"
     ]
    },
    {
     "data": {
      "text/plain": [
       "float"
      ]
     },
     "execution_count": 74,
     "metadata": {},
     "output_type": "execute_result"
    }
   ],
   "source": [
    "number_2 = 12.876\n",
    "\n",
    "print(number_2)\n",
    "type(number_2)"
   ]
  },
  {
   "cell_type": "markdown",
   "id": "numerical-estimate",
   "metadata": {},
   "source": [
    "### Sequence & Mapping Types"
   ]
  },
  {
   "cell_type": "markdown",
   "id": "behavioral-ambassador",
   "metadata": {},
   "source": [
    "**Lists**"
   ]
  },
  {
   "cell_type": "code",
   "execution_count": 75,
   "id": "prospective-library",
   "metadata": {},
   "outputs": [
    {
     "name": "stdout",
     "output_type": "stream",
     "text": [
      "[1, '2', 3.5, '6']\n"
     ]
    },
    {
     "data": {
      "text/plain": [
       "list"
      ]
     },
     "execution_count": 75,
     "metadata": {},
     "output_type": "execute_result"
    }
   ],
   "source": [
    "sequence_1 = list([1, \"2\", 3.5, \"6\"])\n",
    "\n",
    "print(sequence_1)\n",
    "type(sequence_1)"
   ]
  },
  {
   "cell_type": "markdown",
   "id": "velvet-vault",
   "metadata": {},
   "source": [
    "**Ranges**"
   ]
  },
  {
   "cell_type": "code",
   "execution_count": 77,
   "id": "architectural-hawaii",
   "metadata": {},
   "outputs": [
    {
     "name": "stdout",
     "output_type": "stream",
     "text": [
      "range(0, 100)\n"
     ]
    },
    {
     "data": {
      "text/plain": [
       "range"
      ]
     },
     "execution_count": 77,
     "metadata": {},
     "output_type": "execute_result"
    }
   ],
   "source": [
    "sequence_2 = range(0, 100)\n",
    "\n",
    "print(sequence_2)\n",
    "type(sequence_2)"
   ]
  },
  {
   "cell_type": "markdown",
   "id": "subject-federal",
   "metadata": {},
   "source": [
    "**Dictionaries**"
   ]
  },
  {
   "cell_type": "code",
   "execution_count": 86,
   "id": "liberal-disease",
   "metadata": {},
   "outputs": [
    {
     "name": "stdout",
     "output_type": "stream",
     "text": [
      "{'ada': 'female', 'alan': 'male'}\n"
     ]
    },
    {
     "data": {
      "text/plain": [
       "dict"
      ]
     },
     "execution_count": 86,
     "metadata": {},
     "output_type": "execute_result"
    }
   ],
   "source": [
    "mapping_1 = dict({\"ada\": \"female\",\n",
    "                  \"alan\": \"male\"})\n",
    "\n",
    "print(mapping_1)\n",
    "type(mapping_1)"
   ]
  },
  {
   "cell_type": "markdown",
   "id": "rocky-entity",
   "metadata": {},
   "source": [
    "## Loops & If/Else Statements"
   ]
  },
  {
   "cell_type": "markdown",
   "id": "accessory-study",
   "metadata": {},
   "source": [
    "### Loops \n",
    "\n",
    "Loops can be used to execute statements a desired number of times. This can be very helpful in reducing the amount of coded needed for a specific task.\n",
    "\n",
    "#### For Loops\n",
    "\n",
    "Let's start with a simple example. At first we create a list of five names. Afterwards we create a loop that outputs a personal greeting to each name:"
   ]
  },
  {
   "cell_type": "code",
   "execution_count": 5,
   "id": "desperate-sharing",
   "metadata": {},
   "outputs": [
    {
     "name": "stdout",
     "output_type": "stream",
     "text": [
      "Hi Ada !\n",
      "Hi Cornélie !\n",
      "Hi Stanisław !\n",
      "Hi Mathew !\n",
      "Hi Liss !\n"
     ]
    }
   ],
   "source": [
    "names = list([\"Ada\", \"Cornélie\", \"Stanisław\", \"Mathew\", \"Liss\"])\n",
    "\n",
    "for name in names:\n",
    "    print(\"Hi\", name, \"!\")"
   ]
  },
  {
   "cell_type": "markdown",
   "id": "chemical-leone",
   "metadata": {},
   "source": [
    "Let's break that down:\n",
    "\n",
    "Part of Command                     | Meaning\n",
    ":-------------:               | :----------------------:\n",
    "`for name in names:`     | We ask Python to do something for each element `name` in the variable `names`. \n",
    "`print(\"Hi\", name, \"!\")` | Here we tell Python to print the word `Hi` along with the respective <br> `name` element of the `names` list and a `!` afterwards."
   ]
  },
  {
   "cell_type": "markdown",
   "id": "light-husband",
   "metadata": {},
   "source": [
    "We can also loop over `ranges`. Let's create a `range` from `0` to `5` and do some simple calculation and print meaningful outputs:\n"
   ]
  },
  {
   "cell_type": "code",
   "execution_count": 33,
   "id": "missing-presence",
   "metadata": {},
   "outputs": [
    {
     "name": "stdout",
     "output_type": "stream",
     "text": [
      "Current number is 0\n",
      "Let's devide it by 3\n",
      "0 devided by 3 is 0.0\n",
      "\n",
      "Current number is 1\n",
      "Let's devide it by 3\n",
      "1 devided by 3 is 0.3333333333333333\n",
      "\n",
      "Current number is 2\n",
      "Let's devide it by 3\n",
      "2 devided by 3 is 0.6666666666666666\n",
      "\n",
      "Current number is 3\n",
      "Let's devide it by 3\n",
      "3 devided by 3 is 1.0\n",
      "\n",
      "Current number is 4\n",
      "Let's devide it by 3\n",
      "4 devided by 3 is 1.3333333333333333\n",
      "\n"
     ]
    }
   ],
   "source": [
    "example_range = range(0,5)\n",
    "\n",
    "for i in example_range:\n",
    "    print(\"Current number is\", i)\n",
    "    print(\"Let's devide it by 3\")\n",
    "    print(i, \"devided by 3 is\", i/3)\n",
    "    print(\"\")"
   ]
  },
  {
   "cell_type": "markdown",
   "id": "funny-waste",
   "metadata": {},
   "source": [
    "#### While Loops\n",
    "\n",
    "Another kind of loop you can do is the `while loop`. \n",
    "\n",
    "The `while loop` works conditionally. This means you can define a condition and as long as this condition is true, the loop proceeds.\n",
    "\n",
    "Let's tell Python to count up from zero until it reaches `4`"
   ]
  },
  {
   "cell_type": "code",
   "execution_count": 47,
   "id": "appropriate-output",
   "metadata": {},
   "outputs": [
    {
     "name": "stdout",
     "output_type": "stream",
     "text": [
      "0\n",
      "1\n",
      "2\n",
      "3\n"
     ]
    }
   ],
   "source": [
    "count_variable = 0\n",
    "\n",
    "while count_variable < 4:\n",
    "    print(count_variable)\n",
    "    count_variable += 1\n"
   ]
  },
  {
   "cell_type": "markdown",
   "id": "resistant-alias",
   "metadata": {},
   "source": [
    "### If ... Else Statements\n",
    "\n",
    "There are many more scenarios in which you need to define conditions for your code to run than `while loops`. In this case you can use `If/Else statements `\n",
    "`If/Else statements` let you run any code conditionally. With if else statements you can define what code Python should when a condition is true and what should happen when the condition is not true. \n",
    "\n",
    "Let's use the names list again from the for loop example above. \n",
    "\n",
    "This time we only want to great every second person. This means we need to embed an `If/Else` statement within the `for loop`"
   ]
  },
  {
   "cell_type": "code",
   "execution_count": 2,
   "id": "reserved-bathroom",
   "metadata": {
    "tags": []
   },
   "outputs": [
    {
     "name": "stdout",
     "output_type": "stream",
     "text": [
      "Hi Ada !\n",
      "No greeting for Cornélie\n",
      "Hi Stanisław !\n",
      "No greeting for Mathew\n",
      "Hi Liss !\n"
     ]
    }
   ],
   "source": [
    "names = list([\"Ada\", \"Cornélie\", \"Stanisław\", \"Mathew\", \"Liss\"])\n",
    "count_variable = 0\n",
    "\n",
    "for name in names:\n",
    "    if (count_variable % 2) == 0:\n",
    "        print(\"Hi\", name, \"!\")\n",
    "        count_variable += 1\n",
    "    else:\n",
    "        print(\"No greeting for\", name)\n",
    "        count_variable += 1"
   ]
  },
  {
   "cell_type": "markdown",
   "id": "fallen-collective",
   "metadata": {
    "tags": []
   },
   "source": [
    "Let's break that down:\n",
    "\n",
    "Part of Command                     | Meaning\n",
    ":-------------:               | :----------------------:\n",
    "`if (count_variable % 2) == 0:`     | We check whether the iteration the `for loop` is in currently, is an even number.\n",
    "`else` | The `else` part off the code defines what happens, when the iteration the `for loop` is in, <br> is not even. In this case we do not want to greet the respective person."
   ]
  },
  {
   "cell_type": "markdown",
   "id": "differential-tuner",
   "metadata": {
    "tags": []
   },
   "source": [
    "## Functions"
   ]
  },
  {
   "cell_type": "markdown",
   "id": "concrete-whole",
   "metadata": {
    "tags": []
   },
   "source": [
    "Generally speaking, functions in Python are blocks of code that only run, when they are called. Functions always follow the pattern: \n",
    ">`function_name(arguments)`"
   ]
  },
  {
   "cell_type": "markdown",
   "id": "extraordinary-seventh",
   "metadata": {
    "tags": []
   },
   "source": [
    "## Libraries"
   ]
  },
  {
   "cell_type": "markdown",
   "id": "organic-survivor",
   "metadata": {},
   "source": [
    "## Data Frames (with Pandas)"
   ]
  },
  {
   "cell_type": "markdown",
   "id": "animated-final",
   "metadata": {},
   "source": [
    "## Indexing"
   ]
  },
  {
   "cell_type": "markdown",
   "id": "tight-theory",
   "metadata": {},
   "source": [
    "## Loading and Exporting Data"
   ]
  }
 ],
 "metadata": {
  "kernelspec": {
   "display_name": "Python 3",
   "language": "python",
   "name": "python3"
  },
  "language_info": {
   "codemirror_mode": {
    "name": "ipython",
    "version": 3
   },
   "file_extension": ".py",
   "mimetype": "text/x-python",
   "name": "python",
   "nbconvert_exporter": "python",
   "pygments_lexer": "ipython3",
   "version": "3.8.8"
  },
  "toc-autonumbering": true,
  "toc-showcode": false,
  "toc-showmarkdowntxt": false,
  "toc-showtags": false
 },
 "nbformat": 4,
 "nbformat_minor": 5
}
