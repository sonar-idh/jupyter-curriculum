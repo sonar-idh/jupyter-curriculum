{
 "cells": [
  {
   "cell_type": "markdown",
   "id": "apparent-therapy",
   "metadata": {},
   "source": [
    "<font size = \"20\"> SoNAR (IDH) </font>\n",
    "\n",
    "<font size = \"12\"> Interfaces to Data for Historical Social Network Analysis and Research </font>"
   ]
  },
  {
   "cell_type": "markdown",
   "id": "promotional-oxford",
   "metadata": {},
   "source": [
    "<font size = \"12\">Notebook 1:  Graph Theory and HNA</font>"
   ]
  },
  {
   "cell_type": "markdown",
   "id": "minimal-enclosure",
   "metadata": {},
   "source": [
    "This curriculum is build for the SoNAR (IDH) project. SoNAR (IDH) is in it's core a graph based approach to structure and link big amounts of historical data (more on the SoNAR (IDH) project and database can be found in Notebook 3). Therefor the whole curriculum is mainly about graph theory and network analysis. \n",
    "\n",
    "This notebook provides an introduction into graph theory in general and also a quick dive into historical network analysis (HNA)."
   ]
  },
  {
   "cell_type": "markdown",
   "id": "certain-transaction",
   "metadata": {},
   "source": [
    "# Graph Theory"
   ]
  },
  {
   "cell_type": "markdown",
   "id": "classified-charlotte",
   "metadata": {},
   "source": [
    "## Origin\n",
    "\n",
    "The Swiss mathematician Leonhard Euler is considered to be the origin of graph studies. In 1735, he published a paper proposing a solution for the \"Königsberg problem\". The Königsberg problem was unsolved at this point of time.\n",
    "Euler developed a new analysis technique to tackle this problem and thus was able to prove that there is no solution for the Königsberg problem. This new technique was the origin of the graph theory we know today. \n",
    "\n",
    "\n",
    "Let's take a look at the Königsberg problem: \n",
    "\n",
    "**Königsberg Problem** \n",
    "\n",
    ">Given the city whose geography is depicted in the following image, is there a way to walk across each of the seven bridges of the city once and only once, and return to our starting point? [@todo: Citation- Graph Analytics with Neo4j]\n",
    "\n",
    "<center>\n",
    "    <img src=https://upload.wikimedia.org/wikipedia/commons/5/5d/Konigsberg_bridges.png>\n",
    "</center>"
   ]
  },
  {
   "cell_type": "markdown",
   "id": "necessary-broadcast",
   "metadata": {},
   "source": [
    "## Definitions & Terminology"
   ]
  },
  {
   "cell_type": "markdown",
   "id": "accepting-divorce",
   "metadata": {},
   "source": [
    "## Graph Types & Structures"
   ]
  },
  {
   "cell_type": "markdown",
   "id": "satisfied-buying",
   "metadata": {},
   "source": [
    "## Flavors of Graphs"
   ]
  },
  {
   "cell_type": "markdown",
   "id": "exterior-juice",
   "metadata": {},
   "source": [
    "### Connected vs. Disconnected Graphs"
   ]
  },
  {
   "cell_type": "markdown",
   "id": "opened-characteristic",
   "metadata": {},
   "source": [
    "### Weighted vs. Unweighted Graphs"
   ]
  },
  {
   "cell_type": "markdown",
   "id": "noted-omega",
   "metadata": {},
   "source": [
    "### Directed vs. Undirected Graphs"
   ]
  },
  {
   "cell_type": "markdown",
   "id": "residential-dietary",
   "metadata": {},
   "source": [
    "# Introduction to Historical Network Analysis (HNA)"
   ]
  },
  {
   "cell_type": "markdown",
   "id": "aging-plastic",
   "metadata": {},
   "source": [
    "## Glimps at the Current State of HNA"
   ]
  },
  {
   "cell_type": "markdown",
   "id": "graphic-latex",
   "metadata": {},
   "source": [
    "## Case Study: Nobel Laureates"
   ]
  },
  {
   "cell_type": "code",
   "execution_count": null,
   "id": "homeless-seminar",
   "metadata": {},
   "outputs": [],
   "source": []
  }
 ],
 "metadata": {
  "kernelspec": {
   "display_name": "Python 3",
   "language": "python",
   "name": "python3"
  },
  "language_info": {
   "codemirror_mode": {
    "name": "ipython",
    "version": 3
   },
   "file_extension": ".py",
   "mimetype": "text/x-python",
   "name": "python",
   "nbconvert_exporter": "python",
   "pygments_lexer": "ipython3",
   "version": "3.8.8"
  }
 },
 "nbformat": 4,
 "nbformat_minor": 5
}
