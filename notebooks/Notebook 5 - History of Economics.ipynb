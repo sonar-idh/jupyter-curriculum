{
 "cells": [
  {
   "cell_type": "code",
   "execution_count": 2,
   "id": "certain-strength",
   "metadata": {},
   "outputs": [],
   "source": [
    "### Loading Credentials from local file; \n",
    "### this cell is meant to be deleted before publishing\n",
    "import yaml\n",
    "\n",
    "with open(\"../creds.yml\", 'r') as ymlfile:\n",
    "    cfg = yaml.safe_load(ymlfile)\n",
    "\n",
    "uri = cfg[\"sonar_creds\"][\"uri\"]\n",
    "user = cfg[\"sonar_creds\"][\"user\"]\n",
    "password = cfg[\"sonar_creds\"][\"pass\"]"
   ]
  },
  {
   "cell_type": "markdown",
   "id": "sharing-array",
   "metadata": {},
   "source": [
    "<font size = \"20\"> SoNAR (IDH) - HNA Curriculum </font>\n",
    "\n",
    "<font size = \"5\">Notebook 5:  Example Case - History of Economics</font>"
   ]
  },
  {
   "cell_type": "markdown",
   "id": "negative-tablet",
   "metadata": {},
   "source": [
    "Main Node: Gustav (von) Schmoller"
   ]
  },
  {
   "cell_type": "code",
   "execution_count": 3,
   "id": "particular-carroll",
   "metadata": {},
   "outputs": [
    {
     "name": "stdout",
     "output_type": "stream",
     "text": [
      "CPU times: user 1.18 s, sys: 44.1 ms, total: 1.23 s\n",
      "Wall time: 1min 17s\n"
     ]
    }
   ],
   "source": [
    "%%time\n",
    "\n",
    "from neo4j import GraphDatabase\n",
    "from helper_functions.helper_fun import to_nx_graph\n",
    "\n",
    "driver = GraphDatabase.driver(uri, auth=(user, password))\n",
    "\n",
    "query = \"\"\"\n",
    "MATCH (n)-[rel:RelationToPerName|RelationToResource|RelationToGeoName|RelationToTopicTerm|SocialRelation]-(n2)\n",
    "WHERE n.Id = \"(DE-588)118609378\"\n",
    "RETURN *\n",
    "\"\"\"\n",
    "\n",
    "driver = GraphDatabase.driver(uri, auth=(user, password))\n",
    "\n",
    "G = to_nx_graph(neo4j_driver = driver, \n",
    "                query = query)"
   ]
  },
  {
   "cell_type": "code",
   "execution_count": 6,
   "id": "pointed-senior",
   "metadata": {},
   "outputs": [
    {
     "data": {
      "text/plain": [
       "1134"
      ]
     },
     "execution_count": 6,
     "metadata": {},
     "output_type": "execute_result"
    }
   ],
   "source": [
    "G.number_of_nodes()"
   ]
  },
  {
   "cell_type": "markdown",
   "id": "guided-learning",
   "metadata": {},
   "source": [
    "# What connections does Schmoller have to Berlin Politics?"
   ]
  },
  {
   "cell_type": "markdown",
   "id": "specified-vessel",
   "metadata": {},
   "source": [
    "`TopicTerm Id` for \"Politiker\" = `(DE-588)4046517-2`\n",
    "\n",
    "`TopicTerm Id` for \"Politikerin\" = `(DE-588)4175019-6` "
   ]
  },
  {
   "cell_type": "code",
   "execution_count": 10,
   "id": "faced-better",
   "metadata": {},
   "outputs": [
    {
     "name": "stdout",
     "output_type": "stream",
     "text": [
      "CPU times: user 41.8 ms, sys: 8.11 ms, total: 49.9 ms\n",
      "Wall time: 23.8 s\n"
     ]
    }
   ],
   "source": [
    "%%time\n",
    "\n",
    "from neo4j import GraphDatabase\n",
    "from helper_functions.helper_fun import to_nx_graph\n",
    "\n",
    "driver = GraphDatabase.driver(uri, auth=(user, password))\n",
    "\n",
    "query = \"\"\"\n",
    "MATCH (n:PerName)--(t:TopicTerm)\n",
    "WHERE t.Id IN [\"(DE-588)4046517-2\", \"(DE-588)4175019-6\"] \n",
    "WITH DISTINCT [x in collect(n)|id(x)] as collectedIds\n",
    "MATCH (n)-[rel]-(n2)-[rel2]-(g:GeoName)\n",
    "WHERE (n.Id = \"(DE-588)118609378\") AND (id(n2) IN collectedIds) AND (g.Name CONTAINS \"Berlin\")\n",
    "RETURN n, rel, n2\n",
    "\"\"\"\n",
    "\n",
    "driver = GraphDatabase.driver(uri, auth=(user, password))\n",
    "\n",
    "G = to_nx_graph(neo4j_driver = driver, \n",
    "                query = query)"
   ]
  },
  {
   "cell_type": "markdown",
   "id": "viral-alliance",
   "metadata": {},
   "source": [
    "# Who was graduated as PhD by Schmoller?"
   ]
  },
  {
   "cell_type": "code",
   "execution_count": null,
   "id": "coral-sending",
   "metadata": {},
   "outputs": [],
   "source": []
  }
 ],
 "metadata": {
  "kernelspec": {
   "display_name": "Python 3",
   "language": "python",
   "name": "python3"
  },
  "language_info": {
   "codemirror_mode": {
    "name": "ipython",
    "version": 3
   },
   "file_extension": ".py",
   "mimetype": "text/x-python",
   "name": "python",
   "nbconvert_exporter": "python",
   "pygments_lexer": "ipython3",
   "version": "3.8.10"
  },
  "toc": {
   "base_numbering": 1,
   "nav_menu": {},
   "number_sections": true,
   "sideBar": true,
   "skip_h1_title": false,
   "title_cell": "Table of Contents",
   "title_sidebar": "Contents",
   "toc_cell": false,
   "toc_position": {},
   "toc_section_display": true,
   "toc_window_display": false
  }
 },
 "nbformat": 4,
 "nbformat_minor": 5
}
