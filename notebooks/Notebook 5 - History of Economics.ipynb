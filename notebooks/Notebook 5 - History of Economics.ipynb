{
 "cells": [
  {
   "cell_type": "code",
   "execution_count": 2,
   "id": "conceptual-finance",
   "metadata": {},
   "outputs": [],
   "source": [
    "### Loading Credentials from local file; \n",
    "### this cell is meant to be deleted before publishing\n",
    "import yaml\n",
    "\n",
    "with open(\"../creds.yml\", 'r') as ymlfile:\n",
    "    cfg = yaml.safe_load(ymlfile)\n",
    "\n",
    "uri = cfg[\"sonar_creds\"][\"uri\"]\n",
    "user = cfg[\"sonar_creds\"][\"user\"]\n",
    "password = cfg[\"sonar_creds\"][\"pass\"]"
   ]
  },
  {
   "cell_type": "markdown",
   "id": "joint-hearts",
   "metadata": {},
   "source": [
    "<font size = \"20\"> SoNAR (IDH) - HNA Curriculum </font>\n",
    "\n",
    "<font size = \"5\">Notebook 5:  Example Case - History of Economics</font>"
   ]
  },
  {
   "cell_type": "markdown",
   "id": "defined-strap",
   "metadata": {},
   "source": [
    "Main Node: Gustav (von) Schmoller"
   ]
  },
  {
   "cell_type": "markdown",
   "id": "enabling-metro",
   "metadata": {},
   "source": [
    "# Who is Gustav von Schmoller?"
   ]
  },
  {
   "cell_type": "markdown",
   "id": "stretch-fault",
   "metadata": {},
   "source": [
    "## What was Schmollers profession? "
   ]
  },
  {
   "cell_type": "code",
   "execution_count": 138,
   "id": "extensive-hierarchy",
   "metadata": {},
   "outputs": [],
   "source": [
    "driver = GraphDatabase.driver(uri, auth=(user, password))\n",
    "\n",
    "query = \"\"\"\n",
    "MATCH (n:PerName)-[rel:RelationToTopicTerm]-(t:TopicTerm)\n",
    "WHERE n.Id = \"(DE-588)118609378\"\n",
    "RETURN *\n",
    "\"\"\"\n",
    "\n",
    "driver = GraphDatabase.driver(uri, auth=(user, password))\n",
    "\n",
    "G = to_nx_graph(neo4j_driver = driver, \n",
    "                query = query)"
   ]
  },
  {
   "cell_type": "code",
   "execution_count": 139,
   "id": "cosmetic-serum",
   "metadata": {},
   "outputs": [
    {
     "name": "stdout",
     "output_type": "stream",
     "text": [
      "Volkswirt\n",
      "Wirtschaftswissenschaftler\n",
      "Sozialwissenschaftler\n",
      "Hochschullehrer\n"
     ]
    }
   ],
   "source": [
    "topicterms = [x for x,y in G.nodes(data=True) if y['type']==\"TopicTerm\"]\n",
    "\n",
    "for term in topicterms:\n",
    "    print(G.nodes(data=True)[term][\"Name\"])"
   ]
  },
  {
   "cell_type": "markdown",
   "id": "preliminary-charter",
   "metadata": {},
   "source": [
    "## What geographic places are connected to Schmoller?"
   ]
  },
  {
   "cell_type": "code",
   "execution_count": 140,
   "id": "special-airport",
   "metadata": {},
   "outputs": [],
   "source": [
    "driver = GraphDatabase.driver(uri, auth=(user, password))\n",
    "\n",
    "query = \"\"\"\n",
    "MATCH (n:PerName)-[rel:RelationToGeoName]-(g:GeoName)\n",
    "WHERE n.Id = \"(DE-588)118609378\"\n",
    "RETURN *\n",
    "\"\"\"\n",
    "\n",
    "driver = GraphDatabase.driver(uri, auth=(user, password))\n",
    "\n",
    "G = to_nx_graph(neo4j_driver = driver, \n",
    "                query = query)"
   ]
  },
  {
   "cell_type": "code",
   "execution_count": 141,
   "id": "twenty-retrieval",
   "metadata": {},
   "outputs": [
    {
     "name": "stdout",
     "output_type": "stream",
     "text": [
      "Place of Birth: Heilbronn\n",
      "Place of Death: Bad Harzburg\n",
      "\n",
      "Places of Activity:\n",
      "Straßburg\n",
      "Halle (Saale)\n",
      "Berlin\n"
     ]
    }
   ],
   "source": [
    "place_of_birth = [target for source, target, attribute in G.edges(data=True) if attribute['SourceType'] == 'placeOfBirth']\n",
    "place_of_death = [target for source, target, attribute in G.edges(data=True) if attribute['SourceType'] == 'placeOfDeath']\n",
    "places_of_activity = [[source, target] for source, target, attribute in G.edges(data=True) if attribute['SourceType'] == 'placeOfActivity']\n",
    "\n",
    "# we need to refine the result of the places of activity a little further\n",
    "# currently there can be the node (2923000) of Schmoller in the results. Therefor we need to filter out the node of him\n",
    "places_of_activity = [place for sublist in places_of_activity for place in sublist if place != 2923000]\n",
    "\n",
    "# let's print the results:\n",
    "print(\"Place of Birth:\", G.nodes(data=True)[place_of_birth[0]][\"Name\"])\n",
    "print(\"Place of Death:\",G.nodes(data=True)[place_of_death[0]][\"Name\"])\n",
    "print(\"\")\n",
    "print(\"Places of Activity:\")\n",
    "for place in places_of_activity:\n",
    "    print(G.nodes(data=True)[place][\"Name\"])"
   ]
  },
  {
   "cell_type": "markdown",
   "id": "compliant-abraham",
   "metadata": {},
   "source": [
    "## With whom was Schmoller in contact?"
   ]
  },
  {
   "cell_type": "code",
   "execution_count": 142,
   "id": "accepting-fiction",
   "metadata": {},
   "outputs": [],
   "source": [
    "driver = GraphDatabase.driver(uri, auth=(user, password))\n",
    "\n",
    "query = \"\"\"\n",
    "MATCH (n:PerName)-[rel:SocialRelation]-(n2:PerName)-[rel2]-(t:TopicTerm)\n",
    "WHERE n.Id = \"(DE-588)118609378\" AND rel.SourceType = \"correspondedRelation\"\n",
    "RETURN *\n",
    "\"\"\"\n",
    "\n",
    "driver = GraphDatabase.driver(uri, auth=(user, password))\n",
    "\n",
    "G = to_nx_graph(neo4j_driver = driver, \n",
    "                query = query)"
   ]
  },
  {
   "cell_type": "code",
   "execution_count": 143,
   "id": "greater-uzbekistan",
   "metadata": {},
   "outputs": [],
   "source": [
    "connections_topic_ids = [x for x,y in G.nodes(data=True) if y['type']==\"TopicTerm\"]\n",
    "\n",
    "connections_topic_names = []\n",
    "\n",
    "for term in connections_topicterms:\n",
    "    connections_topic_names.append(G.nodes(data=True)[term][\"label\"])"
   ]
  },
  {
   "cell_type": "code",
   "execution_count": 145,
   "id": "expired-moore",
   "metadata": {},
   "outputs": [
    {
     "data": {
      "text/html": [
       "<div>\n",
       "<style scoped>\n",
       "    .dataframe tbody tr th:only-of-type {\n",
       "        vertical-align: middle;\n",
       "    }\n",
       "\n",
       "    .dataframe tbody tr th {\n",
       "        vertical-align: top;\n",
       "    }\n",
       "\n",
       "    .dataframe thead th {\n",
       "        text-align: right;\n",
       "    }\n",
       "</style>\n",
       "<table border=\"1\" class=\"dataframe\">\n",
       "  <thead>\n",
       "    <tr style=\"text-align: right;\">\n",
       "      <th></th>\n",
       "      <th>topic</th>\n",
       "      <th>degree</th>\n",
       "    </tr>\n",
       "  </thead>\n",
       "  <tbody>\n",
       "    <tr>\n",
       "      <th>51562647</th>\n",
       "      <td>Historiker</td>\n",
       "      <td>14</td>\n",
       "    </tr>\n",
       "    <tr>\n",
       "      <th>51562669</th>\n",
       "      <td>Hochschullehrer</td>\n",
       "      <td>13</td>\n",
       "    </tr>\n",
       "    <tr>\n",
       "      <th>51565992</th>\n",
       "      <td>Schriftsteller</td>\n",
       "      <td>10</td>\n",
       "    </tr>\n",
       "    <tr>\n",
       "      <th>51563092</th>\n",
       "      <td>Jurist</td>\n",
       "      <td>9</td>\n",
       "    </tr>\n",
       "    <tr>\n",
       "      <th>51617740</th>\n",
       "      <td>Volkswirt</td>\n",
       "      <td>7</td>\n",
       "    </tr>\n",
       "    <tr>\n",
       "      <th>...</th>\n",
       "      <td>...</td>\n",
       "      <td>...</td>\n",
       "    </tr>\n",
       "    <tr>\n",
       "      <th>51601402</th>\n",
       "      <td>Kunstsammler</td>\n",
       "      <td>1</td>\n",
       "    </tr>\n",
       "    <tr>\n",
       "      <th>51629389</th>\n",
       "      <td>Romanist</td>\n",
       "      <td>1</td>\n",
       "    </tr>\n",
       "    <tr>\n",
       "      <th>51689269</th>\n",
       "      <td>Staatswissenschaftler</td>\n",
       "      <td>1</td>\n",
       "    </tr>\n",
       "    <tr>\n",
       "      <th>51587285</th>\n",
       "      <td>Botaniker</td>\n",
       "      <td>1</td>\n",
       "    </tr>\n",
       "    <tr>\n",
       "      <th>51583256</th>\n",
       "      <td>Bankier</td>\n",
       "      <td>1</td>\n",
       "    </tr>\n",
       "  </tbody>\n",
       "</table>\n",
       "<p>69 rows × 2 columns</p>\n",
       "</div>"
      ],
      "text/plain": [
       "                          topic  degree\n",
       "51562647             Historiker      14\n",
       "51562669        Hochschullehrer      13\n",
       "51565992         Schriftsteller      10\n",
       "51563092                 Jurist       9\n",
       "51617740              Volkswirt       7\n",
       "...                         ...     ...\n",
       "51601402           Kunstsammler       1\n",
       "51629389               Romanist       1\n",
       "51689269  Staatswissenschaftler       1\n",
       "51587285              Botaniker       1\n",
       "51583256                Bankier       1\n",
       "\n",
       "[69 rows x 2 columns]"
      ]
     },
     "execution_count": 145,
     "metadata": {},
     "output_type": "execute_result"
    }
   ],
   "source": [
    "import pandas as pd\n",
    "\n",
    "topicterms_df = pd.DataFrame(connections_topic_names, index = connections_topic_ids, columns = [\"topic\"])\n",
    "\n",
    "degree_list = []\n",
    "for topic in connections_topic_names:\n",
    "    degree_list.append(G.degree(topicterms_df.loc[topicterms_df[\"topic\"] == topic].index[0]))\n",
    "\n",
    "topicterms_df[\"degree\"] = degree_list\n",
    "topicterms_df.sort_values(\"degree\", ascending=False)"
   ]
  },
  {
   "cell_type": "code",
   "execution_count": 175,
   "id": "downtown-miniature",
   "metadata": {},
   "outputs": [
    {
     "data": {
      "text/plain": [
       "['Heyck, Eduard',\n",
       " 'Lamprecht, Karl',\n",
       " 'Schulte, Aloys',\n",
       " 'Lang, Wilhelm',\n",
       " 'Koser, Reinhold',\n",
       " 'Zeller, Eduard',\n",
       " 'Schwegler, Albert',\n",
       " 'Lenz, Max',\n",
       " 'Hampe, Karl',\n",
       " 'Gothein, Eberhard',\n",
       " 'Fechner, Hermann Adolph',\n",
       " 'Ermisch, Hubert',\n",
       " 'Brinkmann, Carl',\n",
       " 'Sybel, Heinrich von']"
      ]
     },
     "execution_count": 175,
     "metadata": {},
     "output_type": "execute_result"
    }
   ],
   "source": [
    "import networkx as nx\n",
    "\n",
    "historian_term_id = topicterms_df.loc[topicterms_df[\"topic\"] == \"Historiker\"].index[0]\n",
    "historians_node_ids = [n for n in G.neighbors(historian_term_id)]\n",
    "\n",
    "[y[\"Name\"] for x,y in G.nodes(data=True) if x in historians_node_ids]"
   ]
  },
  {
   "cell_type": "markdown",
   "id": "intimate-emerald",
   "metadata": {},
   "source": [
    "# What connections does Schmoller have to Berlin Politics?"
   ]
  },
  {
   "cell_type": "markdown",
   "id": "cognitive-leonard",
   "metadata": {},
   "source": [
    "`TopicTerm Id` for \"Politiker\" = `(DE-588)4046517-2`\n",
    "\n",
    "`TopicTerm Id` for \"Politikerin\" = `(DE-588)4175019-6` "
   ]
  },
  {
   "cell_type": "code",
   "execution_count": 184,
   "id": "fleet-request",
   "metadata": {},
   "outputs": [
    {
     "name": "stdout",
     "output_type": "stream",
     "text": [
      "CPU times: user 40.9 ms, sys: 9.18 ms, total: 50.1 ms\n",
      "Wall time: 2.58 s\n"
     ]
    }
   ],
   "source": [
    "%%time\n",
    "\n",
    "from neo4j import GraphDatabase\n",
    "from helper_functions.helper_fun import to_nx_graph\n",
    "\n",
    "driver = GraphDatabase.driver(uri, auth=(user, password))\n",
    "\n",
    "query = \"\"\"\n",
    "MATCH (n:PerName)--(t:TopicTerm)\n",
    "WHERE t.Id IN [\"(DE-588)4046517-2\", \"(DE-588)4175019-6\"] \n",
    "WITH DISTINCT [x in collect(n)|id(x)] as collectedIds\n",
    "MATCH (n:PerName)-[rel:SocialRelation]-(n2:PerName)-[rel2:RelationToGeoName]-(g:GeoName)\n",
    "WHERE (n.Id = \"(DE-588)118609378\") AND (id(n2) IN collectedIds) AND (g.Name CONTAINS \"Berlin\")\n",
    "RETURN n, rel, n2\n",
    "\"\"\"\n",
    "\n",
    "driver = GraphDatabase.driver(uri, auth=(user, password))\n",
    "\n",
    "G = to_nx_graph(neo4j_driver = driver, \n",
    "                query = query)"
   ]
  },
  {
   "cell_type": "code",
   "execution_count": 185,
   "id": "consolidated-saudi",
   "metadata": {},
   "outputs": [
    {
     "data": {
      "text/plain": [
       "['Schmoller, Gustav von',\n",
       " 'Berlepsch, Hans Hermann von',\n",
       " 'Hoetzsch, Otto',\n",
       " 'Naumann, Friedrich',\n",
       " 'Treitschke, Heinrich von',\n",
       " 'Liszt, Franz von',\n",
       " 'Duncker, Maximilian Wolfgang',\n",
       " 'Braun, Heinrich',\n",
       " 'Bismarck, Otto von',\n",
       " 'Droysen, Johann Gustav',\n",
       " 'Delbrück, Hans',\n",
       " 'Schmidt-Ott, Friedrich',\n",
       " 'Thiel, Hugo',\n",
       " 'Münsterberg, Emil',\n",
       " 'Arendt, Otto',\n",
       " 'Borght, Richard van der']"
      ]
     },
     "execution_count": 185,
     "metadata": {},
     "output_type": "execute_result"
    }
   ],
   "source": [
    "[y[\"Name\"] for x,y in G.nodes(data=True)]"
   ]
  },
  {
   "cell_type": "code",
   "execution_count": 193,
   "id": "macro-campaign",
   "metadata": {},
   "outputs": [
    {
     "data": {
      "text/plain": [
       "[('Berlepsch, Hans Hermann von', 'knows'),\n",
       " ('Hoetzsch, Otto', 'knows'),\n",
       " ('Naumann, Friedrich', 'knows'),\n",
       " ('Treitschke, Heinrich von', 'associatedRelation'),\n",
       " ('Liszt, Franz von', 'associatedRelation'),\n",
       " ('Duncker, Maximilian Wolfgang', 'associatedRelation'),\n",
       " ('Braun, Heinrich', 'knows'),\n",
       " ('Bismarck, Otto von', 'associatedRelation'),\n",
       " ('Droysen, Johann Gustav', 'knows'),\n",
       " ('Delbrück, Hans', 'associatedRelation'),\n",
       " ('Schmidt-Ott, Friedrich', 'correspondedRelation'),\n",
       " ('Thiel, Hugo', 'associatedRelation'),\n",
       " ('Münsterberg, Emil', 'associatedRelation'),\n",
       " ('Arendt, Otto', 'knows'),\n",
       " ('Borght, Richard van der', 'knows')]"
      ]
     },
     "execution_count": 193,
     "metadata": {},
     "output_type": "execute_result"
    }
   ],
   "source": [
    "[(G.nodes(data=True)[target][\"Name\"], attribute[\"SourceType\"]) for source, target, attribute in G.edges(data=True) if attribute['title'] == 'SocialRelation']"
   ]
  },
  {
   "cell_type": "code",
   "execution_count": 186,
   "id": "worse-citation",
   "metadata": {},
   "outputs": [
    {
     "data": {
      "text/html": [
       "\n",
       "        <iframe\n",
       "            width=\"100%\"\n",
       "            height=\"750px\"\n",
       "            src=\"./html_networks/schmoller_politics_first_lvl.html\"\n",
       "            frameborder=\"0\"\n",
       "            allowfullscreen\n",
       "        ></iframe>\n",
       "        "
      ],
      "text/plain": [
       "<IPython.lib.display.IFrame at 0x7f2cf83e89a0>"
      ]
     },
     "execution_count": 186,
     "metadata": {},
     "output_type": "execute_result"
    }
   ],
   "source": [
    "from helper_functions.helper_fun import to_nx_graph\n",
    "from pyvis.network import Network\n",
    "\n",
    "nt = Network('750px', '100%', notebook=True, directed = True)\n",
    "nt.from_nx(G)\n",
    "nt.set_edge_smooth(\"dynamic\")\n",
    "nt.show('./html_networks/schmoller_politics_first_lvl.html')"
   ]
  },
  {
   "cell_type": "markdown",
   "id": "executed-carolina",
   "metadata": {},
   "source": [
    "# Who was graduated as PhD by Schmoller?"
   ]
  },
  {
   "cell_type": "code",
   "execution_count": null,
   "id": "grand-mexican",
   "metadata": {},
   "outputs": [],
   "source": []
  }
 ],
 "metadata": {
  "kernelspec": {
   "display_name": "Python 3",
   "language": "python",
   "name": "python3"
  },
  "language_info": {
   "codemirror_mode": {
    "name": "ipython",
    "version": 3
   },
   "file_extension": ".py",
   "mimetype": "text/x-python",
   "name": "python",
   "nbconvert_exporter": "python",
   "pygments_lexer": "ipython3",
   "version": "3.8.10"
  },
  "toc": {
   "base_numbering": 1,
   "nav_menu": {},
   "number_sections": true,
   "sideBar": true,
   "skip_h1_title": false,
   "title_cell": "Table of Contents",
   "title_sidebar": "Contents",
   "toc_cell": false,
   "toc_position": {},
   "toc_section_display": true,
   "toc_window_display": true
  }
 },
 "nbformat": 4,
 "nbformat_minor": 5
}
