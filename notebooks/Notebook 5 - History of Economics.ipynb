{
 "cells": [
  {
   "cell_type": "code",
   "execution_count": 11,
   "id": "brutal-french",
   "metadata": {},
   "outputs": [],
   "source": [
    "### Loading Credentials from local file; \n",
    "### this cell is meant to be deleted before publishing\n",
    "import yaml\n",
    "\n",
    "with open(\"../creds.yml\", 'r') as ymlfile:\n",
    "    cfg = yaml.safe_load(ymlfile)\n",
    "\n",
    "uri = cfg[\"sonar_creds\"][\"uri\"]\n",
    "user = cfg[\"sonar_creds\"][\"user\"]\n",
    "password = cfg[\"sonar_creds\"][\"pass\"]"
   ]
  },
  {
   "cell_type": "markdown",
   "id": "intimate-disorder",
   "metadata": {},
   "source": [
    "<font size = \"20\"> SoNAR (IDH) - HNA Curriculum </font>\n",
    "\n",
    "<font size = \"5\">Notebook 5:  Example Case - History of Economics</font>"
   ]
  },
  {
   "cell_type": "markdown",
   "id": "intellectual-romania",
   "metadata": {},
   "source": [
    "Main Node: Gustav (von) Schmoller"
   ]
  },
  {
   "cell_type": "code",
   "execution_count": null,
   "id": "bacterial-cattle",
   "metadata": {},
   "outputs": [],
   "source": [
    "from neo4j import GraphDatabase\n",
    "from helper_functions.helper_fun import to_nx_graph\n",
    "\n",
    "driver = GraphDatabase.driver(uri, auth=(user, password))\n",
    "\n",
    "query = \"\"\"\n",
    "MATCH (n)-[rel:RelationToPerName|RelationToResource|RelationToGeoName|RelationToTopicTerm|SocialRelation]-(n2)\n",
    "WHERE n.Id = \"(DE-588)118609378\"\n",
    "RETURN *\n",
    "\"\"\"\n",
    "\n",
    "driver = GraphDatabase.driver(uri, auth=(user, password))\n",
    "\n",
    "G = to_nx_graph(neo4j_driver = driver, \n",
    "                query = query)"
   ]
  },
  {
   "cell_type": "code",
   "execution_count": null,
   "id": "surprised-trash",
   "metadata": {},
   "outputs": [],
   "source": []
  }
 ],
 "metadata": {
  "kernelspec": {
   "display_name": "Python 3",
   "language": "python",
   "name": "python3"
  },
  "language_info": {
   "codemirror_mode": {
    "name": "ipython",
    "version": 3
   },
   "file_extension": ".py",
   "mimetype": "text/x-python",
   "name": "python",
   "nbconvert_exporter": "python",
   "pygments_lexer": "ipython3",
   "version": "3.8.10"
  },
  "toc": {
   "base_numbering": 1,
   "nav_menu": {},
   "number_sections": true,
   "sideBar": true,
   "skip_h1_title": false,
   "title_cell": "Table of Contents",
   "title_sidebar": "Contents",
   "toc_cell": false,
   "toc_position": {},
   "toc_section_display": true,
   "toc_window_display": false
  }
 },
 "nbformat": 4,
 "nbformat_minor": 5
}
